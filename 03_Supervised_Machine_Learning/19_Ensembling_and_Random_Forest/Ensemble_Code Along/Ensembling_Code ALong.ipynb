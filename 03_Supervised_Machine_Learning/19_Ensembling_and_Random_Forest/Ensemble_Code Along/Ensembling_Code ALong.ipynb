{
 "cells": [
  {
   "cell_type": "markdown",
   "metadata": {},
   "source": [
    "# Prediction of Career Lengths of NBA Players\n",
    "\n",
    "The dataset details the performance metrics of NBA players and whether their careers span more than 5 years or not. \n",
    "\n",
    "### Aim\n",
    "The task is to predict whether the careers of these players will span for more than 5 years or less.\n",
    "\n",
    "\n",
    "### Feature descriptions:\n",
    "The dataset contains columns giving values for points attained by NBA players in their careers. The description of the features is as given below\n",
    "\n",
    "\n",
    "|Features|Description|\n",
    "|----|----|\n",
    "|Name| Name of the Player|\n",
    "|Games Played|Number of Games Played by the player|\n",
    "|Minutes| Minutes Played\n",
    "|Points| Points Per Game|\n",
    "|Field Goals Made| Successful field goals made|\n",
    "|Field Goals Attempted | Field goals attempted |\n",
    "|Field Goals Percentage | Percentage of successful field goals out of the field goals attempted|\n",
    "|3 Pointers Made| Successful 3 pointer attempts|\n",
    "|3 Pointers Attempted | Total 3 pointers attempted|\n",
    "|3 Pointers Percentage | Percentage of successful 3 pointers out of those attempted|\n",
    "|Free Throws Made| Successful number of free throws | \n",
    "|Free Throws Attempted| Total attempted number of free throws|\n",
    "|Free Throw Percentage| Successful number of free throws out of those attempted|\n",
    "|OREB|Offesnisve Rebounds|\n",
    "|DREB|Defensive Rebounds |\n",
    "|REB|Rebounds|\n",
    "|AST|Assists|\n",
    "|STL|Steals|\n",
    "|BLK|Number of blocks|\n",
    "|TOV |Number of Turnovers|\n",
    "|Play for more than 5 years or less| 1 if career length is greater than 5 years else 0 if career length is less than 5 years|"
   ]
  },
  {
   "cell_type": "markdown",
   "metadata": {},
   "source": [
    "### Loading Libraries"
   ]
  },
  {
   "cell_type": "code",
   "execution_count": 1,
   "metadata": {},
   "outputs": [],
   "source": [
    "import numpy as np\n",
    "import pandas as pd\n",
    "import matplotlib.pyplot as plt\n",
    "import seaborn as sns\n",
    "%matplotlib inline\n",
    "import warnings\n",
    "warnings.filterwarnings('ignore')\n",
    "from sklearn.model_selection import train_test_split"
   ]
  },
  {
   "cell_type": "code",
   "execution_count": 2,
   "metadata": {},
   "outputs": [],
   "source": [
    "from sklearn.preprocessing import LabelEncoder\n",
    "from sklearn.linear_model import LogisticRegression\n",
    "from sklearn.tree import DecisionTreeClassifier\n",
    "from sklearn.ensemble import RandomForestClassifier\n",
    "from sklearn.model_selection import GridSearchCV\n",
    "from sklearn.metrics import roc_auc_score,accuracy_score,classification_report,roc_curve,confusion_matrix\n",
    "pd.set_option('display.max_columns',None)#sets the total number of columns visible in the output. With \"None\", it is unlimited"
   ]
  },
  {
   "cell_type": "code",
   "execution_count": 3,
   "metadata": {},
   "outputs": [
    {
     "name": "stdout",
     "output_type": "stream",
     "text": [
      "None\n"
     ]
    }
   ],
   "source": [
    "print(pd.get_option('display.max_columns'))"
   ]
  },
  {
   "cell_type": "markdown",
   "metadata": {},
   "source": [
    "### Read the data. List the categorical and continuous features in the dataset. Find the number of null values in every feature and impute them appropriately. "
   ]
  },
  {
   "cell_type": "code",
   "execution_count": 4,
   "metadata": {},
   "outputs": [],
   "source": [
    "# Read the data\n",
    "df = pd.read_csv('NBA_players.csv')"
   ]
  },
  {
   "cell_type": "code",
   "execution_count": 5,
   "metadata": {},
   "outputs": [
    {
     "data": {
      "text/html": [
       "<div>\n",
       "<style scoped>\n",
       "    .dataframe tbody tr th:only-of-type {\n",
       "        vertical-align: middle;\n",
       "    }\n",
       "\n",
       "    .dataframe tbody tr th {\n",
       "        vertical-align: top;\n",
       "    }\n",
       "\n",
       "    .dataframe thead th {\n",
       "        text-align: right;\n",
       "    }\n",
       "</style>\n",
       "<table border=\"1\" class=\"dataframe\">\n",
       "  <thead>\n",
       "    <tr style=\"text-align: right;\">\n",
       "      <th></th>\n",
       "      <th>Name</th>\n",
       "      <th>Games Played</th>\n",
       "      <th>Minutes</th>\n",
       "      <th>Points</th>\n",
       "      <th>Field Goals Made</th>\n",
       "      <th>Field Goals Attempted</th>\n",
       "      <th>Field Goals Percentage</th>\n",
       "      <th>3 Pointers Made</th>\n",
       "      <th>3 Pointers Attempted</th>\n",
       "      <th>3 Pointers Percentage</th>\n",
       "      <th>Free Throws Made</th>\n",
       "      <th>Free Throws Attempted</th>\n",
       "      <th>Fre Throw Percentage</th>\n",
       "      <th>OREB</th>\n",
       "      <th>DREB</th>\n",
       "      <th>REB</th>\n",
       "      <th>AST</th>\n",
       "      <th>STL</th>\n",
       "      <th>BLK</th>\n",
       "      <th>TOV</th>\n",
       "      <th>Play for more than 5 years or less</th>\n",
       "    </tr>\n",
       "  </thead>\n",
       "  <tbody>\n",
       "    <tr>\n",
       "      <th>0</th>\n",
       "      <td>Brandon Ingram</td>\n",
       "      <td>36</td>\n",
       "      <td>27.4</td>\n",
       "      <td>7.4</td>\n",
       "      <td>2.6</td>\n",
       "      <td>7.6</td>\n",
       "      <td>34.7</td>\n",
       "      <td>0.5</td>\n",
       "      <td>2.1</td>\n",
       "      <td>25.0</td>\n",
       "      <td>1.6</td>\n",
       "      <td>2.3</td>\n",
       "      <td>69.9</td>\n",
       "      <td>0.7</td>\n",
       "      <td>3.4</td>\n",
       "      <td>4.1</td>\n",
       "      <td>1.9</td>\n",
       "      <td>0.4</td>\n",
       "      <td>0.4</td>\n",
       "      <td>1.3</td>\n",
       "      <td>0.0</td>\n",
       "    </tr>\n",
       "    <tr>\n",
       "      <th>1</th>\n",
       "      <td>Andrew Harrison</td>\n",
       "      <td>35</td>\n",
       "      <td>26.9</td>\n",
       "      <td>7.2</td>\n",
       "      <td>2.0</td>\n",
       "      <td>6.7</td>\n",
       "      <td>29.6</td>\n",
       "      <td>0.7</td>\n",
       "      <td>2.8</td>\n",
       "      <td>23.5</td>\n",
       "      <td>2.6</td>\n",
       "      <td>3.4</td>\n",
       "      <td>76.5</td>\n",
       "      <td>0.5</td>\n",
       "      <td>2.0</td>\n",
       "      <td>2.4</td>\n",
       "      <td>3.7</td>\n",
       "      <td>1.1</td>\n",
       "      <td>0.5</td>\n",
       "      <td>1.6</td>\n",
       "      <td>0.0</td>\n",
       "    </tr>\n",
       "    <tr>\n",
       "      <th>2</th>\n",
       "      <td>JaKarr Sampson</td>\n",
       "      <td>74</td>\n",
       "      <td>15.3</td>\n",
       "      <td>5.2</td>\n",
       "      <td>2.0</td>\n",
       "      <td>4.7</td>\n",
       "      <td>42.2</td>\n",
       "      <td>0.4</td>\n",
       "      <td>1.7</td>\n",
       "      <td>24.4</td>\n",
       "      <td>0.9</td>\n",
       "      <td>1.3</td>\n",
       "      <td>67.0</td>\n",
       "      <td>0.5</td>\n",
       "      <td>1.7</td>\n",
       "      <td>2.2</td>\n",
       "      <td>1.0</td>\n",
       "      <td>0.5</td>\n",
       "      <td>0.3</td>\n",
       "      <td>1.0</td>\n",
       "      <td>0.0</td>\n",
       "    </tr>\n",
       "    <tr>\n",
       "      <th>3</th>\n",
       "      <td>Malik Sealy</td>\n",
       "      <td>58</td>\n",
       "      <td>11.6</td>\n",
       "      <td>5.7</td>\n",
       "      <td>2.3</td>\n",
       "      <td>5.5</td>\n",
       "      <td>42.6</td>\n",
       "      <td>0.1</td>\n",
       "      <td>0.5</td>\n",
       "      <td>22.6</td>\n",
       "      <td>0.9</td>\n",
       "      <td>1.3</td>\n",
       "      <td>68.9</td>\n",
       "      <td>1.0</td>\n",
       "      <td>0.9</td>\n",
       "      <td>1.9</td>\n",
       "      <td>0.8</td>\n",
       "      <td>0.6</td>\n",
       "      <td>0.1</td>\n",
       "      <td>1.0</td>\n",
       "      <td>1.0</td>\n",
       "    </tr>\n",
       "    <tr>\n",
       "      <th>4</th>\n",
       "      <td>Matt Geiger</td>\n",
       "      <td>48</td>\n",
       "      <td>11.5</td>\n",
       "      <td>4.5</td>\n",
       "      <td>1.6</td>\n",
       "      <td>3.0</td>\n",
       "      <td>52.4</td>\n",
       "      <td>0.0</td>\n",
       "      <td>0.1</td>\n",
       "      <td>0.0</td>\n",
       "      <td>1.3</td>\n",
       "      <td>1.9</td>\n",
       "      <td>67.4</td>\n",
       "      <td>1.0</td>\n",
       "      <td>1.5</td>\n",
       "      <td>2.5</td>\n",
       "      <td>0.3</td>\n",
       "      <td>0.3</td>\n",
       "      <td>0.4</td>\n",
       "      <td>0.8</td>\n",
       "      <td>1.0</td>\n",
       "    </tr>\n",
       "  </tbody>\n",
       "</table>\n",
       "</div>"
      ],
      "text/plain": [
       "              Name  Games Played  Minutes  Points  Field Goals Made  \\\n",
       "0   Brandon Ingram            36     27.4     7.4               2.6   \n",
       "1  Andrew Harrison            35     26.9     7.2               2.0   \n",
       "2   JaKarr Sampson            74     15.3     5.2               2.0   \n",
       "3      Malik Sealy            58     11.6     5.7               2.3   \n",
       "4      Matt Geiger            48     11.5     4.5               1.6   \n",
       "\n",
       "   Field Goals Attempted  Field Goals Percentage  3 Pointers Made  \\\n",
       "0                    7.6                    34.7              0.5   \n",
       "1                    6.7                    29.6              0.7   \n",
       "2                    4.7                    42.2              0.4   \n",
       "3                    5.5                    42.6              0.1   \n",
       "4                    3.0                    52.4              0.0   \n",
       "\n",
       "   3 Pointers Attempted  3 Pointers Percentage  Free Throws Made  \\\n",
       "0                   2.1                   25.0               1.6   \n",
       "1                   2.8                   23.5               2.6   \n",
       "2                   1.7                   24.4               0.9   \n",
       "3                   0.5                   22.6               0.9   \n",
       "4                   0.1                    0.0               1.3   \n",
       "\n",
       "   Free Throws Attempted  Fre Throw Percentage  OREB  DREB  REB  AST  STL  \\\n",
       "0                    2.3                  69.9   0.7   3.4  4.1  1.9  0.4   \n",
       "1                    3.4                  76.5   0.5   2.0  2.4  3.7  1.1   \n",
       "2                    1.3                  67.0   0.5   1.7  2.2  1.0  0.5   \n",
       "3                    1.3                  68.9   1.0   0.9  1.9  0.8  0.6   \n",
       "4                    1.9                  67.4   1.0   1.5  2.5  0.3  0.3   \n",
       "\n",
       "   BLK  TOV  Play for more than 5 years or less  \n",
       "0  0.4  1.3                                 0.0  \n",
       "1  0.5  1.6                                 0.0  \n",
       "2  0.3  1.0                                 0.0  \n",
       "3  0.1  1.0                                 1.0  \n",
       "4  0.4  0.8                                 1.0  "
      ]
     },
     "execution_count": 5,
     "metadata": {},
     "output_type": "execute_result"
    }
   ],
   "source": [
    "df.head()"
   ]
  },
  {
   "cell_type": "code",
   "execution_count": 6,
   "metadata": {},
   "outputs": [
    {
     "name": "stdout",
     "output_type": "stream",
     "text": [
      "Continuous Features are : ['Games Played', 'Minutes', 'Points', 'Field Goals Made', 'Field Goals Attempted', 'Field Goals Percentage', '3 Pointers Made', '3 Pointers Attempted', '3 Pointers Percentage', 'Free Throws Made', 'Free Throws Attempted', 'Fre Throw Percentage', 'OREB', 'DREB', 'REB', 'AST', 'STL', 'BLK', 'TOV', 'Play for more than 5 years or less']\n",
      "\n",
      "Categorical Features are : ['Name']\n",
      "\n"
     ]
    }
   ],
   "source": [
    "# Categorical and Continuous features\n",
    "continuous_features = df.select_dtypes(include=np.number).columns.tolist()\n",
    "categorical_features = df.select_dtypes(exclude=np.number).columns.tolist()\n",
    "\n",
    "print('Continuous Features are :', continuous_features)\n",
    "print()\n",
    "print('Categorical Features are :',categorical_features)\n",
    "print()"
   ]
  },
  {
   "cell_type": "code",
   "execution_count": 7,
   "metadata": {},
   "outputs": [
    {
     "name": "stdout",
     "output_type": "stream",
     "text": [
      "The null values in every feature are :\n",
      " Name                                   0\n",
      "Games Played                           0\n",
      "Minutes                                0\n",
      "Points                                 0\n",
      "Field Goals Made                       0\n",
      "Field Goals Attempted                  0\n",
      "Field Goals Percentage                 0\n",
      "3 Pointers Made                        0\n",
      "3 Pointers Attempted                   0\n",
      "3 Pointers Percentage                 11\n",
      "Free Throws Made                       0\n",
      "Free Throws Attempted                  0\n",
      "Fre Throw Percentage                   0\n",
      "OREB                                   0\n",
      "DREB                                   0\n",
      "REB                                    0\n",
      "AST                                    0\n",
      "STL                                    0\n",
      "BLK                                    0\n",
      "TOV                                    0\n",
      "Play for more than 5 years or less     0\n",
      "dtype: int64\n",
      "\n"
     ]
    }
   ],
   "source": [
    "# Check for null values\n",
    "print('The null values in every feature are :\\n', df.isnull().sum())\n",
    "print()"
   ]
  },
  {
   "cell_type": "code",
   "execution_count": 8,
   "metadata": {},
   "outputs": [],
   "source": [
    "# The null values in the feature `3 Pointers Percentage` are present since\n",
    "# they indicate that these players haven't attempted any three pointer throws. So we shall replace them with 0\n",
    "\n",
    "# Fill the null-values with 0\n",
    "df['3 Pointers Percentage'].fillna(0,inplace=True)"
   ]
  },
  {
   "cell_type": "code",
   "execution_count": 9,
   "metadata": {},
   "outputs": [
    {
     "data": {
      "text/plain": [
       "Name                                  0\n",
       "Games Played                          0\n",
       "Minutes                               0\n",
       "Points                                0\n",
       "Field Goals Made                      0\n",
       "Field Goals Attempted                 0\n",
       "Field Goals Percentage                0\n",
       "3 Pointers Made                       0\n",
       "3 Pointers Attempted                  0\n",
       "3 Pointers Percentage                 0\n",
       "Free Throws Made                      0\n",
       "Free Throws Attempted                 0\n",
       "Fre Throw Percentage                  0\n",
       "OREB                                  0\n",
       "DREB                                  0\n",
       "REB                                   0\n",
       "AST                                   0\n",
       "STL                                   0\n",
       "BLK                                   0\n",
       "TOV                                   0\n",
       "Play for more than 5 years or less    0\n",
       "dtype: int64"
      ]
     },
     "execution_count": 9,
     "metadata": {},
     "output_type": "execute_result"
    }
   ],
   "source": [
    "df.isnull().sum()"
   ]
  },
  {
   "cell_type": "code",
   "execution_count": 10,
   "metadata": {},
   "outputs": [],
   "source": [
    "# Drop the feature Name\n",
    "df.drop(['Name'],1,inplace=True)"
   ]
  },
  {
   "cell_type": "code",
   "execution_count": 11,
   "metadata": {},
   "outputs": [
    {
     "data": {
      "text/html": [
       "<div>\n",
       "<style scoped>\n",
       "    .dataframe tbody tr th:only-of-type {\n",
       "        vertical-align: middle;\n",
       "    }\n",
       "\n",
       "    .dataframe tbody tr th {\n",
       "        vertical-align: top;\n",
       "    }\n",
       "\n",
       "    .dataframe thead th {\n",
       "        text-align: right;\n",
       "    }\n",
       "</style>\n",
       "<table border=\"1\" class=\"dataframe\">\n",
       "  <thead>\n",
       "    <tr style=\"text-align: right;\">\n",
       "      <th></th>\n",
       "      <th>Games Played</th>\n",
       "      <th>Minutes</th>\n",
       "      <th>Points</th>\n",
       "      <th>Field Goals Made</th>\n",
       "      <th>Field Goals Attempted</th>\n",
       "      <th>Field Goals Percentage</th>\n",
       "      <th>3 Pointers Made</th>\n",
       "      <th>3 Pointers Attempted</th>\n",
       "      <th>3 Pointers Percentage</th>\n",
       "      <th>Free Throws Made</th>\n",
       "      <th>Free Throws Attempted</th>\n",
       "      <th>Fre Throw Percentage</th>\n",
       "      <th>OREB</th>\n",
       "      <th>DREB</th>\n",
       "      <th>REB</th>\n",
       "      <th>AST</th>\n",
       "      <th>STL</th>\n",
       "      <th>BLK</th>\n",
       "      <th>TOV</th>\n",
       "      <th>Play for more than 5 years or less</th>\n",
       "    </tr>\n",
       "  </thead>\n",
       "  <tbody>\n",
       "    <tr>\n",
       "      <th>0</th>\n",
       "      <td>36</td>\n",
       "      <td>27.4</td>\n",
       "      <td>7.4</td>\n",
       "      <td>2.6</td>\n",
       "      <td>7.6</td>\n",
       "      <td>34.7</td>\n",
       "      <td>0.5</td>\n",
       "      <td>2.1</td>\n",
       "      <td>25.0</td>\n",
       "      <td>1.6</td>\n",
       "      <td>2.3</td>\n",
       "      <td>69.9</td>\n",
       "      <td>0.7</td>\n",
       "      <td>3.4</td>\n",
       "      <td>4.1</td>\n",
       "      <td>1.9</td>\n",
       "      <td>0.4</td>\n",
       "      <td>0.4</td>\n",
       "      <td>1.3</td>\n",
       "      <td>0.0</td>\n",
       "    </tr>\n",
       "    <tr>\n",
       "      <th>1</th>\n",
       "      <td>35</td>\n",
       "      <td>26.9</td>\n",
       "      <td>7.2</td>\n",
       "      <td>2.0</td>\n",
       "      <td>6.7</td>\n",
       "      <td>29.6</td>\n",
       "      <td>0.7</td>\n",
       "      <td>2.8</td>\n",
       "      <td>23.5</td>\n",
       "      <td>2.6</td>\n",
       "      <td>3.4</td>\n",
       "      <td>76.5</td>\n",
       "      <td>0.5</td>\n",
       "      <td>2.0</td>\n",
       "      <td>2.4</td>\n",
       "      <td>3.7</td>\n",
       "      <td>1.1</td>\n",
       "      <td>0.5</td>\n",
       "      <td>1.6</td>\n",
       "      <td>0.0</td>\n",
       "    </tr>\n",
       "    <tr>\n",
       "      <th>2</th>\n",
       "      <td>74</td>\n",
       "      <td>15.3</td>\n",
       "      <td>5.2</td>\n",
       "      <td>2.0</td>\n",
       "      <td>4.7</td>\n",
       "      <td>42.2</td>\n",
       "      <td>0.4</td>\n",
       "      <td>1.7</td>\n",
       "      <td>24.4</td>\n",
       "      <td>0.9</td>\n",
       "      <td>1.3</td>\n",
       "      <td>67.0</td>\n",
       "      <td>0.5</td>\n",
       "      <td>1.7</td>\n",
       "      <td>2.2</td>\n",
       "      <td>1.0</td>\n",
       "      <td>0.5</td>\n",
       "      <td>0.3</td>\n",
       "      <td>1.0</td>\n",
       "      <td>0.0</td>\n",
       "    </tr>\n",
       "    <tr>\n",
       "      <th>3</th>\n",
       "      <td>58</td>\n",
       "      <td>11.6</td>\n",
       "      <td>5.7</td>\n",
       "      <td>2.3</td>\n",
       "      <td>5.5</td>\n",
       "      <td>42.6</td>\n",
       "      <td>0.1</td>\n",
       "      <td>0.5</td>\n",
       "      <td>22.6</td>\n",
       "      <td>0.9</td>\n",
       "      <td>1.3</td>\n",
       "      <td>68.9</td>\n",
       "      <td>1.0</td>\n",
       "      <td>0.9</td>\n",
       "      <td>1.9</td>\n",
       "      <td>0.8</td>\n",
       "      <td>0.6</td>\n",
       "      <td>0.1</td>\n",
       "      <td>1.0</td>\n",
       "      <td>1.0</td>\n",
       "    </tr>\n",
       "    <tr>\n",
       "      <th>4</th>\n",
       "      <td>48</td>\n",
       "      <td>11.5</td>\n",
       "      <td>4.5</td>\n",
       "      <td>1.6</td>\n",
       "      <td>3.0</td>\n",
       "      <td>52.4</td>\n",
       "      <td>0.0</td>\n",
       "      <td>0.1</td>\n",
       "      <td>0.0</td>\n",
       "      <td>1.3</td>\n",
       "      <td>1.9</td>\n",
       "      <td>67.4</td>\n",
       "      <td>1.0</td>\n",
       "      <td>1.5</td>\n",
       "      <td>2.5</td>\n",
       "      <td>0.3</td>\n",
       "      <td>0.3</td>\n",
       "      <td>0.4</td>\n",
       "      <td>0.8</td>\n",
       "      <td>1.0</td>\n",
       "    </tr>\n",
       "  </tbody>\n",
       "</table>\n",
       "</div>"
      ],
      "text/plain": [
       "   Games Played  Minutes  Points  Field Goals Made  Field Goals Attempted  \\\n",
       "0            36     27.4     7.4               2.6                    7.6   \n",
       "1            35     26.9     7.2               2.0                    6.7   \n",
       "2            74     15.3     5.2               2.0                    4.7   \n",
       "3            58     11.6     5.7               2.3                    5.5   \n",
       "4            48     11.5     4.5               1.6                    3.0   \n",
       "\n",
       "   Field Goals Percentage  3 Pointers Made  3 Pointers Attempted  \\\n",
       "0                    34.7              0.5                   2.1   \n",
       "1                    29.6              0.7                   2.8   \n",
       "2                    42.2              0.4                   1.7   \n",
       "3                    42.6              0.1                   0.5   \n",
       "4                    52.4              0.0                   0.1   \n",
       "\n",
       "   3 Pointers Percentage  Free Throws Made  Free Throws Attempted  \\\n",
       "0                   25.0               1.6                    2.3   \n",
       "1                   23.5               2.6                    3.4   \n",
       "2                   24.4               0.9                    1.3   \n",
       "3                   22.6               0.9                    1.3   \n",
       "4                    0.0               1.3                    1.9   \n",
       "\n",
       "   Fre Throw Percentage  OREB  DREB  REB  AST  STL  BLK  TOV  \\\n",
       "0                  69.9   0.7   3.4  4.1  1.9  0.4  0.4  1.3   \n",
       "1                  76.5   0.5   2.0  2.4  3.7  1.1  0.5  1.6   \n",
       "2                  67.0   0.5   1.7  2.2  1.0  0.5  0.3  1.0   \n",
       "3                  68.9   1.0   0.9  1.9  0.8  0.6  0.1  1.0   \n",
       "4                  67.4   1.0   1.5  2.5  0.3  0.3  0.4  0.8   \n",
       "\n",
       "   Play for more than 5 years or less  \n",
       "0                                 0.0  \n",
       "1                                 0.0  \n",
       "2                                 0.0  \n",
       "3                                 1.0  \n",
       "4                                 1.0  "
      ]
     },
     "execution_count": 11,
     "metadata": {},
     "output_type": "execute_result"
    }
   ],
   "source": [
    "df.head()"
   ]
  },
  {
   "cell_type": "markdown",
   "metadata": {},
   "source": [
    "### Seperate the independent features and target"
   ]
  },
  {
   "cell_type": "code",
   "execution_count": 12,
   "metadata": {},
   "outputs": [],
   "source": [
    "# Features\n",
    "X = df.iloc[:,:-1]\n",
    "\n",
    "# target\n",
    "y = df.iloc[:,-1] "
   ]
  },
  {
   "cell_type": "markdown",
   "metadata": {},
   "source": [
    "### Check for class distribution in the target"
   ]
  },
  {
   "cell_type": "code",
   "execution_count": 13,
   "metadata": {},
   "outputs": [
    {
     "data": {
      "text/plain": [
       "1.0    831\n",
       "0.0    509\n",
       "Name: Play for more than 5 years or less, dtype: int64"
      ]
     },
     "execution_count": 13,
     "metadata": {},
     "output_type": "execute_result"
    }
   ],
   "source": [
    "y.value_counts()"
   ]
  },
  {
   "cell_type": "code",
   "execution_count": 14,
   "metadata": {},
   "outputs": [
    {
     "name": "stdout",
     "output_type": "stream",
     "text": [
      "1.0    62.014925\n",
      "0.0    37.985075\n",
      "Name: Play for more than 5 years or less, dtype: float64\n"
     ]
    }
   ],
   "source": [
    "print((y.value_counts()/y.value_counts().sum())*100)"
   ]
  },
  {
   "cell_type": "markdown",
   "metadata": {},
   "source": [
    "The Class distribution doesn't seem to be imbalanced."
   ]
  },
  {
   "cell_type": "markdown",
   "metadata": {},
   "source": [
    "### Plot the distribution of each feature, so that we have a better understanding about the distribution of each feature. Draw the number of values for each category feature and the histogram of the values for each continuous feature."
   ]
  },
  {
   "cell_type": "code",
   "execution_count": 15,
   "metadata": {},
   "outputs": [
    {
     "data": {
      "image/png": "[encoded data removed]",
      "text/plain": [
       "<Figure size 1800x1080 with 19 Axes>"
      ]
     },
     "metadata": {
      "needs_background": "light"
     },
     "output_type": "display_data"
    }
   ],
   "source": [
    "fig = plt.figure(figsize=(25, 15))\n",
    "cols = 5\n",
    "rows = np.ceil(float(X.shape[1]) / cols)\n",
    "for i, column in enumerate(X.columns):\n",
    "    ax = fig.add_subplot(rows, cols, i + 1)\n",
    "    ax.set_title(column)\n",
    "    if  X.dtypes[column] == np.object:\n",
    "        X[column].value_counts().plot(kind=\"bar\", axes=ax)\n",
    "    else:\n",
    "        X[column].hist(axes=ax)\n",
    "        plt.xticks(rotation=\"vertical\")\n",
    "plt.subplots_adjust(hspace=0.7, wspace=0.2)"
   ]
  },
  {
   "cell_type": "markdown",
   "metadata": {},
   "source": [
    "We can infer from the above plots that there exists some amount of skewness in our predictors"
   ]
  },
  {
   "cell_type": "markdown",
   "metadata": {},
   "source": [
    "### Let's check the amount of skewness in our continuous predictors and depending on the type of skewness, let's apply the necessary transformations for removing the skewness"
   ]
  },
  {
   "cell_type": "code",
   "execution_count": 16,
   "metadata": {},
   "outputs": [],
   "source": [
    "import scipy.stats as scs"
   ]
  },
  {
   "cell_type": "code",
   "execution_count": 17,
   "metadata": {},
   "outputs": [
    {
     "name": "stdout",
     "output_type": "stream",
     "text": [
      "                  Features  Skewness\n",
      "0             Games Played -0.477208\n",
      "1                  Minutes  0.631549\n",
      "2                   Points  1.386670\n",
      "3         Field Goals Made  1.341041\n",
      "4    Field Goals Attempted  1.294430\n",
      "5   Field Goals Percentage  0.208246\n",
      "6          3 Pointers Made  2.030539\n",
      "7     3 Pointers Attempted  1.810406\n",
      "8    3 Pointers Percentage  0.300952\n",
      "9         Free Throws Made  1.939825\n",
      "10   Free Throws Attempted  1.842416\n",
      "11    Fre Throw Percentage -0.767003\n",
      "12                    OREB  1.437972\n",
      "13                    DREB  1.487014\n",
      "14                     REB  1.480077\n",
      "15                     AST  2.130429\n",
      "16                     STL  1.363271\n",
      "17                     BLK  2.801012\n",
      "18                     TOV  1.339239\n"
     ]
    }
   ],
   "source": [
    "features = []\n",
    "skewness = []\n",
    "for i in X.select_dtypes(include=np.number).columns:\n",
    "    features.append(i)\n",
    "    skewness.append(scs.skew(X[i]))\n",
    "skewed = pd.DataFrame({'Features':features,'Skewness':skewness})\n",
    "print(skewed)"
   ]
  },
  {
   "cell_type": "code",
   "execution_count": 18,
   "metadata": {},
   "outputs": [
    {
     "name": "stdout",
     "output_type": "stream",
     "text": [
      "Positively Skewed Features \n",
      "                  Features  Skewness\n",
      "2                  Points  1.386670\n",
      "3        Field Goals Made  1.341041\n",
      "4   Field Goals Attempted  1.294430\n",
      "6         3 Pointers Made  2.030539\n",
      "7    3 Pointers Attempted  1.810406\n",
      "9        Free Throws Made  1.939825\n",
      "10  Free Throws Attempted  1.842416\n",
      "12                   OREB  1.437972\n",
      "13                   DREB  1.487014\n",
      "14                    REB  1.480077\n",
      "15                    AST  2.130429\n",
      "16                    STL  1.363271\n",
      "17                    BLK  2.801012\n",
      "18                    TOV  1.339239\n",
      "**************************************************\n",
      "Negatively Skewed Features \n",
      " Empty DataFrame\n",
      "Columns: [Features, Skewness]\n",
      "Index: []\n"
     ]
    }
   ],
   "source": [
    "# If skewness is greater than 1 the feature is highly positively skewed\n",
    "positively_skewed_variables = skewed[(skewed['Skewness']>1)]\n",
    "\n",
    "# If the skewness is less than -1 the feature is highly negatively skewed.\n",
    "negatively_skewed_variables = skewed[(skewed['Skewness']<-1)]\n",
    "\n",
    "\n",
    "print('Positively Skewed Features \\n',positively_skewed_variables)\n",
    "print('*'*50)\n",
    "print('Negatively Skewed Features \\n',negatively_skewed_variables) "
   ]
  },
  {
   "cell_type": "code",
   "execution_count": 19,
   "metadata": {},
   "outputs": [],
   "source": [
    "# Let's remove the skewness in the positively skewed variables by using a log transform\n",
    "for i in positively_skewed_variables['Features']:\n",
    "    X[i] = np.log1p(X[i])"
   ]
  },
  {
   "cell_type": "code",
   "execution_count": 20,
   "metadata": {},
   "outputs": [
    {
     "name": "stdout",
     "output_type": "stream",
     "text": [
      "                  Features  Skewness\n",
      "0             Games Played -0.477208\n",
      "1                  Minutes  0.631549\n",
      "2                   Points  0.211700\n",
      "3         Field Goals Made  0.389291\n",
      "4    Field Goals Attempted  0.270901\n",
      "5   Field Goals Percentage  0.208246\n",
      "6          3 Pointers Made  1.444205\n",
      "7     3 Pointers Attempted  0.959972\n",
      "8    3 Pointers Percentage  0.300952\n",
      "9         Free Throws Made  0.710020\n",
      "10   Free Throws Attempted  0.544118\n",
      "11    Fre Throw Percentage -0.767003\n",
      "12                    OREB  0.569975\n",
      "13                    DREB  0.394419\n",
      "14                     REB  0.319194\n",
      "15                     AST  0.761574\n",
      "16                     STL  0.698704\n",
      "17                     BLK  1.509692\n",
      "18                     TOV  0.560987\n"
     ]
    }
   ],
   "source": [
    "features = []\n",
    "skewness = []\n",
    "for i in X.select_dtypes(include=np.number).columns:\n",
    "    features.append(i)\n",
    "    skewness.append(scs.skew(X[i]))\n",
    "skewed = pd.DataFrame({'Features':features,'Skewness':skewness})\n",
    "print(skewed)"
   ]
  },
  {
   "cell_type": "code",
   "execution_count": 21,
   "metadata": {},
   "outputs": [
    {
     "data": {
      "image/png": "[encoded data removed]",
      "text/plain": [
       "<Figure size 1800x1080 with 19 Axes>"
      ]
     },
     "metadata": {
      "needs_background": "light"
     },
     "output_type": "display_data"
    }
   ],
   "source": [
    "fig = plt.figure(figsize=(25, 15))\n",
    "cols = 5\n",
    "rows = np.ceil(float(X.shape[1]) / cols)\n",
    "for i, column in enumerate(X.columns):\n",
    "    ax = fig.add_subplot(rows, cols, i + 1)\n",
    "    ax.set_title(column)\n",
    "    if  X.dtypes[column] == np.object:\n",
    "        X[column].value_counts().plot(kind=\"bar\", axes=ax)\n",
    "    else:\n",
    "        X[column].hist(axes=ax)\n",
    "        plt.xticks(rotation=\"vertical\")\n",
    "plt.subplots_adjust(hspace=0.7, wspace=0.2)"
   ]
  },
  {
   "cell_type": "markdown",
   "metadata": {},
   "source": [
    "### Split train and test data into X_train ,y_train,X_test and y_test data and apply a vanilla logistic regression model"
   ]
  },
  {
   "cell_type": "code",
   "execution_count": 22,
   "metadata": {},
   "outputs": [],
   "source": [
    "# Split into training and testing\n",
    "X_train,X_test,y_train,y_test = train_test_split(X,y,random_state=42,test_size=0.3)"
   ]
  },
  {
   "cell_type": "code",
   "execution_count": 23,
   "metadata": {},
   "outputs": [
    {
     "name": "stdout",
     "output_type": "stream",
     "text": [
      "The AUC_ROC_score for a logistic regression model is : 0.692542213884\n",
      "The accuracy for logistic regression is :  0.731343283582\n"
     ]
    }
   ],
   "source": [
    "# Apply a Logistic Regression model\n",
    "logreg = LogisticRegression()\n",
    "logreg.fit(X_train,y_train)\n",
    "y_pred = logreg.predict(X_test)\n",
    "print('The AUC_ROC_score for a logistic regression model is :' ,roc_auc_score(y_test,y_pred))\n",
    "print('The accuracy for logistic regression is : ', accuracy_score(y_test,y_pred))"
   ]
  },
  {
   "cell_type": "markdown",
   "metadata": {},
   "source": [
    "### Lets now train our data with Decision tree model. We will then predict our test data and compute the accuracy as well as the `roc_auc_score`.\n",
    "\n",
    "- Train a decision tree (DecisionTreeClassifier) with a maximum depth of 3, and evaluate the accuracy metric i.e `roc_auc_score` on the test data. Use parameter `random_state = 42` for results reproducibility."
   ]
  },
  {
   "cell_type": "code",
   "execution_count": 24,
   "metadata": {
    "scrolled": true
   },
   "outputs": [
    {
     "name": "stdout",
     "output_type": "stream",
     "text": [
      "AUC_ROC_score is  0.587398373984\n",
      "Accuracy score is  0.644278606965\n",
      "\n",
      "             precision    recall  f1-score   support\n",
      "\n",
      "        0.0       0.57      0.33      0.42       156\n",
      "        1.0       0.67      0.84      0.74       246\n",
      "\n",
      "avg / total       0.63      0.64      0.62       402\n",
      "\n"
     ]
    }
   ],
   "source": [
    "dt = DecisionTreeClassifier(random_state =42,max_depth=3)\n",
    "\n",
    "# Fit the model on train data\n",
    "dt.fit(X_train,y_train)\n",
    "\n",
    "# accuracy\n",
    "accuracy = dt.score(X_test,y_test)\n",
    "\n",
    "# Predicted values for test data\n",
    "y_pred_dt = dt.predict(X_test)\n",
    "\n",
    "# ROC score\n",
    "roc_score = roc_auc_score(y_test,y_pred_dt)\n",
    "print('AUC_ROC_score is ',roc_score)\n",
    "print('Accuracy score is ',accuracy_score(y_test,y_pred_dt))\n",
    "print()\n",
    "print(classification_report(y_test,y_pred_dt))"
   ]
  },
  {
   "cell_type": "markdown",
   "metadata": {},
   "source": [
    "We can see that Decision Tree is giving us an accuracy of 64% while the `AUC_ROC_score` is around 59%. "
   ]
  },
  {
   "cell_type": "markdown",
   "metadata": {},
   "source": [
    "###  Now let's apply a Random Forest model\n",
    "- Let the parameters for the model be `criterion='gini'`, `max_depth= 6`,`max_features= 'auto'`,`n_estimators= 11`"
   ]
  },
  {
   "cell_type": "code",
   "execution_count": 25,
   "metadata": {},
   "outputs": [
    {
     "name": "stdout",
     "output_type": "stream",
     "text": [
      "AUC_ROC score is  0.64602876798\n",
      "Accuracy is  0.681592039801\n",
      "             precision    recall  f1-score   support\n",
      "\n",
      "        0.0       0.61      0.49      0.54       156\n",
      "        1.0       0.71      0.80      0.76       246\n",
      "\n",
      "avg / total       0.67      0.68      0.67       402\n",
      "\n"
     ]
    }
   ],
   "source": [
    "from sklearn.ensemble import RandomForestClassifier\n",
    "\n",
    "# Initialize RandomForrest model to variable rfc\n",
    "rfc = RandomForestClassifier(criterion='gini', max_depth= 6, max_features= 'auto', n_estimators= 11, random_state=2)\n",
    "\n",
    "# Fit the model\n",
    "rfc.fit(X_train,y_train)\n",
    "\n",
    "# Store the predicted values of test data\n",
    "y_pred_rf = rfc.predict(X_test)\n",
    "\n",
    "# accuracy\n",
    "accuracy = rfc.score(X_test,y_test)\n",
    "\n",
    "# roc score\n",
    "roc_score = roc_auc_score(y_test,y_pred_rf)\n",
    "\n",
    "print('AUC_ROC score is ',roc_score)\n",
    "print('Accuracy is ', accuracy_score(y_test,y_pred_rf))\n",
    "print(classification_report(y_test,y_pred_rf))"
   ]
  },
  {
   "cell_type": "markdown",
   "metadata": {},
   "source": [
    "### Let's try improving upon the accuracy of the Random Forest using hyperparameter tuning"
   ]
  },
  {
   "cell_type": "code",
   "execution_count": 26,
   "metadata": {},
   "outputs": [
    {
     "data": {
      "text/plain": [
       "{'criterion': 'entropy',\n",
       " 'max_depth': 6,\n",
       " 'max_features': 'auto',\n",
       " 'n_estimators': 12}"
      ]
     },
     "execution_count": 26,
     "metadata": {},
     "output_type": "execute_result"
    }
   ],
   "source": [
    "rfc = RandomForestClassifier(random_state=2)\n",
    "param_grid = { \n",
    "'n_estimators': [11,12,13],\n",
    "'max_features': ['auto', 'sqrt', 'log2'],\n",
    "'max_depth' : [4,5,6,7,8],\n",
    "'criterion' :['gini', 'entropy']\n",
    "}\n",
    "grid_search_model = GridSearchCV(rfc, param_grid=param_grid)\n",
    "grid_search_model.fit(X_train, y_train)\n",
    "\n",
    "grid_search_model.best_params_"
   ]
  },
  {
   "cell_type": "code",
   "execution_count": 27,
   "metadata": {},
   "outputs": [
    {
     "name": "stdout",
     "output_type": "stream",
     "text": [
      "AUC_ROC score is  0.642823639775\n",
      "Accuracy is  0.679104477612\n",
      "             precision    recall  f1-score   support\n",
      "\n",
      "        0.0       0.61      0.48      0.54       156\n",
      "        1.0       0.71      0.80      0.75       246\n",
      "\n",
      "avg / total       0.67      0.68      0.67       402\n",
      "\n"
     ]
    }
   ],
   "source": [
    "from sklearn.ensemble import RandomForestClassifier\n",
    "\n",
    "# Initialize RandomForrest model to variable rfc\n",
    "rfc = RandomForestClassifier(criterion='entropy', max_depth= 6,max_features= 'auto',n_estimators= 12, random_state=2)\n",
    "\n",
    "# Fit the model\n",
    "rfc.fit(X_train,y_train)\n",
    "\n",
    "# Store the predicted values of test data\n",
    "y_pred_rf = rfc.predict(X_test)\n",
    "\n",
    "# accuracy\n",
    "accuracy = rfc.score(X_test,y_test)\n",
    "\n",
    "# roc score\n",
    "roc_score = roc_auc_score(y_test,y_pred_rf)\n",
    "\n",
    "print('AUC_ROC score is ',roc_score)\n",
    "print('Accuracy is ', accuracy_score(y_test,y_pred_rf))\n",
    "print(classification_report(y_test,y_pred_rf))"
   ]
  },
  {
   "cell_type": "markdown",
   "metadata": {},
   "source": [
    "### Now let's apply a Voting Classifier that consists of three models - Logistic Regression, Decision Tree and a Random Forest with a soft voting"
   ]
  },
  {
   "cell_type": "code",
   "execution_count": 28,
   "metadata": {},
   "outputs": [
    {
     "data": {
      "text/plain": [
       "VotingClassifier(estimators=[('lr', LogisticRegression(C=1.0, class_weight=None, dual=False, fit_intercept=True,\n",
       "          intercept_scaling=1, max_iter=100, multi_class='ovr', n_jobs=1,\n",
       "          penalty='l2', random_state=None, solver='liblinear', tol=0.0001,\n",
       "          verbose=0, warm_start=False)), ('DT', Decisio...estimators=10, n_jobs=1,\n",
       "            oob_score=False, random_state=4, verbose=0, warm_start=False))],\n",
       "         flatten_transform=None, n_jobs=1, voting='hard', weights=None)"
      ]
     },
     "execution_count": 28,
     "metadata": {},
     "output_type": "execute_result"
    }
   ],
   "source": [
    "## Hard Voting\n",
    "# Import libraries\n",
    "from sklearn.ensemble import VotingClassifier\n",
    "\n",
    "# Various models\n",
    "clf_1 = LogisticRegression()\n",
    "clf_2 = DecisionTreeClassifier(random_state=4)\n",
    "clf_3 = RandomForestClassifier(random_state=4)\n",
    "\n",
    "model_list = [('lr',clf_1),('DT',clf_2),('RF',clf_3)]\n",
    "\n",
    "# Code starts here\n",
    "# Initialize voting classifier\n",
    "voting_clf_hard = VotingClassifier(estimators=model_list,voting='hard')\n",
    "\n",
    "# Fit the model on training data\n",
    "voting_clf_hard.fit(X_train,y_train)"
   ]
  },
  {
   "cell_type": "code",
   "execution_count": 29,
   "metadata": {},
   "outputs": [
    {
     "data": {
      "text/plain": [
       "[LogisticRegression(C=1.0, class_weight=None, dual=False, fit_intercept=True,\n",
       "           intercept_scaling=1, max_iter=100, multi_class='ovr', n_jobs=1,\n",
       "           penalty='l2', random_state=None, solver='liblinear', tol=0.0001,\n",
       "           verbose=0, warm_start=False),\n",
       " DecisionTreeClassifier(class_weight=None, criterion='gini', max_depth=None,\n",
       "             max_features=None, max_leaf_nodes=None,\n",
       "             min_impurity_decrease=0.0, min_impurity_split=None,\n",
       "             min_samples_leaf=1, min_samples_split=2,\n",
       "             min_weight_fraction_leaf=0.0, presort=False, random_state=4,\n",
       "             splitter='best'),\n",
       " RandomForestClassifier(bootstrap=True, class_weight=None, criterion='gini',\n",
       "             max_depth=None, max_features='auto', max_leaf_nodes=None,\n",
       "             min_impurity_decrease=0.0, min_impurity_split=None,\n",
       "             min_samples_leaf=1, min_samples_split=2,\n",
       "             min_weight_fraction_leaf=0.0, n_estimators=10, n_jobs=1,\n",
       "             oob_score=False, random_state=4, verbose=0, warm_start=False)]"
      ]
     },
     "execution_count": 29,
     "metadata": {},
     "output_type": "execute_result"
    }
   ],
   "source": [
    "voting_clf_hard.estimators_"
   ]
  },
  {
   "cell_type": "code",
   "execution_count": 30,
   "metadata": {},
   "outputs": [
    {
     "data": {
      "text/plain": [
       "array([ 0.,  1.])"
      ]
     },
     "execution_count": 30,
     "metadata": {},
     "output_type": "execute_result"
    }
   ],
   "source": [
    "voting_clf_hard.classes_"
   ]
  },
  {
   "cell_type": "code",
   "execution_count": 31,
   "metadata": {},
   "outputs": [
    {
     "name": "stdout",
     "output_type": "stream",
     "text": [
      "roc_auc_score: 0.666432145091\n",
      "accuracy score: 0.696517412935\n",
      "classification_report:\n",
      "              precision    recall  f1-score   support\n",
      "\n",
      "        0.0       0.63      0.53      0.58       156\n",
      "        1.0       0.73      0.80      0.76       246\n",
      "\n",
      "avg / total       0.69      0.70      0.69       402\n",
      "\n"
     ]
    }
   ],
   "source": [
    "# predict on test\n",
    "y_pred_vot = voting_clf_hard.predict(X_test)\n",
    "\n",
    "# accuracy\n",
    "hard_voting_score = voting_clf_hard.score(X_test,y_test)\n",
    "\n",
    "print(\"roc_auc_score:\", roc_auc_score(y_test,y_pred_vot))\n",
    "print(\"accuracy score:\", accuracy_score(y_test,y_pred_vot))\n",
    "print(\"classification_report:\\n\",classification_report(y_test,y_pred_vot))"
   ]
  },
  {
   "cell_type": "code",
   "execution_count": 32,
   "metadata": {},
   "outputs": [
    {
     "name": "stdout",
     "output_type": "stream",
     "text": [
      "roc_auc_score: 0.626016260163\n",
      "accuracy score: 0.654228855721\n",
      "classification_report:\n",
      "              precision    recall  f1-score   support\n",
      "\n",
      "        0.0       0.56      0.50      0.53       156\n",
      "        1.0       0.70      0.75      0.73       246\n",
      "\n",
      "avg / total       0.65      0.65      0.65       402\n",
      "\n"
     ]
    }
   ],
   "source": [
    "## Soft Voting\n",
    "# Initialize voting classifier\n",
    "voting_clf_soft = VotingClassifier(estimators=model_list,voting='soft')\n",
    "\n",
    "# Fit the model on training data\n",
    "voting_clf_soft.fit(X_train,y_train)\n",
    "\n",
    "# predict on test\n",
    "y_pred_vot = voting_clf_soft.predict(X_test)\n",
    "\n",
    "# accuracy\n",
    "soft_voting_score = voting_clf_soft.score(X_test,y_test)\n",
    "\n",
    "print(\"roc_auc_score:\", roc_auc_score(y_test,y_pred_vot))\n",
    "print(\"accuracy score:\", accuracy_score(y_test,y_pred_vot))\n",
    "print(\"classification_report:\\n\",classification_report(y_test,y_pred_vot))\n"
   ]
  },
  {
   "cell_type": "markdown",
   "metadata": {},
   "source": [
    "### Let's check how a bagging classifier using a Decision Tree performs on our data"
   ]
  },
  {
   "cell_type": "code",
   "execution_count": 33,
   "metadata": {},
   "outputs": [
    {
     "name": "stdout",
     "output_type": "stream",
     "text": [
      "Accuracy is  0.728855721393\n",
      "AUC_ROC_score is  0.690509693558\n",
      "             precision    recall  f1-score   support\n",
      "\n",
      "        0.0       0.70      0.52      0.60       156\n",
      "        1.0       0.74      0.86      0.80       246\n",
      "\n",
      "avg / total       0.73      0.73      0.72       402\n",
      "\n"
     ]
    }
   ],
   "source": [
    "# Import Bagging Classifier\n",
    "from sklearn.ensemble import BaggingClassifier\n",
    "\n",
    "# Initialize Bagging Classifier\n",
    "bagging_clf = BaggingClassifier(DecisionTreeClassifier(), random_state=0,n_estimators=100,max_samples=100)\n",
    "\n",
    "# Fit the model on training data\n",
    "bagging_clf.fit(X_train,y_train)\n",
    "\n",
    "# Predicted values of X_test\n",
    "y_pred_bagging = bagging_clf.predict(X_test)\n",
    "\n",
    "# accuracy \n",
    "print('Accuracy is ',bagging_clf.score(X_test,y_test))\n",
    "\n",
    "# roc_score\n",
    "score_bagging = roc_auc_score(y_test,y_pred_bagging)\n",
    "\n",
    "print('AUC_ROC_score is ',score_bagging)\n",
    "print(classification_report(y_test,y_pred_bagging))"
   ]
  },
  {
   "cell_type": "code",
   "execution_count": 34,
   "metadata": {},
   "outputs": [
    {
     "name": "stdout",
     "output_type": "stream",
     "text": [
      "Accuracy is  0.703980099502\n",
      "AUC_ROC_score is  0.661976235147\n",
      "             precision    recall  f1-score   support\n",
      "\n",
      "        0.0       0.67      0.47      0.55       156\n",
      "        1.0       0.72      0.85      0.78       246\n",
      "\n",
      "avg / total       0.70      0.70      0.69       402\n",
      "\n"
     ]
    }
   ],
   "source": [
    "#Pasting\n",
    "\n",
    "# Initialize Pasting Classifier\n",
    "pasting_clf = BaggingClassifier(DecisionTreeClassifier(), random_state=0,n_estimators=100,max_samples=100, bootstrap=False)\n",
    "\n",
    "# Fit the model on training data\n",
    "pasting_clf.fit(X_train,y_train)\n",
    "\n",
    "# Predicted values of X_test\n",
    "y_pred_pasting = pasting_clf.predict(X_test)\n",
    "\n",
    "# accuracy \n",
    "print('Accuracy is ',pasting_clf.score(X_test,y_test))\n",
    "\n",
    "# roc_score\n",
    "score_pasting = roc_auc_score(y_test,y_pred_pasting)\n",
    "\n",
    "print('AUC_ROC_score is ',score_pasting)\n",
    "print(classification_report(y_test,y_pred_pasting))"
   ]
  },
  {
   "cell_type": "markdown",
   "metadata": {},
   "source": [
    "### Let's now visualize the AUC_ROC scores for all the models in one plot"
   ]
  },
  {
   "cell_type": "code",
   "execution_count": 39,
   "metadata": {},
   "outputs": [
    {
     "data": {
      "text/plain": [
       "array([[ 0.67215332,  0.32784668],\n",
       "       [ 0.72900958,  0.27099042],\n",
       "       [ 0.09453472,  0.90546528],\n",
       "       [ 0.83649194,  0.16350806],\n",
       "       [ 0.65898363,  0.34101637],\n",
       "       [ 0.17942882,  0.82057118],\n",
       "       [ 0.23559556,  0.76440444],\n",
       "       [ 0.65102478,  0.34897522],\n",
       "       [ 0.77516501,  0.22483499],\n",
       "       [ 0.2776823 ,  0.7223177 ],\n",
       "       [ 0.24996247,  0.75003753],\n",
       "       [ 0.45676401,  0.54323599],\n",
       "       [ 0.16490733,  0.83509267],\n",
       "       [ 0.57215599,  0.42784401],\n",
       "       [ 0.10689185,  0.89310815],\n",
       "       [ 0.57459376,  0.42540624],\n",
       "       [ 0.12922202,  0.87077798],\n",
       "       [ 0.42828565,  0.57171435],\n",
       "       [ 0.08109363,  0.91890637],\n",
       "       [ 0.40608736,  0.59391264],\n",
       "       [ 0.18759852,  0.81240148],\n",
       "       [ 0.52031149,  0.47968851],\n",
       "       [ 0.37196755,  0.62803245],\n",
       "       [ 0.26683443,  0.73316557],\n",
       "       [ 0.64736015,  0.35263985],\n",
       "       [ 0.68675334,  0.31324666],\n",
       "       [ 0.86585474,  0.13414526],\n",
       "       [ 0.23305556,  0.76694444],\n",
       "       [ 0.58226986,  0.41773014],\n",
       "       [ 0.66997739,  0.33002261],\n",
       "       [ 0.39624438,  0.60375562],\n",
       "       [ 0.22533701,  0.77466299],\n",
       "       [ 0.54669897,  0.45330103],\n",
       "       [ 0.67611358,  0.32388642],\n",
       "       [ 0.25487272,  0.74512728],\n",
       "       [ 0.5114803 ,  0.4885197 ],\n",
       "       [ 0.4349957 ,  0.5650043 ],\n",
       "       [ 0.40974197,  0.59025803],\n",
       "       [ 0.16659226,  0.83340774],\n",
       "       [ 0.53760633,  0.46239367],\n",
       "       [ 0.17005379,  0.82994621],\n",
       "       [ 0.52036026,  0.47963974],\n",
       "       [ 0.09200646,  0.90799354],\n",
       "       [ 0.03721758,  0.96278242],\n",
       "       [ 0.20771807,  0.79228193],\n",
       "       [ 0.79521308,  0.20478692],\n",
       "       [ 0.61708139,  0.38291861],\n",
       "       [ 0.55813788,  0.44186212],\n",
       "       [ 0.57200885,  0.42799115],\n",
       "       [ 0.20602332,  0.79397668],\n",
       "       [ 0.04970242,  0.95029758],\n",
       "       [ 0.31430291,  0.68569709],\n",
       "       [ 0.5418789 ,  0.4581211 ],\n",
       "       [ 0.42154414,  0.57845586],\n",
       "       [ 0.70710711,  0.29289289],\n",
       "       [ 0.1564329 ,  0.8435671 ],\n",
       "       [ 0.54148547,  0.45851453],\n",
       "       [ 0.54685786,  0.45314214],\n",
       "       [ 0.26148518,  0.73851482],\n",
       "       [ 0.65569799,  0.34430201],\n",
       "       [ 0.42352451,  0.57647549],\n",
       "       [ 0.51443725,  0.48556275],\n",
       "       [ 0.14588754,  0.85411246],\n",
       "       [ 0.09044322,  0.90955678],\n",
       "       [ 0.42275168,  0.57724832],\n",
       "       [ 0.04353876,  0.95646124],\n",
       "       [ 0.19070809,  0.80929191],\n",
       "       [ 0.18026735,  0.81973265],\n",
       "       [ 0.52270794,  0.47729206],\n",
       "       [ 0.63171206,  0.36828794],\n",
       "       [ 0.45094553,  0.54905447],\n",
       "       [ 0.43236856,  0.56763144],\n",
       "       [ 0.3510599 ,  0.6489401 ],\n",
       "       [ 0.14693434,  0.85306566],\n",
       "       [ 0.16360465,  0.83639535],\n",
       "       [ 0.45238862,  0.54761138],\n",
       "       [ 0.11484871,  0.88515129],\n",
       "       [ 0.28701735,  0.71298265],\n",
       "       [ 0.46484833,  0.53515167],\n",
       "       [ 0.35326733,  0.64673267],\n",
       "       [ 0.30323745,  0.69676255],\n",
       "       [ 0.71836616,  0.28163384],\n",
       "       [ 0.46888473,  0.53111527],\n",
       "       [ 0.32528154,  0.67471846],\n",
       "       [ 0.08420042,  0.91579958],\n",
       "       [ 0.19623561,  0.80376439],\n",
       "       [ 0.29295972,  0.70704028],\n",
       "       [ 0.24320883,  0.75679117],\n",
       "       [ 0.35475121,  0.64524879],\n",
       "       [ 0.51938237,  0.48061763],\n",
       "       [ 0.20375422,  0.79624578],\n",
       "       [ 0.33325909,  0.66674091],\n",
       "       [ 0.53174324,  0.46825676],\n",
       "       [ 0.50385555,  0.49614445],\n",
       "       [ 0.06904471,  0.93095529],\n",
       "       [ 0.19117409,  0.80882591],\n",
       "       [ 0.36923441,  0.63076559],\n",
       "       [ 0.10170444,  0.89829556],\n",
       "       [ 0.25811735,  0.74188265],\n",
       "       [ 0.61575588,  0.38424412],\n",
       "       [ 0.34313912,  0.65686088],\n",
       "       [ 0.11991744,  0.88008256],\n",
       "       [ 0.50755067,  0.49244933],\n",
       "       [ 0.35593789,  0.64406211],\n",
       "       [ 0.46334246,  0.53665754],\n",
       "       [ 0.67611358,  0.32388642],\n",
       "       [ 0.0521214 ,  0.9478786 ],\n",
       "       [ 0.44689493,  0.55310507],\n",
       "       [ 0.29937837,  0.70062163],\n",
       "       [ 0.56786133,  0.43213867],\n",
       "       [ 0.44973538,  0.55026462],\n",
       "       [ 0.45320678,  0.54679322],\n",
       "       [ 0.55732535,  0.44267465],\n",
       "       [ 0.30477756,  0.69522244],\n",
       "       [ 0.31224844,  0.68775156],\n",
       "       [ 0.41465644,  0.58534356],\n",
       "       [ 0.53568334,  0.46431666],\n",
       "       [ 0.32979798,  0.67020202],\n",
       "       [ 0.65076221,  0.34923779],\n",
       "       [ 0.72067084,  0.27932916],\n",
       "       [ 0.07340017,  0.92659983],\n",
       "       [ 0.22858377,  0.77141623],\n",
       "       [ 0.56214937,  0.43785063],\n",
       "       [ 0.21882153,  0.78117847],\n",
       "       [ 0.18548941,  0.81451059],\n",
       "       [ 0.48137648,  0.51862352],\n",
       "       [ 0.48550311,  0.51449689],\n",
       "       [ 0.54824717,  0.45175283],\n",
       "       [ 0.15172043,  0.84827957],\n",
       "       [ 0.10561971,  0.89438029],\n",
       "       [ 0.27618914,  0.72381086],\n",
       "       [ 0.31612207,  0.68387793],\n",
       "       [ 0.27301865,  0.72698135],\n",
       "       [ 0.28515069,  0.71484931],\n",
       "       [ 0.28362962,  0.71637038],\n",
       "       [ 0.3434384 ,  0.6565616 ],\n",
       "       [ 0.31348743,  0.68651257],\n",
       "       [ 0.18480457,  0.81519543],\n",
       "       [ 0.15342014,  0.84657986],\n",
       "       [ 0.08764676,  0.91235324],\n",
       "       [ 0.21387158,  0.78612842],\n",
       "       [ 0.71594589,  0.28405411],\n",
       "       [ 0.23721238,  0.76278762],\n",
       "       [ 0.05939392,  0.94060608],\n",
       "       [ 0.32001184,  0.67998816],\n",
       "       [ 0.16766069,  0.83233931],\n",
       "       [ 0.55839741,  0.44160259],\n",
       "       [ 0.44063947,  0.55936053],\n",
       "       [ 0.52824321,  0.47175679],\n",
       "       [ 0.37563322,  0.62436678],\n",
       "       [ 0.66745373,  0.33254627],\n",
       "       [ 0.46068082,  0.53931918],\n",
       "       [ 0.52129199,  0.47870801],\n",
       "       [ 0.67219757,  0.32780243],\n",
       "       [ 0.28288664,  0.71711336],\n",
       "       [ 0.18073668,  0.81926332],\n",
       "       [ 0.49049063,  0.50950937],\n",
       "       [ 0.60494632,  0.39505368],\n",
       "       [ 0.38586229,  0.61413771],\n",
       "       [ 0.10724278,  0.89275722],\n",
       "       [ 0.63867604,  0.36132396],\n",
       "       [ 0.1773042 ,  0.8226958 ],\n",
       "       [ 0.68092214,  0.31907786],\n",
       "       [ 0.11827664,  0.88172336],\n",
       "       [ 0.43604048,  0.56395952],\n",
       "       [ 0.49996618,  0.50003382],\n",
       "       [ 0.63945188,  0.36054812],\n",
       "       [ 0.34269361,  0.65730639],\n",
       "       [ 0.15262662,  0.84737338],\n",
       "       [ 0.15742567,  0.84257433],\n",
       "       [ 0.08360504,  0.91639496],\n",
       "       [ 0.58719506,  0.41280494],\n",
       "       [ 0.63718936,  0.36281064],\n",
       "       [ 0.10757797,  0.89242203],\n",
       "       [ 0.67863221,  0.32136779],\n",
       "       [ 0.42609576,  0.57390424],\n",
       "       [ 0.41218478,  0.58781522],\n",
       "       [ 0.31430291,  0.68569709],\n",
       "       [ 0.27548306,  0.72451694],\n",
       "       [ 0.60293111,  0.39706889],\n",
       "       [ 0.09869497,  0.90130503],\n",
       "       [ 0.59639607,  0.40360393],\n",
       "       [ 0.31946375,  0.68053625],\n",
       "       [ 0.5469747 ,  0.4530253 ],\n",
       "       [ 0.34137427,  0.65862573],\n",
       "       [ 0.61134929,  0.38865071],\n",
       "       [ 0.54567518,  0.45432482],\n",
       "       [ 0.03326205,  0.96673795],\n",
       "       [ 0.6267314 ,  0.3732686 ],\n",
       "       [ 0.40632476,  0.59367524],\n",
       "       [ 0.13036626,  0.86963374],\n",
       "       [ 0.52119129,  0.47880871],\n",
       "       [ 0.32270054,  0.67729946],\n",
       "       [ 0.40435067,  0.59564933],\n",
       "       [ 0.42583667,  0.57416333],\n",
       "       [ 0.3402806 ,  0.6597194 ],\n",
       "       [ 0.47991341,  0.52008659],\n",
       "       [ 0.3794506 ,  0.6205494 ],\n",
       "       [ 0.14469671,  0.85530329],\n",
       "       [ 0.1208022 ,  0.8791978 ],\n",
       "       [ 0.21028219,  0.78971781],\n",
       "       [ 0.57393112,  0.42606888],\n",
       "       [ 0.14039424,  0.85960576],\n",
       "       [ 0.34011521,  0.65988479],\n",
       "       [ 0.34609419,  0.65390581],\n",
       "       [ 0.08076791,  0.91923209],\n",
       "       [ 0.16276987,  0.83723013],\n",
       "       [ 0.09128487,  0.90871513],\n",
       "       [ 0.06724719,  0.93275281],\n",
       "       [ 0.425063  ,  0.574937  ],\n",
       "       [ 0.47234482,  0.52765518],\n",
       "       [ 0.12970279,  0.87029721],\n",
       "       [ 0.18781336,  0.81218664],\n",
       "       [ 0.22039138,  0.77960862],\n",
       "       [ 0.18463023,  0.81536977],\n",
       "       [ 0.6672374 ,  0.3327626 ],\n",
       "       [ 0.32498824,  0.67501176],\n",
       "       [ 0.50914521,  0.49085479],\n",
       "       [ 0.59558169,  0.40441831],\n",
       "       [ 0.57086718,  0.42913282],\n",
       "       [ 0.48226458,  0.51773542],\n",
       "       [ 0.34877811,  0.65122189],\n",
       "       [ 0.37113283,  0.62886717],\n",
       "       [ 0.45567939,  0.54432061],\n",
       "       [ 0.13131345,  0.86868655],\n",
       "       [ 0.20623959,  0.79376041],\n",
       "       [ 0.45153944,  0.54846056],\n",
       "       [ 0.43697169,  0.56302831],\n",
       "       [ 0.45204454,  0.54795546],\n",
       "       [ 0.50214676,  0.49785324],\n",
       "       [ 0.60344587,  0.39655413],\n",
       "       [ 0.32139434,  0.67860566],\n",
       "       [ 0.56616773,  0.43383227],\n",
       "       [ 0.44602995,  0.55397005],\n",
       "       [ 0.18511714,  0.81488286],\n",
       "       [ 0.14926366,  0.85073634],\n",
       "       [ 0.51454489,  0.48545511],\n",
       "       [ 0.44720218,  0.55279782],\n",
       "       [ 0.32902106,  0.67097894],\n",
       "       [ 0.05054439,  0.94945561],\n",
       "       [ 0.62239085,  0.37760915],\n",
       "       [ 0.46911755,  0.53088245],\n",
       "       [ 0.15114587,  0.84885413],\n",
       "       [ 0.41313902,  0.58686098],\n",
       "       [ 0.16819218,  0.83180782],\n",
       "       [ 0.1560714 ,  0.8439286 ],\n",
       "       [ 0.64676489,  0.35323511],\n",
       "       [ 0.63051707,  0.36948293],\n",
       "       [ 0.69743367,  0.30256633],\n",
       "       [ 0.39652867,  0.60347133],\n",
       "       [ 0.08315323,  0.91684677],\n",
       "       [ 0.31120083,  0.68879917],\n",
       "       [ 0.60318224,  0.39681776],\n",
       "       [ 0.65103605,  0.34896395],\n",
       "       [ 0.62065491,  0.37934509],\n",
       "       [ 0.25355808,  0.74644192],\n",
       "       [ 0.35949649,  0.64050351],\n",
       "       [ 0.20767558,  0.79232442],\n",
       "       [ 0.14790839,  0.85209161],\n",
       "       [ 0.49133859,  0.50866141],\n",
       "       [ 0.48535032,  0.51464968],\n",
       "       [ 0.09939214,  0.90060786],\n",
       "       [ 0.10314463,  0.89685537],\n",
       "       [ 0.6662921 ,  0.3337079 ],\n",
       "       [ 0.46756758,  0.53243242],\n",
       "       [ 0.10365555,  0.89634445],\n",
       "       [ 0.30791039,  0.69208961],\n",
       "       [ 0.08778483,  0.91221517],\n",
       "       [ 0.34310486,  0.65689514],\n",
       "       [ 0.62343156,  0.37656844],\n",
       "       [ 0.35577182,  0.64422818],\n",
       "       [ 0.17335046,  0.82664954],\n",
       "       [ 0.72900958,  0.27099042],\n",
       "       [ 0.33401157,  0.66598843],\n",
       "       [ 0.62065491,  0.37934509],\n",
       "       [ 0.48064705,  0.51935295],\n",
       "       [ 0.24788069,  0.75211931],\n",
       "       [ 0.63019119,  0.36980881],\n",
       "       [ 0.49641416,  0.50358584],\n",
       "       [ 0.12775454,  0.87224546],\n",
       "       [ 0.74552299,  0.25447701],\n",
       "       [ 0.10341926,  0.89658074],\n",
       "       [ 0.25462335,  0.74537665],\n",
       "       [ 0.16766069,  0.83233931],\n",
       "       [ 0.41043125,  0.58956875],\n",
       "       [ 0.31096083,  0.68903917],\n",
       "       [ 0.59966836,  0.40033164],\n",
       "       [ 0.57316788,  0.42683212],\n",
       "       [ 0.29665274,  0.70334726],\n",
       "       [ 0.25125479,  0.74874521],\n",
       "       [ 0.61050359,  0.38949641],\n",
       "       [ 0.24707277,  0.75292723],\n",
       "       [ 0.21507487,  0.78492513],\n",
       "       [ 0.31510615,  0.68489385],\n",
       "       [ 0.47964869,  0.52035131],\n",
       "       [ 0.43335179,  0.56664821],\n",
       "       [ 0.70139448,  0.29860552],\n",
       "       [ 0.63986792,  0.36013208],\n",
       "       [ 0.57673191,  0.42326809],\n",
       "       [ 0.43836936,  0.56163064],\n",
       "       [ 0.15910696,  0.84089304],\n",
       "       [ 0.25797252,  0.74202748],\n",
       "       [ 0.06075728,  0.93924272],\n",
       "       [ 0.55918524,  0.44081476],\n",
       "       [ 0.18646675,  0.81353325],\n",
       "       [ 0.78687434,  0.21312566],\n",
       "       [ 0.17659388,  0.82340612],\n",
       "       [ 0.09193838,  0.90806162],\n",
       "       [ 0.16741402,  0.83258598],\n",
       "       [ 0.16999179,  0.83000821],\n",
       "       [ 0.06725996,  0.93274004],\n",
       "       [ 0.12985549,  0.87014451],\n",
       "       [ 0.3533693 ,  0.6466307 ],\n",
       "       [ 0.54143039,  0.45856961],\n",
       "       [ 0.21815231,  0.78184769],\n",
       "       [ 0.58609251,  0.41390749],\n",
       "       [ 0.53443496,  0.46556504],\n",
       "       [ 0.54642315,  0.45357685],\n",
       "       [ 0.54950446,  0.45049554],\n",
       "       [ 0.05225732,  0.94774268],\n",
       "       [ 0.19141808,  0.80858192],\n",
       "       [ 0.39855031,  0.60144969],\n",
       "       [ 0.17259885,  0.82740115],\n",
       "       [ 0.34535447,  0.65464553],\n",
       "       [ 0.23300007,  0.76699993],\n",
       "       [ 0.310353  ,  0.689647  ],\n",
       "       [ 0.18483721,  0.81516279],\n",
       "       [ 0.82730675,  0.17269325],\n",
       "       [ 0.48740584,  0.51259416],\n",
       "       [ 0.23071916,  0.76928084],\n",
       "       [ 0.21590392,  0.78409608],\n",
       "       [ 0.25748134,  0.74251866],\n",
       "       [ 0.5383973 ,  0.4616027 ],\n",
       "       [ 0.31242739,  0.68757261],\n",
       "       [ 0.09022148,  0.90977852],\n",
       "       [ 0.51997369,  0.48002631],\n",
       "       [ 0.66168819,  0.33831181],\n",
       "       [ 0.41894996,  0.58105004],\n",
       "       [ 0.19159779,  0.80840221],\n",
       "       [ 0.16833426,  0.83166574],\n",
       "       [ 0.77056556,  0.22943444],\n",
       "       [ 0.3440215 ,  0.6559785 ],\n",
       "       [ 0.3718389 ,  0.6281611 ],\n",
       "       [ 0.49754504,  0.50245496],\n",
       "       [ 0.37660587,  0.62339413],\n",
       "       [ 0.23394234,  0.76605766],\n",
       "       [ 0.26412978,  0.73587022],\n",
       "       [ 0.61461884,  0.38538116],\n",
       "       [ 0.61049761,  0.38950239],\n",
       "       [ 0.69047673,  0.30952327],\n",
       "       [ 0.23301604,  0.76698396],\n",
       "       [ 0.04332415,  0.95667585],\n",
       "       [ 0.50554717,  0.49445283],\n",
       "       [ 0.43347395,  0.56652605],\n",
       "       [ 0.57207122,  0.42792878],\n",
       "       [ 0.2468907 ,  0.7531093 ],\n",
       "       [ 0.2025515 ,  0.7974485 ],\n",
       "       [ 0.57207122,  0.42792878],\n",
       "       [ 0.29672919,  0.70327081],\n",
       "       [ 0.20975627,  0.79024373],\n",
       "       [ 0.11388889,  0.88611111],\n",
       "       [ 0.22865566,  0.77134434],\n",
       "       [ 0.1132083 ,  0.8867917 ],\n",
       "       [ 0.44549543,  0.55450457],\n",
       "       [ 0.46048562,  0.53951438],\n",
       "       [ 0.31601205,  0.68398795],\n",
       "       [ 0.60219813,  0.39780187],\n",
       "       [ 0.60016508,  0.39983492],\n",
       "       [ 0.60995072,  0.39004928],\n",
       "       [ 0.20286361,  0.79713639],\n",
       "       [ 0.72526605,  0.27473395],\n",
       "       [ 0.14097296,  0.85902704],\n",
       "       [ 0.611833  ,  0.388167  ],\n",
       "       [ 0.18629358,  0.81370642],\n",
       "       [ 0.14469005,  0.85530995],\n",
       "       [ 0.23927805,  0.76072195],\n",
       "       [ 0.06028961,  0.93971039],\n",
       "       [ 0.4183371 ,  0.5816629 ],\n",
       "       [ 0.450106  ,  0.549894  ],\n",
       "       [ 0.34925826,  0.65074174],\n",
       "       [ 0.50857262,  0.49142738],\n",
       "       [ 0.40201462,  0.59798538],\n",
       "       [ 0.64010364,  0.35989636],\n",
       "       [ 0.64427057,  0.35572943],\n",
       "       [ 0.60081329,  0.39918671],\n",
       "       [ 0.34374039,  0.65625961],\n",
       "       [ 0.36762149,  0.63237851],\n",
       "       [ 0.19297129,  0.80702871],\n",
       "       [ 0.44085591,  0.55914409],\n",
       "       [ 0.20398642,  0.79601358],\n",
       "       [ 0.23710962,  0.76289038],\n",
       "       [ 0.20389634,  0.79610366],\n",
       "       [ 0.09866756,  0.90133244],\n",
       "       [ 0.36072564,  0.63927436],\n",
       "       [ 0.41465644,  0.58534356],\n",
       "       [ 0.45948187,  0.54051813],\n",
       "       [ 0.35769569,  0.64230431],\n",
       "       [ 0.66538453,  0.33461547],\n",
       "       [ 0.490322  ,  0.509678  ],\n",
       "       [ 0.70486957,  0.29513043],\n",
       "       [ 0.42717854,  0.57282146],\n",
       "       [ 0.55905962,  0.44094038]])"
      ]
     },
     "execution_count": 39,
     "metadata": {},
     "output_type": "execute_result"
    }
   ],
   "source": [
    "rfc.predict_proba(X_test)"
   ]
  },
  {
   "cell_type": "code",
   "execution_count": 35,
   "metadata": {},
   "outputs": [],
   "source": [
    "# Define a result table as a DataFrame\n",
    "result_table = pd.DataFrame(columns=['classifiers', 'fpr','tpr','auc'])\n",
    "\n",
    "classifiers = [dt,rfc,bagging_clf,voting_clf_soft]#,sclf]\n",
    "\n",
    "for cls in classifiers:\n",
    "    model = cls.fit(X_train, y_train)\n",
    "    #predicted probabilities for each class for each sample. Output is an array of [n_samples, n_classes]\n",
    "    yproba = model.predict_proba(X_test)[::,1] # to select probability estimates of the positive class\n",
    "    \n",
    "    fpr, tpr, _ = roc_curve(y_test,  yproba)\n",
    "    auc = roc_auc_score(y_test, yproba)\n",
    "    \n",
    "    result_table = result_table.append({'classifiers':cls.__class__.__name__,\n",
    "                                        'fpr':fpr, \n",
    "                                        'tpr':tpr, \n",
    "                                        'auc':auc}, ignore_index=True)"
   ]
  },
  {
   "cell_type": "code",
   "execution_count": 36,
   "metadata": {},
   "outputs": [
    {
     "data": {
      "text/html": [
       "<div>\n",
       "<style scoped>\n",
       "    .dataframe tbody tr th:only-of-type {\n",
       "        vertical-align: middle;\n",
       "    }\n",
       "\n",
       "    .dataframe tbody tr th {\n",
       "        vertical-align: top;\n",
       "    }\n",
       "\n",
       "    .dataframe thead th {\n",
       "        text-align: right;\n",
       "    }\n",
       "</style>\n",
       "<table border=\"1\" class=\"dataframe\">\n",
       "  <thead>\n",
       "    <tr style=\"text-align: right;\">\n",
       "      <th></th>\n",
       "      <th>classifiers</th>\n",
       "      <th>fpr</th>\n",
       "      <th>tpr</th>\n",
       "      <th>auc</th>\n",
       "    </tr>\n",
       "  </thead>\n",
       "  <tbody>\n",
       "    <tr>\n",
       "      <th>0</th>\n",
       "      <td>DecisionTreeClassifier</td>\n",
       "      <td>[0.0, 0.102564102564, 0.179487179487, 0.211538...</td>\n",
       "      <td>[0.0, 0.341463414634, 0.471544715447, 0.512195...</td>\n",
       "      <td>0.671188</td>\n",
       "    </tr>\n",
       "    <tr>\n",
       "      <th>1</th>\n",
       "      <td>RandomForestClassifier</td>\n",
       "      <td>[0.0, 0.0, 0.00641025641026, 0.00641025641026,...</td>\n",
       "      <td>[0.00406504065041, 0.0162601626016, 0.01626016...</td>\n",
       "      <td>0.745583</td>\n",
       "    </tr>\n",
       "    <tr>\n",
       "      <th>2</th>\n",
       "      <td>BaggingClassifier</td>\n",
       "      <td>[0.0, 0.00641025641026, 0.00641025641026, 0.00...</td>\n",
       "      <td>[0.00406504065041, 0.00406504065041, 0.0243902...</td>\n",
       "      <td>0.758821</td>\n",
       "    </tr>\n",
       "    <tr>\n",
       "      <th>3</th>\n",
       "      <td>VotingClassifier</td>\n",
       "      <td>[0.0, 0.0, 0.00641025641026, 0.00641025641026,...</td>\n",
       "      <td>[0.00406504065041, 0.0243902439024, 0.02439024...</td>\n",
       "      <td>0.717219</td>\n",
       "    </tr>\n",
       "  </tbody>\n",
       "</table>\n",
       "</div>"
      ],
      "text/plain": [
       "              classifiers                                                fpr  \\\n",
       "0  DecisionTreeClassifier  [0.0, 0.102564102564, 0.179487179487, 0.211538...   \n",
       "1  RandomForestClassifier  [0.0, 0.0, 0.00641025641026, 0.00641025641026,...   \n",
       "2       BaggingClassifier  [0.0, 0.00641025641026, 0.00641025641026, 0.00...   \n",
       "3        VotingClassifier  [0.0, 0.0, 0.00641025641026, 0.00641025641026,...   \n",
       "\n",
       "                                                 tpr       auc  \n",
       "0  [0.0, 0.341463414634, 0.471544715447, 0.512195...  0.671188  \n",
       "1  [0.00406504065041, 0.0162601626016, 0.01626016...  0.745583  \n",
       "2  [0.00406504065041, 0.00406504065041, 0.0243902...  0.758821  \n",
       "3  [0.00406504065041, 0.0243902439024, 0.02439024...  0.717219  "
      ]
     },
     "execution_count": 36,
     "metadata": {},
     "output_type": "execute_result"
    }
   ],
   "source": [
    "result_table"
   ]
  },
  {
   "cell_type": "code",
   "execution_count": 37,
   "metadata": {},
   "outputs": [
    {
     "data": {
      "text/html": [
       "<div>\n",
       "<style scoped>\n",
       "    .dataframe tbody tr th:only-of-type {\n",
       "        vertical-align: middle;\n",
       "    }\n",
       "\n",
       "    .dataframe tbody tr th {\n",
       "        vertical-align: top;\n",
       "    }\n",
       "\n",
       "    .dataframe thead th {\n",
       "        text-align: right;\n",
       "    }\n",
       "</style>\n",
       "<table border=\"1\" class=\"dataframe\">\n",
       "  <thead>\n",
       "    <tr style=\"text-align: right;\">\n",
       "      <th></th>\n",
       "      <th>fpr</th>\n",
       "      <th>tpr</th>\n",
       "      <th>auc</th>\n",
       "    </tr>\n",
       "    <tr>\n",
       "      <th>classifiers</th>\n",
       "      <th></th>\n",
       "      <th></th>\n",
       "      <th></th>\n",
       "    </tr>\n",
       "  </thead>\n",
       "  <tbody>\n",
       "    <tr>\n",
       "      <th>DecisionTreeClassifier</th>\n",
       "      <td>[0.0, 0.102564102564, 0.179487179487, 0.211538...</td>\n",
       "      <td>[0.0, 0.341463414634, 0.471544715447, 0.512195...</td>\n",
       "      <td>0.671188</td>\n",
       "    </tr>\n",
       "    <tr>\n",
       "      <th>RandomForestClassifier</th>\n",
       "      <td>[0.0, 0.0, 0.00641025641026, 0.00641025641026,...</td>\n",
       "      <td>[0.00406504065041, 0.0162601626016, 0.01626016...</td>\n",
       "      <td>0.745583</td>\n",
       "    </tr>\n",
       "    <tr>\n",
       "      <th>BaggingClassifier</th>\n",
       "      <td>[0.0, 0.00641025641026, 0.00641025641026, 0.00...</td>\n",
       "      <td>[0.00406504065041, 0.00406504065041, 0.0243902...</td>\n",
       "      <td>0.758821</td>\n",
       "    </tr>\n",
       "    <tr>\n",
       "      <th>VotingClassifier</th>\n",
       "      <td>[0.0, 0.0, 0.00641025641026, 0.00641025641026,...</td>\n",
       "      <td>[0.00406504065041, 0.0243902439024, 0.02439024...</td>\n",
       "      <td>0.717219</td>\n",
       "    </tr>\n",
       "  </tbody>\n",
       "</table>\n",
       "</div>"
      ],
      "text/plain": [
       "                                                                      fpr  \\\n",
       "classifiers                                                                 \n",
       "DecisionTreeClassifier  [0.0, 0.102564102564, 0.179487179487, 0.211538...   \n",
       "RandomForestClassifier  [0.0, 0.0, 0.00641025641026, 0.00641025641026,...   \n",
       "BaggingClassifier       [0.0, 0.00641025641026, 0.00641025641026, 0.00...   \n",
       "VotingClassifier        [0.0, 0.0, 0.00641025641026, 0.00641025641026,...   \n",
       "\n",
       "                                                                      tpr  \\\n",
       "classifiers                                                                 \n",
       "DecisionTreeClassifier  [0.0, 0.341463414634, 0.471544715447, 0.512195...   \n",
       "RandomForestClassifier  [0.00406504065041, 0.0162601626016, 0.01626016...   \n",
       "BaggingClassifier       [0.00406504065041, 0.00406504065041, 0.0243902...   \n",
       "VotingClassifier        [0.00406504065041, 0.0243902439024, 0.02439024...   \n",
       "\n",
       "                             auc  \n",
       "classifiers                       \n",
       "DecisionTreeClassifier  0.671188  \n",
       "RandomForestClassifier  0.745583  \n",
       "BaggingClassifier       0.758821  \n",
       "VotingClassifier        0.717219  "
      ]
     },
     "execution_count": 37,
     "metadata": {},
     "output_type": "execute_result"
    }
   ],
   "source": [
    "# Set name of the classifiers as index labels\n",
    "result_table.set_index('classifiers', inplace=True)\n",
    "result_table"
   ]
  },
  {
   "cell_type": "code",
   "execution_count": 38,
   "metadata": {},
   "outputs": [
    {
     "data": {
      "image/png": "[encoded data removed]",
      "text/plain": [
       "<Figure size 576x432 with 1 Axes>"
      ]
     },
     "metadata": {
      "needs_background": "light"
     },
     "output_type": "display_data"
    }
   ],
   "source": [
    "fig = plt.figure(figsize=(8,6))\n",
    "\n",
    "for i in result_table.index:\n",
    "    plt.plot(result_table.loc[i]['fpr'], \n",
    "             result_table.loc[i]['tpr'], \n",
    "             label=\"{}, AUC={:.3f}\".format(i, result_table.loc[i]['auc']))\n",
    "    \n",
    "plt.plot([0,1], [0,1], color='orange', linestyle='--')\n",
    "\n",
    "plt.xticks(np.arange(0.0, 1.1, step=0.1))\n",
    "plt.xlabel(\"False Positive Rate\", fontsize=15)\n",
    "\n",
    "plt.yticks(np.arange(0.0, 1.1, step=0.1))\n",
    "plt.ylabel(\"True Positive Rate\", fontsize=15)\n",
    "\n",
    "plt.title('ROC Curve Analysis', fontweight='bold', fontsize=15)\n",
    "plt.legend(prop={'size':13}, loc='lower right')\n",
    "\n",
    "plt.show()"
   ]
  },
  {
   "cell_type": "code",
   "execution_count": null,
   "metadata": {},
   "outputs": [],
   "source": []
  },
  {
   "cell_type": "markdown",
   "metadata": {},
   "source": [
    "### Next let's implement a Stacking Classifier consisting of one Decision Tree and Logistic regression and a  decision tree model as a meta classifier."
   ]
  },
  {
   "cell_type": "code",
   "execution_count": 25,
   "metadata": {
    "scrolled": true
   },
   "outputs": [
    {
     "ename": "ModuleNotFoundError",
     "evalue": "No module named 'mlxtend'",
     "output_type": "error",
     "traceback": [
      "\u001b[1;31m---------------------------------------------------------------------------\u001b[0m",
      "\u001b[1;31mModuleNotFoundError\u001b[0m                       Traceback (most recent call last)",
      "\u001b[1;32m<ipython-input-25-5869038b6584>\u001b[0m in \u001b[0;36m<module>\u001b[1;34m()\u001b[0m\n\u001b[1;32m----> 1\u001b[1;33m \u001b[1;32mfrom\u001b[0m \u001b[0mmlxtend\u001b[0m\u001b[1;33m.\u001b[0m\u001b[0mclassifier\u001b[0m \u001b[1;32mimport\u001b[0m \u001b[0mStackingClassifier\u001b[0m\u001b[1;33m\u001b[0m\u001b[0m\n\u001b[0m",
      "\u001b[1;31mModuleNotFoundError\u001b[0m: No module named 'mlxtend'"
     ]
    }
   ],
   "source": [
    "from mlxtend.classifier import StackingClassifier"
   ]
  },
  {
   "cell_type": "code",
   "execution_count": null,
   "metadata": {},
   "outputs": [],
   "source": [
    "classifier1 = LogisticRegression(C=0.1)\n",
    "classifier2= DecisionTreeClassifier(random_state=2,criterion='entropy',max_depth=4)\n",
    "\n",
    "classifier_list=[classifier1,classifier2]\n",
    "\n",
    "# meta-classifier\n",
    "m_classifier=DecisionTreeClassifier(random_state=42,criterion='entropy',max_depth=6)\n",
    "\n",
    "\n",
    "sclf = StackingClassifier(classifiers=classifier_list, meta_classifier=m_classifier)\n",
    "\n",
    "sclf.fit(X_train,y_train)"
   ]
  },
  {
   "cell_type": "code",
   "execution_count": null,
   "metadata": {},
   "outputs": [],
   "source": [
    "y_pred_sclf = sclf.predict(X_test)\n",
    "# s_score=sclf.score(X_train,y_train)\n",
    "# print(\"Training score: %.2f \" % s_score)\n",
    "\n",
    "s_score=sclf.score(X_test,y_test)\n",
    "print(\"Test score: %.2f \" % s_score)\n",
    "print('AUC_ROC_score is ',roc_auc_score(y_test,y_pred))"
   ]
  }
 ],
 "metadata": {
  "kernelspec": {
   "display_name": "Python 3",
   "language": "python",
   "name": "python3"
  },
  "language_info": {
   "codemirror_mode": {
    "name": "ipython",
    "version": 3
   },
   "file_extension": ".py",
   "mimetype": "text/x-python",
   "name": "python",
   "nbconvert_exporter": "python",
   "pygments_lexer": "ipython3",
   "version": "3.7.7"
  }
 },
 "nbformat": 4,
 "nbformat_minor": 2
}
