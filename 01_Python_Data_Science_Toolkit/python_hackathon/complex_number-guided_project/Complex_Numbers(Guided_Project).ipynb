{
 "cells": [
  {
   "cell_type": "markdown",
   "metadata": {},
   "source": [
    "# Complex number calculator\n",
    "\n",
    "\n",
    "## Problem Statement\n",
    "This project comprises of applying the basics of python to create your own complex number calculator.\n",
    "\n",
    "## Why solve this project ?\n",
    "\n",
    "After completing this project, you will have a better understanding of class and OOPs concepts. In this project, you will apply the following concepts.\n",
    "\n",
    " \n",
    "- Class Creation\n",
    "- Operator Overloading\n",
    "- Complex Number Operations \n",
    "- Conditional Statements\n",
    "\n",
    "\n"
   ]
  },
  {
   "cell_type": "markdown",
   "metadata": {},
   "source": [
    "## Task 1:\n",
    "\n",
    "### Define a class called `complex_numbers` which accepts 2 parameters:\n",
    "\n",
    "* real: int64, float64, represents real component of the complex number\n",
    "* imag: int64, float64, represents imaginary component of the complex number\n",
    "\n",
    "Example, `complex_numbers(3, 5)` means 3 is the real part of the complex number and 5 is the imaginary part of the complex number. Such a number is represented as 3 + 5i.\n",
    "\n",
    "Implement the above using `__init__` function.\n",
    "***\n",
    "\n",
    "The `__repr__` function is given to you. Add that to the class and then try implementing `\"print()\"` statement to one of the class created objects.\n",
    "\n",
    "\n",
    "```Python\n",
    "\n",
    "def __repr__(self):\n",
    "        \n",
    "        if self.real == 0.0 and self.imag == 0.0:\n",
    "            return \"0.00\"\n",
    "        if self.real == 0:\n",
    "            return \"%.2fi\" % self.imag\n",
    "        if self.imag == 0:\n",
    "            return \"%.2f\" % self.real\n",
    "        return \"%.2f %s %.2fi\" % (self.real, \"+\" if self.imag >= 0 else \"-\", abs(self.imag))\n",
    "\n",
    "```    \n",
    "\n",
    "***\n",
    "\n",
    "### New Concept:  Operator Overloading\n",
    "\n",
    "**Input**\n",
    "~~~python\n",
    "2 +3\n",
    "~~~\n",
    "\n",
    "**Output**\n",
    "~~~python\n",
    "5\n",
    "~~~\n",
    "\n",
    "**Input**\n",
    "~~~python\n",
    "'New' +'York'\n",
    "~~~\n",
    "\n",
    "**Output**\n",
    "~~~python\n",
    "'NewYork'\n",
    "~~~\n",
    "\n",
    "\n",
    "\n",
    "`+` operator adds numbers and at the same time concatenates strings. That is because  `+`  operator is overloaded by both int  class and str  class. The operators are just methods defined in their respective classes.  \n",
    "\n",
    "Defining methods for operators is known as `operator overloading`. \n",
    "For e.g. To use `+`  operator with custom objects, you need to define a method called __add__  .\n",
    "\n",
    "## Task 2:\n",
    "\n",
    "Define the following operations for the class by implementing operator overloading. \n",
    "\n",
    "* '+' (complex number addition)\n",
    "\n",
    "     The sum of two complex numbers C= a+ ib and C'= a' + ib' is \n",
    "     \n",
    "\n",
    "![alt text](./images/complex_sum.png)\n",
    "\n",
    "\n",
    "        - Create a function called __add__ which takes two parameters 'self' and 'other'\n",
    "        \n",
    "        - Inside the function, should be statements performing complex number addition and storing the results in appropriate variables(Different variables for real part and imaginary part of the sum)\n",
    "        \n",
    "        - The function should return both the above created variables enclosed as complex number object. For eg: If the variables to return are a & b, the return statement should be \n",
    "        \"return complex_numbers(a,b)\"\n",
    "        \n",
    "* '-' (complex number subtraction)\n",
    "\n",
    "    The difference between two complex numbers C= a+ ib and C'= a' + ib' is \n",
    "     \n",
    "![alt text](./images/complex_diff.png)\n",
    "\n",
    "\n",
    "        - Create a function called __sub__ which takes two parameters 'self' and 'other'\n",
    "        \n",
    "        - Inside the function, should be statements performing complex number subtraction and storing the results in appropriate variables(Different variables for real part and imaginary part of the difference)\n",
    "                \n",
    "        - The function should return both the above created variables enclosed as complex number object\n",
    " \n",
    "\n",
    "* '*' (complex number multiplication)\n",
    "\n",
    "    The product of two complex numbers C=a+ ib and C'= a' + ib' is\n",
    "     \n",
    "![alt text](./images/complex_prod_1.png)\n",
    "\n",
    "     The special case of a complex number C=a+ ib multiplied by a scalar a' is\n",
    "     \n",
    "     \n",
    "![alt text](./images/complex_prod_2.png)\n",
    "\n",
    " \n",
    "        - Create a function called __mul__ which takes two parameters 'self' and 'other'\n",
    "                \n",
    "        - Inside the function, should be statements performing complex number multiplication and storing the results in appropriate variables(Different variables for real part and imaginary part of the product)\n",
    "                \n",
    "        - The function should return both the above created variables enclosed as complex number object\n",
    "\n",
    "\n",
    "* '/' (complex number division)\n",
    "\n",
    "     The division of two complex numbers C= a+ ib and C'= a' + ib' is done by multiplying the numerator and denominator by the complex conjugate of the denominator\n",
    "     \n",
    "     \n",
    "![alt text](./images/complex_quo.png)\n",
    "\n",
    "\n",
    "\n",
    "       - Create a function called __truediv__ which takes two parameters 'self' and 'other'.\n",
    "        \n",
    "        - Inside the function, should be statements performing complex number division and storing the results in appropriate variables(Different variables for real part and imaginary part of the quotient)\n",
    "                \n",
    "        - The function should return both the above created variables enclosed as complex number object \n",
    "\n",
    "\n",
    "**Note: These operations should be compatible with `int` and `float` datatypes as well**\n",
    "\n",
    "\n",
    "## Task 3:\n",
    "\n",
    "Define the following methods inside the class(These are not operation overload methods).\n",
    "\n",
    "***\n",
    "1. `absolute()` function that returns absolute value of the complex number\n",
    "\n",
    "The absolute value of the complex number C= a+bi is the distance between the origin (0,0) and the point (a,b) in the complex plane\n",
    "     \n",
    "![alt text](./images/complex_absolute.png)\n",
    "\n",
    "\n",
    "       - Create a function called abs which takes one parameter 'self'.\n",
    "        \n",
    "        - Inside the function, should be statements finding out the absolute value of the complex number and storing the result in an appropriate variable\n",
    "                \n",
    "        - The function should return the above created variable\n",
    "\n",
    "***\n",
    "\n",
    "***\n",
    "\n",
    "2. `argument()` that returns argument of the complex number\n",
    "\n",
    " The argument of a complex number C=a+ ib is defined by [this](https://www.wikipedia.org/Argument_(complex_analysis))\n",
    "       \n",
    "     But for this task you can simply take it as,\n",
    "    \n",
    "![alt text](./images/complex_arg.png)\n",
    "    \n",
    "       - Create a function called argument which takes one parameter 'self'.\n",
    "        \n",
    "        - Inside the function, should be statements finding out the argument of the complex number and storing the result in an appropriate variable\n",
    "                \n",
    "        - The function should return the above created variable\n",
    "    \n",
    "\n",
    "***\n",
    "***\n",
    "\n",
    "3. `conjugate()` that returns conjugate of the complex number\n",
    "\n",
    "     The conjugate of a complex number is the number with the same real part and an imaginary part equal in magnitude but opposite in sign  \n",
    "    \n",
    "     ![alt text](./images/complex_conjugate.png)\n",
    "\n",
    "       - Create a function called conjugate which takes one parameter 'self' \n",
    "        \n",
    "        - Inside the function, should be statements performing finding the conjugate of complex number and storing the results in appropriate variables(Different variables for real part and imaginary part of the quotient)\n",
    "                \n",
    "        - The function should return both the above created variables enclosed as complex number object \n",
    "\n",
    "\n",
    "***\n",
    "\n",
    "## Task 4:\n",
    "\n",
    "After creating a class with all the above methods, let's create objects and implement its methods.\n",
    "\n",
    "* Create an object with real part=3, imaginary part=5 and save it in a variable called `'comp_1'`\n",
    "\n",
    "* Create an object with real part=4, imaginary part=4 and save it in a variable called `'comp_2'`\n",
    "\n",
    "* Implement addition of `'comp_1'` and `'comp_2'` and save the sum in a variable called `'comp_sum'`\n",
    "\n",
    "* Implement subtraction of `'comp_1'` and `'comp_2'` and save the difference in a variable called `'comp_diff'` \n",
    "\n",
    "* Implement multiplication of `'comp_1'` and `'comp_2'` and save the product in a variable called `'comp_prod'` \n",
    "\n",
    "* Implement division of `'comp_1'` and `'comp_2'` and save the quotient in a variable called `'comp_quot'` \n",
    "\n",
    "* Find the absolute value of `comp_1` and save it in a variable called `comp_abs`\n",
    "\n",
    "* Find the conjugate value of `comp_1` and save it in a variable called `comp_conj`\n",
    "\n",
    "* Find the argument value of `comp_1` and save it in a variable called `comp_arg`\n"
   ]
  },
  {
   "cell_type": "code",
   "execution_count": 94,
   "metadata": {},
   "outputs": [],
   "source": [
    "import pandas as pd\n",
    "import numpy as np\n",
    "import math\n",
    "\n",
    "\n",
    "#Code starts here\n",
    "class complex_number() :\n",
    "    real = 0\n",
    "    imag = 0\n",
    "    def __init__(self, real, imag) :\n",
    "        self.real = real\n",
    "        self.imag = imag\n",
    "        print('Complex Number instantiated')\n",
    "        \n",
    "    def __repr__(self):\n",
    "        if self.real == 0.0 and self.imag == 0.0:\n",
    "            return \"0.00\"\n",
    "        if self.real == 0:\n",
    "            return \"%.2fi\" % self.imag\n",
    "        if self.imag == 0:\n",
    "            return \"%.2f\" % self.real\n",
    "        return \"%.2f %s %.2fi\" % (self.real, \"+\" if self.imag >= 0 else \"-\", abs(self.imag))\n",
    "    \n",
    "    def __add__(self, other) :\n",
    "        sum_real = self.real + other.real\n",
    "        sum_imag = self.imag + other.imag\n",
    "        return complex_number(sum_real, sum_imag)\n",
    "    \n",
    "    def __sub__(self, other) :\n",
    "        diff_real = self.real - other.real\n",
    "        diff_imag = self.imag - other.imag\n",
    "        return complex_number(diff_real, diff_imag)\n",
    "    \n",
    "    def __mul__(self, other) :\n",
    "        prod_real = self.real * other.real - self.imag * other.imag\n",
    "        prod_imag = self.real * other.imag + self.imag * other.real\n",
    "        return complex_number(prod_real, prod_imag)\n",
    "    \n",
    "    def __truediv__(self, other) :\n",
    "        den = other.real**2 + other.imag**2\n",
    "        quotient_real = (self.real * other.real + self.imag * other.imag)/den\n",
    "        quotient_imag = (self.imag * other.real - self.real * other.imag)/den\n",
    "        return complex_number(quotient_real, quotient_imag)\n",
    "    \n",
    "    def absolute(self) :\n",
    "        return math.sqrt(self.real**2 + self.imag**2)\n",
    "    \n",
    "    def argument(self) :\n",
    "        return math.atan(self.real / self.imag)\n",
    "    \n",
    "    def conjugate(self) :\n",
    "        return complex_number(self.real, self.imag * (-1))\n",
    "    \n",
    "     \n",
    "        \n",
    "        \n",
    "\n",
    "\n",
    "\n",
    "#Code ends here"
   ]
  },
  {
   "cell_type": "code",
   "execution_count": 95,
   "metadata": {},
   "outputs": [
    {
     "name": "stdout",
     "output_type": "stream",
     "text": [
      "Complex Number instantiated\n"
     ]
    }
   ],
   "source": [
    "comp_1 = complex_number(3, 5)"
   ]
  },
  {
   "cell_type": "code",
   "execution_count": 96,
   "metadata": {},
   "outputs": [
    {
     "name": "stdout",
     "output_type": "stream",
     "text": [
      "Complex Number instantiated\n"
     ]
    }
   ],
   "source": [
    "comp_2 = complex_number(4, 4)"
   ]
  },
  {
   "cell_type": "code",
   "execution_count": 97,
   "metadata": {},
   "outputs": [
    {
     "name": "stdout",
     "output_type": "stream",
     "text": [
      "Complex Number instantiated\n"
     ]
    }
   ],
   "source": [
    "comp_sum = comp_1 + comp_2"
   ]
  },
  {
   "cell_type": "code",
   "execution_count": 98,
   "metadata": {},
   "outputs": [
    {
     "name": "stdout",
     "output_type": "stream",
     "text": [
      "Complex Number instantiated\n"
     ]
    }
   ],
   "source": [
    "comp_diff = comp_1 - comp_2"
   ]
  },
  {
   "cell_type": "code",
   "execution_count": 99,
   "metadata": {},
   "outputs": [
    {
     "name": "stdout",
     "output_type": "stream",
     "text": [
      "Complex Number instantiated\n"
     ]
    }
   ],
   "source": [
    "comp_prod = comp_1 * comp_2"
   ]
  },
  {
   "cell_type": "code",
   "execution_count": 100,
   "metadata": {},
   "outputs": [
    {
     "name": "stdout",
     "output_type": "stream",
     "text": [
      "Complex Number instantiated\n"
     ]
    }
   ],
   "source": [
    "comp_quot = comp_1 / comp_2"
   ]
  },
  {
   "cell_type": "code",
   "execution_count": 101,
   "metadata": {},
   "outputs": [
    {
     "data": {
      "text/plain": [
       "5.830951894845301"
      ]
     },
     "execution_count": 101,
     "metadata": {},
     "output_type": "execute_result"
    }
   ],
   "source": [
    "comp_abs = comp_1.absolute()\n",
    "comp_abs"
   ]
  },
  {
   "cell_type": "code",
   "execution_count": 108,
   "metadata": {},
   "outputs": [
    {
     "data": {
      "text/plain": [
       "0.5404195002705842"
      ]
     },
     "execution_count": 108,
     "metadata": {},
     "output_type": "execute_result"
    }
   ],
   "source": [
    "comp_arg = comp_1.argument()\n",
    "comp_arg"
   ]
  },
  {
   "cell_type": "code",
   "execution_count": 105,
   "metadata": {},
   "outputs": [
    {
     "name": "stdout",
     "output_type": "stream",
     "text": [
      "Complex Number instantiated\n"
     ]
    },
    {
     "data": {
      "text/plain": [
       "3.00 - 5.00i"
      ]
     },
     "execution_count": 105,
     "metadata": {},
     "output_type": "execute_result"
    }
   ],
   "source": [
    "comp_conj = comp_1.conjugate()\n",
    "comp_conj"
   ]
  },
  {
   "cell_type": "code",
   "execution_count": null,
   "metadata": {},
   "outputs": [],
   "source": []
  }
 ],
 "metadata": {
  "kernelspec": {
   "display_name": "Python 3",
   "language": "python",
   "name": "python3"
  },
  "language_info": {
   "codemirror_mode": {
    "name": "ipython",
    "version": 3
   },
   "file_extension": ".py",
   "mimetype": "text/x-python",
   "name": "python",
   "nbconvert_exporter": "python",
   "pygments_lexer": "ipython3",
   "version": "3.7.3"
  }
 },
 "nbformat": 4,
 "nbformat_minor": 2
}
