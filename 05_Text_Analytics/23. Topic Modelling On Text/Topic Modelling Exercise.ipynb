{
 "cells": [
  {
   "cell_type": "markdown",
   "metadata": {},
   "source": [
    "### Loading the Data"
   ]
  },
  {
   "cell_type": "code",
   "execution_count": 1,
   "metadata": {},
   "outputs": [
    {
     "name": "stdout",
     "output_type": "stream",
     "text": [
      "[nltk_data] Downloading package wordnet to\n",
      "[nltk_data]     /Users/puneet.jain/nltk_data...\n",
      "[nltk_data]   Package wordnet is already up-to-date!\n"
     ]
    },
    {
     "data": {
      "text/plain": [
       "\"After a five year struggle, creditors of the collapsed, fraud-ridden BCCI will receive a payment of $2.65 billion on Tuesday, equal to 24.5 percent of their claims, a spokesman for the liquidators said on Monday.\\nBank of Credit and Commerce International, founded in 1972, was closed by central banks in 1991 and collapsed with debts of more than $12 billion when evidence of massive fraud and money laundering was unearthed leading to a tangled web of litigation which shows no sign of reaching an early conclusion.\\nBCCI had assets of $24 billion and operations in 71 countries at the time of its collapse.\\nLiquidator Deloitte and Touche said a further payment, reportedly of 10 percent, of the admitted claims which total some $10.5 billion should be made in the next 12 to 16 months.\\nThe gross fund of amounts recovered by the liquidators stands at around $4.0 billion and includes $1.5 billion paid by BCCI's majority shareholder, the government of Abu Dhabi, which will pay a further $250 million in due course following a settlement reached earlier this year.\\nThis, in addition to efforts by US authorities which resulted in the recovery of more than $500 million from the United States paved the way for the first dividend payment.\\nA further $245 million was paid by Saudi billionaire Sheikh Khalid bin Mahfouz who the liquidators alleged was involved in covering up the BCCI scandal. Under a 1995 Luxembourg court settlement, Mahfouz agreed to pay without admitting liability, in return for the lawsuits being dropped.\\nThe liquidators still have outstanding claims against the Bank of England, the Institut Monetaire Luxembourgeois (BCCI's operations were based in Luxembourgh) and the auditors of the bank, international accountancy firms Price Waterhouse and Ernst &amp; Whinney, now part of the merged Ernst &amp; Young.\\nPrice Waterhouse has said it is making a multi-billion dollar counter claim against Abu Dhabi.\\nFurther law suits are also pending around the world in an attempt to recover further amounts.\\nThe two biggest groups of creditors of BCCI are in the United Arab Emirates (UAE) and in Britain.\\nThe English liquidators of BCCI, Deloite &amp; Touche, have recovered over $1 billion and have been paid a massive $200 million in fees.\\nIn a report to the High Court earlier this year, the liquidator said legal fees in the liquidation ammounted to over $75 million so far.\\n\""
      ]
     },
     "execution_count": 1,
     "metadata": {},
     "output_type": "execute_result"
    }
   ],
   "source": [
    "import nltk\n",
    "import pandas as pd\n",
    "nltk.download('wordnet')\n",
    "Text = open('../data/C50train/JoeOrtiz/242939newsML.txt').read()\n",
    "Text"
   ]
  },
  {
   "cell_type": "markdown",
   "metadata": {},
   "source": [
    "<img src=\"../images/icon/ppt-icons.png\" alt=\"Concept-Alert\" style=\"width: 100px;float:left; margin-right:15px\"/>\n",
    "<br /> \n",
    "\n",
    "##  Mini-Challenge - 1 \n",
    "***\n",
    "### Instructions\n",
    "* Perform a sentence tokenization on the above data using `sent_tokenize()` and store it in a variable called '**Sent**'"
   ]
  },
  {
   "cell_type": "code",
   "execution_count": 2,
   "metadata": {},
   "outputs": [
    {
     "data": {
      "text/plain": [
       "['After a five year struggle, creditors of the collapsed, fraud-ridden BCCI will receive a payment of $2.65 billion on Tuesday, equal to 24.5 percent of their claims, a spokesman for the liquidators said on Monday.',\n",
       " 'Bank of Credit and Commerce International, founded in 1972, was closed by central banks in 1991 and collapsed with debts of more than $12 billion when evidence of massive fraud and money laundering was unearthed leading to a tangled web of litigation which shows no sign of reaching an early conclusion.',\n",
       " 'BCCI had assets of $24 billion and operations in 71 countries at the time of its collapse.',\n",
       " 'Liquidator Deloitte and Touche said a further payment, reportedly of 10 percent, of the admitted claims which total some $10.5 billion should be made in the next 12 to 16 months.',\n",
       " \"The gross fund of amounts recovered by the liquidators stands at around $4.0 billion and includes $1.5 billion paid by BCCI's majority shareholder, the government of Abu Dhabi, which will pay a further $250 million in due course following a settlement reached earlier this year.\",\n",
       " 'This, in addition to efforts by US authorities which resulted in the recovery of more than $500 million from the United States paved the way for the first dividend payment.',\n",
       " 'A further $245 million was paid by Saudi billionaire Sheikh Khalid bin Mahfouz who the liquidators alleged was involved in covering up the BCCI scandal.',\n",
       " 'Under a 1995 Luxembourg court settlement, Mahfouz agreed to pay without admitting liability, in return for the lawsuits being dropped.',\n",
       " \"The liquidators still have outstanding claims against the Bank of England, the Institut Monetaire Luxembourgeois (BCCI's operations were based in Luxembourgh) and the auditors of the bank, international accountancy firms Price Waterhouse and Ernst &amp; Whinney, now part of the merged Ernst &amp; Young.\",\n",
       " 'Price Waterhouse has said it is making a multi-billion dollar counter claim against Abu Dhabi.',\n",
       " 'Further law suits are also pending around the world in an attempt to recover further amounts.',\n",
       " 'The two biggest groups of creditors of BCCI are in the United Arab Emirates (UAE) and in Britain.',\n",
       " 'The English liquidators of BCCI, Deloite &amp; Touche, have recovered over $1 billion and have been paid a massive $200 million in fees.',\n",
       " 'In a report to the High Court earlier this year, the liquidator said legal fees in the liquidation ammounted to over $75 million so far.']"
      ]
     },
     "execution_count": 2,
     "metadata": {},
     "output_type": "execute_result"
    }
   ],
   "source": [
    "import nltk\n",
    "Sent = nltk.sent_tokenize(Text)\n",
    "Sent"
   ]
  },
  {
   "cell_type": "markdown",
   "metadata": {},
   "source": [
    "<img src=\"../images/icon/ppt-icons.png\" alt=\"Concept-Alert\" style=\"width: 100px;float:left; margin-right:15px\"/>\n",
    "<br /> \n",
    "\n",
    "##  Mini-Challenge - 2 \n",
    "***\n",
    "**Bag of Words** <br>\n",
    "In this task, we will try to do the basic NLP operations of tokenizing, removing stop words and lemmatizing on our data. We will also try to create a list of most frequent words\n",
    "### Instructions\n",
    "- Iterate over every Sentence in the list **Sent**  using a for loop and convert every sentence into \n",
    "    - lower case \n",
    "    - and then tokenize it using the instantiated object \n",
    "- Now remove the stopwords from the tokens \n",
    "- Lemmatize them using `WordNetLemmatizer()` and save it in `lemmatized_tokens`\n",
    "- Append `lemmatized_tokens` into the list called **Text**\n",
    "- Convert `Counter(lemmatized_tokens)` into dictionary and save it in a variable called `BoW_dict`.\n",
    "- Sort `BoW_dict` in descending order using `sorted()` function with the parameters `BoW_dict.items()`, `key=operator.itemgetter(1)`, `reverse=True`. Store it in a variable called `sorted_d`\n",
    "- Finally append them into the list called **Texts** \n",
    "- Print `Texts` to check out the list of words with their frequency in descending order.\n",
    "- Print Top 10 words from the `Texts`"
   ]
  },
  {
   "cell_type": "code",
   "execution_count": 3,
   "metadata": {},
   "outputs": [
    {
     "name": "stdout",
     "output_type": "stream",
     "text": [
      "[[('five', 1), ('year', 1), ('struggle', 1), ('creditor', 1), ('collapsed', 1), ('fraud', 1), ('ridden', 1), ('bcci', 1), ('receive', 1), ('payment', 1), ('2', 1), ('65', 1), ('billion', 1), ('tuesday', 1), ('equal', 1), ('24', 1), ('5', 1), ('percent', 1), ('claim', 1), ('spokesman', 1), ('liquidator', 1), ('said', 1), ('monday', 1)], [('bank', 2), ('credit', 1), ('commerce', 1), ('international', 1), ('founded', 1), ('1972', 1), ('closed', 1), ('central', 1), ('1991', 1), ('collapsed', 1), ('debt', 1), ('12', 1), ('billion', 1), ('evidence', 1), ('massive', 1), ('fraud', 1), ('money', 1), ('laundering', 1), ('unearthed', 1), ('leading', 1), ('tangled', 1), ('web', 1), ('litigation', 1), ('show', 1), ('sign', 1), ('reaching', 1), ('early', 1), ('conclusion', 1)], [('bcci', 1), ('asset', 1), ('24', 1), ('billion', 1), ('operation', 1), ('71', 1), ('country', 1), ('time', 1), ('collapse', 1)], [('10', 2), ('liquidator', 1), ('deloitte', 1), ('touche', 1), ('said', 1), ('payment', 1), ('reportedly', 1), ('percent', 1), ('admitted', 1), ('claim', 1), ('total', 1), ('5', 1), ('billion', 1), ('made', 1), ('next', 1), ('12', 1), ('16', 1), ('month', 1)], [('billion', 2), ('gross', 1), ('fund', 1), ('amount', 1), ('recovered', 1), ('liquidator', 1), ('stand', 1), ('around', 1), ('4', 1), ('0', 1), ('includes', 1), ('1', 1), ('5', 1), ('paid', 1), ('bcci', 1), ('majority', 1), ('shareholder', 1), ('government', 1), ('abu', 1), ('dhabi', 1), ('pay', 1), ('250', 1), ('million', 1), ('due', 1), ('course', 1), ('following', 1), ('settlement', 1), ('reached', 1), ('earlier', 1), ('year', 1)], [('addition', 1), ('effort', 1), ('u', 1), ('authority', 1), ('resulted', 1), ('recovery', 1), ('500', 1), ('million', 1), ('united', 1), ('state', 1), ('paved', 1), ('way', 1), ('first', 1), ('dividend', 1), ('payment', 1)], [('245', 1), ('million', 1), ('paid', 1), ('saudi', 1), ('billionaire', 1), ('sheikh', 1), ('khalid', 1), ('bin', 1), ('mahfouz', 1), ('liquidator', 1), ('alleged', 1), ('involved', 1), ('covering', 1), ('bcci', 1), ('scandal', 1)], [('1995', 1), ('luxembourg', 1), ('court', 1), ('settlement', 1), ('mahfouz', 1), ('agreed', 1), ('pay', 1), ('without', 1), ('admitting', 1), ('liability', 1), ('return', 1), ('lawsuit', 1), ('dropped', 1)], [('bank', 2), ('ernst', 2), ('amp', 2), ('liquidator', 1), ('still', 1), ('outstanding', 1), ('claim', 1), ('england', 1), ('institut', 1), ('monetaire', 1), ('luxembourgeois', 1), ('bcci', 1), ('operation', 1), ('based', 1), ('luxembourgh', 1), ('auditor', 1), ('international', 1), ('accountancy', 1), ('firm', 1), ('price', 1), ('waterhouse', 1), ('whinney', 1), ('part', 1), ('merged', 1), ('young', 1)], [('price', 1), ('waterhouse', 1), ('said', 1), ('making', 1), ('multi', 1), ('billion', 1), ('dollar', 1), ('counter', 1), ('claim', 1), ('abu', 1), ('dhabi', 1)], [('law', 1), ('suit', 1), ('also', 1), ('pending', 1), ('around', 1), ('world', 1), ('attempt', 1), ('recover', 1), ('amount', 1)], [('two', 1), ('biggest', 1), ('group', 1), ('creditor', 1), ('bcci', 1), ('united', 1), ('arab', 1), ('emirate', 1), ('uae', 1), ('britain', 1)], [('english', 1), ('liquidator', 1), ('bcci', 1), ('deloite', 1), ('amp', 1), ('touche', 1), ('recovered', 1), ('1', 1), ('billion', 1), ('paid', 1), ('massive', 1), ('200', 1), ('million', 1), ('fee', 1)], [('report', 1), ('high', 1), ('court', 1), ('earlier', 1), ('year', 1), ('liquidator', 1), ('said', 1), ('legal', 1), ('fee', 1), ('liquidation', 1), ('ammounted', 1), ('75', 1), ('million', 1), ('far', 1)]]\n",
      "\n",
      "Top 10 words:\n",
      " [('report', 1), ('high', 1), ('court', 1), ('earlier', 1), ('year', 1), ('liquidator', 1), ('said', 1), ('legal', 1), ('fee', 1), ('liquidation', 1)]\n"
     ]
    }
   ],
   "source": [
    "from nltk.tokenize import RegexpTokenizer\n",
    "from nltk.corpus import stopwords\n",
    "from nltk.stem import WordNetLemmatizer\n",
    "from collections import Counter\n",
    "import operator\n",
    "\n",
    "tokenizer = RegexpTokenizer(r'\\w+')\n",
    "\n",
    "en_stop = set(stopwords.words('english'))\n",
    "\n",
    "Lema = WordNetLemmatizer()\n",
    "\n",
    "Texts = []\n",
    "Text = []\n",
    "for i in Sent:\n",
    "    raw = i.lower()\n",
    "    tokens = tokenizer.tokenize(raw)\n",
    "    stopped_tokens = [i for i in tokens if not i in en_stop]\n",
    "    lemmatized_tokens = [Lema.lemmatize(i) for i in stopped_tokens]\n",
    "    Text.append(lemmatized_tokens)\n",
    "    BoW_dict = dict(Counter(lemmatized_tokens))\n",
    "    sorted_d = sorted(BoW_dict.items(), key=operator.itemgetter(1), reverse=True)\n",
    "    Texts.append(sorted_d)\n",
    "print(Texts) \n",
    "print(\"\\nTop 10 words:\\n\", sorted_d[:10])"
   ]
  },
  {
   "cell_type": "code",
   "execution_count": 6,
   "metadata": {},
   "outputs": [
    {
     "name": "stdout",
     "output_type": "stream",
     "text": [
      "[nltk_data] Downloading package averaged_perceptron_tagger to\n",
      "[nltk_data]     /Users/puneet.jain/nltk_data...\n",
      "[nltk_data]   Unzipping taggers/averaged_perceptron_tagger.zip.\n"
     ]
    },
    {
     "data": {
      "text/plain": [
       "True"
      ]
     },
     "execution_count": 6,
     "metadata": {},
     "output_type": "execute_result"
    }
   ],
   "source": [
    "nltk.download('averaged_perceptron_tagger')"
   ]
  },
  {
   "cell_type": "markdown",
   "metadata": {},
   "source": [
    "<img src=\"../images/icon/ppt-icons.png\" alt=\"Concept-Alert\" style=\"width: 100px;float:left; margin-right:15px\"/>\n",
    "<br /> \n",
    "\n",
    "##  Mini-Challenge - 3\n",
    "***\n",
    "Since Nouns are important in Topic Modeling process, we will try to figure out the top nouns from the bag of words we created in the last task.\n",
    "### Instructions\n",
    "- Join the previously created bag of words `lemmatized_tokens` back into a string using `join()` method and store the result in `BoW_joined`.\n",
    "- Convert `Bow_joined` into a textblob using `TextBlob()` method and store the result into `blob`.\n",
    "- Print out the `blob.tags` to look at the different tags associated with the words.\n",
    "- Get the tags of all the words from `lemmatized_tokens` using `blob.tags` and store the result in a variable called `tags`\n",
    "- From `tags`, extract the words which have `NN` tags and store them to a list called `nouns`\n",
    "- The top 10 words which have appeared most frequently are already stored into a list called `top_words`\n",
    "- Compare the two lists `top_words` and `nouns` and store the common elements between them in a new list called `top_nouns`\n",
    "- Print `top_nouns` to see most commonly appearing nouns"
   ]
  },
  {
   "cell_type": "code",
   "execution_count": 7,
   "metadata": {},
   "outputs": [
    {
     "name": "stdout",
     "output_type": "stream",
     "text": [
      "First 10 tags:\n",
      " [('report', 'NN'), ('high', 'JJ'), ('court', 'NN'), ('earlier', 'RBR'), ('year', 'NN'), ('liquidator', 'NN'), ('said', 'VBD'), ('legal', 'JJ'), ('fee', 'NN'), ('liquidation', 'NN')]\n",
      "\n",
      "Top Nouns: ['court', 'fee', 'report', 'liquidator', 'year', 'liquidation']\n"
     ]
    }
   ],
   "source": [
    "from collections import Counter\n",
    "import operator\n",
    "import numpy as np\n",
    "import nltk\n",
    "from textblob import TextBlob\n",
    "import warnings\n",
    "warnings.filterwarnings('ignore')  \n",
    "\n",
    "#Extracting the top 10 words with their count\n",
    "top_10 = sorted_d[:10]\n",
    "\n",
    "#Storing only the top 10 words\n",
    "top_words=[]\n",
    "for x in top_10:\n",
    "    top_words.append(x[0])\n",
    "\n",
    "\n",
    "#Code begins\n",
    "\n",
    "# Joining the list back to sentences\n",
    "BoW_joined = \" \".join(lemmatized_tokens)\n",
    "\n",
    "# Converting the data to textblob\n",
    "blob = TextBlob(BoW_joined)\n",
    "\n",
    "# Print the first 10 tags\n",
    "print(\"First 10 tags:\\n\" ,blob.tags[:10])\n",
    "\n",
    "#Extracting the tags\n",
    "tags = blob.tags\n",
    "\n",
    "#Initialising an empty list\n",
    "nouns = []\n",
    "\n",
    "#Extracing the words with NN tags\n",
    "for x in tags:\n",
    "    if x[1]==\"NN\":\n",
    "        nouns.append(x[0])\n",
    "        \n",
    "\n",
    "#Comparing the two lists to extract the common elements        \n",
    "top_nouns=[x for x in nouns if x in top_words]\n",
    "top_nouns  = list(set(top_nouns))\n",
    "\n",
    "print(\"\\nTop Nouns:\", top_nouns)"
   ]
  },
  {
   "cell_type": "markdown",
   "metadata": {},
   "source": [
    "<img src=\"../images/icon/ppt-icons.png\" alt=\"Concept-Alert\" style=\"width: 100px;float:left; margin-right:15px\"/>\n",
    "<br /> \n",
    "\n",
    "##  Mini-Challenge - 4\n",
    "***\n",
    "Using the method `.Dictionary()` inside the module `corpora` to create a unique token for every word and also print out the tokens assigned respectively using the `.token2id` attribute"
   ]
  },
  {
   "cell_type": "code",
   "execution_count": 8,
   "metadata": {},
   "outputs": [
    {
     "name": "stdout",
     "output_type": "stream",
     "text": [
      "Dictionary(171 unique tokens: ['2', '24', '5', '65', 'bcci']...)\n",
      "{'2': 0, '24': 1, '5': 2, '65': 3, 'bcci': 4, 'billion': 5, 'claim': 6, 'collapsed': 7, 'creditor': 8, 'equal': 9, 'five': 10, 'fraud': 11, 'liquidator': 12, 'monday': 13, 'payment': 14, 'percent': 15, 'receive': 16, 'ridden': 17, 'said': 18, 'spokesman': 19, 'struggle': 20, 'tuesday': 21, 'year': 22, '12': 23, '1972': 24, '1991': 25, 'bank': 26, 'central': 27, 'closed': 28, 'commerce': 29, 'conclusion': 30, 'credit': 31, 'debt': 32, 'early': 33, 'evidence': 34, 'founded': 35, 'international': 36, 'laundering': 37, 'leading': 38, 'litigation': 39, 'massive': 40, 'money': 41, 'reaching': 42, 'show': 43, 'sign': 44, 'tangled': 45, 'unearthed': 46, 'web': 47, '71': 48, 'asset': 49, 'collapse': 50, 'country': 51, 'operation': 52, 'time': 53, '10': 54, '16': 55, 'admitted': 56, 'deloitte': 57, 'made': 58, 'month': 59, 'next': 60, 'reportedly': 61, 'total': 62, 'touche': 63, '0': 64, '1': 65, '250': 66, '4': 67, 'abu': 68, 'amount': 69, 'around': 70, 'course': 71, 'dhabi': 72, 'due': 73, 'earlier': 74, 'following': 75, 'fund': 76, 'government': 77, 'gross': 78, 'includes': 79, 'majority': 80, 'million': 81, 'paid': 82, 'pay': 83, 'reached': 84, 'recovered': 85, 'settlement': 86, 'shareholder': 87, 'stand': 88, '500': 89, 'addition': 90, 'authority': 91, 'dividend': 92, 'effort': 93, 'first': 94, 'paved': 95, 'recovery': 96, 'resulted': 97, 'state': 98, 'u': 99, 'united': 100, 'way': 101, '245': 102, 'alleged': 103, 'billionaire': 104, 'bin': 105, 'covering': 106, 'involved': 107, 'khalid': 108, 'mahfouz': 109, 'saudi': 110, 'scandal': 111, 'sheikh': 112, '1995': 113, 'admitting': 114, 'agreed': 115, 'court': 116, 'dropped': 117, 'lawsuit': 118, 'liability': 119, 'luxembourg': 120, 'return': 121, 'without': 122, 'accountancy': 123, 'amp': 124, 'auditor': 125, 'based': 126, 'england': 127, 'ernst': 128, 'firm': 129, 'institut': 130, 'luxembourgeois': 131, 'luxembourgh': 132, 'merged': 133, 'monetaire': 134, 'outstanding': 135, 'part': 136, 'price': 137, 'still': 138, 'waterhouse': 139, 'whinney': 140, 'young': 141, 'counter': 142, 'dollar': 143, 'making': 144, 'multi': 145, 'also': 146, 'attempt': 147, 'law': 148, 'pending': 149, 'recover': 150, 'suit': 151, 'world': 152, 'arab': 153, 'biggest': 154, 'britain': 155, 'emirate': 156, 'group': 157, 'two': 158, 'uae': 159, '200': 160, 'deloite': 161, 'english': 162, 'fee': 163, '75': 164, 'ammounted': 165, 'far': 166, 'high': 167, 'legal': 168, 'liquidation': 169, 'report': 170}\n"
     ]
    }
   ],
   "source": [
    "from gensim import corpora, models\n",
    "dictionary = corpora.Dictionary(Text)\n",
    "print(dictionary)\n",
    "print(dictionary.token2id)"
   ]
  },
  {
   "cell_type": "markdown",
   "metadata": {},
   "source": [
    "<img src=\"../images/icon/ppt-icons.png\" alt=\"Concept-Alert\" style=\"width: 100px;float:left; margin-right:15px\"/>\n",
    "<br /> \n",
    "\n",
    "##  Mini-Challenge - 5\n",
    "***\n",
    "Now convert the dictionary into a bag of words list using the `.doc2bow()` method in `dictionary` and store it in a variable **corpus** "
   ]
  },
  {
   "cell_type": "code",
   "execution_count": 9,
   "metadata": {},
   "outputs": [
    {
     "name": "stdout",
     "output_type": "stream",
     "text": [
      "[(0, 1), (1, 1), (2, 1), (3, 1), (4, 1), (5, 1), (6, 1), (7, 1), (8, 1), (9, 1), (10, 1), (11, 1), (12, 1), (13, 1), (14, 1), (15, 1), (16, 1), (17, 1), (18, 1), (19, 1), (20, 1), (21, 1), (22, 1)]\n",
      "[(5, 1), (7, 1), (11, 1), (23, 1), (24, 1), (25, 1), (26, 2), (27, 1), (28, 1), (29, 1), (30, 1), (31, 1), (32, 1), (33, 1), (34, 1), (35, 1), (36, 1), (37, 1), (38, 1), (39, 1), (40, 1), (41, 1), (42, 1), (43, 1), (44, 1), (45, 1), (46, 1), (47, 1)]\n",
      "[(1, 1), (4, 1), (5, 1), (48, 1), (49, 1), (50, 1), (51, 1), (52, 1), (53, 1)]\n",
      "[(2, 1), (5, 1), (6, 1), (12, 1), (14, 1), (15, 1), (18, 1), (23, 1), (54, 2), (55, 1), (56, 1), (57, 1), (58, 1), (59, 1), (60, 1), (61, 1), (62, 1), (63, 1)]\n",
      "[(2, 1), (4, 1), (5, 2), (12, 1), (22, 1), (64, 1), (65, 1), (66, 1), (67, 1), (68, 1), (69, 1), (70, 1), (71, 1), (72, 1), (73, 1), (74, 1), (75, 1), (76, 1), (77, 1), (78, 1), (79, 1), (80, 1), (81, 1), (82, 1), (83, 1), (84, 1), (85, 1), (86, 1), (87, 1), (88, 1)]\n",
      "[(14, 1), (81, 1), (89, 1), (90, 1), (91, 1), (92, 1), (93, 1), (94, 1), (95, 1), (96, 1), (97, 1), (98, 1), (99, 1), (100, 1), (101, 1)]\n",
      "[(4, 1), (12, 1), (81, 1), (82, 1), (102, 1), (103, 1), (104, 1), (105, 1), (106, 1), (107, 1), (108, 1), (109, 1), (110, 1), (111, 1), (112, 1)]\n",
      "[(83, 1), (86, 1), (109, 1), (113, 1), (114, 1), (115, 1), (116, 1), (117, 1), (118, 1), (119, 1), (120, 1), (121, 1), (122, 1)]\n",
      "[(4, 1), (6, 1), (12, 1), (26, 2), (36, 1), (52, 1), (123, 1), (124, 2), (125, 1), (126, 1), (127, 1), (128, 2), (129, 1), (130, 1), (131, 1), (132, 1), (133, 1), (134, 1), (135, 1), (136, 1), (137, 1), (138, 1), (139, 1), (140, 1), (141, 1)]\n",
      "[(5, 1), (6, 1), (18, 1), (68, 1), (72, 1), (137, 1), (139, 1), (142, 1), (143, 1), (144, 1), (145, 1)]\n",
      "[(69, 1), (70, 1), (146, 1), (147, 1), (148, 1), (149, 1), (150, 1), (151, 1), (152, 1)]\n",
      "[(4, 1), (8, 1), (100, 1), (153, 1), (154, 1), (155, 1), (156, 1), (157, 1), (158, 1), (159, 1)]\n",
      "[(4, 1), (5, 1), (12, 1), (40, 1), (63, 1), (65, 1), (81, 1), (82, 1), (85, 1), (124, 1), (160, 1), (161, 1), (162, 1), (163, 1)]\n",
      "[(12, 1), (18, 1), (22, 1), (74, 1), (81, 1), (116, 1), (163, 1), (164, 1), (165, 1), (166, 1), (167, 1), (168, 1), (169, 1), (170, 1)]\n"
     ]
    }
   ],
   "source": [
    "corpus = [dictionary.doc2bow(text) for text in Text]\n",
    "for line in corpus:\n",
    "    print(line)"
   ]
  },
  {
   "cell_type": "markdown",
   "metadata": {},
   "source": [
    "<img src=\"../images/icon/ppt-icons.png\" alt=\"Concept-Alert\" style=\"width: 100px;float:left; margin-right:15px\"/>\n",
    "<br /> \n",
    "\n",
    "##  Mini-Challenge - 6\n",
    "***\n",
    "Create an LDA model with number of topics as 5 of your choice and your choice of total passes. Now print out the top 5 topics and also the top 3 words in every topic"
   ]
  },
  {
   "cell_type": "code",
   "execution_count": 10,
   "metadata": {},
   "outputs": [
    {
     "name": "stdout",
     "output_type": "stream",
     "text": [
      "LdaModel(num_terms=171, num_topics=5, decay=0.5, chunksize=2000)\n"
     ]
    }
   ],
   "source": [
    "import gensim\n",
    "ldamodel = gensim.models.ldamodel.LdaModel(corpus, num_topics=5, id2word = dictionary, passes=20)\n",
    "\n",
    "print(ldamodel)"
   ]
  },
  {
   "cell_type": "code",
   "execution_count": 11,
   "metadata": {},
   "outputs": [
    {
     "name": "stdout",
     "output_type": "stream",
     "text": [
      "(0, '0.030*\"billion\" + 0.020*\"million\" + 0.020*\"year\"')\n",
      "(1, '0.027*\"bcci\" + 0.027*\"creditor\" + 0.027*\"united\"')\n",
      "(2, '0.030*\"mahfouz\" + 0.029*\"million\" + 0.016*\"court\"')\n",
      "(3, '0.037*\"billion\" + 0.037*\"liquidator\" + 0.028*\"said\"')\n",
      "(4, '0.031*\"bcci\" + 0.031*\"amp\" + 0.031*\"bank\"')\n"
     ]
    }
   ],
   "source": [
    "for topic in ldamodel.print_topics(num_topics=5, num_words=3):\n",
    "    print(topic)"
   ]
  },
  {
   "cell_type": "code",
   "execution_count": 13,
   "metadata": {},
   "outputs": [
    {
     "data": {
      "text/html": [
       "\n",
       "<link rel=\"stylesheet\" type=\"text/css\" href=\"https://cdn.rawgit.com/bmabey/pyLDAvis/files/ldavis.v1.0.0.css\">\n",
       "\n",
       "\n",
       "<div id=\"ldavis_el78441125119756164185528082\"></div>\n",
       "<script type=\"text/javascript\">\n",
       "\n",
       "var ldavis_el78441125119756164185528082_data = {\"mdsDat\": {\"x\": [0.09947892597846711, 0.03686326989847096, -0.13700938860818448, 0.022386321666107958, -0.02171912893486158], \"y\": [-0.000585371553800255, -0.09901538722661639, -0.011133070343715783, 0.10402274923996507, 0.006711079884167373], \"topics\": [1, 2, 3, 4, 5], \"cluster\": [1, 1, 1, 1, 1], \"Freq\": [31.927743911743164, 30.7311954498291, 16.727096557617188, 15.732937812805176, 4.881027698516846]}, \"tinfo\": {\"Category\": [\"Default\", \"Default\", \"Default\", \"Default\", \"Default\", \"Default\", \"Default\", \"Default\", \"Default\", \"Default\", \"Default\", \"Default\", \"Default\", \"Default\", \"Default\", \"Default\", \"Default\", \"Default\", \"Default\", \"Default\", \"Default\", \"Default\", \"Default\", \"Default\", \"Default\", \"Default\", \"Default\", \"Default\", \"Default\", \"Default\", \"Topic1\", \"Topic1\", \"Topic1\", \"Topic1\", \"Topic1\", \"Topic1\", \"Topic1\", \"Topic1\", \"Topic1\", \"Topic1\", \"Topic1\", \"Topic1\", \"Topic1\", \"Topic1\", \"Topic1\", \"Topic1\", \"Topic1\", \"Topic1\", \"Topic1\", \"Topic1\", \"Topic1\", \"Topic1\", \"Topic1\", \"Topic1\", \"Topic1\", \"Topic1\", \"Topic1\", \"Topic1\", \"Topic1\", \"Topic1\", \"Topic1\", \"Topic1\", \"Topic1\", \"Topic1\", \"Topic1\", \"Topic1\", \"Topic1\", \"Topic1\", \"Topic1\", \"Topic2\", \"Topic2\", \"Topic2\", \"Topic2\", \"Topic2\", \"Topic2\", \"Topic2\", \"Topic2\", \"Topic2\", \"Topic2\", \"Topic2\", \"Topic2\", \"Topic2\", \"Topic2\", \"Topic2\", \"Topic2\", \"Topic2\", \"Topic2\", \"Topic2\", \"Topic2\", \"Topic2\", \"Topic2\", \"Topic2\", \"Topic2\", \"Topic2\", \"Topic2\", \"Topic2\", \"Topic2\", \"Topic2\", \"Topic2\", \"Topic2\", \"Topic2\", \"Topic2\", \"Topic2\", \"Topic2\", \"Topic2\", \"Topic2\", \"Topic2\", \"Topic2\", \"Topic2\", \"Topic2\", \"Topic2\", \"Topic2\", \"Topic2\", \"Topic2\", \"Topic2\", \"Topic2\", \"Topic3\", \"Topic3\", \"Topic3\", \"Topic3\", \"Topic3\", \"Topic3\", \"Topic3\", \"Topic3\", \"Topic3\", \"Topic3\", \"Topic3\", \"Topic3\", \"Topic3\", \"Topic3\", \"Topic3\", \"Topic3\", \"Topic3\", \"Topic3\", \"Topic3\", \"Topic3\", \"Topic3\", \"Topic3\", \"Topic3\", \"Topic3\", \"Topic3\", \"Topic3\", \"Topic3\", \"Topic3\", \"Topic3\", \"Topic3\", \"Topic3\", \"Topic3\", \"Topic3\", \"Topic3\", \"Topic3\", \"Topic3\", \"Topic4\", \"Topic4\", \"Topic4\", \"Topic4\", \"Topic4\", \"Topic4\", \"Topic4\", \"Topic4\", \"Topic4\", \"Topic4\", \"Topic4\", \"Topic4\", \"Topic4\", \"Topic4\", \"Topic4\", \"Topic4\", \"Topic4\", \"Topic4\", \"Topic4\", \"Topic4\", \"Topic4\", \"Topic4\", \"Topic4\", \"Topic4\", \"Topic4\", \"Topic4\", \"Topic4\", \"Topic4\", \"Topic4\", \"Topic4\", \"Topic4\", \"Topic5\", \"Topic5\", \"Topic5\", \"Topic5\", \"Topic5\", \"Topic5\", \"Topic5\", \"Topic5\", \"Topic5\", \"Topic5\", \"Topic5\", \"Topic5\", \"Topic5\", \"Topic5\", \"Topic5\", \"Topic5\", \"Topic5\", \"Topic5\", \"Topic5\", \"Topic5\", \"Topic5\", \"Topic5\", \"Topic5\", \"Topic5\", \"Topic5\", \"Topic5\", \"Topic5\", \"Topic5\", \"Topic5\", \"Topic5\", \"Topic5\", \"Topic5\", \"Topic5\", \"Topic5\", \"Topic5\", \"Topic5\", \"Topic5\", \"Topic5\", \"Topic5\", \"Topic5\", \"Topic5\", \"Topic5\", \"Topic5\", \"Topic5\", \"Topic5\", \"Topic5\", \"Topic5\", \"Topic5\", \"Topic5\", \"Topic5\"], \"Freq\": [4.0, 1.0, 1.0, 2.0, 1.0, 1.0, 1.0, 2.0, 0.0, 0.0, 0.0, 0.0, 0.0, 0.0, 0.0, 3.0, 3.0, 2.0, 1.0, 1.0, 1.0, 1.0, 1.0, 1.0, 1.0, 1.0, 1.0, 1.0, 1.0, 1.0, 1.4900883436203003, 1.4900847673416138, 1.4900099039077759, 2.1673624515533447, 0.8127641081809998, 0.8127638697624207, 0.8127634525299072, 0.8127630949020386, 0.8127631545066833, 0.8127631545066833, 0.8127633333206177, 0.8127621412277222, 0.8127625584602356, 0.8127626180648804, 0.8127623796463013, 0.812759280204773, 0.8127590417861938, 0.8127590417861938, 0.8127590417861938, 0.8127557635307312, 0.8127554655075073, 0.8127555251121521, 0.8127554059028625, 0.8127554655075073, 0.8127553462982178, 0.8127554059028625, 0.8127368688583374, 0.8127336502075195, 0.812725305557251, 0.8127244114875793, 2.168231964111328, 1.4901562929153442, 2.8341047763824463, 1.4901847839355469, 2.845618724822998, 2.14093017578125, 1.3901374340057373, 0.8605668544769287, 0.8128307461738586, 1.499629259109497, 0.8180240392684937, 0.8180224895477295, 0.8180183172225952, 0.8180152773857117, 0.8180133700370789, 0.8180051445960999, 0.8180044889450073, 0.8180028200149536, 0.8180026412010193, 0.8180010914802551, 0.8179999589920044, 0.8179975152015686, 0.8179929256439209, 0.8179806470870972, 0.8179287910461426, 0.8178824186325073, 0.8178775906562805, 0.8178741931915283, 0.8178638815879822, 0.8178635835647583, 0.8178633451461792, 0.8178511261940002, 0.8178965449333191, 0.8178932666778564, 0.8178548812866211, 0.8178545832633972, 0.8178936839103699, 0.8178508877754211, 0.817891001701355, 1.4997977018356323, 1.499161720275879, 2.1822688579559326, 1.4999043941497803, 1.499640941619873, 0.8178750276565552, 0.8178701400756836, 0.818446159362793, 0.818321168422699, 0.8182969093322754, 0.8182542324066162, 0.8182418942451477, 0.8181928992271423, 0.8181700706481934, 0.8180431127548218, 0.8180294036865234, 0.8180177211761475, 1.1886084079742432, 0.6486511826515198, 0.6486511826515198, 0.6486511826515198, 0.6486511826515198, 0.6486511826515198, 0.648651123046875, 0.648651123046875, 0.648651123046875, 0.6486510634422302, 0.6485831141471863, 0.6485801935195923, 0.6485796570777893, 0.648568868637085, 0.648564338684082, 0.6485635042190552, 0.6485629081726074, 0.6485584378242493, 0.6485546827316284, 0.648551881313324, 0.6485480070114136, 0.6485347747802734, 0.6468842029571533, 0.6462612152099609, 0.6461232304573059, 0.6459330320358276, 0.6456606984138489, 0.6455584764480591, 0.6452143788337708, 0.6441794037818909, 1.1509019136428833, 0.648479163646698, 0.6488673686981201, 0.6486352682113647, 0.6486349701881409, 0.6484178304672241, 1.16658353805542, 1.1665806770324707, 0.636313796043396, 0.636313796043396, 0.636313796043396, 0.636313796043396, 0.636313796043396, 0.636313796043396, 0.6363139152526855, 0.6363137364387512, 0.6363137364387512, 0.636313796043396, 0.6363137364387512, 0.6363137364387512, 0.6363137364387512, 0.6363137364387512, 0.6363136172294617, 0.6363075375556946, 0.636307418346405, 0.6363072991371155, 0.6363072991371155, 0.6363069415092468, 1.1672883033752441, 1.1667468547821045, 0.636672854423523, 0.6366726756095886, 0.6363351345062256, 0.6363956332206726, 1.1679311990737915, 0.6363546252250671, 0.6365869641304016, 0.31797492504119873, 0.31796514987945557, 0.31795719265937805, 0.31795641779899597, 0.3179563581943512, 0.31795409321784973, 0.31794819235801697, 0.3180336654186249, 0.31803756952285767, 0.31823745369911194, 0.053003501147031784, 0.05300347879528999, 0.053003471344709396, 0.05300343036651611, 0.05300341919064522, 0.0530022494494915, 0.053002238273620605, 0.053002238273620605, 0.053002238273620605, 0.053002238273620605, 0.05300223454833031, 0.05300223454833031, 0.05300223454833031, 0.05300223454833031, 0.05300223454833031, 0.05300223454833031, 0.05300223454833031, 0.05300223454833031, 0.05300222709774971, 0.05300222337245941, 0.0530606172978878, 0.053041428327560425, 0.053040485829114914, 0.0530402809381485, 0.05304021015763283, 0.05304017290472984, 0.053038373589515686, 0.0530378557741642, 0.05303676798939705, 0.05303582176566124, 0.053035493940114975, 0.053035035729408264, 0.053034812211990356, 0.05303463712334633, 0.053034134209156036, 0.05303329601883888, 0.05303299054503441, 0.053033001720905304, 0.05303284153342247, 0.05303265526890755], \"Term\": [\"bcci\", \"creditor\", \"united\", \"bank\", \"ernst\", \"operation\", \"mahfouz\", \"amp\", \"uae\", \"group\", \"biggest\", \"emirate\", \"britain\", \"two\", \"arab\", \"claim\", \"million\", \"payment\", \"institut\", \"auditor\", \"merged\", \"luxembourgh\", \"firm\", \"monetaire\", \"still\", \"young\", \"outstanding\", \"whinney\", \"part\", \"luxembourgeois\", \"touche\", \"10\", \"percent\", \"claim\", \"deloitte\", \"made\", \"admitted\", \"total\", \"reportedly\", \"month\", \"16\", \"next\", \"deloite\", \"200\", \"english\", \"dollar\", \"making\", \"counter\", \"multi\", \"world\", \"attempt\", \"also\", \"suit\", \"pending\", \"law\", \"recover\", \"five\", \"equal\", \"receive\", \"65\", \"said\", \"payment\", \"liquidator\", \"5\", \"billion\", \"bcci\", \"paid\", \"million\", \"fee\", \"earlier\", \"stand\", \"0\", \"gross\", \"reached\", \"250\", \"majority\", \"course\", \"4\", \"fund\", \"following\", \"due\", \"includes\", \"government\", \"shareholder\", \"report\", \"conclusion\", \"tangled\", \"early\", \"show\", \"1972\", \"closed\", \"debt\", \"75\", \"high\", \"web\", \"sign\", \"ammounted\", \"reaching\", \"liquidation\", \"year\", \"bank\", \"billion\", \"million\", \"liquidator\", \"far\", \"legal\", \"paid\", \"amount\", \"around\", \"abu\", \"dhabi\", \"1\", \"recovered\", \"settlement\", \"massive\", \"pay\", \"mahfouz\", \"1995\", \"without\", \"luxembourg\", \"lawsuit\", \"dropped\", \"liability\", \"agreed\", \"admitting\", \"return\", \"paved\", \"effort\", \"resulted\", \"state\", \"first\", \"recovery\", \"way\", \"u\", \"500\", \"dividend\", \"authority\", \"addition\", \"bin\", \"245\", \"billionaire\", \"alleged\", \"scandal\", \"involved\", \"sheikh\", \"saudi\", \"million\", \"united\", \"court\", \"pay\", \"settlement\", \"payment\", \"ernst\", \"operation\", \"monetaire\", \"institut\", \"merged\", \"outstanding\", \"still\", \"auditor\", \"firm\", \"based\", \"accountancy\", \"luxembourgh\", \"england\", \"part\", \"whinney\", \"young\", \"luxembourgeois\", \"country\", \"asset\", \"71\", \"time\", \"collapse\", \"amp\", \"bank\", \"price\", \"waterhouse\", \"24\", \"international\", \"bcci\", \"claim\", \"liquidator\", \"uae\", \"group\", \"biggest\", \"britain\", \"emirate\", \"two\", \"arab\", \"united\", \"creditor\", \"bcci\", \"collapse\", \"time\", \"71\", \"asset\", \"country\", \"luxembourgeois\", \"still\", \"based\", \"whinney\", \"young\", \"auditor\", \"accountancy\", \"institut\", \"merged\", \"monetaire\", \"part\", \"england\", \"luxembourgh\", \"outstanding\", \"firm\", \"bank\", \"fraud\", \"leading\", \"debt\", \"founded\", \"unearthed\", \"commerce\", \"12\", \"tangled\", \"conclusion\", \"1991\", \"laundering\", \"show\", \"1972\", \"central\", \"early\", \"billion\", \"credit\", \"massive\", \"web\"], \"Total\": [4.0, 1.0, 1.0, 2.0, 1.0, 1.0, 1.0, 2.0, 0.0, 0.0, 0.0, 0.0, 0.0, 0.0, 0.0, 3.0, 3.0, 2.0, 1.0, 1.0, 1.0, 1.0, 1.0, 1.0, 1.0, 1.0, 1.0, 1.0, 1.0, 1.0, 1.893608570098877, 1.8936060667037964, 1.8935909271240234, 3.1011836528778076, 1.2162837982177734, 1.216283917427063, 1.2162834405899048, 1.2162832021713257, 1.2162832021713257, 1.2162832021713257, 1.2162835597991943, 1.216282606124878, 1.216283917427063, 1.216283917427063, 1.216283917427063, 1.216282606124878, 1.216282606124878, 1.216282606124878, 1.216282606124878, 1.2162812948226929, 1.2162812948226929, 1.2162814140319824, 1.2162812948226929, 1.2162814140319824, 1.2162812948226929, 1.2162814140319824, 1.2162790298461914, 1.2162781953811646, 1.2162765264511108, 1.2162762880325317, 3.2526252269744873, 2.434171438217163, 5.139777183532715, 2.575310230255127, 5.82403564453125, 4.57249641418457, 2.555203437805176, 3.6705126762390137, 1.8979873657226562, 1.9024218320846558, 1.2206977605819702, 1.2206977605819702, 1.2206978797912598, 1.2206977605819702, 1.2206977605819702, 1.2206976413726807, 1.2206977605819702, 1.2206977605819702, 1.2206977605819702, 1.2206975221633911, 1.2206977605819702, 1.2206975221633911, 1.2206975221633911, 1.2206974029541016, 1.220686435699463, 1.2206264734268188, 1.2206242084503174, 1.2206275463104248, 1.2206238508224487, 1.2206238508224487, 1.2206298112869263, 1.2206153869628906, 1.220684289932251, 1.2206809520721436, 1.2206242084503174, 1.220624327659607, 1.2206858396530151, 1.2206244468688965, 1.2206848859786987, 2.5797102451324463, 2.9627718925476074, 5.82403564453125, 3.6705126762390137, 5.139777183532715, 1.2206841707229614, 1.2206814289093018, 2.555203437805176, 1.8980034589767456, 1.898003339767456, 1.898004174232483, 1.8980042934417725, 1.8980050086975098, 1.8980048894882202, 1.7612481117248535, 1.8979339599609375, 1.7612481117248535, 1.6202285289764404, 1.0795236825942993, 1.0795236825942993, 1.0795236825942993, 1.0795236825942993, 1.0795236825942993, 1.0795236825942993, 1.0795238018035889, 1.0795236825942993, 1.0795238018035889, 1.0795252323150635, 1.0795255899429321, 1.0795260667800903, 1.0795259475708008, 1.0795260667800903, 1.0795255899429321, 1.0795259475708008, 1.0795252323150635, 1.0795276165008545, 1.0795261859893799, 1.0795259475708008, 1.0795276165008545, 1.0799682140350342, 1.0801256895065308, 1.0801606178283691, 1.080208659172058, 1.0802775621414185, 1.0803033113479614, 1.080390453338623, 1.0806522369384766, 3.6705126762390137, 1.3445074558258057, 1.7611851692199707, 1.7612481117248535, 1.7612481117248535, 2.434171438217163, 1.599509835243225, 1.5995094776153564, 1.0692400932312012, 1.0692400932312012, 1.0692400932312012, 1.0692400932312012, 1.0692400932312012, 1.0692400932312012, 1.0692402124404907, 1.0692400932312012, 1.0692400932312012, 1.0692402124404907, 1.0692400932312012, 1.0692400932312012, 1.0692400932312012, 1.0692400932312012, 1.0692400932312012, 1.0692392587661743, 1.0692391395568848, 1.0692391395568848, 1.0692391395568848, 1.0692392587661743, 2.2766213417053223, 2.9627718925476074, 1.7464462518692017, 1.7464463710784912, 1.7465399503707886, 1.7508710622787476, 4.57249641418457, 3.1011836528778076, 5.139777183532715, 0.8040188550949097, 0.8040290474891663, 0.80403733253479, 0.8040381669998169, 0.8040382266044617, 0.8040406107902527, 0.804046630859375, 1.3445074558258057, 1.4811985492706299, 4.57249641418457, 1.0692392587661743, 1.0692391395568848, 1.0692391395568848, 1.0692391395568848, 1.0692392587661743, 1.0692400932312012, 1.0692400932312012, 1.0692400932312012, 1.0692400932312012, 1.0692400932312012, 1.0692400932312012, 1.0692400932312012, 1.0692400932312012, 1.0692400932312012, 1.0692400932312012, 1.0692400932312012, 1.0692400932312012, 1.0692402124404907, 1.0692400932312012, 1.0692402124404907, 2.9627718925476074, 1.8979068994522095, 1.2206097841262817, 1.2206153869628906, 1.2206075191497803, 1.2206127643585205, 1.2206120491027832, 1.8979284763336182, 1.2206242084503174, 1.2206264734268188, 1.220617651939392, 1.2206172943115234, 1.2206238508224487, 1.2206238508224487, 1.2206178903579712, 1.2206275463104248, 5.82403564453125, 1.2206217050552368, 1.8979339599609375, 1.2206242084503174], \"loglift\": [30.0, 29.0, 28.0, 27.0, 26.0, 25.0, 24.0, 23.0, 22.0, 21.0, 20.0, 19.0, 18.0, 17.0, 16.0, 15.0, 14.0, 13.0, 12.0, 11.0, 10.0, 9.0, 8.0, 7.0, 6.0, 5.0, 4.0, 3.0, 2.0, 1.0, 0.9020000100135803, 0.9020000100135803, 0.9020000100135803, 0.7833999991416931, 0.7386000156402588, 0.7386000156402588, 0.7386000156402588, 0.7386000156402588, 0.7386000156402588, 0.7386000156402588, 0.7386000156402588, 0.7386000156402588, 0.7386000156402588, 0.7386000156402588, 0.7386000156402588, 0.7386000156402588, 0.7386000156402588, 0.7386000156402588, 0.7386000156402588, 0.7386000156402588, 0.7386000156402588, 0.7386000156402588, 0.7386000156402588, 0.7386000156402588, 0.7386000156402588, 0.7386000156402588, 0.7386000156402588, 0.7384999990463257, 0.7384999990463257, 0.7384999990463257, 0.7361000180244446, 0.6510000228881836, 0.5464000105857849, 0.5946000218391418, 0.4255000054836273, 0.3828999996185303, 0.5329999923706055, -0.30880001187324524, 0.2937000095844269, 0.9419999718666077, 0.7796000242233276, 0.7796000242233276, 0.7796000242233276, 0.7796000242233276, 0.7796000242233276, 0.7796000242233276, 0.7796000242233276, 0.7796000242233276, 0.7796000242233276, 0.7796000242233276, 0.7796000242233276, 0.7796000242233276, 0.7796000242233276, 0.7796000242233276, 0.7795000076293945, 0.7795000076293945, 0.7795000076293945, 0.7795000076293945, 0.7795000076293945, 0.7795000076293945, 0.7795000076293945, 0.7795000076293945, 0.7795000076293945, 0.7795000076293945, 0.7795000076293945, 0.7795000076293945, 0.7795000076293945, 0.7795000076293945, 0.7795000076293945, 0.637499988079071, 0.49869999289512634, 0.19830000400543213, 0.2849999964237213, -0.051899999380111694, 0.7793999910354614, 0.7793999910354614, 0.0414000004529953, 0.3386000096797943, 0.3386000096797943, 0.3384999930858612, 0.3384999930858612, 0.3384000062942505, 0.3384000062942505, 0.4129999876022339, 0.3382999897003174, 0.4129999876022339, 1.4783999919891357, 1.2788000106811523, 1.2788000106811523, 1.2788000106811523, 1.2788000106811523, 1.2788000106811523, 1.2788000106811523, 1.2788000106811523, 1.2788000106811523, 1.2788000106811523, 1.2786999940872192, 1.2785999774932861, 1.2785999774932861, 1.2785999774932861, 1.2785999774932861, 1.2785999774932861, 1.2785999774932861, 1.2785999774932861, 1.2785999774932861, 1.2785999774932861, 1.2785999774932861, 1.2785999774932861, 1.2755999565124512, 1.2745000123977661, 1.2742999792099, 1.273900032043457, 1.2733999490737915, 1.273300051689148, 1.2726000547409058, 1.270799994468689, 0.6284000277519226, 1.059000015258789, 0.7896000146865845, 0.7892000079154968, 0.7892000079154968, 0.4652999937534332, 1.5338000059127808, 1.5338000059127808, 1.330399990081787, 1.330399990081787, 1.330399990081787, 1.330399990081787, 1.330399990081787, 1.330399990081787, 1.330399990081787, 1.330399990081787, 1.330399990081787, 1.330399990081787, 1.330399990081787, 1.330399990081787, 1.330399990081787, 1.330399990081787, 1.330399990081787, 1.330399990081787, 1.330399990081787, 1.330399990081787, 1.330399990081787, 1.330399990081787, 1.181399941444397, 0.9175000190734863, 0.8403000235557556, 0.8403000235557556, 0.8396999835968018, 0.8374000191688538, 0.4846000075340271, 0.2655999958515167, -0.23919999599456787, 2.0922000408172607, 2.092099905014038, 2.092099905014038, 2.092099905014038, 2.092099905014038, 2.092099905014038, 2.0920000076293945, 1.5781999826431274, 1.4814000129699707, 0.3547999858856201, 0.01549999974668026, 0.01549999974668026, 0.01549999974668026, 0.01549999974668026, 0.01549999974668026, 0.015399999916553497, 0.015399999916553497, 0.015399999916553497, 0.015399999916553497, 0.015399999916553497, 0.015399999916553497, 0.015399999916553497, 0.015399999916553497, 0.015399999916553497, 0.015399999916553497, 0.015399999916553497, 0.015399999916553497, 0.015399999916553497, 0.015399999916553497, 0.015399999916553497, -1.0025999546051025, -0.5576000213623047, -0.11620000004768372, -0.11620000004768372, -0.11620000004768372, -0.11620000004768372, -0.11630000174045563, -0.557699978351593, -0.11630000174045563, -0.11630000174045563, -0.11630000174045563, -0.11630000174045563, -0.11640000343322754, -0.11640000343322754, -0.11640000343322754, -0.11640000343322754, -1.6790000200271606, -0.11640000343322754, -0.5577999949455261, -0.11640000343322754], \"logprob\": [30.0, 29.0, 28.0, 27.0, 26.0, 25.0, 24.0, 23.0, 22.0, 21.0, 20.0, 19.0, 18.0, 17.0, 16.0, 15.0, 14.0, 13.0, 12.0, 11.0, 10.0, 9.0, 8.0, 7.0, 6.0, 5.0, 4.0, 3.0, 2.0, 1.0, -3.9400999546051025, -3.9400999546051025, -3.940200090408325, -3.5653998851776123, -4.546299934387207, -4.546299934387207, -4.546299934387207, -4.546299934387207, -4.546299934387207, -4.546299934387207, -4.546299934387207, -4.546299934387207, -4.546299934387207, -4.546299934387207, -4.546299934387207, -4.546299934387207, -4.546299934387207, -4.546299934387207, -4.546299934387207, -4.546299934387207, -4.546299934387207, -4.546299934387207, -4.546299934387207, -4.546299934387207, -4.546299934387207, -4.546299934387207, -4.546299934387207, -4.546299934387207, -4.546299934387207, -4.546299934387207, -3.565000057220459, -3.9400999546051025, -3.2971999645233154, -3.940000057220459, -3.2932000160217285, -3.577699899673462, -4.009500026702881, -4.489099979400635, -4.546199798583984, -3.8954999446868896, -4.5015997886657715, -4.5015997886657715, -4.5015997886657715, -4.5015997886657715, -4.5015997886657715, -4.5015997886657715, -4.5015997886657715, -4.5015997886657715, -4.5015997886657715, -4.5015997886657715, -4.5015997886657715, -4.5015997886657715, -4.5015997886657715, -4.501699924468994, -4.501699924468994, -4.501800060272217, -4.501800060272217, -4.501800060272217, -4.501800060272217, -4.501800060272217, -4.501800060272217, -4.501800060272217, -4.501800060272217, -4.501800060272217, -4.501800060272217, -4.501800060272217, -4.501800060272217, -4.501800060272217, -4.501800060272217, -3.895400047302246, -3.8958001136779785, -3.520400047302246, -3.8952999114990234, -3.8954999446868896, -4.501800060272217, -4.501800060272217, -4.501100063323975, -4.501200199127197, -4.501299858093262, -4.501299858093262, -4.501299858093262, -4.501399993896484, -4.501399993896484, -4.5015997886657715, -4.5015997886657715, -4.5015997886657715, -3.519700050354004, -4.125400066375732, -4.125400066375732, -4.125400066375732, -4.125400066375732, -4.125400066375732, -4.125400066375732, -4.125400066375732, -4.125400066375732, -4.125400066375732, -4.125500202178955, -4.125500202178955, -4.125500202178955, -4.125500202178955, -4.125500202178955, -4.125500202178955, -4.125500202178955, -4.125500202178955, -4.125500202178955, -4.125500202178955, -4.125500202178955, -4.125500202178955, -4.1280999183654785, -4.1290998458862305, -4.129300117492676, -4.1296000480651855, -4.130000114440918, -4.130099773406982, -4.13070011138916, -4.132299900054932, -3.552000045776367, -4.1255998611450195, -4.125, -4.125400066375732, -4.125400066375732, -4.125699996948242, -3.477099895477295, -3.477099895477295, -4.0833001136779785, -4.0833001136779785, -4.0833001136779785, -4.0833001136779785, -4.0833001136779785, -4.0833001136779785, -4.0833001136779785, -4.0833001136779785, -4.0833001136779785, -4.0833001136779785, -4.0833001136779785, -4.0833001136779785, -4.0833001136779785, -4.0833001136779785, -4.0833001136779785, -4.0833001136779785, -4.0833001136779785, -4.0833001136779785, -4.0833001136779785, -4.0833001136779785, -3.4765000343322754, -3.4769999980926514, -4.082699775695801, -4.082699775695801, -4.0833001136779785, -4.083199977874756, -3.4760000705718994, -4.083199977874756, -4.082900047302246, -3.606600046157837, -3.606600046157837, -3.6066999435424805, -3.6066999435424805, -3.6066999435424805, -3.6066999435424805, -3.6066999435424805, -3.6064000129699707, -3.6064000129699707, -3.605799913406372, -5.398200035095215, -5.398200035095215, -5.398200035095215, -5.398200035095215, -5.398200035095215, -5.398200035095215, -5.398200035095215, -5.398200035095215, -5.398200035095215, -5.398200035095215, -5.398200035095215, -5.398200035095215, -5.398200035095215, -5.398200035095215, -5.398200035095215, -5.398200035095215, -5.398200035095215, -5.398200035095215, -5.398200035095215, -5.398200035095215, -5.39709997177124, -5.397500038146973, -5.397500038146973, -5.397500038146973, -5.397500038146973, -5.397500038146973, -5.397600173950195, -5.397600173950195, -5.397600173950195, -5.397600173950195, -5.397600173950195, -5.397600173950195, -5.397600173950195, -5.397600173950195, -5.397600173950195, -5.39769983291626, -5.39769983291626, -5.39769983291626, -5.39769983291626, -5.39769983291626]}, \"token.table\": {\"Topic\": [2, 1, 2, 1, 1, 2, 1, 2, 2, 3, 1, 1, 4, 3, 2, 2, 1, 2, 3, 1, 4, 2, 1, 2, 4, 3, 1, 3, 3, 3, 1, 2, 1, 2, 1, 4, 1, 2, 4, 1, 4, 3, 2, 4, 4, 1, 2, 4, 1, 2, 4, 3, 3, 2, 1, 4, 2, 4, 2, 2, 1, 4, 2, 2, 3, 2, 1, 2, 1, 1, 1, 2, 3, 1, 3, 2, 2, 2, 3, 4, 1, 1, 4, 2, 1, 2, 4, 3, 1, 2, 2, 1, 2, 2, 2, 2, 2, 2, 4, 2, 4, 3, 2, 1, 3, 2, 2, 3, 2, 1, 2, 4, 3, 4, 4, 1, 3, 2, 1, 1, 2, 4, 1, 2, 3, 4, 1, 1, 1, 4, 4, 1, 2, 4, 3, 2, 3, 1, 3, 1, 1, 1, 4, 2, 2, 1, 1, 1, 2, 3, 2, 1, 3, 3, 1, 2, 3, 3, 2, 3, 2, 3, 2, 2, 2, 3, 4, 1, 2, 4, 1, 1, 3, 2, 3, 1, 4, 3, 2, 4, 3, 1, 1, 2, 4], \"Freq\": [0.8192036151885986, 0.526868999004364, 0.526868999004364, 0.5280929207801819, 0.526890218257904, 0.526890218257904, 0.8221766948699951, 0.8192532062530518, 0.819257378578186, 0.9263345003128052, 0.822176456451416, 0.5725606083869934, 0.5725606083869934, 0.9258182048797607, 0.8192036151885986, 0.8192036151885986, 0.388302743434906, 0.388302743434906, 0.926331102848053, 0.8221816420555115, 0.9352445006370544, 0.8192126154899597, 0.5268692374229431, 0.5268692374229431, 0.9352436661720276, 0.926331102848053, 0.8221767544746399, 0.9263345003128052, 0.9263343811035156, 0.9257470965385437, 0.8221781253814697, 0.8192116022109985, 0.5268694162368774, 0.5268694162368774, 0.43924739956855774, 0.43924739956855774, 0.5268694758415222, 0.5268694758415222, 0.9352445006370544, 0.8221782445907593, 0.9352436661720276, 0.9263325333595276, 0.3375217616558075, 0.3375217616558075, 0.9352436661720276, 0.437397837638855, 0.2186989188194275, 0.2186989188194275, 0.515106737613678, 0.34340450167655945, 0.17170225083827972, 0.9257882237434387, 0.9259531497955322, 0.8192571997642517, 0.6449150443077087, 0.32245752215385437, 0.8192492127418518, 0.9352443814277649, 0.8192611336708069, 0.8192514181137085, 0.8221773505210876, 0.9352443814277649, 0.8192036151885986, 0.56779944896698, 0.56779944896698, 0.8192546367645264, 0.6751289367675781, 0.8192588686943054, 0.822176456451416, 0.8221765160560608, 0.5268691778182983, 0.5268691778182983, 0.9263322949409485, 0.8221773505210876, 0.9263345003128052, 0.8192036151885986, 0.5256457924842834, 0.8192507028579712, 0.9263328313827515, 0.9352436661720276, 0.822176456451416, 0.8221803307533264, 0.6251915097236633, 0.8192127346992493, 0.5268738865852356, 0.5268738865852356, 0.935243546962738, 0.926332414150238, 0.8221797347068787, 0.8192037343978882, 0.8192641735076904, 0.5268962383270264, 0.5268962383270264, 0.8192036151885986, 0.8192037343978882, 0.8192034959793091, 0.8192148804664612, 0.8192037343978882, 0.9352436661720276, 0.5711442828178406, 0.5711442828178406, 0.9256659746170044, 0.8192576169967651, 0.8221782445907593, 0.9263345003128052, 0.8192626237869263, 0.8192145824432373, 0.9263345003128052, 0.8192122578620911, 0.5836828947067261, 0.1945609599351883, 0.1945609599351883, 0.9263345003128052, 0.9352436661720276, 0.935243546962738, 0.822176456451416, 0.6171968579292297, 0.8192036747932434, 0.8221773505210876, 0.5268887281417847, 0.5268887281417847, 0.9352436661720276, 0.2724415063858032, 0.2724415063858032, 0.2724415063858032, 0.9352436661720276, 0.8221769332885742, 0.8221773505210876, 0.8221773505210876, 0.6251916885375977, 0.9352436661720276, 0.39135825634002686, 0.39135825634002686, 0.9352436661720276, 0.9263331294059753, 0.5677791833877563, 0.5677791833877563, 0.410817414522171, 0.410817414522171, 0.8221781253814697, 0.5280971527099609, 0.5725913643836975, 0.5725913643836975, 0.8192036151885986, 0.8192527890205383, 0.8221814632415771, 0.8221781253814697, 0.5268690586090088, 0.5268690586090088, 0.9263328313827515, 0.8192111849784851, 0.8221769332885742, 0.926332414150238, 0.9263343811035156, 0.6148879528045654, 0.3074439764022827, 0.9253670573234558, 0.9256880283355713, 0.5677791833877563, 0.5677791833877563, 0.8192038536071777, 0.9255912899971008, 0.8192532062530518, 0.8192529082298279, 0.8192036151885986, 0.9263325333595276, 0.9352436661720276, 0.8221782445907593, 0.8192529678344727, 0.9352445006370544, 0.8221769332885742, 0.5280922651290894, 0.9263331294059753, 0.8192606568336487, 0.7437667846679688, 0.5725913047790527, 0.5725913047790527, 0.9263325333595276, 0.8192529678344727, 0.9352436661720276, 0.9263345003128052, 0.8221782445907593, 0.38764044642448425, 0.38764044642448425, 0.9352436661720276], \"Term\": [\"0\", \"1\", \"1\", \"10\", \"12\", \"12\", \"16\", \"1972\", \"1991\", \"1995\", \"200\", \"24\", \"24\", \"245\", \"250\", \"4\", \"5\", \"5\", \"500\", \"65\", \"71\", \"75\", \"abu\", \"abu\", \"accountancy\", \"addition\", \"admitted\", \"admitting\", \"agreed\", \"alleged\", \"also\", \"ammounted\", \"amount\", \"amount\", \"amp\", \"amp\", \"around\", \"around\", \"asset\", \"attempt\", \"auditor\", \"authority\", \"bank\", \"bank\", \"based\", \"bcci\", \"bcci\", \"bcci\", \"billion\", \"billion\", \"billion\", \"billionaire\", \"bin\", \"central\", \"claim\", \"claim\", \"closed\", \"collapse\", \"commerce\", \"conclusion\", \"counter\", \"country\", \"course\", \"court\", \"court\", \"credit\", \"creditor\", \"debt\", \"deloite\", \"deloitte\", \"dhabi\", \"dhabi\", \"dividend\", \"dollar\", \"dropped\", \"due\", \"earlier\", \"early\", \"effort\", \"england\", \"english\", \"equal\", \"ernst\", \"far\", \"fee\", \"fee\", \"firm\", \"first\", \"five\", \"following\", \"founded\", \"fraud\", \"fraud\", \"fund\", \"government\", \"gross\", \"high\", \"includes\", \"institut\", \"international\", \"international\", \"involved\", \"laundering\", \"law\", \"lawsuit\", \"leading\", \"legal\", \"liability\", \"liquidation\", \"liquidator\", \"liquidator\", \"liquidator\", \"luxembourg\", \"luxembourgeois\", \"luxembourgh\", \"made\", \"mahfouz\", \"majority\", \"making\", \"massive\", \"massive\", \"merged\", \"million\", \"million\", \"million\", \"monetaire\", \"month\", \"multi\", \"next\", \"operation\", \"outstanding\", \"paid\", \"paid\", \"part\", \"paved\", \"pay\", \"pay\", \"payment\", \"payment\", \"pending\", \"percent\", \"price\", \"price\", \"reached\", \"reaching\", \"receive\", \"recover\", \"recovered\", \"recovered\", \"recovery\", \"report\", \"reportedly\", \"resulted\", \"return\", \"said\", \"said\", \"saudi\", \"scandal\", \"settlement\", \"settlement\", \"shareholder\", \"sheikh\", \"show\", \"sign\", \"stand\", \"state\", \"still\", \"suit\", \"tangled\", \"time\", \"total\", \"touche\", \"u\", \"unearthed\", \"united\", \"waterhouse\", \"waterhouse\", \"way\", \"web\", \"whinney\", \"without\", \"world\", \"year\", \"year\", \"young\"]}, \"R\": 30, \"lambda.step\": 0.01, \"plot.opts\": {\"xlab\": \"PC1\", \"ylab\": \"PC2\"}, \"topic.order\": [4, 1, 3, 5, 2]};\n",
       "\n",
       "function LDAvis_load_lib(url, callback){\n",
       "  var s = document.createElement('script');\n",
       "  s.src = url;\n",
       "  s.async = true;\n",
       "  s.onreadystatechange = s.onload = callback;\n",
       "  s.onerror = function(){console.warn(\"failed to load library \" + url);};\n",
       "  document.getElementsByTagName(\"head\")[0].appendChild(s);\n",
       "}\n",
       "\n",
       "if(typeof(LDAvis) !== \"undefined\"){\n",
       "   // already loaded: just create the visualization\n",
       "   !function(LDAvis){\n",
       "       new LDAvis(\"#\" + \"ldavis_el78441125119756164185528082\", ldavis_el78441125119756164185528082_data);\n",
       "   }(LDAvis);\n",
       "}else if(typeof define === \"function\" && define.amd){\n",
       "   // require.js is available: use it to load d3/LDAvis\n",
       "   require.config({paths: {d3: \"https://cdnjs.cloudflare.com/ajax/libs/d3/3.5.5/d3.min\"}});\n",
       "   require([\"d3\"], function(d3){\n",
       "      window.d3 = d3;\n",
       "      LDAvis_load_lib(\"https://cdn.rawgit.com/bmabey/pyLDAvis/files/ldavis.v1.0.0.js\", function(){\n",
       "        new LDAvis(\"#\" + \"ldavis_el78441125119756164185528082\", ldavis_el78441125119756164185528082_data);\n",
       "      });\n",
       "    });\n",
       "}else{\n",
       "    // require.js not available: dynamically load d3 & LDAvis\n",
       "    LDAvis_load_lib(\"https://cdnjs.cloudflare.com/ajax/libs/d3/3.5.5/d3.min.js\", function(){\n",
       "         LDAvis_load_lib(\"https://cdn.rawgit.com/bmabey/pyLDAvis/files/ldavis.v1.0.0.js\", function(){\n",
       "                 new LDAvis(\"#\" + \"ldavis_el78441125119756164185528082\", ldavis_el78441125119756164185528082_data);\n",
       "            })\n",
       "         });\n",
       "}\n",
       "</script>"
      ],
      "text/plain": [
       "PreparedData(topic_coordinates=              x         y  topics  cluster       Freq\n",
       "topic                                                \n",
       "3      0.099479 -0.000585       1        1  31.927744\n",
       "0      0.036863 -0.099015       2        1  30.731195\n",
       "2     -0.137009 -0.011133       3        1  16.727097\n",
       "4      0.022386  0.104023       4        1  15.732938\n",
       "1     -0.021719  0.006711       5        1   4.881028, topic_info=    Category      Freq            Term     Total  loglift  logprob\n",
       "4    Default  4.000000            bcci  4.000000  30.0000  30.0000\n",
       "8    Default  1.000000        creditor  1.000000  29.0000  29.0000\n",
       "100  Default  1.000000          united  1.000000  28.0000  28.0000\n",
       "26   Default  2.000000            bank  2.000000  27.0000  27.0000\n",
       "128  Default  1.000000           ernst  1.000000  26.0000  26.0000\n",
       "52   Default  1.000000       operation  1.000000  25.0000  25.0000\n",
       "109  Default  1.000000         mahfouz  1.000000  24.0000  24.0000\n",
       "124  Default  2.000000             amp  2.000000  23.0000  23.0000\n",
       "159  Default  0.000000             uae  0.000000  22.0000  22.0000\n",
       "157  Default  0.000000           group  0.000000  21.0000  21.0000\n",
       "154  Default  0.000000         biggest  0.000000  20.0000  20.0000\n",
       "156  Default  0.000000         emirate  0.000000  19.0000  19.0000\n",
       "155  Default  0.000000         britain  0.000000  18.0000  18.0000\n",
       "158  Default  0.000000             two  0.000000  17.0000  17.0000\n",
       "153  Default  0.000000            arab  0.000000  16.0000  16.0000\n",
       "6    Default  3.000000           claim  3.000000  15.0000  15.0000\n",
       "81   Default  3.000000         million  3.000000  14.0000  14.0000\n",
       "14   Default  2.000000         payment  2.000000  13.0000  13.0000\n",
       "130  Default  1.000000        institut  1.000000  12.0000  12.0000\n",
       "125  Default  1.000000         auditor  1.000000  11.0000  11.0000\n",
       "133  Default  1.000000          merged  1.000000  10.0000  10.0000\n",
       "132  Default  1.000000     luxembourgh  1.000000   9.0000   9.0000\n",
       "129  Default  1.000000            firm  1.000000   8.0000   8.0000\n",
       "134  Default  1.000000       monetaire  1.000000   7.0000   7.0000\n",
       "138  Default  1.000000           still  1.000000   6.0000   6.0000\n",
       "141  Default  1.000000           young  1.000000   5.0000   5.0000\n",
       "135  Default  1.000000     outstanding  1.000000   4.0000   4.0000\n",
       "140  Default  1.000000         whinney  1.000000   3.0000   3.0000\n",
       "136  Default  1.000000            part  1.000000   2.0000   2.0000\n",
       "131  Default  1.000000  luxembourgeois  1.000000   1.0000   1.0000\n",
       "..       ...       ...             ...       ...      ...      ...\n",
       "125   Topic5  0.053002         auditor  1.069240   0.0154  -5.3982\n",
       "123   Topic5  0.053002     accountancy  1.069240   0.0154  -5.3982\n",
       "130   Topic5  0.053002        institut  1.069240   0.0154  -5.3982\n",
       "133   Topic5  0.053002          merged  1.069240   0.0154  -5.3982\n",
       "134   Topic5  0.053002       monetaire  1.069240   0.0154  -5.3982\n",
       "136   Topic5  0.053002            part  1.069240   0.0154  -5.3982\n",
       "127   Topic5  0.053002         england  1.069240   0.0154  -5.3982\n",
       "132   Topic5  0.053002     luxembourgh  1.069240   0.0154  -5.3982\n",
       "135   Topic5  0.053002     outstanding  1.069240   0.0154  -5.3982\n",
       "129   Topic5  0.053002            firm  1.069240   0.0154  -5.3982\n",
       "26    Topic5  0.053061            bank  2.962772  -1.0026  -5.3971\n",
       "11    Topic5  0.053041           fraud  1.897907  -0.5576  -5.3975\n",
       "38    Topic5  0.053040         leading  1.220610  -0.1162  -5.3975\n",
       "32    Topic5  0.053040            debt  1.220615  -0.1162  -5.3975\n",
       "35    Topic5  0.053040         founded  1.220608  -0.1162  -5.3975\n",
       "46    Topic5  0.053040       unearthed  1.220613  -0.1162  -5.3975\n",
       "29    Topic5  0.053038        commerce  1.220612  -0.1163  -5.3976\n",
       "23    Topic5  0.053038              12  1.897928  -0.5577  -5.3976\n",
       "45    Topic5  0.053037         tangled  1.220624  -0.1163  -5.3976\n",
       "30    Topic5  0.053036      conclusion  1.220626  -0.1163  -5.3976\n",
       "25    Topic5  0.053035            1991  1.220618  -0.1163  -5.3976\n",
       "37    Topic5  0.053035      laundering  1.220617  -0.1163  -5.3976\n",
       "43    Topic5  0.053035            show  1.220624  -0.1164  -5.3976\n",
       "24    Topic5  0.053035            1972  1.220624  -0.1164  -5.3976\n",
       "27    Topic5  0.053034         central  1.220618  -0.1164  -5.3976\n",
       "33    Topic5  0.053033           early  1.220628  -0.1164  -5.3977\n",
       "5     Topic5  0.053033         billion  5.824036  -1.6790  -5.3977\n",
       "31    Topic5  0.053033          credit  1.220622  -0.1164  -5.3977\n",
       "40    Topic5  0.053033         massive  1.897934  -0.5578  -5.3977\n",
       "47    Topic5  0.053033             web  1.220624  -0.1164  -5.3977\n",
       "\n",
       "[233 rows x 6 columns], token_table=      Topic      Freq         Term\n",
       "term                              \n",
       "64        2  0.819204            0\n",
       "65        1  0.526869            1\n",
       "65        2  0.526869            1\n",
       "54        1  0.528093           10\n",
       "23        1  0.526890           12\n",
       "23        2  0.526890           12\n",
       "55        1  0.822177           16\n",
       "24        2  0.819253         1972\n",
       "25        2  0.819257         1991\n",
       "113       3  0.926335         1995\n",
       "160       1  0.822176          200\n",
       "1         1  0.572561           24\n",
       "1         4  0.572561           24\n",
       "102       3  0.925818          245\n",
       "66        2  0.819204          250\n",
       "67        2  0.819204            4\n",
       "2         1  0.388303            5\n",
       "2         2  0.388303            5\n",
       "89        3  0.926331          500\n",
       "3         1  0.822182           65\n",
       "48        4  0.935245           71\n",
       "164       2  0.819213           75\n",
       "68        1  0.526869          abu\n",
       "68        2  0.526869          abu\n",
       "123       4  0.935244  accountancy\n",
       "90        3  0.926331     addition\n",
       "56        1  0.822177     admitted\n",
       "114       3  0.926335    admitting\n",
       "115       3  0.926334       agreed\n",
       "103       3  0.925747      alleged\n",
       "...     ...       ...          ...\n",
       "18        2  0.307444         said\n",
       "110       3  0.925367        saudi\n",
       "111       3  0.925688      scandal\n",
       "86        2  0.567779   settlement\n",
       "86        3  0.567779   settlement\n",
       "87        2  0.819204  shareholder\n",
       "112       3  0.925591       sheikh\n",
       "43        2  0.819253         show\n",
       "44        2  0.819253         sign\n",
       "88        2  0.819204        stand\n",
       "98        3  0.926333        state\n",
       "138       4  0.935244        still\n",
       "151       1  0.822178         suit\n",
       "45        2  0.819253      tangled\n",
       "53        4  0.935245         time\n",
       "62        1  0.822177        total\n",
       "63        1  0.528092       touche\n",
       "99        3  0.926333            u\n",
       "46        2  0.819261    unearthed\n",
       "100       3  0.743767       united\n",
       "139       1  0.572591   waterhouse\n",
       "139       4  0.572591   waterhouse\n",
       "101       3  0.926333          way\n",
       "47        2  0.819253          web\n",
       "140       4  0.935244      whinney\n",
       "122       3  0.926335      without\n",
       "152       1  0.822178        world\n",
       "22        1  0.387640         year\n",
       "22        2  0.387640         year\n",
       "141       4  0.935244        young\n",
       "\n",
       "[185 rows x 3 columns], R=30, lambda_step=0.01, plot_opts={'xlab': 'PC1', 'ylab': 'PC2'}, topic_order=[4, 1, 3, 5, 2])"
      ]
     },
     "execution_count": 13,
     "metadata": {},
     "output_type": "execute_result"
    }
   ],
   "source": [
    "# Visualize the topics\n",
    "import pyLDAvis\n",
    "import pyLDAvis.gensim\n",
    "pyLDAvis.enable_notebook()\n",
    "vis = pyLDAvis.gensim.prepare(ldamodel, corpus, dictionary)\n",
    "vis"
   ]
  },
  {
   "cell_type": "markdown",
   "metadata": {},
   "source": [
    "<img src=\"../images/icon/quiz.png\" alt=\"Concept-Alert\" style=\"width: 100px;float:left; margin-right:15px\"/>\n",
    "<br /> \n",
    "\n",
    "## Topic Modelling\n",
    "***\n",
    "\n",
    "Q1. What percentage of the total statements are correct with regards to Topic Modeling?\n",
    "```python\n",
    "1. It is a supervised learning technique\n",
    "2. LDA (Linear Discriminant Analysis) can be used to perform topic modeling\n",
    "3. Selection of number of topics in a model does not depend on the size of data\n",
    "4. Number of topic terms are directly proportional to size of the data\n",
    "A) 0\n",
    "B) 25\n",
    "C) 50\n",
    "D) 75\n",
    "E) 100\n",
    "\n",
    "Solution: (A)\n",
    "\n",
    "LDA is unsupervised learning model, LDA is latent Dirichlet allocation, not Linear discriminant analysis. Selection of the number of topics is directly proportional to the size of the data, while number of topic terms is not directly proportional to the size of the data. Hence none of the statements are correct.\n",
    "```\n",
    "\n",
    "Q2. In Latent Dirichlet Allocation model for text classification purposes, what does alpha and beta hyperparameter represent-\n",
    "```python\n",
    "A) Alpha: number of topics within documents, beta: number of terms within topics False\n",
    "B) Alpha: density of terms generated within topics, beta: density of topics generated within terms False\n",
    "C) Alpha: number of topics within documents, beta: number of terms within topics False\n",
    "D) Alpha: density of topics generated within documents, beta: density of terms generated within topics True\n",
    "\n",
    "Solution: (D)\n",
    "```\n",
    "Q3. Social Media platforms are the most intuitive form of text data. You are given a corpus of complete social media data of tweets. How can you create a model that suggests the hashtags?\n",
    "```python\n",
    "A) Perform Topic Models to obtain most significant words of the corpus\n",
    "B) Train a Bag of Ngrams model to capture top n-grams – words and their combinations\n",
    "C) Train a word2vector model to learn repeating contexts in the sentences\n",
    "D) All of these\n",
    "\n",
    "Solution: (D)\n",
    "\n",
    "All of the techniques can be used to extract most significant terms of a corpus.\n",
    "```\n"
   ]
  },
  {
   "cell_type": "code",
   "execution_count": null,
   "metadata": {},
   "outputs": [],
   "source": []
  }
 ],
 "metadata": {
  "kernelspec": {
   "display_name": "Python 3",
   "language": "python",
   "name": "python3"
  },
  "language_info": {
   "codemirror_mode": {
    "name": "ipython",
    "version": 3
   },
   "file_extension": ".py",
   "mimetype": "text/x-python",
   "name": "python",
   "nbconvert_exporter": "python",
   "pygments_lexer": "ipython3",
   "version": "3.7.3"
  }
 },
 "nbformat": 4,
 "nbformat_minor": 2
}
