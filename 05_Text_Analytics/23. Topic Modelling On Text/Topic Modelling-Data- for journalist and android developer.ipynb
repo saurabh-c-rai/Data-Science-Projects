{
 "cells": [
  {
   "cell_type": "code",
   "execution_count": null,
   "metadata": {},
   "outputs": [],
   "source": [
    "#!python -m spacy download en\n",
    "#nltk.download('stopwords') # run this one time"
   ]
  },
  {
   "cell_type": "markdown",
   "metadata": {},
   "source": [
    "### Resume tailoring\n",
    "\n",
    "A company has a requirement for two job roles i.e Android Developer and Journalist. And your manager wants you to do some basic analysis for him.\n",
    "\n",
    "For most job openings, a particular skill set is desired to perform specific tasks. Tailoring your resume is about recognizing those skills and responsibilities on the job description and making it obvious that you’re up to the task. Your company's goal is to draw the shortest line possible between your experience and what’s stated in the job description.\n",
    "\n",
    "Tailoring your resume connects the dots for recruiters and hiring managers who are overwhelmed by a flood of generic applicants. Instead of proving that you’re an experienced professional in general, it shows them that you’re a perfect fit for this specific job.\n",
    "\n",
    " \n",
    "\n",
    "\n",
    "### About the dataset\n",
    "When performing data science tasks, it’s common to use data found on the internet. You’ll usually be able to access this data in CSV format, or via an Application Programming Interface (API). However, there are times when the data you want can only be accessed as part of a web page. In cases like this, you’ll want to use a technique called web scraping to get the data from the web page into a format you can work within your analysis.\n",
    "\n",
    "You need to perform Topic Modelling on the given data and extract useful topics that will help your manager to short list the candidates based on the topics for a specified job role.\n",
    "\n",
    "The scraped data is been provided to you in the form of `csv`.\n",
    "\n",
    "|Feature|Description|\n",
    "|-----|-----|\n",
    "|company| Name of the company|\n",
    "|job| job title|\n",
    "|job_desc| description of jobs|\n",
    "|location|job locaton|\n",
    "|url|Link of the jobs from it was scraped|\n",
    "|job_type|type of the job|"
   ]
  },
  {
   "cell_type": "markdown",
   "metadata": {},
   "source": [
    "### Importing necessary libraries"
   ]
  },
  {
   "cell_type": "code",
   "execution_count": 5,
   "metadata": {},
   "outputs": [],
   "source": [
    "import pandas as pd\n",
    "import numpy as np\n",
    "import re\n",
    "import spacy\n",
    "import gensim\n",
    "from gensim import corpora\n",
    "pd.set_option(\"display.max_colwidth\", 200)\n",
    "\n",
    "\n",
    "import operator\n",
    "from nltk.corpus import stopwords\n",
    "from sklearn.feature_extraction.text import CountVectorizer\n",
    "\n",
    "import nltk\n",
    "from nltk.stem import WordNetLemmatizer\n",
    "from string import punctuation\n",
    "from nltk.tokenize import word_tokenize\n",
    "from collections import Counter\n",
    "import operator\n",
    "\n",
    "# libraries for visualization\n",
    "import pyLDAvis\n",
    "import pyLDAvis.gensim\n",
    "import matplotlib.pyplot as plt\n",
    "import warnings\n",
    "warnings.filterwarnings(\"ignore\")\n",
    "import seaborn as sns\n",
    "%matplotlib inline"
   ]
  },
  {
   "cell_type": "markdown",
   "metadata": {},
   "source": [
    "### Loading the dataset "
   ]
  },
  {
   "cell_type": "code",
   "execution_count": 6,
   "metadata": {},
   "outputs": [
    {
     "data": {
      "text/html": [
       "<div>\n",
       "<style scoped>\n",
       "    .dataframe tbody tr th:only-of-type {\n",
       "        vertical-align: middle;\n",
       "    }\n",
       "\n",
       "    .dataframe tbody tr th {\n",
       "        vertical-align: top;\n",
       "    }\n",
       "\n",
       "    .dataframe thead th {\n",
       "        text-align: right;\n",
       "    }\n",
       "</style>\n",
       "<table border=\"1\" class=\"dataframe\">\n",
       "  <thead>\n",
       "    <tr style=\"text-align: right;\">\n",
       "      <th></th>\n",
       "      <th>company</th>\n",
       "      <th>job</th>\n",
       "      <th>job_desc</th>\n",
       "      <th>location</th>\n",
       "      <th>url</th>\n",
       "      <th>job_type</th>\n",
       "    </tr>\n",
       "  </thead>\n",
       "  <tbody>\n",
       "    <tr>\n",
       "      <th>0</th>\n",
       "      <td>Micro Focus</td>\n",
       "      <td>Core Java Developer</td>\n",
       "      <td>Core Java Developer\\r\\r\\n\\r\\r\\nJob Description:\\r\\r\\n\\r\\r\\nAt Micro Focus, everything we do is based on a simple idea: The fastest way to get results is to build on what you have. Our software sol...</td>\n",
       "      <td>Bangalore</td>\n",
       "      <td>https://www.indeed.co.in/pagead/clk?mo=r&amp;ad=-6NYlbfkN0BduEgvIgdT7EDM_O2GxHkw7QoaouEWjxefAvaX3ZwZ9tYBt705y4baMnhcBFo_61Er-rE59t0DIcl816jpSPhQlE2-XsX8ZtBLxXVsMZdq8VWbZfs3uXN1oqCxQ7zxUL2JTHVmAEZthPEL...</td>\n",
       "      <td>Android Developer</td>\n",
       "    </tr>\n",
       "    <tr>\n",
       "      <th>1</th>\n",
       "      <td>MS Clinical Research (P) Ltd</td>\n",
       "      <td>Android App Developer</td>\n",
       "      <td>Job Summary\\r\\r\\nOver 3 years experience designing, developing, integrating, and supporting Android App development\\r\\r\\nApply in-depth understanding of business and IT requirements to streamline ...</td>\n",
       "      <td>Bangalore</td>\n",
       "      <td>https://www.indeed.co.in/pagead/clk?mo=r&amp;ad=-6NYlbfkN0BduEgvIgdT7EDM_O2GxHkw7QoaouEWjxefAvaX3ZwZ9tYBt705y4baMnhcBFo_61Er-rE59t0DIcl816jpSPhQlE2-XsX8ZtBLxXVsMZdq8VWbZfs3uXN1oqCxQ7zxUL2JTHVmAEZthPEL...</td>\n",
       "      <td>Android Developer</td>\n",
       "    </tr>\n",
       "    <tr>\n",
       "      <th>2</th>\n",
       "      <td>Applied Materials Inc.</td>\n",
       "      <td>Software Engineer – Unity Developer</td>\n",
       "      <td>Company Introduction\\r\\r\\nApplied Materials , Inc. is the global leader in materials engineering solutions for the semiconductor, flat panel display and solar photovoltaic (PV) industries. applied...</td>\n",
       "      <td>Bangalore</td>\n",
       "      <td>https://www.indeed.co.in/pagead/clk?mo=r&amp;ad=-6NYlbfkN0BduEgvIgdT7EDM_O2GxHkw7QoaouEWjxefAvaX3ZwZ9tYBt705y4baMnhcBFo_61Er-rE59t0DIcl816jpSPhQlE2-XsX8ZtBLxXVsMZdq8VWbZfs3uXN1oqCxQ7zxUL2JTHVmAEZthPEL...</td>\n",
       "      <td>Android Developer</td>\n",
       "    </tr>\n",
       "    <tr>\n",
       "      <th>3</th>\n",
       "      <td>Shaw Academy</td>\n",
       "      <td>Lead Mobile Developer</td>\n",
       "      <td>Senior Mobile App Developer/Lead (Android or iOS)\\r\\r\\nShaw Academy is seeking a Mobile Development Lead, initially to be the hands-on coder for our apps and then to build a team aroundyou. The ro...</td>\n",
       "      <td>Bangalore</td>\n",
       "      <td>https://www.indeed.co.in/pagead/clk?mo=r&amp;ad=-6NYlbfkN0BduEgvIgdT7EDM_O2GxHkw7QoaouEWjxefAvaX3ZwZ9tYBt705y4baMnhcBFo_61Er-rE59t0DIcl816jpSPhQlE2-XsX8ZtBLxXVsMZdq8VWbZfs3uXN1oqCxQ7zxUL2JTHVmAEZthPEL...</td>\n",
       "      <td>Android Developer</td>\n",
       "    </tr>\n",
       "    <tr>\n",
       "      <th>4</th>\n",
       "      <td>Letsgettin Private Limited</td>\n",
       "      <td>Android Developer- Freshers</td>\n",
       "      <td>Job Summary\\r\\r\\nPosition: Android developer\\r\\r\\nEducation: Bachelor's\\r\\r\\nRequired candidates: Freshers\\r\\r\\nResponsibilities and Duties\\r\\r\\nDesign and build advanced applications for the Andr...</td>\n",
       "      <td>Bangalore</td>\n",
       "      <td>https://www.indeed.co.in/pagead/clk?mo=r&amp;ad=-6NYlbfkN0BduEgvIgdT7EDM_O2GxHkw7QoaouEWjxefAvaX3ZwZ9tYBt705y4baMnhcBFo_61Er-rE59t0DIcl816jpSPhQlE2-XsX8ZtBLxXVsMZdq8VWbZfs3uXN1oqCxQ7zxUL2JTHVmAEZthPEL...</td>\n",
       "      <td>Android Developer</td>\n",
       "    </tr>\n",
       "  </tbody>\n",
       "</table>\n",
       "</div>"
      ],
      "text/plain": [
       "                        company                                  job  \\\n",
       "0                   Micro Focus                  Core Java Developer   \n",
       "1  MS Clinical Research (P) Ltd                Android App Developer   \n",
       "2        Applied Materials Inc.  Software Engineer – Unity Developer   \n",
       "3                  Shaw Academy                Lead Mobile Developer   \n",
       "4    Letsgettin Private Limited          Android Developer- Freshers   \n",
       "\n",
       "                                                                                                                                                                                                  job_desc  \\\n",
       "0  Core Java Developer\\r\\r\\n\\r\\r\\nJob Description:\\r\\r\\n\\r\\r\\nAt Micro Focus, everything we do is based on a simple idea: The fastest way to get results is to build on what you have. Our software sol...   \n",
       "1  Job Summary\\r\\r\\nOver 3 years experience designing, developing, integrating, and supporting Android App development\\r\\r\\nApply in-depth understanding of business and IT requirements to streamline ...   \n",
       "2  Company Introduction\\r\\r\\nApplied Materials , Inc. is the global leader in materials engineering solutions for the semiconductor, flat panel display and solar photovoltaic (PV) industries. applied...   \n",
       "3  Senior Mobile App Developer/Lead (Android or iOS)\\r\\r\\nShaw Academy is seeking a Mobile Development Lead, initially to be the hands-on coder for our apps and then to build a team aroundyou. The ro...   \n",
       "4  Job Summary\\r\\r\\nPosition: Android developer\\r\\r\\nEducation: Bachelor's\\r\\r\\nRequired candidates: Freshers\\r\\r\\nResponsibilities and Duties\\r\\r\\nDesign and build advanced applications for the Andr...   \n",
       "\n",
       "    location  \\\n",
       "0  Bangalore   \n",
       "1  Bangalore   \n",
       "2  Bangalore   \n",
       "3  Bangalore   \n",
       "4  Bangalore   \n",
       "\n",
       "                                                                                                                                                                                                       url  \\\n",
       "0  https://www.indeed.co.in/pagead/clk?mo=r&ad=-6NYlbfkN0BduEgvIgdT7EDM_O2GxHkw7QoaouEWjxefAvaX3ZwZ9tYBt705y4baMnhcBFo_61Er-rE59t0DIcl816jpSPhQlE2-XsX8ZtBLxXVsMZdq8VWbZfs3uXN1oqCxQ7zxUL2JTHVmAEZthPEL...   \n",
       "1  https://www.indeed.co.in/pagead/clk?mo=r&ad=-6NYlbfkN0BduEgvIgdT7EDM_O2GxHkw7QoaouEWjxefAvaX3ZwZ9tYBt705y4baMnhcBFo_61Er-rE59t0DIcl816jpSPhQlE2-XsX8ZtBLxXVsMZdq8VWbZfs3uXN1oqCxQ7zxUL2JTHVmAEZthPEL...   \n",
       "2  https://www.indeed.co.in/pagead/clk?mo=r&ad=-6NYlbfkN0BduEgvIgdT7EDM_O2GxHkw7QoaouEWjxefAvaX3ZwZ9tYBt705y4baMnhcBFo_61Er-rE59t0DIcl816jpSPhQlE2-XsX8ZtBLxXVsMZdq8VWbZfs3uXN1oqCxQ7zxUL2JTHVmAEZthPEL...   \n",
       "3  https://www.indeed.co.in/pagead/clk?mo=r&ad=-6NYlbfkN0BduEgvIgdT7EDM_O2GxHkw7QoaouEWjxefAvaX3ZwZ9tYBt705y4baMnhcBFo_61Er-rE59t0DIcl816jpSPhQlE2-XsX8ZtBLxXVsMZdq8VWbZfs3uXN1oqCxQ7zxUL2JTHVmAEZthPEL...   \n",
       "4  https://www.indeed.co.in/pagead/clk?mo=r&ad=-6NYlbfkN0BduEgvIgdT7EDM_O2GxHkw7QoaouEWjxefAvaX3ZwZ9tYBt705y4baMnhcBFo_61Er-rE59t0DIcl816jpSPhQlE2-XsX8ZtBLxXVsMZdq8VWbZfs3uXN1oqCxQ7zxUL2JTHVmAEZthPEL...   \n",
       "\n",
       "            job_type  \n",
       "0  Android Developer  \n",
       "1  Android Developer  \n",
       "2  Android Developer  \n",
       "3  Android Developer  \n",
       "4  Android Developer  "
      ]
     },
     "execution_count": 6,
     "metadata": {},
     "output_type": "execute_result"
    }
   ],
   "source": [
    "jobs = pd.read_csv(\"merged_indeed_new.csv\")\n",
    "jobs.head()"
   ]
  },
  {
   "cell_type": "markdown",
   "metadata": {},
   "source": [
    "### Drop unnecessary Columns\n",
    "\n",
    "For the analysis of the job description, we are only interested in the text data associated with the jobs. We will analyze this text data using natural language processing. Since the file contains some metadata such as company, location and url. It is necessary to remove all the columns that do not contain useful text information."
   ]
  },
  {
   "cell_type": "code",
   "execution_count": 7,
   "metadata": {},
   "outputs": [
    {
     "data": {
      "text/html": [
       "<div>\n",
       "<style scoped>\n",
       "    .dataframe tbody tr th:only-of-type {\n",
       "        vertical-align: middle;\n",
       "    }\n",
       "\n",
       "    .dataframe tbody tr th {\n",
       "        vertical-align: top;\n",
       "    }\n",
       "\n",
       "    .dataframe thead th {\n",
       "        text-align: right;\n",
       "    }\n",
       "</style>\n",
       "<table border=\"1\" class=\"dataframe\">\n",
       "  <thead>\n",
       "    <tr style=\"text-align: right;\">\n",
       "      <th></th>\n",
       "      <th>job_desc</th>\n",
       "      <th>job_type</th>\n",
       "    </tr>\n",
       "  </thead>\n",
       "  <tbody>\n",
       "    <tr>\n",
       "      <th>0</th>\n",
       "      <td>Core Java Developer\\r\\r\\n\\r\\r\\nJob Description:\\r\\r\\n\\r\\r\\nAt Micro Focus, everything we do is based on a simple idea: The fastest way to get results is to build on what you have. Our software sol...</td>\n",
       "      <td>Android Developer</td>\n",
       "    </tr>\n",
       "    <tr>\n",
       "      <th>1</th>\n",
       "      <td>Job Summary\\r\\r\\nOver 3 years experience designing, developing, integrating, and supporting Android App development\\r\\r\\nApply in-depth understanding of business and IT requirements to streamline ...</td>\n",
       "      <td>Android Developer</td>\n",
       "    </tr>\n",
       "    <tr>\n",
       "      <th>2</th>\n",
       "      <td>Company Introduction\\r\\r\\nApplied Materials , Inc. is the global leader in materials engineering solutions for the semiconductor, flat panel display and solar photovoltaic (PV) industries. applied...</td>\n",
       "      <td>Android Developer</td>\n",
       "    </tr>\n",
       "    <tr>\n",
       "      <th>3</th>\n",
       "      <td>Senior Mobile App Developer/Lead (Android or iOS)\\r\\r\\nShaw Academy is seeking a Mobile Development Lead, initially to be the hands-on coder for our apps and then to build a team aroundyou. The ro...</td>\n",
       "      <td>Android Developer</td>\n",
       "    </tr>\n",
       "    <tr>\n",
       "      <th>4</th>\n",
       "      <td>Job Summary\\r\\r\\nPosition: Android developer\\r\\r\\nEducation: Bachelor's\\r\\r\\nRequired candidates: Freshers\\r\\r\\nResponsibilities and Duties\\r\\r\\nDesign and build advanced applications for the Andr...</td>\n",
       "      <td>Android Developer</td>\n",
       "    </tr>\n",
       "  </tbody>\n",
       "</table>\n",
       "</div>"
      ],
      "text/plain": [
       "                                                                                                                                                                                                  job_desc  \\\n",
       "0  Core Java Developer\\r\\r\\n\\r\\r\\nJob Description:\\r\\r\\n\\r\\r\\nAt Micro Focus, everything we do is based on a simple idea: The fastest way to get results is to build on what you have. Our software sol...   \n",
       "1  Job Summary\\r\\r\\nOver 3 years experience designing, developing, integrating, and supporting Android App development\\r\\r\\nApply in-depth understanding of business and IT requirements to streamline ...   \n",
       "2  Company Introduction\\r\\r\\nApplied Materials , Inc. is the global leader in materials engineering solutions for the semiconductor, flat panel display and solar photovoltaic (PV) industries. applied...   \n",
       "3  Senior Mobile App Developer/Lead (Android or iOS)\\r\\r\\nShaw Academy is seeking a Mobile Development Lead, initially to be the hands-on coder for our apps and then to build a team aroundyou. The ro...   \n",
       "4  Job Summary\\r\\r\\nPosition: Android developer\\r\\r\\nEducation: Bachelor's\\r\\r\\nRequired candidates: Freshers\\r\\r\\nResponsibilities and Duties\\r\\r\\nDesign and build advanced applications for the Andr...   \n",
       "\n",
       "            job_type  \n",
       "0  Android Developer  \n",
       "1  Android Developer  \n",
       "2  Android Developer  \n",
       "3  Android Developer  \n",
       "4  Android Developer  "
      ]
     },
     "execution_count": 7,
     "metadata": {},
     "output_type": "execute_result"
    }
   ],
   "source": [
    "# Remove the columns\n",
    "jobs = jobs.drop(columns=['company', 'job', 'location','url'], axis=1)\n",
    "\n",
    "# Print out the first rows of papers\n",
    "jobs.head()"
   ]
  },
  {
   "cell_type": "markdown",
   "metadata": {},
   "source": [
    "###  Calculate the number of jobs for each job type. "
   ]
  },
  {
   "cell_type": "code",
   "execution_count": null,
   "metadata": {},
   "outputs": [],
   "source": [
    "jobs[\"job_type\"].value_counts()"
   ]
  },
  {
   "cell_type": "markdown",
   "metadata": {},
   "source": [
    "### Subset the jobs(i.e Android Developer & Journalist) based on job_type. And store only job_desc based on job type.\n",
    "\n",
    "Further analysis will be done only on `job_desc` column."
   ]
  },
  {
   "cell_type": "code",
   "execution_count": null,
   "metadata": {},
   "outputs": [],
   "source": [
    "job_requirement  = jobs[(jobs[\"job_type\"] == \"Android Developer\") | (jobs[\"job_type\"] == \"Journalist\")][['job_desc']]\n",
    "job_requirement.head()"
   ]
  },
  {
   "cell_type": "markdown",
   "metadata": {},
   "source": [
    "### Retain alphabets/remove unnecessary space\n",
    "Now, we will perform some simple preprocessing on the job description column(i.e `job_desc`) in order to make them more amenable for analysis. We will use a regular expression to retain only alphabets in the description and remove unnecessary space."
   ]
  },
  {
   "cell_type": "code",
   "execution_count": null,
   "metadata": {},
   "outputs": [],
   "source": [
    "# Retain only alphabets\n",
    "job_requirement['job_desc'] = job_requirement['job_desc'].apply(lambda x:re.sub('[^a-zA-Z]', ' ',x))\n",
    "\n",
    "# Remove unnecesary space\n",
    "job_requirement['job_desc'] = job_requirement['job_desc'].apply(lambda x:re.sub(' +', ' ',x))"
   ]
  },
  {
   "cell_type": "markdown",
   "metadata": {},
   "source": [
    "### Exploratory Analysis: Plot the word cloud of the most common words\n",
    "In order to verify whether the preprocessing happened correctly, we can make a word cloud of the text of the job descriptions. This will give us a visual representation of the most common words. Visualization is key to understanding whether we are still on the right track! In addition, it allows us to verify whether we need additional preprocessing before further analyzing the text data. Python has a massive number of open libraries! Instead of trying to develop a method to create word clouds ourselves, we'll use Andreas Mueller's wordcloud library"
   ]
  },
  {
   "cell_type": "code",
   "execution_count": null,
   "metadata": {},
   "outputs": [],
   "source": [
    "\n",
    "# Import the wordcloud library\n",
    "from wordcloud import WordCloud\n",
    "\n",
    "# Join the different processed jobs together.\n",
    "long_string = ','.join(list(job_requirement['job_desc'].values))\n",
    "\n",
    "# Create a WordCloud object\n",
    "wordcloud = WordCloud(background_color=\"white\", max_words=5000, contour_width=3, contour_color='steelblue')\n",
    "\n",
    "# Generate a word cloud\n",
    "wordcloud.generate(long_string)\n",
    "\n",
    "# Visualize the word cloud\n",
    "wordcloud.to_image()"
   ]
  },
  {
   "cell_type": "markdown",
   "metadata": {},
   "source": [
    "### Observation:\n",
    "\n",
    "- In above wordcloud we see the most common words that occur in the job descriptions are Job,skill, year,etc. So we need to remove these words as to get the useful words related to the job. "
   ]
  },
  {
   "cell_type": "markdown",
   "metadata": {},
   "source": [
    "### Let's remove some common words that every job description contain. A common words list is provided to you(you can add more). Display top 10 most occuring words.\n",
    "LDA does not work directly on text data. First, it is necessary to convert the documents into a simple vector representation. This representation will then be used by LDA to determine the topics. Each entry of a 'document vector' will correspond with the number of times a word occurred in the document."
   ]
  },
  {
   "cell_type": "code",
   "execution_count": null,
   "metadata": {},
   "outputs": [],
   "source": [
    "# List of some common words \n",
    "stop_set = ['experience','year','years','job','work','knowledge','skills','preferred','required','responsibilities','education','salary','ability']\n",
    "\n",
    "#  removing stop words\n",
    "stop = set(stopwords.words('english'))\n",
    "for word in stop_set:\n",
    "    stop.add(word)\n",
    "\n",
    "custom = list(stop)+list(punctuation)\n",
    "\n",
    "# Initialize CountVectorizer\n",
    "vectorizer = CountVectorizer(stop_words=custom , max_features=30000)\n",
    "\n",
    "# Transform job description\n",
    "description = vectorizer.fit_transform(job_requirement['job_desc'])\n",
    "\n",
    "# initialize empty dictionary\n",
    "words = {}\n",
    "\n",
    "# initialize with 0\n",
    "i = 0\n",
    "\n",
    "# Number of time every feature appears over the entire document\n",
    "sums = np.array(np.sum(description, axis=0)).flatten()\n",
    "\n",
    "# Loop to map 'sums' to its word\n",
    "for word in vectorizer.get_feature_names():\n",
    "    words[word] = sums[i]\n",
    "    i += 1\n",
    "\n",
    "# Top 20 most occuring words\n",
    "top_20 = sorted(words.items(), key=operator.itemgetter(1), reverse=True)[:20]\n",
    "\n",
    "# Display top 20 words\n",
    "top_20_words = [i[0] for i in top_20]\n",
    "top_20_values = [i[1] for i in top_20]\n",
    "plt.figure(figsize=(20,10))\n",
    "sns.barplot(top_20_words,top_20_values)\n",
    "plt.show()"
   ]
  },
  {
   "cell_type": "markdown",
   "metadata": {},
   "source": [
    "It seems that now most frequent terms in our data are relevant."
   ]
  },
  {
   "cell_type": "markdown",
   "metadata": {},
   "source": [
    "### Perform lowercasing and calculate the frequency of top 10  words. "
   ]
  },
  {
   "cell_type": "code",
   "execution_count": null,
   "metadata": {
    "scrolled": false
   },
   "outputs": [],
   "source": [
    "# custom stopword list is provided to you in upper task\n",
    "\n",
    "# Code starts here\n",
    "\n",
    "# # Converting the rows of column 'job_desc' into a bag of words\n",
    "BoW = job_requirement[\"job_desc\"].str.lower().tolist()\n",
    "\n",
    "# Tokenizing the words\n",
    "BoW = [word_tokenize(x) for x in BoW]\n",
    "\n",
    "# Flattening the list\n",
    "BoW = [item for sublist in BoW for item in sublist]\n",
    "\n",
    "# Removing the stopwords\n",
    "BoW = [x for x in BoW if x not in custom]\n",
    "\n",
    "# Initializing wordnet lemmatizer\n",
    "lemmatizer = WordNetLemmatizer()\n",
    "\n",
    "# Lemmatizing the bag of words\n",
    "BoW = [lemmatizer.lemmatize(x) for x in BoW]\n",
    "\n",
    "# Create a dictionary from the counter\n",
    "BoW_dict = dict(Counter(BoW))\n",
    "\n",
    "# Sort the words\n",
    "sorted_d = sorted(BoW_dict.items(), key=operator.itemgetter(1), reverse=True)\n",
    "\n",
    "print(\"\\nTop 10 words:\\n\", sorted_d[:10])\n",
    "\n",
    "# Code ends here"
   ]
  },
  {
   "cell_type": "markdown",
   "metadata": {},
   "source": [
    "### Model buliding with LSA"
   ]
  },
  {
   "cell_type": "code",
   "execution_count": null,
   "metadata": {},
   "outputs": [],
   "source": [
    "from nltk.corpus import stopwords\n",
    "from nltk.stem.wordnet import WordNetLemmatizer\n",
    "import string\n",
    "import gensim\n",
    "from gensim.models.lsimodel import LsiModel\n",
    "from gensim import corpora\n",
    "from pprint import pprint\n",
    "\n",
    "\n",
    "exclude = set(string.punctuation)\n",
    "lemma = WordNetLemmatizer()\n",
    "\n",
    "# Function to lemmatize and remove the stopwords\n",
    "def clean(doc):\n",
    "    stop_free = \" \".join([i for i in doc.lower().split() if i not in custom])\n",
    "    punc_free = \"\".join(ch for ch in stop_free if ch not in exclude)\n",
    "    normalized = \" \".join(lemma.lemmatize(word) for word in punc_free.split())\n",
    "    return normalized\n",
    "\n",
    "# Creating a list of documents from the complaints column\n",
    "list_of_docs = job_requirement[\"job_desc\"].tolist()\n",
    "\n",
    "# Implementing the function for all the complaints of list_of_docs\n",
    "doc_clean = [clean(doc).split() for doc in list_of_docs]\n",
    "print(doc_clean[:2])\n",
    "\n",
    "# Code starts here\n",
    "\n",
    "# Creating the dictionary id2word from our cleaned word list doc_clean\n",
    "dictionary = corpora.Dictionary(doc_clean)\n",
    "\n",
    "# Creating the corpus\n",
    "doc_term_matrix = [dictionary.doc2bow(doc) for doc in doc_clean]\n",
    "\n",
    "# Creating the LSi model\n",
    "lsimodel = LsiModel(corpus=doc_term_matrix, num_topics=2, id2word=dictionary)\n",
    "pprint(lsimodel.print_topics())\n",
    "\n"
   ]
  },
  {
   "cell_type": "markdown",
   "metadata": {},
   "source": [
    "#### Observation:\n",
    "- The first topic Topic 0 has terms like ‘android’, ‘development’, ‘mobile’, ‘technology’, indicating that the topic is very much related to Android developer job.\n",
    "- Topic 1 has terms like ‘medium’, ‘communication’, ‘marketing’, ‘journalist’, indicating that the topic is very much related to Journalist job but we got the term android also which is no were related to Journalist job."
   ]
  },
  {
   "cell_type": "markdown",
   "metadata": {},
   "source": [
    "### Model buliding with LDA\n",
    "\n",
    "In LSA we saw that Topic 1 has some different words which are not related to the Journalist job. Lets see if we can improve our topics by using LDA algorithm."
   ]
  },
  {
   "cell_type": "code",
   "execution_count": null,
   "metadata": {},
   "outputs": [],
   "source": [
    "# imports\n",
    "from nltk.corpus import stopwords\n",
    "from nltk.stem.wordnet import WordNetLemmatizer\n",
    "import string\n",
    "from gensim.models.ldamulticore import LdaMulticore\n",
    "from gensim.models.ldamodel import LdaModel\n",
    "\n",
    "#doc_clean - Cleaned list containing entries of 'job_desc' column of our dataframe\n",
    "# This variable is already available.\n",
    "\n",
    "# Code starts here\n",
    "\n",
    "# Creating the dictionary id2word from our cleaned word list doc_clean\n",
    "dictionary = corpora.Dictionary(doc_clean)\n",
    "\n",
    "# Creating the corpus\n",
    "doc_term_matrix = [dictionary.doc2bow(doc) for doc in doc_clean]\n",
    "\n",
    "\n",
    "# Creating the LDA model\n",
    "ldamodel = LdaMulticore(corpus=doc_term_matrix, num_topics=2,id2word=dictionary, random_state=20, passes=30, workers= 12)\n",
    "\n",
    "# printing the topics\n",
    "pprint(ldamodel.print_topics())"
   ]
  },
  {
   "cell_type": "markdown",
   "metadata": {},
   "source": [
    "#### Observation:\n",
    "The first topic Topic 0 has terms like ‘medium’, ‘communication’, ‘marketing’, ‘journalist’, indicating that the topic is very much related to Journalist job. Similarly, Topic 1 seems to be about the Android development job as it has terms like ‘android’, ‘development’,‘mobile’,‘technology’, and ‘design’."
   ]
  },
  {
   "cell_type": "markdown",
   "metadata": {},
   "source": [
    "### Analyzing with LDA model\n",
    "\n",
    "To visualize the topics in a 2-dimensional space we will use the pyLDAvis library. This visualization is interactive in nature and displays topics along with the most relevant words.\n",
    "\n",
    "pyLDAvis package is designed to help users interpret the topics in a topic model that has been fit to a corpus of text data. The interactive visualization pyLDAvis produces is helpful for both:\n",
    "\n",
    "1. Better understanding and interpreting individual topics, and\n",
    "2. Better understanding the relationships between the topics.\n",
    "\n",
    "For (1), you can manually select each topic to view its top most freqeuent and/or “relevant” terms, using different values of the λ parameter. This can help when you’re trying to assign a human interpretable name or “meaning” to each topic.\n",
    "\n",
    "For (2), exploring the Intertopic Distance Plot can help you learn about how topics relate to each other, including potential higher-level structure between groups of topics.\n",
    "\n",
    "\n",
    "Here is the documentation for <a href=\"https://pyldavis.readthedocs.io/en/latest/readme.html\">pyLDAvis</a>"
   ]
  },
  {
   "cell_type": "code",
   "execution_count": null,
   "metadata": {},
   "outputs": [],
   "source": [
    "# Visualize the topics\n",
    "pyLDAvis.enable_notebook()\n",
    "vis = pyLDAvis.gensim.prepare(ldamodel, doc_term_matrix, dictionary)\n",
    "vis"
   ]
  }
 ],
 "metadata": {
  "kernelspec": {
   "display_name": "Python 3",
   "language": "python",
   "name": "python3"
  },
  "language_info": {
   "codemirror_mode": {
    "name": "ipython",
    "version": 3
   },
   "file_extension": ".py",
   "mimetype": "text/x-python",
   "name": "python",
   "nbconvert_exporter": "python",
   "pygments_lexer": "ipython3",
   "version": "3.7.3"
  }
 },
 "nbformat": 4,
 "nbformat_minor": 2
}
