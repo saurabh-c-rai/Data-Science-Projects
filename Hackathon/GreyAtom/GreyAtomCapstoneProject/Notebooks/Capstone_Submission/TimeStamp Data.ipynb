{
 "cells": [
  {
   "cell_type": "code",
   "execution_count": 1,
   "metadata": {},
   "outputs": [],
   "source": [
    "import numpy as np\n",
    "import pandas as pd\n",
    "import matplotlib.pyplot as plt\n",
    "import seaborn as sns\n",
    "%matplotlib inline\n",
    "import warnings\n",
    "warnings.filterwarnings('ignore')\n",
    "from sklearn.preprocessing import LabelEncoder\n",
    "from sklearn.linear_model import LogisticRegression\n",
    "import datetime\n",
    "import time\n",
    "import swifter"
   ]
  },
  {
   "cell_type": "code",
   "execution_count": 2,
   "metadata": {},
   "outputs": [],
   "source": [
    "AppLaunched=pd.read_csv('./Data/AppLaunched.csv',sep=',')\n",
    "VideoDetails=pd.read_csv('./Data/VideoDetails.csv',sep=',')\n",
    "UTMVisited=pd.read_csv('./Data/UTMVisited.csv',sep=',')\n",
    "Registration=pd.read_csv('./Data/Registration.csv',sep=',')\n",
    "AppUninstalled=pd.read_csv('./Data/AppUninstalled.csv',sep=',')\n",
    "VideoStarted=pd.read_csv('./Data/VideoStarted.csv',sep=',')\n"
   ]
  },
  {
   "cell_type": "code",
   "execution_count": 3,
   "metadata": {},
   "outputs": [],
   "source": [
    "AppLaunchedMod = AppLaunched.copy()\n",
    "VideoDetailsMod = VideoDetails.copy()\n",
    "UTMVisitedMod = UTMVisited.copy()\n",
    "RegistrationMod = Registration.copy()\n",
    "AppUninstalledMod = AppUninstalled.copy()\n",
    "VideoStartedMod = VideoStarted.copy()\n"
   ]
  },
  {
   "cell_type": "code",
   "execution_count": 4,
   "metadata": {},
   "outputs": [],
   "source": [
    "def dateConvert(d) :\n",
    "    return datetime.datetime.strptime(str(d), '%Y%m%d')\n",
    "\n",
    "def timeConvert(t) :\n",
    "    return datetime.timedelta(minutes = int(t))\n",
    "\n",
    "def secondConvert(s) :\n",
    "    return datetime.timedelta(0,int(str(s)))"
   ]
  },
  {
   "cell_type": "code",
   "execution_count": 5,
   "metadata": {},
   "outputs": [
    {
     "data": {
      "application/vnd.jupyter.widget-view+json": {
       "model_id": "c793061113224ee898e6ba82e0a00734",
       "version_major": 2,
       "version_minor": 0
      },
      "text/plain": [
       "HBox(children=(FloatProgress(value=0.0, description='Dask Apply', max=32.0, style=ProgressStyle(description_wi…"
      ]
     },
     "metadata": {},
     "output_type": "display_data"
    },
    {
     "name": "stdout",
     "output_type": "stream",
     "text": [
      "\n"
     ]
    },
    {
     "data": {
      "application/vnd.jupyter.widget-view+json": {
       "model_id": "6b5a8083637a424eac5949a9a383a7ac",
       "version_major": 2,
       "version_minor": 0
      },
      "text/plain": [
       "HBox(children=(FloatProgress(value=0.0, description='Dask Apply', max=32.0, style=ProgressStyle(description_wi…"
      ]
     },
     "metadata": {},
     "output_type": "display_data"
    },
    {
     "name": "stdout",
     "output_type": "stream",
     "text": [
      "\n"
     ]
    },
    {
     "data": {
      "application/vnd.jupyter.widget-view+json": {
       "model_id": "52c25091230f4e878875abe24e770974",
       "version_major": 2,
       "version_minor": 0
      },
      "text/plain": [
       "HBox(children=(FloatProgress(value=0.0, description='Dask Apply', max=32.0, style=ProgressStyle(description_wi…"
      ]
     },
     "metadata": {},
     "output_type": "display_data"
    },
    {
     "name": "stdout",
     "output_type": "stream",
     "text": [
      "\n"
     ]
    },
    {
     "data": {
      "application/vnd.jupyter.widget-view+json": {
       "model_id": "0b83b476f0bf4967a75443a7192c672e",
       "version_major": 2,
       "version_minor": 0
      },
      "text/plain": [
       "HBox(children=(FloatProgress(value=0.0, description='Dask Apply', max=32.0, style=ProgressStyle(description_wi…"
      ]
     },
     "metadata": {},
     "output_type": "display_data"
    },
    {
     "name": "stdout",
     "output_type": "stream",
     "text": [
      "\n"
     ]
    },
    {
     "data": {
      "application/vnd.jupyter.widget-view+json": {
       "model_id": "247464cc3446457999878e508a74b4e3",
       "version_major": 2,
       "version_minor": 0
      },
      "text/plain": [
       "HBox(children=(FloatProgress(value=0.0, description='Dask Apply', max=32.0, style=ProgressStyle(description_wi…"
      ]
     },
     "metadata": {},
     "output_type": "display_data"
    },
    {
     "name": "stdout",
     "output_type": "stream",
     "text": [
      "\n"
     ]
    },
    {
     "data": {
      "application/vnd.jupyter.widget-view+json": {
       "model_id": "d397976b819a4e7b8f501650d2e52db7",
       "version_major": 2,
       "version_minor": 0
      },
      "text/plain": [
       "HBox(children=(FloatProgress(value=0.0, description='Dask Apply', max=32.0, style=ProgressStyle(description_wi…"
      ]
     },
     "metadata": {},
     "output_type": "display_data"
    },
    {
     "name": "stdout",
     "output_type": "stream",
     "text": [
      "\n"
     ]
    },
    {
     "data": {
      "application/vnd.jupyter.widget-view+json": {
       "model_id": "d1e85f58d36749f89576d4f96aff2282",
       "version_major": 2,
       "version_minor": 0
      },
      "text/plain": [
       "HBox(children=(FloatProgress(value=0.0, description='Dask Apply', max=32.0, style=ProgressStyle(description_wi…"
      ]
     },
     "metadata": {},
     "output_type": "display_data"
    },
    {
     "name": "stdout",
     "output_type": "stream",
     "text": [
      "\n"
     ]
    },
    {
     "data": {
      "application/vnd.jupyter.widget-view+json": {
       "model_id": "6d9e521d11dc458ca351cae8be0a8ef1",
       "version_major": 2,
       "version_minor": 0
      },
      "text/plain": [
       "HBox(children=(FloatProgress(value=0.0, description='Dask Apply', max=32.0, style=ProgressStyle(description_wi…"
      ]
     },
     "metadata": {},
     "output_type": "display_data"
    },
    {
     "name": "stdout",
     "output_type": "stream",
     "text": [
      "\n"
     ]
    },
    {
     "data": {
      "application/vnd.jupyter.widget-view+json": {
       "model_id": "5a00efede40a44d58265018d46c87c46",
       "version_major": 2,
       "version_minor": 0
      },
      "text/plain": [
       "HBox(children=(FloatProgress(value=0.0, description='Dask Apply', max=32.0, style=ProgressStyle(description_wi…"
      ]
     },
     "metadata": {},
     "output_type": "display_data"
    },
    {
     "name": "stdout",
     "output_type": "stream",
     "text": [
      "\n"
     ]
    },
    {
     "data": {
      "application/vnd.jupyter.widget-view+json": {
       "model_id": "f1b54ac2ed484207bad4c877dba0a238",
       "version_major": 2,
       "version_minor": 0
      },
      "text/plain": [
       "HBox(children=(FloatProgress(value=0.0, description='Dask Apply', max=32.0, style=ProgressStyle(description_wi…"
      ]
     },
     "metadata": {},
     "output_type": "display_data"
    },
    {
     "name": "stdout",
     "output_type": "stream",
     "text": [
      "\n"
     ]
    },
    {
     "data": {
      "application/vnd.jupyter.widget-view+json": {
       "model_id": "9e774ef9895f4af1990386ec047e5a92",
       "version_major": 2,
       "version_minor": 0
      },
      "text/plain": [
       "HBox(children=(FloatProgress(value=0.0, description='Dask Apply', max=32.0, style=ProgressStyle(description_wi…"
      ]
     },
     "metadata": {},
     "output_type": "display_data"
    },
    {
     "name": "stdout",
     "output_type": "stream",
     "text": [
      "\n"
     ]
    },
    {
     "data": {
      "application/vnd.jupyter.widget-view+json": {
       "model_id": "4aee153a82784c6587b1844d0449a344",
       "version_major": 2,
       "version_minor": 0
      },
      "text/plain": [
       "HBox(children=(FloatProgress(value=0.0, description='Dask Apply', max=32.0, style=ProgressStyle(description_wi…"
      ]
     },
     "metadata": {},
     "output_type": "display_data"
    },
    {
     "name": "stdout",
     "output_type": "stream",
     "text": [
      "\n"
     ]
    },
    {
     "data": {
      "application/vnd.jupyter.widget-view+json": {
       "model_id": "f723fa44abf941979b4a1ccafece48c7",
       "version_major": 2,
       "version_minor": 0
      },
      "text/plain": [
       "HBox(children=(FloatProgress(value=0.0, description='Dask Apply', max=32.0, style=ProgressStyle(description_wi…"
      ]
     },
     "metadata": {},
     "output_type": "display_data"
    },
    {
     "name": "stdout",
     "output_type": "stream",
     "text": [
      "\n"
     ]
    },
    {
     "data": {
      "application/vnd.jupyter.widget-view+json": {
       "model_id": "dd247f4bbab9404e91e23b76c2fe906e",
       "version_major": 2,
       "version_minor": 0
      },
      "text/plain": [
       "HBox(children=(FloatProgress(value=0.0, description='Dask Apply', max=32.0, style=ProgressStyle(description_wi…"
      ]
     },
     "metadata": {},
     "output_type": "display_data"
    },
    {
     "name": "stdout",
     "output_type": "stream",
     "text": [
      "\n"
     ]
    },
    {
     "data": {
      "application/vnd.jupyter.widget-view+json": {
       "model_id": "43cc7be2140b469db7369d5105744e04",
       "version_major": 2,
       "version_minor": 0
      },
      "text/plain": [
       "HBox(children=(FloatProgress(value=0.0, description='Dask Apply', max=32.0, style=ProgressStyle(description_wi…"
      ]
     },
     "metadata": {},
     "output_type": "display_data"
    },
    {
     "name": "stdout",
     "output_type": "stream",
     "text": [
      "\n"
     ]
    },
    {
     "data": {
      "application/vnd.jupyter.widget-view+json": {
       "model_id": "cc0a0eb2210f4fb18dd956ec6c89833e",
       "version_major": 2,
       "version_minor": 0
      },
      "text/plain": [
       "HBox(children=(FloatProgress(value=0.0, description='Dask Apply', max=32.0, style=ProgressStyle(description_wi…"
      ]
     },
     "metadata": {},
     "output_type": "display_data"
    },
    {
     "name": "stdout",
     "output_type": "stream",
     "text": [
      "\n"
     ]
    },
    {
     "data": {
      "application/vnd.jupyter.widget-view+json": {
       "model_id": "7cb335fd9ccb41578418b9950d741ad8",
       "version_major": 2,
       "version_minor": 0
      },
      "text/plain": [
       "HBox(children=(FloatProgress(value=0.0, description='Dask Apply', max=32.0, style=ProgressStyle(description_wi…"
      ]
     },
     "metadata": {},
     "output_type": "display_data"
    },
    {
     "name": "stdout",
     "output_type": "stream",
     "text": [
      "\n"
     ]
    },
    {
     "data": {
      "application/vnd.jupyter.widget-view+json": {
       "model_id": "7c9ec076950b49d593c292229d6a056b",
       "version_major": 2,
       "version_minor": 0
      },
      "text/plain": [
       "HBox(children=(FloatProgress(value=0.0, description='Dask Apply', max=32.0, style=ProgressStyle(description_wi…"
      ]
     },
     "metadata": {},
     "output_type": "display_data"
    },
    {
     "name": "stdout",
     "output_type": "stream",
     "text": [
      "\n"
     ]
    }
   ],
   "source": [
    "AppLaunchedMod['DateTime'] = AppLaunchedMod['Date'].swifter.apply(lambda x: dateConvert(x)) + AppLaunchedMod['Minute_Of_Day'].swifter.apply(lambda y: timeConvert(y)) + AppLaunchedMod['Second'].swifter.apply(lambda z: secondConvert(z))\n",
    "VideoDetailsMod['DateTime'] = VideoDetailsMod['Date'].swifter.apply(lambda x: dateConvert(x)) + VideoDetailsMod['Minute_Of_Day'].swifter.apply(lambda y: timeConvert(y)) + VideoDetailsMod['Second'].swifter.apply(lambda z: secondConvert(z))\n",
    "UTMVisitedMod['DateTime'] = UTMVisitedMod['Date'].swifter.apply(lambda x: dateConvert(x)) + UTMVisitedMod['Minute_Of_Day'].swifter.apply(lambda y: timeConvert(y)) + UTMVisitedMod['Second'].swifter.apply(lambda z: secondConvert(z))\n",
    "RegistrationMod['DateTime'] = RegistrationMod['Date'].swifter.apply(lambda x: dateConvert(x)) + RegistrationMod['Minute_Of_Day'].swifter.apply(lambda y: timeConvert(y)) + RegistrationMod['Second'].swifter.apply(lambda z: secondConvert(z))\n",
    "AppUninstalledMod['DateTime'] = AppUninstalledMod['Date'].swifter.apply(lambda x: dateConvert(x)) + AppUninstalledMod['Minute_Of_Day'].swifter.apply(lambda y: timeConvert(y)) + AppUninstalledMod['Second'].swifter.apply(lambda z: secondConvert(z))\n",
    "VideoStartedMod['DateTime'] = VideoStartedMod['Date'].swifter.apply(lambda x: dateConvert(x)) + VideoStartedMod['Minute_Of_Day'].swifter.apply(lambda y: timeConvert(y)) + VideoStartedMod['Second'].swifter.apply(lambda z: secondConvert(z))\n"
   ]
  },
  {
   "cell_type": "code",
   "execution_count": 6,
   "metadata": {},
   "outputs": [
    {
     "data": {
      "application/vnd.jupyter.widget-view+json": {
       "model_id": "d39404871b884fbfb11410dc919aba3a",
       "version_major": 2,
       "version_minor": 0
      },
      "text/plain": [
       "HBox(children=(FloatProgress(value=0.0, description='Dask Apply', max=32.0, style=ProgressStyle(description_wi…"
      ]
     },
     "metadata": {},
     "output_type": "display_data"
    },
    {
     "name": "stdout",
     "output_type": "stream",
     "text": [
      "\n"
     ]
    },
    {
     "data": {
      "application/vnd.jupyter.widget-view+json": {
       "model_id": "84d13c865b724fd68a98ff996e121f47",
       "version_major": 2,
       "version_minor": 0
      },
      "text/plain": [
       "HBox(children=(FloatProgress(value=0.0, description='Dask Apply', max=32.0, style=ProgressStyle(description_wi…"
      ]
     },
     "metadata": {},
     "output_type": "display_data"
    },
    {
     "name": "stdout",
     "output_type": "stream",
     "text": [
      "\n"
     ]
    },
    {
     "data": {
      "application/vnd.jupyter.widget-view+json": {
       "model_id": "6447f4c36bc949cca4295719c563998d",
       "version_major": 2,
       "version_minor": 0
      },
      "text/plain": [
       "HBox(children=(FloatProgress(value=0.0, description='Dask Apply', max=32.0, style=ProgressStyle(description_wi…"
      ]
     },
     "metadata": {},
     "output_type": "display_data"
    },
    {
     "name": "stdout",
     "output_type": "stream",
     "text": [
      "\n"
     ]
    },
    {
     "data": {
      "application/vnd.jupyter.widget-view+json": {
       "model_id": "583ea5c4cfcd4b469745507218242ed0",
       "version_major": 2,
       "version_minor": 0
      },
      "text/plain": [
       "HBox(children=(FloatProgress(value=0.0, description='Dask Apply', max=32.0, style=ProgressStyle(description_wi…"
      ]
     },
     "metadata": {},
     "output_type": "display_data"
    },
    {
     "name": "stdout",
     "output_type": "stream",
     "text": [
      "\n"
     ]
    },
    {
     "data": {
      "application/vnd.jupyter.widget-view+json": {
       "model_id": "d9d678b001a34eacb210ad6b1d846710",
       "version_major": 2,
       "version_minor": 0
      },
      "text/plain": [
       "HBox(children=(FloatProgress(value=0.0, description='Dask Apply', max=32.0, style=ProgressStyle(description_wi…"
      ]
     },
     "metadata": {},
     "output_type": "display_data"
    },
    {
     "name": "stdout",
     "output_type": "stream",
     "text": [
      "\n"
     ]
    },
    {
     "data": {
      "application/vnd.jupyter.widget-view+json": {
       "model_id": "716969c3f6af4759bc4f13c1077a4521",
       "version_major": 2,
       "version_minor": 0
      },
      "text/plain": [
       "HBox(children=(FloatProgress(value=0.0, description='Dask Apply', max=32.0, style=ProgressStyle(description_wi…"
      ]
     },
     "metadata": {},
     "output_type": "display_data"
    },
    {
     "name": "stdout",
     "output_type": "stream",
     "text": [
      "\n"
     ]
    }
   ],
   "source": [
    "AppLaunchedMod['StrDateTime'] = AppLaunchedMod['DateTime'].swifter.apply(lambda x : str(x))\n",
    "VideoDetailsMod['StrDateTime'] = VideoDetailsMod['DateTime'].swifter.apply(lambda x : str(x))\n",
    "UTMVisitedMod['StrDateTime'] = UTMVisitedMod['DateTime'].swifter.apply(lambda x : str(x))\n",
    "RegistrationMod['StrDateTime'] = RegistrationMod['DateTime'].swifter.apply(lambda x : str(x))\n",
    "AppUninstalledMod['StrDateTime'] = AppUninstalledMod['DateTime'].swifter.apply(lambda x : str(x))\n",
    "VideoStartedMod['StrDateTime'] = VideoStartedMod['DateTime'].swifter.apply(lambda x : str(x))\n"
   ]
  },
  {
   "cell_type": "code",
   "execution_count": null,
   "metadata": {},
   "outputs": [],
   "source": [
    "# AppLaunchedMod['DateTime'] = AppLaunchedMod['DateTime'].swifter.apply(lambda x : datetime.datetime.strptime(x, '%Y-%m-%d %H:%M:%S'))\n",
    "# VideoDetailsMod['DateTime'] = VideoDetailsMod['DateTime'].swifter.apply(lambda x : datetime.datetime.strptime(x, '%Y-%m-%d %H:%M:%S'))\n",
    "# UTMVisitedMod['DateTime'] = UTMVisitedMod['DateTime'].swifter.apply(lambda x : datetime.datetime.strptime(x, '%Y-%m-%d %H:%M:%S'))\n",
    "# RegistrationMod['DateTime'] = RegistrationMod['DateTime'].swifter.apply(lambda x : datetime.datetime.strptime(x, '%Y-%m-%d %H:%M:%S'))\n",
    "# AppUninstalledMod['DateTime'] = AppUninstalledMod['DateTime'].swifter.apply(lambda x : datetime.datetime.strptime(x, '%Y-%m-%d %H:%M:%S'))\n",
    "# VideoStartedMod['DateTime'] = VideoStartedMod['DateTime'].swifter.apply(lambda x : datetime.datetime.strptime(x, '%Y-%m-%d %H:%M:%S'))\n"
   ]
  },
  {
   "cell_type": "code",
   "execution_count": 9,
   "metadata": {},
   "outputs": [],
   "source": [
    "AppLaunchedMod.to_csv(path_or_buf='./Data/AppLaunchedMod.csv',sep=',',index=False)\n",
    "VideoDetailsMod.to_csv(path_or_buf='./Data/VideoDetailsMod.csv',sep=',',index=False)\n",
    "UTMVisitedMod.to_csv(path_or_buf='./Data/UTMVisitedMod.csv',sep=',',index=False)\n",
    "RegistrationMod.to_csv(path_or_buf='./Data/RegistrationMod.csv',sep=',',index=False)\n",
    "AppUninstalledMod.to_csv(path_or_buf='./Data/AppUninstalledMod.csv',sep=',',index=False)\n",
    "VideoStartedMod.to_csv(path_or_buf='./Data/VideoStartedMod.csv',sep=',',index=False)\n"
   ]
  },
  {
   "cell_type": "code",
   "execution_count": null,
   "metadata": {},
   "outputs": [],
   "source": []
  },
  {
   "cell_type": "code",
   "execution_count": null,
   "metadata": {},
   "outputs": [],
   "source": []
  }
 ],
 "metadata": {
  "kernelspec": {
   "display_name": "Python 3",
   "language": "python",
   "name": "python3"
  },
  "language_info": {
   "codemirror_mode": {
    "name": "ipython",
    "version": 3
   },
   "file_extension": ".py",
   "mimetype": "text/x-python",
   "name": "python",
   "nbconvert_exporter": "python",
   "pygments_lexer": "ipython3",
   "version": "3.7.3"
  }
 },
 "nbformat": 4,
 "nbformat_minor": 2
}
