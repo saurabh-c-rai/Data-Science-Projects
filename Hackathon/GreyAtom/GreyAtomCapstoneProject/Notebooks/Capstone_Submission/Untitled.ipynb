{
 "cells": [
  {
   "cell_type": "code",
   "execution_count": 1,
   "metadata": {},
   "outputs": [],
   "source": [
    "import numpy as np\n",
    "import pandas as pd\n",
    "import matplotlib.pyplot as plt\n",
    "import seaborn as sns\n",
    "%matplotlib inline\n",
    "import warnings\n",
    "warnings.filterwarnings('ignore')\n",
    "# from sklearn.preprocessing import LabelEncoder\n",
    "# from sklearn.linear_model import LogisticRegression\n",
    "# from sklearn.naive_bayes import GaussianNB\n",
    "# from sklearn.svm import SVC\n",
    "# from sklearn.discriminant_analysis import LinearDiscriminantAnalysis\n",
    "# from sklearn.neighbors import KNeighborsClassifier\n",
    "# from sklearn.cluster import KMeans\n",
    "# from sklearn.tree import DecisionTreeClassifier\n",
    "# from sklearn.ensemble import GradientBoostingClassifier ,RandomForestClassifier ,GradientBoostingClassifier\n",
    "# from xgboost import XGBClassifier \n",
    "# from sklearn.model_selection import GridSearchCV, RandomizedSearchCV\n",
    "# from sklearn.linear_model import Ridge,Lasso\n",
    "# from sklearn.metrics import roc_auc_score ,mean_squared_error,recall_score,f1_score,accuracy_score,classification_report,roc_curve,confusion_matrix,precision_score\n",
    "# from scipy.stats.mstats import winsorize\n",
    "# from sklearn.feature_selection import RFE\n",
    "# from sklearn.feature_selection import chi2\n",
    "# from sklearn.feature_selection import f_classif\n",
    "# from sklearn.feature_selection import SelectKBest\n",
    "# from sklearn.decomposition import PCA\n",
    "# from sklearn.model_selection import train_test_split\n",
    "# from mlxtend.classifier import StackingClassifier"
   ]
  },
  {
   "cell_type": "code",
   "execution_count": 2,
   "metadata": {},
   "outputs": [],
   "source": [
    "AppLaunched=pd.read_csv('./Data/AppLaunched.csv',sep=',')\n",
    "VideoDetails=pd.read_csv('./Data/VideoDetails.csv',sep=',')\n",
    "UTMVisited=pd.read_csv('./Data/UTMVisited.csv',sep=',')\n",
    "Registration=pd.read_csv('./Data/Registration.csv',sep=',')\n",
    "AppUninstalled=pd.read_csv('./Data/AppUninstalled.csv',sep=',')\n",
    "VideoStarted=pd.read_csv('./Data/VideoStarted.csv',sep=',')\n"
   ]
  },
  {
   "cell_type": "code",
   "execution_count": 3,
   "metadata": {},
   "outputs": [
    {
     "name": "stdout",
     "output_type": "stream",
     "text": [
      "AppLaunched Unique user count 449387\n",
      "VideoDetails Unique user count 252030\n",
      "UTMVisited Unique user count 281612\n",
      "Registration Unique user count 259318\n",
      "AppUninstalled Unique user count 307803\n",
      "VideoStarted Unique user count 165093\n"
     ]
    }
   ],
   "source": [
    "print('AppLaunched Unique user count',len(AppLaunched['UserId'].unique()))\n",
    "print('VideoDetails Unique user count',len(VideoDetails['UserId'].unique()))\n",
    "print('UTMVisited Unique user count',len(UTMVisited['UserId'].unique()))\n",
    "print('Registration Unique user count',len(Registration['UserId'].unique()))\n",
    "print('AppUninstalled Unique user count',len(AppUninstalled['UserId'].unique()))\n",
    "print('VideoStarted Unique user count',len(VideoStarted['UserId'].unique()))"
   ]
  },
  {
   "cell_type": "code",
   "execution_count": null,
   "metadata": {},
   "outputs": [],
   "source": [
    "AppLaunched.columns = ['UserId', 'AL_Date', 'AL_Minute_Of_Day', 'AL_Second', 'AL_State', 'AL_Country', 'AL_Device', 'AL_OS']\n",
    "VideoDetails.columns = ['UserId', 'VD_Date', 'VD_Minute_Of_Day', 'VD_Second', 'VD_State', 'VD_Genre', 'VD_Category', 'VD_ProgramType', 'VD_Country', 'VD_Device', 'VD_OS', 'VD_VideoId']\n",
    "UTMVisited.columns = ['UserId', 'UTM_Date', 'UTM_Minute_Of_Day', 'UTM_Second', 'UTM_State', 'UTM_Country', 'UTM_Device', 'UTM_OS']\n",
    "Registration.columns = ['UserId', 'R_Date', 'R_Minute_Of_Day', 'R_Second', 'R_State', 'R_Country', 'R_Device', 'R_OS', 'R_Status']\n",
    "AppUninstalled.columns = ['UserId', 'AU_Date', 'AU_Minute_Of_Day', 'AU_Second', 'AU_State', 'AU_Country', 'AU_Device', 'AU_OS']\n",
    "VideoStarted.columns = ['UserId', 'VS_Date', 'VS_Minute_Of_Day', 'VS_Second', 'VS_State', 'VS_Genre', 'VS_Category', 'VS_ProgramType', 'VS_Country', 'VS_Device', 'VS_OS', 'VS_VideoId']\n",
    "\n",
    "\n"
   ]
  },
  {
   "cell_type": "code",
   "execution_count": null,
   "metadata": {},
   "outputs": [],
   "source": [
    "Merge1 = pd.merge(AppLaunched,UTMVisited,how='outer',on='UserId')"
   ]
  },
  {
   "cell_type": "code",
   "execution_count": null,
   "metadata": {},
   "outputs": [],
   "source": [
    "Merge1.head()"
   ]
  },
  {
   "cell_type": "code",
   "execution_count": null,
   "metadata": {},
   "outputs": [],
   "source": [
    "Merge1 = pd.merge(Merge1,Registration,how='outer',on='UserId')"
   ]
  },
  {
   "cell_type": "code",
   "execution_count": null,
   "metadata": {},
   "outputs": [],
   "source": [
    "Merge1 = pd.merge(Merge1,VideoDetails,how='outer',on='UserId')"
   ]
  },
  {
   "cell_type": "code",
   "execution_count": null,
   "metadata": {},
   "outputs": [],
   "source": [
    "Merge1.info()"
   ]
  },
  {
   "cell_type": "code",
   "execution_count": null,
   "metadata": {},
   "outputs": [],
   "source": [
    "Registration['Status'].value_counts()"
   ]
  },
  {
   "cell_type": "code",
   "execution_count": null,
   "metadata": {},
   "outputs": [],
   "source": [
    "VideoDetails['UserId'].value_counts().head(10)"
   ]
  },
  {
   "cell_type": "code",
   "execution_count": null,
   "metadata": {},
   "outputs": [],
   "source": [
    "VideoDetails[VideoDetails['UserId']==\"0ceda9d5fc9679bab96b91b7a7380c13\"]"
   ]
  },
  {
   "cell_type": "code",
   "execution_count": null,
   "metadata": {},
   "outputs": [],
   "source": [
    "VideoStarted[VideoStarted['UserId']==\"0ceda9d5fc9679bab96b91b7a7380c13\"]"
   ]
  },
  {
   "cell_type": "code",
   "execution_count": null,
   "metadata": {},
   "outputs": [],
   "source": [
    "AppLaunched['OS'].value_counts()"
   ]
  },
  {
   "cell_type": "code",
   "execution_count": null,
   "metadata": {},
   "outputs": [],
   "source": [
    "import datetime\n",
    "import time\n",
    "\n",
    "print ('Current date/time: {}'.format(datetime.datetime.now()))"
   ]
  },
  {
   "cell_type": "code",
   "execution_count": null,
   "metadata": {},
   "outputs": [],
   "source": [
    "VideoStarted['Date'][0]"
   ]
  },
  {
   "cell_type": "code",
   "execution_count": null,
   "metadata": {},
   "outputs": [],
   "source": [
    "x = str(VideoStarted['Date'][0])"
   ]
  },
  {
   "cell_type": "code",
   "execution_count": null,
   "metadata": {},
   "outputs": [],
   "source": [
    "s_date = datetime.datetime.strptime(x, '%Y%m%d')"
   ]
  },
  {
   "cell_type": "code",
   "execution_count": null,
   "metadata": {},
   "outputs": [],
   "source": [
    "s_date.date()"
   ]
  },
  {
   "cell_type": "code",
   "execution_count": null,
   "metadata": {},
   "outputs": [],
   "source": [
    "import datetime \n",
    "  \n",
    "def convert(n): \n",
    "    return (datetime.timedelta(minutes = n)) \n",
    "      \n",
    "# Driver program \n",
    "n = int(VideoStarted['Minute_Of_Day'][1000])\n",
    "y = convert(n)\n",
    "print(y+datetime.timedelta(0,int(str(VideoStarted['Second'][1000]))))"
   ]
  },
  {
   "cell_type": "code",
   "execution_count": null,
   "metadata": {},
   "outputs": [],
   "source": [
    "VideoStarted['Second'][1000]"
   ]
  },
  {
   "cell_type": "code",
   "execution_count": null,
   "metadata": {},
   "outputs": [],
   "source": [
    "z=datetime.datetime.strptime(str(VideoStarted['Date'][1000]), '%Y%m%d')+(datetime.timedelta(minutes = int(VideoStarted['Minute_Of_Day'][1000]))+datetime.timedelta(0,int(str(VideoStarted['Second'][1000]))))"
   ]
  },
  {
   "cell_type": "code",
   "execution_count": null,
   "metadata": {},
   "outputs": [],
   "source": [
    "str(z)"
   ]
  },
  {
   "cell_type": "code",
   "execution_count": null,
   "metadata": {},
   "outputs": [],
   "source": []
  }
 ],
 "metadata": {
  "kernelspec": {
   "display_name": "Python 3",
   "language": "python",
   "name": "python3"
  },
  "language_info": {
   "codemirror_mode": {
    "name": "ipython",
    "version": 3
   },
   "file_extension": ".py",
   "mimetype": "text/x-python",
   "name": "python",
   "nbconvert_exporter": "python",
   "pygments_lexer": "ipython3",
   "version": "3.7.3"
  }
 },
 "nbformat": 4,
 "nbformat_minor": 2
}
