{
 "cells": [
  {
   "cell_type": "code",
   "execution_count": 1,
   "metadata": {},
   "outputs": [],
   "source": [
    "import numpy as np\n",
    "import pandas as pd\n",
    "import matplotlib.pyplot as plt\n",
    "import seaborn as sns\n",
    "%matplotlib inline\n",
    "import warnings\n",
    "warnings.filterwarnings('ignore')\n",
    "from sklearn.preprocessing import LabelEncoder\n",
    "from sklearn.linear_model import LogisticRegression\n",
    "# from sklearn.naive_bayes import GaussianNB\n",
    "# from sklearn.svm import SVC\n",
    "# from sklearn.discriminant_analysis import LinearDiscriminantAnalysis\n",
    "# from sklearn.neighbors import KNeighborsClassifier\n",
    "# from sklearn.cluster import KMeans\n",
    "# from sklearn.tree import DecisionTreeClassifier\n",
    "# from sklearn.ensemble import GradientBoostingClassifier ,RandomForestClassifier ,GradientBoostingClassifier\n",
    "# from xgboost import XGBClassifier \n",
    "# from sklearn.model_selection import GridSearchCV, RandomizedSearchCV\n",
    "# from sklearn.linear_model import Ridge,Lasso\n",
    "# from sklearn.metrics import roc_auc_score ,mean_squared_error,recall_score,f1_score,accuracy_score,classification_report,roc_curve,confusion_matrix,precision_score\n",
    "# from scipy.stats.mstats import winsorize\n",
    "# from sklearn.feature_selection import RFE\n",
    "# from sklearn.feature_selection import chi2\n",
    "# from sklearn.feature_selection import f_classif\n",
    "# from sklearn.feature_selection import SelectKBest\n",
    "# from sklearn.decomposition import PCA\n",
    "# from sklearn.model_selection import train_test_split\n",
    "# from mlxtend.classifier import StackingClassifier\n",
    "import datetime\n",
    "import time\n",
    "import swifter\n",
    "import math"
   ]
  },
  {
   "cell_type": "code",
   "execution_count": 2,
   "metadata": {},
   "outputs": [],
   "source": [
    "AppLaunchedMod = pd.read_csv('./Data/AppLaunchedMod.csv',sep=',')\n",
    "VideoDetailsMod = pd.read_csv('./Data/VideoDetailsMod.csv',sep=',')\n",
    "UTMVisitedMod = pd.read_csv('./Data/UTMVisitedMod.csv',sep=',')\n",
    "RegistrationMod = pd.read_csv('./Data/RegistrationMod.csv',sep=',')\n",
    "AppUninstalledMod = pd.read_csv('./Data/AppUninstalledMod.csv',sep=',')\n",
    "VideoStartedMod =pd.read_csv('./Data/VideoStartedMod.csv',sep=',')\n"
   ]
  },
  {
   "cell_type": "code",
   "execution_count": 3,
   "metadata": {},
   "outputs": [],
   "source": [
    "AppLaunchedMod['Status'] = \"NA\"\n",
    "UTMVisitedMod['Status'] = \"NA\"\n",
    "AppUninstalledMod['Status'] = \"NA\""
   ]
  },
  {
   "cell_type": "code",
   "execution_count": 4,
   "metadata": {},
   "outputs": [],
   "source": [
    "AppLaunchedMod['Event'] = \"App Launched\"\n",
    "UTMVisitedMod['Event'] = \"UTM Visited\"\n",
    "RegistrationMod['Event'] = \"Registration\"\n",
    "AppUninstalledMod['Event'] = \"App Uninstalled\""
   ]
  },
  {
   "cell_type": "code",
   "execution_count": 5,
   "metadata": {},
   "outputs": [],
   "source": [
    "Combined_Data_AL_UTM_Reg_AU = pd.DataFrame()"
   ]
  },
  {
   "cell_type": "code",
   "execution_count": 6,
   "metadata": {},
   "outputs": [],
   "source": [
    "Combined_Data_AL_UTM_Reg_AU = AppLaunchedMod.copy()"
   ]
  },
  {
   "cell_type": "code",
   "execution_count": 7,
   "metadata": {},
   "outputs": [],
   "source": [
    "Combined_Data_AL_UTM_Reg_AU = Combined_Data_AL_UTM_Reg_AU.append(UTMVisitedMod,ignore_index=True)\n",
    "Combined_Data_AL_UTM_Reg_AU = Combined_Data_AL_UTM_Reg_AU.append(RegistrationMod,ignore_index=True)\n",
    "Combined_Data_AL_UTM_Reg_AU = Combined_Data_AL_UTM_Reg_AU.append(AppUninstalledMod,ignore_index=True)\n"
   ]
  },
  {
   "cell_type": "code",
   "execution_count": 9,
   "metadata": {},
   "outputs": [],
   "source": [
    "Combined_Data_AL_UTM_Reg_AU.sort_values(['UserId','DateTime','Event'],axis=0,inplace=True)"
   ]
  },
  {
   "cell_type": "code",
   "execution_count": 10,
   "metadata": {},
   "outputs": [],
   "source": [
    "Combined_Data_AL_UTM_Reg_AU.to_csv(path_or_buf='./Data/Combined_Data_AL_UTM_Reg_AU.csv',sep=',',index=False)"
   ]
  },
  {
   "cell_type": "code",
   "execution_count": null,
   "metadata": {},
   "outputs": [],
   "source": []
  },
  {
   "cell_type": "code",
   "execution_count": null,
   "metadata": {},
   "outputs": [],
   "source": []
  },
  {
   "cell_type": "code",
   "execution_count": null,
   "metadata": {},
   "outputs": [],
   "source": []
  },
  {
   "cell_type": "code",
   "execution_count": null,
   "metadata": {},
   "outputs": [],
   "source": []
  },
  {
   "cell_type": "code",
   "execution_count": null,
   "metadata": {},
   "outputs": [],
   "source": []
  },
  {
   "cell_type": "code",
   "execution_count": null,
   "metadata": {},
   "outputs": [],
   "source": []
  }
 ],
 "metadata": {
  "kernelspec": {
   "display_name": "Python 3",
   "language": "python",
   "name": "python3"
  },
  "language_info": {
   "codemirror_mode": {
    "name": "ipython",
    "version": 3
   },
   "file_extension": ".py",
   "mimetype": "text/x-python",
   "name": "python",
   "nbconvert_exporter": "python",
   "pygments_lexer": "ipython3",
   "version": "3.7.3"
  }
 },
 "nbformat": 4,
 "nbformat_minor": 2
}
