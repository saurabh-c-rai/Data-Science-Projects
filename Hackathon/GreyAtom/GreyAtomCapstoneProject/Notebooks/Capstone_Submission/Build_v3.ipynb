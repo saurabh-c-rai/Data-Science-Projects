{
 "cells": [
  {
   "cell_type": "code",
   "execution_count": 1,
   "metadata": {},
   "outputs": [],
   "source": [
    "import numpy as np\n",
    "import pandas as pd\n",
    "import matplotlib.pyplot as plt\n",
    "import seaborn as sns\n",
    "%matplotlib inline\n",
    "import warnings\n",
    "warnings.filterwarnings('ignore')\n",
    "from sklearn.preprocessing import LabelEncoder\n",
    "from sklearn.linear_model import LogisticRegression\n",
    "from sklearn.naive_bayes import GaussianNB\n",
    "from sklearn.svm import SVC\n",
    "from sklearn.discriminant_analysis import LinearDiscriminantAnalysis\n",
    "from sklearn.neighbors import KNeighborsClassifier\n",
    "from sklearn.cluster import KMeans\n",
    "from sklearn.tree import DecisionTreeClassifier\n",
    "from sklearn.ensemble import GradientBoostingClassifier ,RandomForestClassifier ,GradientBoostingClassifier\n",
    "from xgboost import XGBClassifier \n",
    "from sklearn.model_selection import GridSearchCV, RandomizedSearchCV\n",
    "from sklearn.linear_model import Ridge,Lasso\n",
    "from sklearn.metrics import roc_auc_score ,mean_squared_error,recall_score,f1_score,accuracy_score,classification_report,roc_curve,confusion_matrix,precision_score\n",
    "from scipy.stats.mstats import winsorize\n",
    "from sklearn.feature_selection import RFE\n",
    "from sklearn.feature_selection import chi2\n",
    "from sklearn.feature_selection import f_classif\n",
    "from sklearn.feature_selection import SelectKBest\n",
    "from sklearn.decomposition import PCA\n",
    "from sklearn.model_selection import train_test_split\n",
    "from mlxtend.classifier import StackingClassifier\n",
    "import datetime\n",
    "import time\n",
    "import swifter\n",
    "import math"
   ]
  },
  {
   "cell_type": "code",
   "execution_count": 2,
   "metadata": {},
   "outputs": [],
   "source": [
    "AppLaunched=pd.read_csv('./Data/AppLaunched.csv',sep=',')\n",
    "VideoDetails=pd.read_csv('./Data/VideoDetails.csv',sep=',')\n",
    "UTMVisited=pd.read_csv('./Data/UTMVisited.csv',sep=',')\n",
    "Registration=pd.read_csv('./Data/Registration.csv',sep=',')\n",
    "AppUninstalled=pd.read_csv('./Data/AppUninstalled.csv',sep=',')\n",
    "VideoStarted=pd.read_csv('./Data/VideoStarted.csv',sep=',')\n",
    "MainDataset = pd.DataFrame()\n"
   ]
  },
  {
   "cell_type": "code",
   "execution_count": 3,
   "metadata": {},
   "outputs": [],
   "source": [
    "MainDataset = pd.DataFrame()"
   ]
  },
  {
   "cell_type": "code",
   "execution_count": 3,
   "metadata": {},
   "outputs": [],
   "source": [
    "al = AppLaunched['UserId'].unique().tolist()"
   ]
  },
  {
   "cell_type": "code",
   "execution_count": 4,
   "metadata": {},
   "outputs": [],
   "source": [
    "al.extend(VideoDetails['UserId'].unique().tolist())\n",
    "al.extend(UTMVisited['UserId'].unique().tolist())\n",
    "al.extend(Registration['UserId'].unique().tolist())\n",
    "al.extend(AppUninstalled['UserId'].unique().tolist())\n",
    "al.extend(VideoStarted['UserId'].unique().tolist())"
   ]
  },
  {
   "cell_type": "code",
   "execution_count": 5,
   "metadata": {},
   "outputs": [],
   "source": [
    "al = set(al)\n",
    "al = list(al)"
   ]
  },
  {
   "cell_type": "code",
   "execution_count": 6,
   "metadata": {},
   "outputs": [],
   "source": [
    "uu = pd.Series(data=al,name='UniqueUsers')"
   ]
  },
  {
   "cell_type": "code",
   "execution_count": null,
   "metadata": {},
   "outputs": [],
   "source": [
    "MainDataset['UniqueUsers'] = uu"
   ]
  },
  {
   "cell_type": "code",
   "execution_count": 9,
   "metadata": {},
   "outputs": [],
   "source": [
    "appL = pd.Series(data=AppLaunched['UserId'].unique().tolist(),name='ALUsers')\n",
    "VD = pd.Series(data=VideoDetails['UserId'].unique().tolist(),name='VDUsers')\n",
    "UTM = pd.Series(data=UTMVisited['UserId'].unique().tolist(),name='UTMUsers')\n",
    "Reg = pd.Series(data=Registration['UserId'].unique().tolist(),name='RUsers')\n",
    "appU = pd.Series(data=AppUninstalled['UserId'].unique().tolist(),name='AUUsers')\n",
    "VS = pd.Series(data=VideoStarted['UserId'].unique().tolist(),name='VSUsers')"
   ]
  },
  {
   "cell_type": "code",
   "execution_count": 10,
   "metadata": {},
   "outputs": [],
   "source": [
    "MainDataset = MainDataset.merge(appL,how='left',left_on='UniqueUsers',right_on='ALUsers')\n",
    "MainDataset = MainDataset.merge(VD,how='left',left_on='UniqueUsers',right_on='VDUsers')\n",
    "MainDataset = MainDataset.merge(UTM,how='left',left_on='UniqueUsers',right_on='UTMUsers')\n",
    "MainDataset = MainDataset.merge(Reg,how='left',left_on='UniqueUsers',right_on='RUsers')\n",
    "MainDataset = MainDataset.merge(appU,how='left',left_on='UniqueUsers',right_on='AUUsers')\n",
    "MainDataset = MainDataset.merge(VS,how='left',left_on='UniqueUsers',right_on='VSUsers')"
   ]
  },
  {
   "cell_type": "code",
   "execution_count": null,
   "metadata": {},
   "outputs": [],
   "source": []
  },
  {
   "cell_type": "code",
   "execution_count": 11,
   "metadata": {},
   "outputs": [
    {
     "data": {
      "application/vnd.jupyter.widget-view+json": {
       "model_id": "8b6ee3d30a0f4dc79165201268d145ea",
       "version_major": 2,
       "version_minor": 0
      },
      "text/plain": [
       "HBox(children=(FloatProgress(value=0.0, description='Pandas Apply', max=466124.0, style=ProgressStyle(descript…"
      ]
     },
     "metadata": {},
     "output_type": "display_data"
    },
    {
     "name": "stdout",
     "output_type": "stream",
     "text": [
      "\n"
     ]
    },
    {
     "data": {
      "application/vnd.jupyter.widget-view+json": {
       "model_id": "95aa187d2e874ac09ff851912d9d07df",
       "version_major": 2,
       "version_minor": 0
      },
      "text/plain": [
       "HBox(children=(FloatProgress(value=0.0, description='Pandas Apply', max=466124.0, style=ProgressStyle(descript…"
      ]
     },
     "metadata": {},
     "output_type": "display_data"
    },
    {
     "name": "stdout",
     "output_type": "stream",
     "text": [
      "\n"
     ]
    },
    {
     "data": {
      "application/vnd.jupyter.widget-view+json": {
       "model_id": "67b50ed83b16483abefa54a577a88056",
       "version_major": 2,
       "version_minor": 0
      },
      "text/plain": [
       "HBox(children=(FloatProgress(value=0.0, description='Pandas Apply', max=466124.0, style=ProgressStyle(descript…"
      ]
     },
     "metadata": {},
     "output_type": "display_data"
    },
    {
     "name": "stdout",
     "output_type": "stream",
     "text": [
      "\n"
     ]
    },
    {
     "data": {
      "application/vnd.jupyter.widget-view+json": {
       "model_id": "962927585e1d4989be335758e4b1f631",
       "version_major": 2,
       "version_minor": 0
      },
      "text/plain": [
       "HBox(children=(FloatProgress(value=0.0, description='Pandas Apply', max=466124.0, style=ProgressStyle(descript…"
      ]
     },
     "metadata": {},
     "output_type": "display_data"
    },
    {
     "name": "stdout",
     "output_type": "stream",
     "text": [
      "\n"
     ]
    },
    {
     "data": {
      "application/vnd.jupyter.widget-view+json": {
       "model_id": "9799fb8a6ecf4c17ada69ce6fa66e782",
       "version_major": 2,
       "version_minor": 0
      },
      "text/plain": [
       "HBox(children=(FloatProgress(value=0.0, description='Pandas Apply', max=466124.0, style=ProgressStyle(descript…"
      ]
     },
     "metadata": {},
     "output_type": "display_data"
    },
    {
     "name": "stdout",
     "output_type": "stream",
     "text": [
      "\n"
     ]
    },
    {
     "data": {
      "application/vnd.jupyter.widget-view+json": {
       "model_id": "d8bd59206bce4a10906a91ece42074d4",
       "version_major": 2,
       "version_minor": 0
      },
      "text/plain": [
       "HBox(children=(FloatProgress(value=0.0, description='Pandas Apply', max=466124.0, style=ProgressStyle(descript…"
      ]
     },
     "metadata": {},
     "output_type": "display_data"
    },
    {
     "name": "stdout",
     "output_type": "stream",
     "text": [
      "\n"
     ]
    }
   ],
   "source": [
    "MainDataset['ALUsers'] = MainDataset['ALUsers'].swifter.apply(lambda x : 1 if pd.notnull(x) else 0)\n",
    "MainDataset['VDUsers'] = MainDataset['VDUsers'].swifter.apply(lambda x : 1 if pd.notnull(x) else 0)\n",
    "MainDataset['UTMUsers'] = MainDataset['UTMUsers'].swifter.apply(lambda x : 1 if pd.notnull(x) else 0)\n",
    "MainDataset['RUsers'] = MainDataset['RUsers'].swifter.apply(lambda x : 1 if pd.notnull(x) else 0)\n",
    "MainDataset['AUUsers'] = MainDataset['AUUsers'].swifter.apply(lambda x : 1 if pd.notnull(x) else 0)\n",
    "MainDataset['VSUsers'] = MainDataset['VSUsers'].swifter.apply(lambda x : 1 if pd.notnull(x) else 0)"
   ]
  },
  {
   "cell_type": "code",
   "execution_count": null,
   "metadata": {},
   "outputs": [],
   "source": [
    "Registration.Status.value_counts()"
   ]
  },
  {
   "cell_type": "code",
   "execution_count": null,
   "metadata": {},
   "outputs": [],
   "source": []
  },
  {
   "cell_type": "code",
   "execution_count": null,
   "metadata": {},
   "outputs": [],
   "source": []
  },
  {
   "cell_type": "code",
   "execution_count": 16,
   "metadata": {},
   "outputs": [
    {
     "data": {
      "text/plain": [
       "numpy.int64"
      ]
     },
     "execution_count": 16,
     "metadata": {},
     "output_type": "execute_result"
    }
   ],
   "source": [
    "type(MainDataset['ALUsers'][138])"
   ]
  },
  {
   "cell_type": "code",
   "execution_count": 15,
   "metadata": {},
   "outputs": [
    {
     "data": {
      "text/plain": [
       "0    301031\n",
       "1    165093\n",
       "Name: VSUsers, dtype: int64"
      ]
     },
     "execution_count": 15,
     "metadata": {},
     "output_type": "execute_result"
    }
   ],
   "source": [
    "MainDataset.VSUsers.value_counts()"
   ]
  },
  {
   "cell_type": "code",
   "execution_count": 7,
   "metadata": {},
   "outputs": [],
   "source": []
  },
  {
   "cell_type": "code",
   "execution_count": 8,
   "metadata": {},
   "outputs": [],
   "source": []
  },
  {
   "cell_type": "code",
   "execution_count": 12,
   "metadata": {},
   "outputs": [
    {
     "data": {
      "text/plain": [
       "UniqueUsers    0\n",
       "ALUsers        0\n",
       "VDUsers        0\n",
       "UTMUsers       0\n",
       "RUsers         0\n",
       "AUUsers        0\n",
       "VSUsers        0\n",
       "dtype: int64"
      ]
     },
     "execution_count": 12,
     "metadata": {},
     "output_type": "execute_result"
    }
   ],
   "source": [
    "MainDataset.isnull().sum()"
   ]
  },
  {
   "cell_type": "code",
   "execution_count": null,
   "metadata": {},
   "outputs": [],
   "source": [
    "print('AppLaunched Unique user count',len(AppLaunched['UserId'].unique()))\n",
    "print('VideoDetails Unique user count',len(VideoDetails['UserId'].unique()))\n",
    "print('UTMVisited Unique user count',len(UTMVisited['UserId'].unique()))\n",
    "print('Registration Unique user count',len(Registration['UserId'].unique()))\n",
    "print('AppUninstalled Unique user count',len(AppUninstalled['UserId'].unique()))\n",
    "print('VideoStarted Unique user count',len(VideoStarted['UserId'].unique()))"
   ]
  },
  {
   "cell_type": "code",
   "execution_count": null,
   "metadata": {},
   "outputs": [],
   "source": [
    "# AppLaunched.columns = ['UserId', 'AL_Date', 'AL_Minute_Of_Day', 'AL_Second', 'AL_State', 'AL_Country', 'AL_Device', 'AL_OS']\n",
    "# VideoDetails.columns = ['UserId', 'VD_Date', 'VD_Minute_Of_Day', 'VD_Second', 'VD_State', 'VD_Genre', 'VD_Category', 'VD_ProgramType', 'VD_Country', 'VD_Device', 'VD_OS', 'VD_VideoId']\n",
    "# UTMVisited.columns = ['UserId', 'UTM_Date', 'UTM_Minute_Of_Day', 'UTM_Second', 'UTM_State', 'UTM_Country', 'UTM_Device', 'UTM_OS']\n",
    "# Registration.columns = ['UserId', 'R_Date', 'R_Minute_Of_Day', 'R_Second', 'R_State', 'R_Country', 'R_Device', 'R_OS', 'R_Status']\n",
    "# AppUninstalled.columns = ['UserId', 'AU_Date', 'AU_Minute_Of_Day', 'AU_Second', 'AU_State', 'AU_Country', 'AU_Device', 'AU_OS']\n",
    "# VideoStarted.columns = ['UserId', 'VS_Date', 'VS_Minute_Of_Day', 'VS_Second', 'VS_State', 'VS_Genre', 'VS_Category', 'VS_ProgramType', 'VS_Country', 'VS_Device', 'VS_OS', 'VS_VideoId']\n",
    "\n",
    "\n"
   ]
  },
  {
   "cell_type": "code",
   "execution_count": null,
   "metadata": {},
   "outputs": [],
   "source": [
    "def dateConvert(d) :\n",
    "    return datetime.datetime.strptime(str(d), '%Y%m%d')\n",
    "\n",
    "def timeConvert(t) :\n",
    "    return datetime.timedelta(minutes = int(t))\n",
    "\n",
    "def secondConvert(s) :\n",
    "    return datetime.timedelta(0,int(str(s)))\n",
    "    "
   ]
  },
  {
   "cell_type": "code",
   "execution_count": null,
   "metadata": {},
   "outputs": [],
   "source": [
    "VideoStarted['DateTime'] = \"\"\n",
    "VideoStarted['DateTime'] = VideoStarted['Date'].swifter.apply(lambda x: dateConvert(x)) + VideoStarted['Minute_Of_Day'].swifter.apply(lambda y: timeConvert(y)) + VideoStarted['Second'].swifter.apply(lambda z: secondConvert(z))"
   ]
  },
  {
   "cell_type": "code",
   "execution_count": null,
   "metadata": {},
   "outputs": [],
   "source": [
    "VideoStarted.sort_values(['UserId','DateTime','VideoId'],axis=0,inplace=True)"
   ]
  },
  {
   "cell_type": "code",
   "execution_count": null,
   "metadata": {},
   "outputs": [],
   "source": [
    "VideoStarted['PreviousDateTime'] = VideoStarted['DateTime'].copy()"
   ]
  },
  {
   "cell_type": "code",
   "execution_count": null,
   "metadata": {},
   "outputs": [],
   "source": [
    "VideoStarted.drop_duplicates(subset=['UserId', 'DateTime', 'VideoId', 'Date', 'Minute_Of_Day', 'Second', 'State', 'Genre', 'Category', 'ProgramType', 'Country', 'Device', 'OS'],keep='first',inplace=True)"
   ]
  },
  {
   "cell_type": "code",
   "execution_count": null,
   "metadata": {},
   "outputs": [],
   "source": [
    "VideoStarted.PreviousDateTime = VideoStarted.groupby(['UserId'])['PreviousDateTime'].shift(1)"
   ]
  },
  {
   "cell_type": "code",
   "execution_count": null,
   "metadata": {},
   "outputs": [],
   "source": [
    "VideoStarted.head(50)"
   ]
  },
  {
   "cell_type": "code",
   "execution_count": null,
   "metadata": {},
   "outputs": [],
   "source": [
    "def diffHours(dd) :\n",
    "    days, seconds = dd.days, dd.seconds\n",
    "    hours = days * 24 + seconds // 3600\n",
    "    return hours"
   ]
  },
  {
   "cell_type": "code",
   "execution_count": null,
   "metadata": {},
   "outputs": [],
   "source": [
    "VideoStarted['Hours'] = VideoStarted['DateTime'] - VideoStarted['PreviousDateTime']"
   ]
  },
  {
   "cell_type": "code",
   "execution_count": null,
   "metadata": {},
   "outputs": [],
   "source": [
    "VideoStarted['Hours'] = VideoStarted['Hours'].swifter.apply(lambda x : diffHours(x))"
   ]
  },
  {
   "cell_type": "code",
   "execution_count": null,
   "metadata": {},
   "outputs": [],
   "source": [
    "VideoStarted['UserFreq'] = \"\""
   ]
  },
  {
   "cell_type": "code",
   "execution_count": null,
   "metadata": {},
   "outputs": [],
   "source": [
    "def userFrequency(e) :\n",
    "    return int(VideoStarted[VideoStarted['UserId'] == e]['UserId'].value_counts().values)"
   ]
  },
  {
   "cell_type": "code",
   "execution_count": null,
   "metadata": {},
   "outputs": [],
   "source": [
    "# VideoStarted['UserFreq'] = VideoStarted['UserId'].apply(lambda f : userFrequency(f))"
   ]
  },
  {
   "cell_type": "code",
   "execution_count": null,
   "metadata": {},
   "outputs": [],
   "source": [
    "Freq = VideoStarted['UserId'].value_counts()"
   ]
  },
  {
   "cell_type": "code",
   "execution_count": null,
   "metadata": {},
   "outputs": [],
   "source": [
    "VideoStarted = VideoStarted.merge(Freq,how='inner',left_on='UserId',right_index=True)"
   ]
  },
  {
   "cell_type": "code",
   "execution_count": null,
   "metadata": {},
   "outputs": [],
   "source": [
    "VideoStarted['UserFreq'] = VideoStarted['UserId_y'].copy()"
   ]
  },
  {
   "cell_type": "code",
   "execution_count": null,
   "metadata": {},
   "outputs": [],
   "source": [
    "VideoStarted.head(50)"
   ]
  },
  {
   "cell_type": "code",
   "execution_count": null,
   "metadata": {},
   "outputs": [],
   "source": [
    "VideoStarted.drop(['UserId_x','Date','Minute_Of_Day','Second','UserId_y'],axis=1,inplace=True)"
   ]
  },
  {
   "cell_type": "code",
   "execution_count": null,
   "metadata": {},
   "outputs": [],
   "source": [
    "VideoStarted['Watched'] = 0"
   ]
  },
  {
   "cell_type": "code",
   "execution_count": null,
   "metadata": {},
   "outputs": [],
   "source": [
    "VideoStarted.drop(VideoStarted[(VideoStarted['UserFreq'] > 1) & (VideoStarted['Hours'].isnull() == True)].index,inplace=True)"
   ]
  },
  {
   "cell_type": "code",
   "execution_count": null,
   "metadata": {},
   "outputs": [],
   "source": [
    "VideoStarted['Watched'] = VideoStarted['Hours'].swifter.apply(lambda x : 1 if x <= 48.0 else 0)"
   ]
  },
  {
   "cell_type": "code",
   "execution_count": null,
   "metadata": {},
   "outputs": [],
   "source": [
    "VideoStarted.isnull().sum()"
   ]
  },
  {
   "cell_type": "code",
   "execution_count": null,
   "metadata": {},
   "outputs": [],
   "source": [
    "VideoStarted['DateTime'] = VideoStarted['DateTime'].swifter.apply(lambda x : str(x))"
   ]
  },
  {
   "cell_type": "code",
   "execution_count": null,
   "metadata": {},
   "outputs": [],
   "source": [
    "VideoStarted.drop(['PreviousDateTime'],axis=1,inplace=True)"
   ]
  },
  {
   "cell_type": "code",
   "execution_count": null,
   "metadata": {},
   "outputs": [],
   "source": [
    "VideoStarted.Hours.fillna(9999.0,inplace=True)"
   ]
  },
  {
   "cell_type": "code",
   "execution_count": null,
   "metadata": {},
   "outputs": [],
   "source": [
    "# MainDataset = VideoStarted.copy()"
   ]
  },
  {
   "cell_type": "code",
   "execution_count": null,
   "metadata": {},
   "outputs": [],
   "source": [
    "VideoStarted['Watched'].value_counts()"
   ]
  },
  {
   "cell_type": "code",
   "execution_count": null,
   "metadata": {},
   "outputs": [],
   "source": [
    "le = LabelEncoder()\n",
    "# Function that auto encodes any dataframe column of type category or object.\n",
    "def dummyEncode(dataset):\n",
    "        \n",
    "        columnsToEncode = list(dataset.select_dtypes(include=['category','object']))\n",
    "        le = LabelEncoder()\n",
    "        for feature in columnsToEncode:\n",
    "            try:\n",
    "                dataset[feature] = le.fit_transform(dataset[feature])\n",
    "            except:\n",
    "                print('Error encoding '+feature)\n",
    "        return dataset\n",
    "VideoStarted_Encoded = dummyEncode(VideoStarted)"
   ]
  },
  {
   "cell_type": "code",
   "execution_count": null,
   "metadata": {},
   "outputs": [],
   "source": [
    "VideoStarted_Encoded.head()"
   ]
  },
  {
   "cell_type": "code",
   "execution_count": null,
   "metadata": {},
   "outputs": [],
   "source": [
    "X = VideoStarted_Encoded.iloc[:,:-1]\n",
    "y = VideoStarted_Encoded.iloc[:,-1]"
   ]
  },
  {
   "cell_type": "code",
   "execution_count": null,
   "metadata": {},
   "outputs": [],
   "source": [
    "X_train,X_test,y_train,y_test = train_test_split(X,y,test_size=0.20, random_state=42)"
   ]
  },
  {
   "cell_type": "code",
   "execution_count": null,
   "metadata": {},
   "outputs": [],
   "source": [
    "def run_model(X_train, y_train,X_test,y_test,model):\n",
    "    \n",
    "    #X_train,X_test,y_train,y_test = train_test_split(predictor_train,target_train,test_size=0.2,random_state=42)\n",
    "    model.fit(X_train, y_train)\n",
    "    y_pred = model.predict(X_test)\n",
    "    \n",
    "    print(y_pred.shape)\n",
    "    print(model)\n",
    "    print('Precision is',precision_score(y_test, y_pred,average='binary'))\n",
    "    print('Accuracy:',accuracy_score(y_test,y_pred))\n",
    "    print('F1 score:',f1_score(y_test,y_pred))\n",
    "    print('Recall Score:',recall_score(y_test,y_pred))\n",
    "    tn, fp, fn, tp = confusion_matrix(y_test,y_pred).ravel()\n",
    "    print('Confusion Matrix:\\n')\n",
    "    print(tp,fp)\n",
    "    print(fn,tn)\n",
    "    \n",
    "    false_positive_rate, true_positive_rate, thresholds = roc_curve(y_test, y_pred)\n",
    "    plt.plot(false_positive_rate, true_positive_rate)\n",
    "    plt.xlabel('FPR')\n",
    "    plt.ylabel('TPR')\n",
    "    plt.title('ROC curve')\n",
    "    plt.show()\n",
    "    return y_pred"
   ]
  },
  {
   "cell_type": "code",
   "execution_count": null,
   "metadata": {},
   "outputs": [],
   "source": [
    "#models = [GaussianNB,LinearDiscriminantAnalysis,LogisticRegression,KNeighborsClassifier,DecisionTreeClassifier,RandomForestClassifier,XGBClassifier,GradientBoostingClassifier]\n",
    "\n",
    "models = [LogisticRegression]\n",
    "\n",
    "\n",
    "for model in models:\n",
    "    # run model\n",
    "    model = model()\n",
    "    run_model(X_train, y_train,X_test,y_test,model)"
   ]
  },
  {
   "cell_type": "code",
   "execution_count": 17,
   "metadata": {},
   "outputs": [],
   "source": [
    "MainDataset.to_csv(path_or_buf='./Data/MainDataset.csv',sep=',',index=False)"
   ]
  },
  {
   "cell_type": "code",
   "execution_count": 92,
   "metadata": {},
   "outputs": [],
   "source": [
    "FrequencyData = pd.DataFrame()\n",
    "FrequencyData['UniqueUsers'] = uu"
   ]
  },
  {
   "cell_type": "code",
   "execution_count": 93,
   "metadata": {},
   "outputs": [],
   "source": [
    "appLFreq = pd.Series(AppLaunched['UserId'].value_counts(),name='appLFreq')\n",
    "VDFreq = pd.Series(VideoDetails['UserId'].value_counts(),name='VDFreq')\n",
    "UTMFreq = pd.Series(UTMVisited['UserId'].value_counts(),name='UTMFreq')\n",
    "RFreq = pd.Series(Registration['UserId'].value_counts(),name='RFreq')\n",
    "appUFreq = pd.Series(AppUninstalled['UserId'].value_counts(),name='appUFreq')\n",
    "VSFreq = pd.Series(VideoStarted['UserId'].value_counts(),name='VSFreq')\n"
   ]
  },
  {
   "cell_type": "code",
   "execution_count": 117,
   "metadata": {},
   "outputs": [],
   "source": [
    "FrequencyData = FrequencyData.merge(appLFreq,how='left',left_on='UniqueUsers',right_index=True)\n",
    "FrequencyData = FrequencyData.merge(VDFreq,how='left',left_on='UniqueUsers',right_index=True)\n",
    "FrequencyData = FrequencyData.merge(UTMFreq,how='left',left_on='UniqueUsers',right_index=True)\n",
    "FrequencyData = FrequencyData.merge(RFreq,how='left',left_on='UniqueUsers',right_index=True)\n",
    "FrequencyData = FrequencyData.merge(appUFreq,how='left',left_on='UniqueUsers',right_index=True)\n",
    "FrequencyData = FrequencyData.merge(VSFreq,how='left',left_on='UniqueUsers',right_index=True)"
   ]
  },
  {
   "cell_type": "code",
   "execution_count": 120,
   "metadata": {},
   "outputs": [],
   "source": [
    "FrequencyData['appLFreq'].fillna(0.0,inplace=True)\n",
    "FrequencyData['VDFreq'].fillna(0.0,inplace=True)\n",
    "FrequencyData['UTMFreq'].fillna(0.0,inplace=True)\n",
    "FrequencyData['RFreq'].fillna(0.0,inplace=True)\n",
    "FrequencyData['appUFreq'].fillna(0.0,inplace=True)\n",
    "FrequencyData['VSFreq'].fillna(0.0,inplace=True)\n"
   ]
  },
  {
   "cell_type": "code",
   "execution_count": 153,
   "metadata": {},
   "outputs": [],
   "source": [
    "# FrequencyData.to_csv(path_or_buf='./Data/FrequencyData.csv',sep=',',index=False)"
   ]
  },
  {
   "cell_type": "code",
   "execution_count": 109,
   "metadata": {},
   "outputs": [],
   "source": [
    "FrequencyData = FrequencyData.merge(AppUninstalledMod,how='left',left_on='UniqueUsers', right_on='UserId')"
   ]
  },
  {
   "cell_type": "code",
   "execution_count": 102,
   "metadata": {},
   "outputs": [],
   "source": [
    "AppUninstalledMod.drop(['Date','Minute_Of_Day','Second','DateTime','StrDateTime'],axis=1,inplace=True)"
   ]
  },
  {
   "cell_type": "code",
   "execution_count": 103,
   "metadata": {},
   "outputs": [],
   "source": [
    "AppUninstalledMod.drop_duplicates(inplace=True)\n",
    "AppUninstalledMod.drop_duplicates(subset='UserId',inplace=True)"
   ]
  },
  {
   "cell_type": "code",
   "execution_count": 132,
   "metadata": {},
   "outputs": [],
   "source": [
    "FrequencyData.drop('UserId',axis=1,inplace=True)"
   ]
  },
  {
   "cell_type": "code",
   "execution_count": 105,
   "metadata": {},
   "outputs": [],
   "source": [
    "FrequencyData = FrequencyData.combine_first(AppUninstalledMod)"
   ]
  },
  {
   "cell_type": "code",
   "execution_count": 75,
   "metadata": {},
   "outputs": [
    {
     "data": {
      "text/plain": [
       "Series([], Name: UniqueUsers, dtype: int64)"
      ]
     },
     "execution_count": 75,
     "metadata": {},
     "output_type": "execute_result"
    }
   ],
   "source": [
    "FrequencyData.UniqueUsers.value_counts()[FrequencyData.UniqueUsers.value_counts()>1]"
   ]
  },
  {
   "cell_type": "code",
   "execution_count": 100,
   "metadata": {},
   "outputs": [],
   "source": [
    "AppUninstalledMod=pd.read_csv('./Data/AppUninstalledMod.csv',sep=',')"
   ]
  },
  {
   "cell_type": "code",
   "execution_count": 101,
   "metadata": {},
   "outputs": [],
   "source": [
    "AppUninstalledMod.sort_values(['DateTime', 'UserId','Device'],axis=0,inplace=True,ascending=False)"
   ]
  },
  {
   "cell_type": "code",
   "execution_count": 94,
   "metadata": {},
   "outputs": [],
   "source": [
    "AppLaunchedMod=pd.read_csv('./Data/AppLaunchedMod.csv',sep=',')"
   ]
  },
  {
   "cell_type": "code",
   "execution_count": 95,
   "metadata": {},
   "outputs": [],
   "source": [
    "AppLaunchedMod.sort_values(['DateTime', 'UserId','Device'],axis=0,inplace=True,ascending=False)"
   ]
  },
  {
   "cell_type": "code",
   "execution_count": 96,
   "metadata": {},
   "outputs": [],
   "source": [
    "AppLaunchedMod.drop(['Date','Minute_Of_Day','Second','DateTime','StrDateTime'],axis=1,inplace=True)\n",
    "AppLaunchedMod.drop_duplicates(inplace=True)"
   ]
  },
  {
   "cell_type": "code",
   "execution_count": 97,
   "metadata": {},
   "outputs": [],
   "source": [
    "AppLaunchedMod.drop_duplicates(subset='UserId',inplace=True)"
   ]
  },
  {
   "cell_type": "code",
   "execution_count": 98,
   "metadata": {},
   "outputs": [],
   "source": [
    "FrequencyData = FrequencyData.merge(AppLaunchedMod,how='left',left_on='UniqueUsers', right_on='UserId')"
   ]
  },
  {
   "cell_type": "code",
   "execution_count": 152,
   "metadata": {},
   "outputs": [
    {
     "data": {
      "text/plain": [
       "Country_x      0\n",
       "Device_x       0\n",
       "OS_x           0\n",
       "State_x        0\n",
       "UniqueUsers    0\n",
       "appLFreq       0\n",
       "VDFreq         0\n",
       "UTMFreq        0\n",
       "RFreq          0\n",
       "appUFreq       0\n",
       "VSFreq         0\n",
       "dtype: int64"
      ]
     },
     "execution_count": 152,
     "metadata": {},
     "output_type": "execute_result"
    }
   ],
   "source": [
    "FrequencyData[FrequencyData.Device_x.isnull()]\n",
    "FrequencyData.isnull().sum()"
   ]
  },
  {
   "cell_type": "code",
   "execution_count": 111,
   "metadata": {},
   "outputs": [],
   "source": [
    "FrequencyData['State_x'].where(FrequencyData['State_x'].notnull(),other=FrequencyData['State_y'],inplace=True)\n",
    "FrequencyData['Country_x'].where(FrequencyData['Country_x'].notnull(),other=FrequencyData['Country_y'],inplace=True)\n",
    "FrequencyData['OS_x'].where(FrequencyData['OS_x'].notnull(),other=FrequencyData['OS_y'],inplace=True)\n",
    "FrequencyData['Device_x'].where(FrequencyData['Device_x'].notnull(),other=FrequencyData['Device_y'],inplace=True)"
   ]
  },
  {
   "cell_type": "code",
   "execution_count": 135,
   "metadata": {},
   "outputs": [],
   "source": [
    "FrequencyData.drop(['State','Country','Device','OS'],axis=1,inplace=True)"
   ]
  },
  {
   "cell_type": "code",
   "execution_count": 127,
   "metadata": {},
   "outputs": [],
   "source": [
    "UTMVisitedMod=pd.read_csv('./Data/UTMVisitedMod.csv',sep=',')"
   ]
  },
  {
   "cell_type": "code",
   "execution_count": 128,
   "metadata": {},
   "outputs": [],
   "source": [
    "UTMVisitedMod.sort_values(['DateTime', 'UserId','Device'],axis=0,inplace=True,ascending=False)"
   ]
  },
  {
   "cell_type": "code",
   "execution_count": 129,
   "metadata": {},
   "outputs": [],
   "source": [
    "UTMVisitedMod.drop(['Date','Minute_Of_Day','Second','DateTime','StrDateTime'],axis=1,inplace=True)\n",
    "UTMVisitedMod.drop_duplicates(inplace=True)\n",
    "UTMVisitedMod.drop_duplicates(subset='UserId',inplace=True)"
   ]
  },
  {
   "cell_type": "code",
   "execution_count": 130,
   "metadata": {},
   "outputs": [],
   "source": [
    "FrequencyData = FrequencyData.merge(UTMVisitedMod,how='left',left_on='UniqueUsers', right_on='UserId')"
   ]
  },
  {
   "cell_type": "code",
   "execution_count": 133,
   "metadata": {},
   "outputs": [],
   "source": [
    "FrequencyData['State_x'].where(FrequencyData['State_x'].notnull(),other=FrequencyData['State'],inplace=True)\n",
    "FrequencyData['Country_x'].where(FrequencyData['Country_x'].notnull(),other=FrequencyData['Country'],inplace=True)\n",
    "FrequencyData['OS_x'].where(FrequencyData['OS_x'].notnull(),other=FrequencyData['OS'],inplace=True)\n",
    "FrequencyData['Device_x'].where(FrequencyData['Device_x'].notnull(),other=FrequencyData['Device'],inplace=True)"
   ]
  },
  {
   "cell_type": "code",
   "execution_count": 150,
   "metadata": {},
   "outputs": [],
   "source": [
    "FrequencyData.Device_x[FrequencyData.UniqueUsers == '0280dfdd112732a3ac12b12dc770b7af'] = 1"
   ]
  },
  {
   "cell_type": "code",
   "execution_count": null,
   "metadata": {},
   "outputs": [],
   "source": []
  },
  {
   "cell_type": "code",
   "execution_count": null,
   "metadata": {},
   "outputs": [],
   "source": []
  }
 ],
 "metadata": {
  "kernelspec": {
   "display_name": "Python 3",
   "language": "python",
   "name": "python3"
  },
  "language_info": {
   "codemirror_mode": {
    "name": "ipython",
    "version": 3
   },
   "file_extension": ".py",
   "mimetype": "text/x-python",
   "name": "python",
   "nbconvert_exporter": "python",
   "pygments_lexer": "ipython3",
   "version": "3.7.3"
  }
 },
 "nbformat": 4,
 "nbformat_minor": 2
}
