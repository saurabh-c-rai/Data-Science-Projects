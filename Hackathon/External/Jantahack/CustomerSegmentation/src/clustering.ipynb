{
 "metadata": {
  "language_info": {
   "codemirror_mode": {
    "name": "ipython",
    "version": 3
   },
   "file_extension": ".py",
   "mimetype": "text/x-python",
   "name": "python",
   "nbconvert_exporter": "python",
   "pygments_lexer": "ipython3",
   "version": 3
  },
  "orig_nbformat": 2,
  "kernelspec": {
   "name": "python_defaultSpec_1596352164018",
   "display_name": "Python 3.7.7 64-bit"
  }
 },
 "nbformat": 4,
 "nbformat_minor": 2,
 "cells": [
  {
   "cell_type": "code",
   "execution_count": 1,
   "metadata": {},
   "outputs": [],
   "source": [
    "import numpy as np\n",
    "import pandas as pd\n",
    "import seaborn as sns\n",
    "from matplotlib import pyplot as plt"
   ]
  },
  {
   "cell_type": "code",
   "execution_count": 30,
   "metadata": {},
   "outputs": [],
   "source": [
    "from sklearn.preprocessing import StandardScaler, OneHotEncoder, LabelEncoder\n",
    "from sklearn.impute import SimpleImputer\n",
    "from sklearn.compose import ColumnTransformer, make_column_transformer\n",
    "from sklearn.model_selection import train_test_split\n",
    "from sklearn.pipeline import Pipeline, make_pipeline\n",
    "from sklearn.base import BaseEstimator, TransformerMixin\n",
    "from sklearn import set_config"
   ]
  },
  {
   "cell_type": "code",
   "execution_count": 26,
   "metadata": {},
   "outputs": [],
   "source": [
    "from sklearn.cluster import KMeans\n",
    "from sklearn.ensemble import RandomForestClassifier"
   ]
  },
  {
   "cell_type": "code",
   "execution_count": 3,
   "metadata": {},
   "outputs": [],
   "source": [
    "from IPython.core.interactiveshell import InteractiveShell\n",
    "InteractiveShell.ast_node_interactivity = 'all'"
   ]
  },
  {
   "cell_type": "code",
   "execution_count": 4,
   "metadata": {},
   "outputs": [],
   "source": [
    "data = pd.read_csv('../input/train.csv', index_col='ID')\n",
    "data.sort_index(axis=0, inplace=True)"
   ]
  },
  {
   "cell_type": "code",
   "execution_count": 5,
   "metadata": {},
   "outputs": [
    {
     "output_type": "execute_result",
     "data": {
      "text/plain": "(8068, 10)"
     },
     "metadata": {},
     "execution_count": 5
    },
    {
     "output_type": "execute_result",
     "data": {
      "text/plain": "        Gender Ever_Married  Age Graduated  Profession  Work_Experience  \\\nID                                                                        \n458982    Male          Yes   61       Yes   Executive              1.0   \n458983  Female          Yes   63       Yes   Executive              0.0   \n458984    Male          Yes   39       Yes      Artist              0.0   \n458985    Male           No   23        No  Healthcare              1.0   \n458986    Male           No   18        No  Healthcare              7.0   \n\n       Spending_Score  Family_Size  Var_1 Segmentation  \nID                                                      \n458982           High          3.0  Cat_6            C  \n458983           High          5.0  Cat_6            C  \n458984        Average          3.0  Cat_6            C  \n458985            Low          4.0  Cat_6            D  \n458986            Low          4.0  Cat_6            D  ",
      "text/html": "<div>\n<style scoped>\n    .dataframe tbody tr th:only-of-type {\n        vertical-align: middle;\n    }\n\n    .dataframe tbody tr th {\n        vertical-align: top;\n    }\n\n    .dataframe thead th {\n        text-align: right;\n    }\n</style>\n<table border=\"1\" class=\"dataframe\">\n  <thead>\n    <tr style=\"text-align: right;\">\n      <th></th>\n      <th>Gender</th>\n      <th>Ever_Married</th>\n      <th>Age</th>\n      <th>Graduated</th>\n      <th>Profession</th>\n      <th>Work_Experience</th>\n      <th>Spending_Score</th>\n      <th>Family_Size</th>\n      <th>Var_1</th>\n      <th>Segmentation</th>\n    </tr>\n    <tr>\n      <th>ID</th>\n      <th></th>\n      <th></th>\n      <th></th>\n      <th></th>\n      <th></th>\n      <th></th>\n      <th></th>\n      <th></th>\n      <th></th>\n      <th></th>\n    </tr>\n  </thead>\n  <tbody>\n    <tr>\n      <th>458982</th>\n      <td>Male</td>\n      <td>Yes</td>\n      <td>61</td>\n      <td>Yes</td>\n      <td>Executive</td>\n      <td>1.0</td>\n      <td>High</td>\n      <td>3.0</td>\n      <td>Cat_6</td>\n      <td>C</td>\n    </tr>\n    <tr>\n      <th>458983</th>\n      <td>Female</td>\n      <td>Yes</td>\n      <td>63</td>\n      <td>Yes</td>\n      <td>Executive</td>\n      <td>0.0</td>\n      <td>High</td>\n      <td>5.0</td>\n      <td>Cat_6</td>\n      <td>C</td>\n    </tr>\n    <tr>\n      <th>458984</th>\n      <td>Male</td>\n      <td>Yes</td>\n      <td>39</td>\n      <td>Yes</td>\n      <td>Artist</td>\n      <td>0.0</td>\n      <td>Average</td>\n      <td>3.0</td>\n      <td>Cat_6</td>\n      <td>C</td>\n    </tr>\n    <tr>\n      <th>458985</th>\n      <td>Male</td>\n      <td>No</td>\n      <td>23</td>\n      <td>No</td>\n      <td>Healthcare</td>\n      <td>1.0</td>\n      <td>Low</td>\n      <td>4.0</td>\n      <td>Cat_6</td>\n      <td>D</td>\n    </tr>\n    <tr>\n      <th>458986</th>\n      <td>Male</td>\n      <td>No</td>\n      <td>18</td>\n      <td>No</td>\n      <td>Healthcare</td>\n      <td>7.0</td>\n      <td>Low</td>\n      <td>4.0</td>\n      <td>Cat_6</td>\n      <td>D</td>\n    </tr>\n  </tbody>\n</table>\n</div>"
     },
     "metadata": {},
     "execution_count": 5
    }
   ],
   "source": [
    "data.shape\n",
    "data.head()"
   ]
  },
  {
   "cell_type": "code",
   "execution_count": 6,
   "metadata": {},
   "outputs": [],
   "source": [
    "X = data.iloc[ : , :-1]\n",
    "y = data.iloc[ :, -1]"
   ]
  },
  {
   "cell_type": "code",
   "execution_count": 7,
   "metadata": {},
   "outputs": [],
   "source": [
    "X_test, X_train, y_test, y_train = train_test_split(X, y, test_size=2, random_state=0)"
   ]
  },
  {
   "cell_type": "code",
   "execution_count": 9,
   "metadata": {},
   "outputs": [
    {
     "output_type": "execute_result",
     "data": {
      "text/plain": "Gender              object\nEver_Married        object\nAge                  int64\nGraduated           object\nProfession          object\nWork_Experience    float64\nSpending_Score      object\nFamily_Size        float64\nVar_1               object\ndtype: object"
     },
     "metadata": {},
     "execution_count": 9
    }
   ],
   "source": [
    "X_train.dtypes"
   ]
  },
  {
   "cell_type": "code",
   "execution_count": 10,
   "metadata": {},
   "outputs": [
    {
     "output_type": "execute_result",
     "data": {
      "text/plain": "Gender             0\nEver_Married       1\nAge                0\nGraduated          0\nProfession         0\nWork_Experience    1\nSpending_Score     0\nFamily_Size        0\nVar_1              0\ndtype: int64"
     },
     "metadata": {},
     "execution_count": 10
    },
    {
     "output_type": "execute_result",
     "data": {
      "text/plain": "Gender               0\nEver_Married       139\nAge                  0\nGraduated           78\nProfession         124\nWork_Experience    828\nSpending_Score       0\nFamily_Size        335\nVar_1               76\ndtype: int64"
     },
     "metadata": {},
     "execution_count": 10
    }
   ],
   "source": [
    "X_train.isna().sum()\n",
    "X_test.isna().sum()"
   ]
  },
  {
   "cell_type": "code",
   "execution_count": 12,
   "metadata": {},
   "outputs": [],
   "source": [
    "mean_imputer = SimpleImputer(strategy='mean')\n",
    "median_imputer = SimpleImputer(strategy='median')\n",
    "mode_imputer = SimpleImputer(strategy='most_frequent')\n",
    "unknown_imputer = SimpleImputer(strategy='constant', fill_value='Unknown')"
   ]
  },
  {
   "cell_type": "code",
   "execution_count": 14,
   "metadata": {},
   "outputs": [],
   "source": [
    "std_scalar = StandardScaler()\n",
    "onehot_encoder = OneHotEncoder(drop=\"first\", handle_unknown='raise')\n",
    "label_encoder = LabelEncoder()"
   ]
  },
  {
   "cell_type": "code",
   "execution_count": 27,
   "metadata": {},
   "outputs": [],
   "source": [
    "randomforest = RandomForestClassifier(\n",
    "    n_jobs=-1, n_estimators=100, random_state=4, verbose=1,\n",
    ")"
   ]
  },
  {
   "cell_type": "code",
   "execution_count": 15,
   "metadata": {},
   "outputs": [
    {
     "output_type": "execute_result",
     "data": {
      "text/plain": "Gender              object\nEver_Married        object\nAge                  int64\nGraduated           object\nProfession          object\nWork_Experience    float64\nSpending_Score      object\nFamily_Size        float64\nVar_1               object\ndtype: object"
     },
     "metadata": {},
     "execution_count": 15
    }
   ],
   "source": [
    "X_train.dtypes"
   ]
  },
  {
   "cell_type": "code",
   "execution_count": 17,
   "metadata": {},
   "outputs": [],
   "source": [
    "# class CategoricalTransformer( BaseEstimator, TransformerMixin ):\n",
    "#     #Class constructor method that takes in a list of values as its argument\n",
    "#     def __init__(self, cat_features):\n",
    "#         self._cat_features = cat_features\n",
    "        \n",
    "#     #Return self nothing else to do here\n",
    "#     def fit( self, X, y = None  ):\n",
    "#         return self\n",
    "\n",
    "#     #Transformer method we wrote for this transformer \n",
    "#     def transform(self, X , y = None ):\n",
    "#        #Depending on constructor argument break dates column into specified units\n",
    "#        #using the helper functions written above \n",
    "#        for feature in self._cat_features:\n",
    "#            if feature == 'Var_1':\n",
    "#                mode_imputer.fit(X[[feature]])\n",
    "#                X[feature] = mode_imputer.transform(X[[feature]])\n",
    "#             else :\n",
    "#                 unknown_imputer.fo\n",
    "#        return X.values \n",
    "#work in progress"
   ]
  },
  {
   "cell_type": "code",
   "execution_count": 19,
   "metadata": {},
   "outputs": [],
   "source": [
    "categorical_feature_mode = ['Var_1']\n",
    "categorical_feature_unknown = ['Gender', 'Ever_Married', 'Graduated', 'Profession', 'Spending_Score']\n",
    "numerical_features = ['Age', 'Work_Experience', 'Family_Size']"
   ]
  },
  {
   "cell_type": "code",
   "execution_count": 22,
   "metadata": {},
   "outputs": [],
   "source": [
    "numerical_transformer = Pipeline(\n",
    "    steps=[(\"mean_imputer\", mean_imputer), (\"scaler\", std_scalar)], verbose=True\n",
    ")\n",
    "categorical_transformer_unknown = Pipeline(steps=[(\"unknown_imputer\", unknown_imputer), (\"onehot\", onehot_encoder)], verbose=True)\n",
    "\n",
    "categorical_transformer_mode = Pipeline(steps=[(\"mode_imputer\", mode_imputer), (\"onehot\", onehot_encoder)], verbose=True)"
   ]
  },
  {
   "cell_type": "code",
   "execution_count": 24,
   "metadata": {},
   "outputs": [],
   "source": [
    "#%%\n",
    "preprocessor = ColumnTransformer(\n",
    "    transformers=[\n",
    "        (\n",
    "            \"numerical_transformation_pipeline\",\n",
    "            numerical_transformer,\n",
    "            numerical_features,\n",
    "        ),\n",
    "        (\n",
    "            \"categorical_transformation_pipeline_unknown\",\n",
    "            categorical_transformer_unknown,\n",
    "            categorical_feature_unknown,\n",
    "        ),\n",
    "        (\n",
    "            \"categorical_transformation_pipeline_mode\",\n",
    "            categorical_transformer_mode,\n",
    "            categorical_feature_mode,\n",
    "        ),\n",
    "        \n",
    "    ],\n",
    "    verbose=True,\n",
    ")"
   ]
  },
  {
   "cell_type": "code",
   "execution_count": 28,
   "metadata": {},
   "outputs": [],
   "source": [
    "randomforest_pipeline = Pipeline(\n",
    "    steps=[(\"preprocessor\", preprocessor), (\"classifier\", randomforest)], verbose=True\n",
    ")"
   ]
  },
  {
   "cell_type": "code",
   "execution_count": 31,
   "metadata": {},
   "outputs": [],
   "source": [
    "set_config(display='diagram')"
   ]
  },
  {
   "cell_type": "code",
   "execution_count": null,
   "metadata": {},
   "outputs": [],
   "source": []
  },
  {
   "cell_type": "code",
   "execution_count": null,
   "metadata": {},
   "outputs": [],
   "source": []
  },
  {
   "cell_type": "code",
   "execution_count": null,
   "metadata": {},
   "outputs": [],
   "source": []
  },
  {
   "cell_type": "code",
   "execution_count": null,
   "metadata": {},
   "outputs": [],
   "source": []
  },
  {
   "cell_type": "code",
   "execution_count": 12,
   "metadata": {},
   "outputs": [
    {
     "output_type": "execute_result",
     "data": {
      "text/plain": "Yes    4968\nNo     3022\nNaN      78\nName: Graduated, dtype: int64"
     },
     "metadata": {},
     "execution_count": 12
    },
    {
     "output_type": "execute_result",
     "data": {
      "text/plain": "Yes        4968\nNo         3022\nUnknown      78\nName: Graduated, dtype: int64"
     },
     "metadata": {},
     "execution_count": 12
    }
   ],
   "source": [
    "data['Graduated'].value_counts(dropna=False)\n",
    "data['Graduated'].fillna(value='Unknown', inplace=True)\n",
    "data['Graduated'].value_counts(dropna=False)"
   ]
  },
  {
   "cell_type": "code",
   "execution_count": 13,
   "metadata": {},
   "outputs": [
    {
     "output_type": "execute_result",
     "data": {
      "text/plain": "Yes    4643\nNo     3285\nNaN     140\nName: Ever_Married, dtype: int64"
     },
     "metadata": {},
     "execution_count": 13
    },
    {
     "output_type": "execute_result",
     "data": {
      "text/plain": "Yes        4643\nNo         3285\nUnknown     140\nName: Ever_Married, dtype: int64"
     },
     "metadata": {},
     "execution_count": 13
    }
   ],
   "source": [
    "data['Ever_Married'].value_counts(dropna=False)\n",
    "data['Ever_Married'].fillna(value='Unknown', inplace=True)\n",
    "data['Ever_Married'].value_counts(dropna=False)"
   ]
  },
  {
   "cell_type": "code",
   "execution_count": 14,
   "metadata": {},
   "outputs": [
    {
     "output_type": "execute_result",
     "data": {
      "text/plain": "Artist           0.311849\nHealthcare       0.165097\nEntertainment    0.117625\nEngineer         0.086639\nDoctor           0.085275\nLawyer           0.077219\nExecutive        0.074244\nMarketing        0.036192\nHomemaker        0.030491\nNaN              0.015369\nName: Profession, dtype: float64"
     },
     "metadata": {},
     "execution_count": 14
    },
    {
     "output_type": "execute_result",
     "data": {
      "text/plain": "Artist           0.311849\nHealthcare       0.165097\nEntertainment    0.117625\nEngineer         0.086639\nDoctor           0.085275\nLawyer           0.077219\nExecutive        0.074244\nMarketing        0.036192\nHomemaker        0.030491\nUnknown          0.015369\nName: Profession, dtype: float64"
     },
     "metadata": {},
     "execution_count": 14
    }
   ],
   "source": [
    "data['Profession'].value_counts(normalize=True, dropna=False)\n",
    "data['Profession'].fillna(value='Unknown', inplace=True)\n",
    "data['Profession'].value_counts(normalize=True, dropna=False)"
   ]
  },
  {
   "cell_type": "code",
   "execution_count": 15,
   "metadata": {},
   "outputs": [
    {
     "output_type": "execute_result",
     "data": {
      "text/plain": "Cat_6    0.649232\nCat_4    0.134978\nCat_3    0.101884\nCat_2    0.052305\nCat_7    0.025161\nCat_1    0.016485\nCat_5    0.010535\nNaN      0.009420\nName: Var_1, dtype: float64"
     },
     "metadata": {},
     "execution_count": 15
    },
    {
     "output_type": "execute_result",
     "data": {
      "text/plain": "Cat_6    0.658651\nCat_4    0.134978\nCat_3    0.101884\nCat_2    0.052305\nCat_7    0.025161\nCat_1    0.016485\nCat_5    0.010535\nName: Var_1, dtype: float64"
     },
     "metadata": {},
     "execution_count": 15
    }
   ],
   "source": [
    "data['Var_1'].value_counts(normalize=True, dropna=False)\n",
    "data['Var_1'].fillna(value=data['Var_1'].mode()[0], inplace=True)\n",
    "data['Var_1'].value_counts(normalize=True, dropna=False)"
   ]
  },
  {
   "cell_type": "code",
   "execution_count": 16,
   "metadata": {},
   "outputs": [
    {
     "output_type": "execute_result",
     "data": {
      "text/plain": "1.0     0.291770\n0.0     0.287308\nNaN     0.102752\n9.0     0.058751\n8.0     0.057387\n2.0     0.035449\n3.0     0.031606\n4.0     0.031358\n6.0     0.025285\n7.0     0.024294\n5.0     0.024046\n10.0    0.006569\n11.0    0.006197\n12.0    0.005949\n13.0    0.005702\n14.0    0.005578\nName: Work_Experience, dtype: float64"
     },
     "metadata": {},
     "execution_count": 16
    },
    {
     "output_type": "execute_result",
     "data": {
      "text/plain": "1.0     0.291770\n0.0     0.287308\n3.0     0.134358\n9.0     0.058751\n8.0     0.057387\n2.0     0.035449\n4.0     0.031358\n6.0     0.025285\n7.0     0.024294\n5.0     0.024046\n10.0    0.006569\n11.0    0.006197\n12.0    0.005949\n13.0    0.005702\n14.0    0.005578\nName: Work_Experience, dtype: float64"
     },
     "metadata": {},
     "execution_count": 16
    }
   ],
   "source": [
    "data['Work_Experience'].value_counts(normalize=True, dropna=False)\n",
    "data['Work_Experience'].fillna(value=data['Work_Experience'].mean().round(), inplace=True)\n",
    "data['Work_Experience'].value_counts(normalize=True, dropna=False)"
   ]
  },
  {
   "cell_type": "code",
   "execution_count": 17,
   "metadata": {},
   "outputs": [
    {
     "output_type": "execute_result",
     "data": {
      "text/plain": "2.0    0.296232\n3.0    0.185548\n1.0    0.180094\n4.0    0.170922\n5.0    0.075855\nNaN    0.041522\n6.0    0.026277\n7.0    0.011899\n8.0    0.006197\n9.0    0.005454\nName: Family_Size, dtype: float64"
     },
     "metadata": {},
     "execution_count": 17
    },
    {
     "output_type": "execute_result",
     "data": {
      "text/plain": "2.0    0.296232\n3.0    0.227070\n1.0    0.180094\n4.0    0.170922\n5.0    0.075855\n6.0    0.026277\n7.0    0.011899\n8.0    0.006197\n9.0    0.005454\nName: Family_Size, dtype: float64"
     },
     "metadata": {},
     "execution_count": 17
    }
   ],
   "source": [
    "data['Family_Size'].value_counts(normalize=True, dropna=False)\n",
    "data['Family_Size'].fillna(value=data['Family_Size'].median(), inplace=True)\n",
    "data['Family_Size'].value_counts(normalize=True, dropna=False)"
   ]
  },
  {
   "cell_type": "code",
   "execution_count": 19,
   "metadata": {},
   "outputs": [],
   "source": [
    "X = data.iloc[ : , :-1]\n",
    "y = data.iloc[ :, -1]"
   ]
  },
  {
   "cell_type": "code",
   "execution_count": null,
   "metadata": {},
   "outputs": [],
   "source": []
  },
  {
   "cell_type": "code",
   "execution_count": null,
   "metadata": {},
   "outputs": [],
   "source": []
  }
 ]
}