{
 "cells": [
  {
   "cell_type": "code",
   "execution_count": 124,
   "metadata": {},
   "outputs": [],
   "source": [
    "import pandas as pd\n",
    "import numpy as np\n",
    "import scipy.stats as stats\n",
    "import math\n",
    "from statsmodels.stats.weightstats import ztest\n",
    "from scipy.stats import chi2_contingency\n",
    "import math\n",
    "import matplotlib.pyplot as plt\n",
    "import seaborn as sns"
   ]
  },
  {
   "cell_type": "code",
   "execution_count": 68,
   "metadata": {},
   "outputs": [],
   "source": [
    "path = '/Users/raisaurabh04/OneDrive/GreyAtom/Practice Dataset/Iowa_housing_dataset.csv'"
   ]
  },
  {
   "cell_type": "code",
   "execution_count": 69,
   "metadata": {},
   "outputs": [
    {
     "name": "stdout",
     "output_type": "stream",
     "text": [
      "(172456.61596474273, 225021.30403525726)\n"
     ]
    }
   ],
   "source": [
    "data = pd.read_csv(path)\n",
    "\n",
    "sample_size = 50\n",
    "\n",
    "z_critical = stats.norm.ppf(q=0.99)\n",
    "\n",
    "data_sample = data.sample(n = sample_size, random_state = 0)\n",
    "\n",
    "sample_mean = np.mean(data_sample['SalePrice'])\n",
    "\n",
    "population_std = data['SalePrice'].std() #np.std(data['SalePrice'])\n",
    "\n",
    "margin_of_error = z_critical * population_std / (math.sqrt(sample_size))\n",
    "\n",
    "margin_of_error\n",
    "\n",
    "confidence_interval = (sample_mean - margin_of_error, sample_mean + margin_of_error)\n",
    "\n",
    "print(confidence_interval)\n",
    "\n",
    "true_mean = np.mean(data['SalePrice'])"
   ]
  },
  {
   "cell_type": "code",
   "execution_count": 70,
   "metadata": {},
   "outputs": [
    {
     "data": {
      "text/plain": [
       "(79886.69235666493, 79886.69235666493)"
      ]
     },
     "execution_count": 70,
     "metadata": {},
     "output_type": "execute_result"
    }
   ],
   "source": [
    "data['SalePrice'].std(), population_std"
   ]
  },
  {
   "cell_type": "code",
   "execution_count": 71,
   "metadata": {},
   "outputs": [
    {
     "name": "stdout",
     "output_type": "stream",
     "text": [
      "Accept\n"
     ]
    }
   ],
   "source": [
    "z_statistic, p_value = ztest(data['Lot.Area'], value = 1200, alternative = 'smaller')\n",
    "\n",
    "z_statistic, p_value\n",
    "\n",
    "if p_value >= 0.005 :\n",
    "    inference = 'Accept'\n",
    "else :\n",
    "    inference = 'Reject'\n",
    "\n",
    "print(inference)"
   ]
  },
  {
   "cell_type": "code",
   "execution_count": 72,
   "metadata": {},
   "outputs": [
    {
     "data": {
      "text/plain": [
       "array(['Normal', 'Partial', 'Family', 'Abnorml', 'Alloca', 'AdjLand'],\n",
       "      dtype=object)"
      ]
     },
     "execution_count": 72,
     "metadata": {},
     "output_type": "execute_result"
    }
   ],
   "source": [
    "data['Sale.Condition'].unique()"
   ]
  },
  {
   "cell_type": "code",
   "execution_count": 73,
   "metadata": {},
   "outputs": [
    {
     "name": "stdout",
     "output_type": "stream",
     "text": [
      "-0.2600957325150498 0.7955758684627952\n",
      "Accept\n"
     ]
    }
   ],
   "source": [
    "family = data[data['Sale.Condition'] == 'Family']['SalePrice']\n",
    "\n",
    "alloca = data[data['Sale.Condition'] == 'Alloca']['SalePrice']\n",
    "\n",
    "t_stat, p_value = scipy.stats.mstats.ttest_ind(family, alloca)\n",
    "\n",
    "print(t_stat, p_value)\n",
    "\n",
    "if p_value >= 0.005 :\n",
    "    inference = 'Accept'\n",
    "else :\n",
    "    inference = 'Reject'\n",
    "\n",
    "print(inference)\n",
    "\n"
   ]
  },
  {
   "cell_type": "code",
   "execution_count": 74,
   "metadata": {},
   "outputs": [],
   "source": [
    "observed = pd.DataFrame({'High School': [60, 40], 'Bachelors' : [54, 44], 'Masters' : [46, 53], 'Ph.d.' : [41, 57]}, \n",
    "                     index = ['Female', 'Male'])\n",
    "\n",
    "expected = pd.DataFrame({'High School': [50.886, 49.114], 'Bachelors' : [49.868, 48.132], 'Masters' : [50.377, 48.623], 'Ph.d.' : [49.868, 48.132]}, \n",
    "                     index = ['Female', 'Male'])"
   ]
  },
  {
   "cell_type": "code",
   "execution_count": 75,
   "metadata": {},
   "outputs": [
    {
     "name": "stdout",
     "output_type": "stream",
     "text": [
      "Chi-square statistic =  [3.32364346 0.69709319 0.77430887 3.2108616 ]\n",
      "p-value =  [0.06829033 0.40376215 0.37888736 0.07315095]\n"
     ]
    }
   ],
   "source": [
    "chi2, p= stats.chisquare(f_obs= observed, f_exp= expected)\n",
    "\n",
    "print(\"Chi-square statistic = \",chi2)\n",
    "print(\"p-value = \",p)"
   ]
  },
  {
   "cell_type": "code",
   "execution_count": 76,
   "metadata": {},
   "outputs": [
    {
     "name": "stdout",
     "output_type": "stream",
     "text": [
      "Help on Power_divergenceResult in module scipy.stats.stats object:\n",
      "\n",
      "class Power_divergenceResult(builtins.tuple)\n",
      " |  Power_divergenceResult(statistic, pvalue)\n",
      " |  \n",
      " |  Power_divergenceResult(statistic, pvalue)\n",
      " |  \n",
      " |  Method resolution order:\n",
      " |      Power_divergenceResult\n",
      " |      builtins.tuple\n",
      " |      builtins.object\n",
      " |  \n",
      " |  Methods defined here:\n",
      " |  \n",
      " |  __getnewargs__(self)\n",
      " |      Return self as a plain tuple.  Used by copy and pickle.\n",
      " |  \n",
      " |  __repr__(self)\n",
      " |      Return a nicely formatted representation string\n",
      " |  \n",
      " |  _asdict(self)\n",
      " |      Return a new OrderedDict which maps field names to their values.\n",
      " |  \n",
      " |  _replace(_self, **kwds)\n",
      " |      Return a new Power_divergenceResult object replacing specified fields with new values\n",
      " |  \n",
      " |  ----------------------------------------------------------------------\n",
      " |  Class methods defined here:\n",
      " |  \n",
      " |  _make(iterable) from builtins.type\n",
      " |      Make a new Power_divergenceResult object from a sequence or iterable\n",
      " |  \n",
      " |  ----------------------------------------------------------------------\n",
      " |  Static methods defined here:\n",
      " |  \n",
      " |  __new__(_cls, statistic, pvalue)\n",
      " |      Create new instance of Power_divergenceResult(statistic, pvalue)\n",
      " |  \n",
      " |  ----------------------------------------------------------------------\n",
      " |  Data descriptors defined here:\n",
      " |  \n",
      " |  statistic\n",
      " |      Alias for field number 0\n",
      " |  \n",
      " |  pvalue\n",
      " |      Alias for field number 1\n",
      " |  \n",
      " |  ----------------------------------------------------------------------\n",
      " |  Data and other attributes defined here:\n",
      " |  \n",
      " |  _fields = ('statistic', 'pvalue')\n",
      " |  \n",
      " |  _fields_defaults = {}\n",
      " |  \n",
      " |  ----------------------------------------------------------------------\n",
      " |  Methods inherited from builtins.tuple:\n",
      " |  \n",
      " |  __add__(self, value, /)\n",
      " |      Return self+value.\n",
      " |  \n",
      " |  __contains__(self, key, /)\n",
      " |      Return key in self.\n",
      " |  \n",
      " |  __eq__(self, value, /)\n",
      " |      Return self==value.\n",
      " |  \n",
      " |  __ge__(self, value, /)\n",
      " |      Return self>=value.\n",
      " |  \n",
      " |  __getattribute__(self, name, /)\n",
      " |      Return getattr(self, name).\n",
      " |  \n",
      " |  __getitem__(self, key, /)\n",
      " |      Return self[key].\n",
      " |  \n",
      " |  __gt__(self, value, /)\n",
      " |      Return self>value.\n",
      " |  \n",
      " |  __hash__(self, /)\n",
      " |      Return hash(self).\n",
      " |  \n",
      " |  __iter__(self, /)\n",
      " |      Implement iter(self).\n",
      " |  \n",
      " |  __le__(self, value, /)\n",
      " |      Return self<=value.\n",
      " |  \n",
      " |  __len__(self, /)\n",
      " |      Return len(self).\n",
      " |  \n",
      " |  __lt__(self, value, /)\n",
      " |      Return self<value.\n",
      " |  \n",
      " |  __mul__(self, value, /)\n",
      " |      Return self*value.\n",
      " |  \n",
      " |  __ne__(self, value, /)\n",
      " |      Return self!=value.\n",
      " |  \n",
      " |  __rmul__(self, value, /)\n",
      " |      Return value*self.\n",
      " |  \n",
      " |  count(self, value, /)\n",
      " |      Return number of occurrences of value.\n",
      " |  \n",
      " |  index(self, value, start=0, stop=9223372036854775807, /)\n",
      " |      Return first index of value.\n",
      " |      \n",
      " |      Raises ValueError if the value is not present.\n",
      "\n"
     ]
    }
   ],
   "source": [
    "help(stats.chisquare(f_obs= observed, f_exp= expected))"
   ]
  },
  {
   "cell_type": "code",
   "execution_count": 77,
   "metadata": {},
   "outputs": [
    {
     "data": {
      "text/plain": [
       "2.7386127875258306"
      ]
     },
     "execution_count": 77,
     "metadata": {},
     "output_type": "execute_result"
    }
   ],
   "source": [
    "(43500-42000)/(3000/np.sqrt(30))"
   ]
  },
  {
   "cell_type": "code",
   "execution_count": 78,
   "metadata": {},
   "outputs": [
    {
     "data": {
      "text/plain": [
       "-2.4"
      ]
     },
     "execution_count": 78,
     "metadata": {},
     "output_type": "execute_result"
    }
   ],
   "source": [
    "(68-71)/(7.5/6)"
   ]
  },
  {
   "cell_type": "markdown",
   "metadata": {},
   "source": [
    "# INFERENTIAL STATISTICS ASSESSMENT"
   ]
  },
  {
   "cell_type": "code",
   "execution_count": 79,
   "metadata": {},
   "outputs": [],
   "source": [
    "sample_size=2000\n",
    "\n",
    "#Z_Critical Score\n",
    "z_critical = stats.norm.ppf(q = 0.95)\n",
    "path = '/Users/raisaurabh04/OneDrive/GreyAtom/Practice Dataset/cleaned_loan_data.csv'"
   ]
  },
  {
   "cell_type": "code",
   "execution_count": 80,
   "metadata": {},
   "outputs": [
    {
     "data": {
      "text/plain": [
       "True"
      ]
     },
     "execution_count": 80,
     "metadata": {},
     "output_type": "execute_result"
    }
   ],
   "source": [
    "data = pd.read_csv(path)\n",
    "\n",
    "data_sample = data.sample(n = sample_size, random_state=0)\n",
    "\n",
    "sample_mean, sample_std = data_sample['installment'].mean(), data_sample['installment'].std()\n",
    "\n",
    "data_sample.describe()\n",
    "\n",
    "margin_of_error = z_critical * sample_std / (math.sqrt(sample_size))\n",
    "\n",
    "confidence_interval = (sample_mean - margin_of_error, sample_mean + margin_of_error)\n",
    "\n",
    "true_mean = data['installment'].mean()\n",
    "\n",
    "confidence_interval, true_mean\n",
    "\n",
    "confidence_interval[0] <= true_mean <= confidence_interval[1]"
   ]
  },
  {
   "cell_type": "code",
   "execution_count": 81,
   "metadata": {},
   "outputs": [],
   "source": [
    "sample_size=np.array([20,50,100])"
   ]
  },
  {
   "cell_type": "code",
   "execution_count": 95,
   "metadata": {},
   "outputs": [
    {
     "data": {
      "image/png": "[encoded data removed]",
      "text/plain": [
       "<Figure size 720x576 with 3 Axes>"
      ]
     },
     "metadata": {
      "needs_background": "light"
     },
     "output_type": "display_data"
    }
   ],
   "source": [
    "fig, axes = plt.subplots(nrows = 3, ncols = 1, figsize = (10,8))\n",
    "for i in range(len(sample_size)):\n",
    "    m = []\n",
    "    for j in range(1000) :\n",
    "        sample_data = data.sample(n = sample_size[i], random_state=0)\n",
    "        m.append(sample_data['installment'].mean())\n",
    "    mean_series = pd.Series(data= m)\n",
    "    mean_series.hist(bins = 5, ax = axes[i])\n",
    "        "
   ]
  },
  {
   "cell_type": "code",
   "execution_count": 96,
   "metadata": {},
   "outputs": [
    {
     "data": {
      "text/html": [
       "<div>\n",
       "<style scoped>\n",
       "    .dataframe tbody tr th:only-of-type {\n",
       "        vertical-align: middle;\n",
       "    }\n",
       "\n",
       "    .dataframe tbody tr th {\n",
       "        vertical-align: top;\n",
       "    }\n",
       "\n",
       "    .dataframe thead th {\n",
       "        text-align: right;\n",
       "    }\n",
       "</style>\n",
       "<table border=\"1\" class=\"dataframe\">\n",
       "  <thead>\n",
       "    <tr style=\"text-align: right;\">\n",
       "      <th></th>\n",
       "      <th>customer.id</th>\n",
       "      <th>credit.policy</th>\n",
       "      <th>purpose</th>\n",
       "      <th>int.rate</th>\n",
       "      <th>installment</th>\n",
       "      <th>log.annual.inc</th>\n",
       "      <th>dti</th>\n",
       "      <th>fico</th>\n",
       "      <th>days.with.cr.line</th>\n",
       "      <th>revol.bal</th>\n",
       "      <th>revol.util</th>\n",
       "      <th>pub.rec</th>\n",
       "      <th>inq.last.6mths</th>\n",
       "      <th>delinq.2yrs</th>\n",
       "      <th>paid.back.loan</th>\n",
       "    </tr>\n",
       "  </thead>\n",
       "  <tbody>\n",
       "    <tr>\n",
       "      <th>0</th>\n",
       "      <td>LA001</td>\n",
       "      <td>Yes</td>\n",
       "      <td>debt_consolidation</td>\n",
       "      <td>11.89%</td>\n",
       "      <td>829.10</td>\n",
       "      <td>11.350407</td>\n",
       "      <td>19.48</td>\n",
       "      <td>737</td>\n",
       "      <td>5639.958333</td>\n",
       "      <td>28854</td>\n",
       "      <td>52.1</td>\n",
       "      <td>0</td>\n",
       "      <td>Less than 5</td>\n",
       "      <td>No</td>\n",
       "      <td>Yes</td>\n",
       "    </tr>\n",
       "    <tr>\n",
       "      <th>1</th>\n",
       "      <td>LA002</td>\n",
       "      <td>Yes</td>\n",
       "      <td>credit_card</td>\n",
       "      <td>10.71%</td>\n",
       "      <td>228.22</td>\n",
       "      <td>11.082143</td>\n",
       "      <td>14.29</td>\n",
       "      <td>707</td>\n",
       "      <td>2760.000000</td>\n",
       "      <td>33623</td>\n",
       "      <td>76.7</td>\n",
       "      <td>0</td>\n",
       "      <td>Less than 5</td>\n",
       "      <td>No</td>\n",
       "      <td>Yes</td>\n",
       "    </tr>\n",
       "    <tr>\n",
       "      <th>2</th>\n",
       "      <td>LA003</td>\n",
       "      <td>Yes</td>\n",
       "      <td>debt_consolidation</td>\n",
       "      <td>13.57%</td>\n",
       "      <td>366.86</td>\n",
       "      <td>10.373491</td>\n",
       "      <td>11.63</td>\n",
       "      <td>682</td>\n",
       "      <td>4710.000000</td>\n",
       "      <td>3511</td>\n",
       "      <td>25.6</td>\n",
       "      <td>0</td>\n",
       "      <td>Less than 5</td>\n",
       "      <td>No</td>\n",
       "      <td>Yes</td>\n",
       "    </tr>\n",
       "    <tr>\n",
       "      <th>3</th>\n",
       "      <td>LA004</td>\n",
       "      <td>Yes</td>\n",
       "      <td>debt_consolidation</td>\n",
       "      <td>10.08%</td>\n",
       "      <td>162.34</td>\n",
       "      <td>11.350407</td>\n",
       "      <td>8.10</td>\n",
       "      <td>712</td>\n",
       "      <td>2699.958333</td>\n",
       "      <td>33667</td>\n",
       "      <td>73.2</td>\n",
       "      <td>0</td>\n",
       "      <td>Less than 5</td>\n",
       "      <td>No</td>\n",
       "      <td>Yes</td>\n",
       "    </tr>\n",
       "    <tr>\n",
       "      <th>4</th>\n",
       "      <td>LA005</td>\n",
       "      <td>Yes</td>\n",
       "      <td>credit_card</td>\n",
       "      <td>14.26%</td>\n",
       "      <td>102.92</td>\n",
       "      <td>11.299732</td>\n",
       "      <td>14.97</td>\n",
       "      <td>667</td>\n",
       "      <td>4066.000000</td>\n",
       "      <td>4740</td>\n",
       "      <td>39.5</td>\n",
       "      <td>0</td>\n",
       "      <td>Less than 5</td>\n",
       "      <td>Yes</td>\n",
       "      <td>Yes</td>\n",
       "    </tr>\n",
       "  </tbody>\n",
       "</table>\n",
       "</div>"
      ],
      "text/plain": [
       "  customer.id credit.policy             purpose int.rate  installment  \\\n",
       "0       LA001           Yes  debt_consolidation   11.89%       829.10   \n",
       "1       LA002           Yes         credit_card   10.71%       228.22   \n",
       "2       LA003           Yes  debt_consolidation   13.57%       366.86   \n",
       "3       LA004           Yes  debt_consolidation   10.08%       162.34   \n",
       "4       LA005           Yes         credit_card   14.26%       102.92   \n",
       "\n",
       "   log.annual.inc    dti  fico  days.with.cr.line  revol.bal  revol.util  \\\n",
       "0       11.350407  19.48   737        5639.958333      28854        52.1   \n",
       "1       11.082143  14.29   707        2760.000000      33623        76.7   \n",
       "2       10.373491  11.63   682        4710.000000       3511        25.6   \n",
       "3       11.350407   8.10   712        2699.958333      33667        73.2   \n",
       "4       11.299732  14.97   667        4066.000000       4740        39.5   \n",
       "\n",
       "   pub.rec inq.last.6mths delinq.2yrs paid.back.loan  \n",
       "0        0    Less than 5          No            Yes  \n",
       "1        0    Less than 5          No            Yes  \n",
       "2        0    Less than 5          No            Yes  \n",
       "3        0    Less than 5          No            Yes  \n",
       "4        0    Less than 5         Yes            Yes  "
      ]
     },
     "execution_count": 96,
     "metadata": {},
     "output_type": "execute_result"
    }
   ],
   "source": [
    "data.head()"
   ]
  },
  {
   "cell_type": "code",
   "execution_count": 101,
   "metadata": {},
   "outputs": [],
   "source": [
    "data['int.rate'] = data['int.rate'].str.replace('%', '').astype(float)\n",
    "\n",
    "data['int.rate'] = data['int.rate'] / 100\n",
    "\n",
    "z_statistic, p_value = ztest(x1 = data[data['purpose'] == 'small_business']['int.rate'], value = data['int.rate'].mean(),\n",
    "                            alternative='larger')\n",
    "\n",
    "z_statistic, p_value\n",
    "\n",
    "if p_value < 0.05 :\n",
    "    print('Null Hypothesis rejected')\n",
    "else :\n",
    "    print('Null Hypothesis accepted')"
   ]
  },
  {
   "cell_type": "code",
   "execution_count": 123,
   "metadata": {},
   "outputs": [
    {
     "name": "stdout",
     "output_type": "stream",
     "text": [
      "4.894575287952092 9.85182562491764e-07\n",
      "Null Hypothesis rejected\n"
     ]
    }
   ],
   "source": [
    "installment_loan_defaulters = data[data['paid.back.loan'] == 'No']['installment']\n",
    "\n",
    "installment_loan_payers = data[data['paid.back.loan'] == 'Yes']['installment']\n",
    "\n",
    "z_statistic, p_value = ztest(x1 = installment_loan_defaulters, x2 = installment_loan_payers)\n",
    "\n",
    "print(z_statistic, p_value)\n",
    "\n",
    "if p_value < 0.05 :\n",
    "    print('Null Hypothesis rejected')\n",
    "else :\n",
    "    print('Null Hypothesis accepted')"
   ]
  },
  {
   "cell_type": "code",
   "execution_count": 125,
   "metadata": {},
   "outputs": [],
   "source": [
    "#Critical value\n",
    "critical_value = stats.chi2.ppf(q = 0.95, # Find the critical value for 95% confidence*\n",
    "                      df = 6)   # Df = number of variable categories(in purpose) - 1"
   ]
  },
  {
   "cell_type": "code",
   "execution_count": 140,
   "metadata": {},
   "outputs": [
    {
     "name": "stdout",
     "output_type": "stream",
     "text": [
      "Reject Null Hypothesis\n"
     ]
    }
   ],
   "source": [
    "yes = data[data['paid.back.loan'] == 'Yes']['purpose'].value_counts()\n",
    "\n",
    "no = data[data['paid.back.loan'] == 'No']['purpose'].value_counts()\n",
    "\n",
    "observed = pd.concat([yes.transpose(), no.transpose()], axis=1, keys = ['Yes', 'No'], sort=True)\n",
    "\n",
    "chi2, p, dof, ex = chi2_contingency(observed)\n",
    "\n",
    "if chi2 > critical_value :\n",
    "    print('Reject Null Hypothesis')\n",
    "else :\n",
    "    print('Accept Null Hypothesis')"
   ]
  },
  {
   "cell_type": "code",
   "execution_count": 146,
   "metadata": {},
   "outputs": [
    {
     "data": {
      "text/plain": [
       "1.560445163626672"
      ]
     },
     "execution_count": 146,
     "metadata": {},
     "output_type": "execute_result"
    }
   ],
   "source": [
    "sample_size = 1000\n",
    "\n",
    "z_critical = stats.norm.ppf(q=0.95)\n",
    "\n",
    "data_sample = data.sample(n = sample_size, random_state = 0)\n",
    "\n",
    "sample_mean = 180 #np.mean(data_sample['SalePrice'])\n",
    "\n",
    "population_std = 30 #0.4 #data['SalePrice'].std() #np.std(data['SalePrice'])\n",
    "\n",
    "margin_of_error = z_critical * population_std / (math.sqrt(sample_size))\n",
    "\n",
    "margin_of_error"
   ]
  },
  {
   "cell_type": "code",
   "execution_count": 145,
   "metadata": {},
   "outputs": [
    {
     "data": {
      "text/plain": [
       "1.6448536269514722"
      ]
     },
     "execution_count": 145,
     "metadata": {},
     "output_type": "execute_result"
    }
   ],
   "source": [
    "z_critical"
   ]
  },
  {
   "cell_type": "code",
   "execution_count": null,
   "metadata": {},
   "outputs": [],
   "source": []
  }
 ],
 "metadata": {
  "kernelspec": {
   "display_name": "Python 3",
   "language": "python",
   "name": "python3"
  },
  "language_info": {
   "codemirror_mode": {
    "name": "ipython",
    "version": 3
   },
   "file_extension": ".py",
   "mimetype": "text/x-python",
   "name": "python",
   "nbconvert_exporter": "python",
   "pygments_lexer": "ipython3",
   "version": "3.7.3"
  }
 },
 "nbformat": 4,
 "nbformat_minor": 2
}
