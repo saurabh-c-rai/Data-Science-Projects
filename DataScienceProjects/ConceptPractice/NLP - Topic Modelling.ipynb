{
 "cells": [
  {
   "cell_type": "code",
   "execution_count": 41,
   "metadata": {},
   "outputs": [],
   "source": [
    "import pandas as pd\n",
    "import numpy as np\n",
    "import matplotlib.pyplot as plt\n",
    "import seaborn as sns\n",
    "import re\n",
    "from sklearn.model_selection import train_test_split\n",
    "import nltk\n",
    "from nltk.corpus import stopwords\n",
    "from nltk.stem.wordnet import WordNetLemmatizer\n",
    "from string import punctuation\n",
    "from nltk.tokenize import word_tokenize\n",
    "from collections import Counter\n",
    "import operator\n",
    "from textblob import TextBlob\n",
    "import string\n",
    "import gensim\n",
    "from gensim.models.lsimodel import LsiModel\n",
    "from gensim.models.ldamodel import LdaModel\n",
    "from gensim.models.coherencemodel import CoherenceModel\n",
    "from gensim import corpora\n",
    "from pprint import pprint\n",
    "from sklearn.feature_extraction.text import CountVectorizer\n",
    "from sklearn.decomposition import TruncatedSVD"
   ]
  },
  {
   "cell_type": "markdown",
   "metadata": {},
   "source": [
    "\n",
    "\n",
    "\n",
    "- In this task we will load Consumer_complaints.csv into a dataframe using pandas and explore the column Consumer Complaint Narrative.\n",
    "\n",
    "- Load the dataset from 'path'(given) using the read_csv() method from pandas and store it in 'full_data'.\n",
    "\n",
    "- Subset the dataframe 'full_data' to only include \"Consumer complaint narrative\" and \"Product\" and store this dataframe subset in 'data'\n",
    "\n",
    "- Drop all the rows with null values in data using the dropna() method and inplace=True.\n",
    "\n",
    "- Rename the column \"Consumer compliant narrative\" to \"X\" and \"Product\" to \"y\" by assigning [\"X\",\"y\"] to data.columns\n",
    "\n",
    "- Print out the value at index 1 of the \"X\" field to take a look."
   ]
  },
  {
   "cell_type": "code",
   "execution_count": 2,
   "metadata": {},
   "outputs": [],
   "source": [
    "path = '/Users/raisaurabh04/OneDrive/GreyAtom/Practice Dataset/topic_modelling_customer_complaint.csv'"
   ]
  },
  {
   "cell_type": "code",
   "execution_count": 3,
   "metadata": {},
   "outputs": [
    {
     "name": "stderr",
     "output_type": "stream",
     "text": [
      "/Users/raisaurabh04/anaconda3/lib/python3.7/site-packages/ipykernel_launcher.py:7: SettingWithCopyWarning: \n",
      "A value is trying to be set on a copy of a slice from a DataFrame\n",
      "\n",
      "See the caveats in the documentation: http://pandas.pydata.org/pandas-docs/stable/indexing.html#indexing-view-versus-copy\n",
      "  import sys\n"
     ]
    },
    {
     "data": {
      "text/plain": [
       "'When my loan was switched over to Navient i was never told that i had a deliquint balance because with XXXX i did not. When going to purchase a vehicle i discovered my credit score had been dropped from the XXXX into the XXXX. I have been faithful at paying my student loan. I was told that Navient was the company i had delinquency with. I contacted Navient to resolve this issue you and kept being told to just contact the credit bureaus and expalin the situation and maybe they could help me. I was so angry that i just hurried and paid the balance off and then after tried to dispute the delinquency with the credit bureaus. I have had so much trouble bringing my credit score back up.'"
      ]
     },
     "execution_count": 3,
     "metadata": {},
     "output_type": "execute_result"
    }
   ],
   "source": [
    "full_data = pd.read_csv(path)\n",
    "\n",
    "data = full_data[['Consumer complaint narrative', 'Product']]\n",
    "\n",
    "data.isna().sum(), data.shape\n",
    "\n",
    "data.dropna(inplace=True)\n",
    "\n",
    "data.columns=['X', 'y']\n",
    "\n",
    "data['X'][1]"
   ]
  },
  {
   "cell_type": "markdown",
   "metadata": {},
   "source": [
    "<h3>Bag of Words creation</h3>\n",
    "\n",
    "- In this task, we will try to do the basic NLP operations of tokenizing, removing stop words and lemmatizing on our data. We will also try to create a list of most frequent words\n",
    "\n",
    "- We have already removed the stopwords and the some part of code is already given to you\n",
    "\n",
    "- Take the first 5 rows of the data and store them in variable first_five_complaints,\n",
    "\n",
    "- Convert first_five_complaints to lowercase and store them to a list called 'BoW'.\n",
    "\n",
    "- Tokenize each sentence of the list 'BoW' into constituent words using \"word_tokenize()\" and store it back into the list 'Bow'. (Hint: Instead of a loop you can also use list comprehension)\n",
    "\n",
    "- Flatten 'BoW' by writing [item for sublist in BoW for item in sublist]' and store it back into 'BoW'.\n",
    "\n",
    "- Remove stop words (defined in the custom list) from the words in 'BoW' and store it back into 'BoW'\n",
    "\n",
    "- Initialise a WordLemmatizer() object and store it in a variable called 'lemmatizer'.\n",
    "\n",
    "- Lemmatize each word from 'Bow' using 'lemmatize()' method of 'lemmatizer' and store it back into 'BoW'\n",
    "\n",
    "- Convert 'Counter(BoW)' into dictionary and save it in a variable called 'BoW_dict'.\n",
    "\n",
    "- Sort 'BoW_dict' in descending order using \"sorted()\" function with the parameters BoW_dict.items(), key=operator.itemgetter(1), reverse=True. Store it in a variable called 'sorted_d'\n",
    "\n",
    "- Print 'sorted_d' to check out the list of words with their frequency in descending order."
   ]
  },
  {
   "cell_type": "code",
   "execution_count": 4,
   "metadata": {},
   "outputs": [
    {
     "name": "stdout",
     "output_type": "stream",
     "text": [
      "[('payment', 12), ('closing', 12), ('account', 11), ('credit', 8), ('mortgage', 8), ('rate', 8), ('would', 8), ('bank', 7), ('fixed', 7), ('could', 6), ('property', 6), ('form', 6), ('loan', 5), ('told', 5), ('year', 5), ('day', 5), ('disclosure', 5), ('u', 5), ('score', 4), ('back', 4), ('bb', 4), ('amount', 4), ('30', 4), ('number', 4), ('received', 4), ('product', 4), ('checking', 4), ('decided', 4), ('letter', 4), ('--', 4), ('please', 4), ('close', 4), ('navient', 3), ('kept', 3), ('contact', 3), ('tried', 3), ('sign', 3), ('pay', 3), ('website', 3), ('bi-weekly', 3), ('customer', 3), ('set', 3), ('offer', 3), ('send', 3), ('understand', 3), ('asked', 3), ('3', 3), ('make', 3), ('like', 3), ('citizen', 3), ('arm', 3), ('30yr', 3), ('requested', 3), ('corrected', 3), ('right', 3), ('date', 3), ('email', 3), ('need', 3), ('address', 3), ('deposit', 3), ('increased', 3), ('balance', 2), ('going', 2), ('delinquency', 2), ('bureau', 2), ('help', 2), ('much', 2), ('program', 2), ('one', 2), ('calculator', 2), ('type', 2), ('saving', 2), ('service', 2), ('get', 2), ('plan', 2), ('full', 2), ('money', 2), ('later', 2), ('wanted', 2), ('knowledgeable', 2), ('corporate', 2), ('stating', 2), ('financial', 2), ('go', 2), ('changed', 2), ('waive', 2), ('clock', 2), ('reset', 2), ('sent', 2), ('sure', 2), ('information', 2), ('bottom', 2), ('may', 2), ('review', 2), ('new', 2), ('must', 2), ('time', 2), ('done', 2), ('apr', 2), ('increase', 2), ('difference', 2), ('monthly', 2), ('fully', 2), ('aware', 2), ('still', 2), ('forward', 2), ('already', 2), ('signed', 2), ('forgotten', 2), ('ach', 2), ('even', 2), ('line', 2), ('without', 2), ('authorization', 2), ('significant', 2), ('switched', 1), ('never', 1), ('deliquint', 1), ('purchase', 1), ('vehicle', 1), ('discovered', 1), ('dropped', 1), ('faithful', 1), ('paying', 1), ('student', 1), ('company', 1), ('contacted', 1), ('resolve', 1), ('issue', 1), ('expalin', 1), ('situation', 1), ('maybe', 1), ('angry', 1), ('hurried', 1), ('paid', 1), ('dispute', 1), ('trouble', 1), ('bringing', 1), ('spending', 1), ('monitoring', 1), ('capital', 1), ('let', 1), ('access', 1), ('recently', 1), ('investigating', 1), ('way', 1), ('faster', 1), ('came', 1), ('across', 1), ('biweekly', 1), ('nice', 1), ('easy', 1), ('use', 1), ('plug', 1), ('interest', 1), ('term', 1), ('calculates', 1), ('accelerated', 1), ('show', 1), ('quicker', 1), ('figured', 1), ('26.4', 1), ('quite', 1), ('called', 1), ('inquire', 1), ('applied', 1), ('sit', 1), ('holding', 1), ('collected', 1), ('ended', 1), ('calling', 1), ('thinking', 1), ('rep', 1), ('talking', 1), ('got', 1), ('answer', 1), ('office', 1), ('speak', 1), ('someone', 1), ('phone', 1), ('call', 1), ('manager', 1), ('stated', 1), ('longer', 1), ('active', 1), ('link', 1), ('planning', 1), ('center', 1), ('tab', 1), ('mislead', 1), ('say', 1), (\"'m\", 1), ('sorry', 1), ('know', 1), (\"'re\", 1), ('upset', 1), ('sound', 1), ('false', 1), ('advertising', 1), ('http', 1), ('//www.bbt.com/xxxx', 1), ('entire', 1), ('lending', 1), ('experience', 1), ('terrible', 1), ('lender', 1), ('pushing', 1), ('considered', 1), ('initially', 1), ('immediately', 1), ('upon', 1), ('delaying', 1), ('saying', 1), ('waited', 1), ('next', 1), ('convince', 1), ('push', 1), ('due', 1), ('seemed', 1), ('intentional', 1), ('something', 1), ('often', 1), ('instructing', 1), ('draft', 1), ('officer', 1), ('outlined', 1), ('basis', 1), ('elaborate', 1), ('include', 1), ('this.', 1), (\"''\", 1), ('concern', 1), ('business', 1), ('prior', 1), ('face', 1), ('hardship', 1), ('losing', 1), ('earnest', 1), ('falling', 1), ('substantial', 1), ('expense', 1), ('associated', 1), ('drive', 1), ('move', 1), ('require', 1), ('begin', 1), ('job', 1), ('addition', 1), ('change', 1), ('request', 1), ('safe', 1), ('option', 1), ('avoid', 1), ('market', 1), ('causing', 1), ('felt', 1), ('though', 1), ('worth', 1), ('security', 1), ('knowing', 1), ('however', 1), ('wish', 1), ('anyone', 1), ('question', 1), ('hesitate', 1), ('reach', 1), ('look', 1), ('loan.', 1), ('physically', 1), ('thanks', 1), ('responded', 1), ('feel', 1), ('comfortable', 1), ('moving', 1), ('waving', 1), ('receive', 1), ('including', 1), ('really', 1), ('appreciate', 1), ('tonight', 1), ('since', 1), ('pushed', 1), ('expected.', 1), ('finally', 1), ('correct', 1), ('several', 1), ('occasion', 1), ('open', 1), ('opportunity', 1), ('desired', 1), ('discount', 1), ('come', 1), ('directly', 1), ('primary', 1), ('another', 1), ('institution', 1), ('dated', 1), ('direct', 1), ('debit', 1), ('said', 1), ('.it', 1), ('turn', 1), ('opened', 1), ('husband', 1), ('name', 1), ('charged', 1), ('opening', 1), ('signature', 1), ('fighting', 1), ('properly', 1), ('closed', 1), ('gone', 1), ('point', 1), ('last', 1), ('month', 1), ('reviewed', 1), ('report', 1), ('reporting', 1), ('agency', 1), ('find', 1), ('reason', 1), ('decrease', 1)]\n"
     ]
    }
   ],
   "source": [
    "stopwords_set = set(stopwords.words('english'))\n",
    "stopwords_set.add('xxxx')\n",
    "custom = list(stopwords_set)+list(punctuation)+['``', \"'s\", \"...\", \"n't\"]\n",
    "\n",
    "first_five_complaints = data.iloc[ 0 : 5, 0]\n",
    "\n",
    "BoW = first_five_complaints.apply(lambda x : x.lower())\n",
    "\n",
    "BoW = [word_tokenize(i) for i in BoW]\n",
    "BoW = [item for sublist in BoW for item in sublist]\n",
    "\n",
    "BoW = [x for x in BoW if x not in custom]\n",
    "\n",
    "#BoW\n",
    "\n",
    "lemmatizer = WordNetLemmatizer()\n",
    "\n",
    "# BoW = BoW.map(lambda x : word_tokenize(x))\n",
    "\n",
    "# BoW = BoW.map( lambda x : [i for i in x if i not in custom])\n",
    "\n",
    "BoW = [lemmatizer.lemmatize(x) for x in BoW]\n",
    "\n",
    "BoW_dict = Counter(BoW)\n",
    "\n",
    "sorted_d = sorted(BoW_dict.items(), key=operator.itemgetter(1), reverse=True)\n",
    "\n",
    "print(sorted_d)"
   ]
  },
  {
   "cell_type": "markdown",
   "metadata": {},
   "source": [
    "\n",
    "\n",
    "<h3>Top Nouns</h3>\n",
    "\n",
    "- Since Nouns are important in Topic Modeling process, we will try to figure out the top nouns from the bag of words we created in the last task.\n",
    "\n",
    "- We have given you some pre excution code\n",
    "\n",
    "- Join the previously created bag of words 'BoW' back into a string using \"join()\" method and store the result in 'BoW_joined'.\n",
    "\n",
    "- Convert 'Bow_joined' into a textblob using \\\"TextBlob()\\\" method and store the result into 'blob'.\n",
    "\n",
    "- Print out the \"blob.tags\" to look at the different tags associated with the words.\n",
    "\n",
    "- Get the tags of all the words from 'BoW' using blob.tags and store the result in a variable called 'tags'\n",
    "\n",
    "- From 'tags', extract the words which have \"NN\" tags and store them to a list called 'nouns'\n",
    "\n",
    "- The top 10 words which have appeared most frequently are already stored into a list called 'top_words'\n",
    "\n",
    "- Compare the two lists 'top_words' and 'nouns' and store the common elements between them in a new list called 'top_nouns'\n",
    "\n",
    "- Print 'top_nouns' to see most commonly appearing nouns"
   ]
  },
  {
   "cell_type": "code",
   "execution_count": 5,
   "metadata": {},
   "outputs": [],
   "source": [
    "#Extracting the top 10 words with their count\n",
    "top_10 = sorted_d[:10]\n",
    "\n",
    "#Storing only the top 10 words\n",
    "top_words=[]\n",
    "for x in top_10:\n",
    "    top_words.append(x[0])\n"
   ]
  },
  {
   "cell_type": "code",
   "execution_count": 6,
   "metadata": {},
   "outputs": [],
   "source": [
    "BoW_joined = ' '.join(BoW)"
   ]
  },
  {
   "cell_type": "code",
   "execution_count": 7,
   "metadata": {},
   "outputs": [],
   "source": [
    "blob = TextBlob(BoW_joined)"
   ]
  },
  {
   "cell_type": "code",
   "execution_count": 8,
   "metadata": {},
   "outputs": [
    {
     "name": "stdout",
     "output_type": "stream",
     "text": [
      "[('loan', 'NN'), ('switched', 'VBD'), ('navient', 'JJ'), ('never', 'RB'), ('told', 'VBD'), ('deliquint', 'NN'), ('balance', 'NN'), ('going', 'VBG'), ('purchase', 'NN'), ('vehicle', 'NN'), ('discovered', 'VBD'), ('credit', 'NN'), ('score', 'NN'), ('dropped', 'VBD'), ('faithful', 'JJ'), ('paying', 'VBG'), ('student', 'NN'), ('loan', 'NN'), ('told', 'VBD'), ('navient', 'JJ'), ('company', 'NN'), ('delinquency', 'NN'), ('contacted', 'VBD'), ('navient', 'JJ'), ('resolve', 'NN'), ('issue', 'NN'), ('kept', 'VBD'), ('told', 'VBN'), ('contact', 'NN'), ('credit', 'NN'), ('bureau', 'NN'), ('expalin', 'JJ'), ('situation', 'NN'), ('maybe', 'RB'), ('could', 'MD'), ('help', 'VB'), ('angry', 'JJ'), ('hurried', 'VBN'), ('paid', 'VBN'), ('balance', 'NN'), ('tried', 'VBD'), ('dispute', 'JJ'), ('delinquency', 'NN'), ('credit', 'NN'), ('bureau', 'NN'), ('much', 'JJ'), ('trouble', 'NN'), ('bringing', 'VBG'), ('credit', 'NN'), ('score', 'NN'), ('back', 'RB'), ('tried', 'VBD'), ('sign', 'NN'), ('spending', 'NN'), ('monitoring', 'VBG'), ('program', 'NN'), ('capital', 'NN'), ('one', 'CD'), ('let', 'NN'), ('access', 'NN'), ('account', 'NN'), ('mortgage', 'NN'), ('bb', 'VBD'), ('bank', 'NN'), ('recently', 'RB'), ('investigating', 'VBG'), ('way', 'NN'), ('pay', 'NN'), ('mortgage', 'NN'), ('faster', 'RBR'), ('came', 'VBD'), ('across', 'IN'), ('biweekly', 'JJ'), ('mortgage', 'NN'), ('calculator', 'NN'), ('bb', 'VBD'), ('website', 'JJ'), ('nice', 'JJ'), ('easy', 'JJ'), ('use', 'NN'), ('calculator', 'NN'), ('plug', 'JJ'), ('interest', 'NN'), ('rate', 'NN'), ('mortgage', 'NN'), ('amount', 'NN'), ('mortgage', 'NN'), ('term', 'NN'), ('payment', 'NN'), ('type', 'NN'), ('calculates', 'NNS'), ('accelerated', 'VBD'), ('bi-weekly', 'JJ'), ('payment', 'NN'), ('show', 'NN'), ('much', 'JJ'), ('quicker', 'JJR'), ('pay', 'NN'), ('loan', 'NN'), ('figured', 'VBD'), ('pay', 'NN'), ('30', 'CD'), ('year', 'NN'), ('mortgage', 'NN'), ('26.4', 'CD'), ('year', 'NN'), ('quite', 'RB'), ('saving', 'VBG'), ('called', 'VBN'), ('bb', 'NN'), ('customer', 'NN'), ('service', 'NN'), ('number', 'NN'), ('inquire', 'NN'), ('get', 'NN'), ('set', 'VBN'), ('payment', 'NN'), ('plan', 'NN'), ('told', 'VBD'), ('offer', 'NN'), ('type', 'JJ'), ('payment', 'NN'), ('plan', 'NN'), ('could', 'MD'), ('send', 'VB'), ('payment', 'NN'), ('bi-weekly', 'RB'), ('would', 'MD'), ('applied', 'VB'), ('full', 'JJ'), ('amount', 'NN'), ('received', 'VBD'), ('money', 'NN'), ('would', 'MD'), ('sit', 'VB'), ('holding', 'VBG'), ('account', 'NN'), ('full', 'JJ'), ('payment', 'NN'), ('amount', 'NN'), ('collected', 'VBD'), ('ended', 'VBD'), ('calling', 'VBG'), ('back', 'RB'), ('day', 'NN'), ('later', 'RBR'), ('thinking', 'VBG'), ('rep', 'VB'), ('talking', 'VBG'), ('understand', 'JJ'), ('wanted', 'VBD'), ('knowledgeable', 'JJ'), ('program', 'NN'), ('got', 'VBD'), ('answer', 'JJR'), ('asked', 'VBN'), ('corporate', 'JJ'), ('bb', 'NN'), ('office', 'NN'), ('number', 'NN'), ('could', 'MD'), ('speak', 'VB'), ('someone', 'NN'), ('knowledgeable', 'JJ'), ('product', 'NN'), ('3', 'CD'), ('day', 'NN'), ('received', 'VBD'), ('phone', 'NN'), ('call', 'NN'), ('back', 'RB'), ('corporate', 'JJ'), ('manager', 'NN'), ('stating', 'VBG'), ('offer', 'NN'), ('product', 'NN'), ('checking', 'VBG'), ('website', 'RB'), ('stated', 'VBN'), ('customer', 'NN'), ('make', 'VBP'), ('bi-weekly', 'JJ'), ('payment', 'NN'), ('longer', 'RB'), ('offer', 'VBP'), ('service', 'NN'), ('understand', 'VBP'), ('active', 'JJ'), ('link', 'NN'), ('website', 'JJ'), ('financial', 'JJ'), ('planning', 'NN'), ('center', 'NN'), ('tab', 'NN'), ('mislead', 'JJ'), ('customer', 'NN'), ('say', 'VBP'), (\"'m\", 'VBP'), ('sorry', 'JJ'), ('know', 'VBP'), (\"'re\", 'VBP'), ('upset', 'JJ'), ('sound', 'NN'), ('like', 'IN'), ('false', 'JJ'), ('advertising', 'NN'), ('http', 'NN'), ('//www.bbt.com/xxxx', 'NNP'), ('entire', 'JJ'), ('lending', 'NN'), ('experience', 'NN'), ('citizen', 'VBD'), ('bank', 'NN'), ('terrible', 'JJ'), ('lender', 'NN'), ('kept', 'VBD'), ('pushing', 'VBG'), ('arm', 'NN'), ('considered', 'VBN'), ('initially', 'RB'), ('decided', 'VBD'), ('go', 'VB'), ('30yr', 'CD'), ('fixed', 'VBN'), ('received', 'VBD'), ('closing', 'NN'), ('disclosure', 'NN'), ('arm', 'NN'), ('immediately', 'RB'), ('requested', 'VBD'), ('corrected', 'VBD'), ('30yr', 'CD'), ('fixed', 'VBN'), ('decided', 'VBD'), ('upon', 'IN'), ('kept', 'IN'), ('delaying', 'VBG'), ('saying', 'VBG'), ('changed', 'VBN'), ('would', 'MD'), ('send', 'VB'), ('u', 'RB'), ('waited', 'JJ'), ('next', 'JJ'), ('day', 'NN'), ('tried', 'VBD'), ('convince', 'NN'), ('u', 'JJ'), ('waive', 'JJ'), ('right', 'NN'), ('would', 'MD'), ('push', 'VB'), ('closing', 'NN'), ('date', 'NN'), ('due', 'JJ'), ('3', 'CD'), ('day', 'NN'), ('clock', 'NN'), ('reset', 'NN'), ('seemed', 'VBD'), ('intentional', 'JJ'), ('like', 'IN'), ('something', 'NN'), ('often', 'RB'), ('sent', 'VBD'), ('u', 'JJ'), ('email', 'NN'), ('instructing', 'VBG'), ('u', 'JJ'), ('draft', 'NN'), ('letter', 'NN'), ('loan', 'NN'), ('officer', 'NN'), ('outlined', 'VBD'), ('basis', 'NN'), ('letter', 'NN'), ('email', 'NN'), ('please', 'NN'), ('elaborate', 'NN'), ('wanted', 'VBD'), ('product', 'NN'), ('changed', 'VBN'), ('make', 'JJ'), ('sure', 'JJ'), ('include', 'VB'), ('contact', 'JJ'), ('information', 'NN'), ('bottom', 'NN'), ('need', 'VBP'), ('this.', 'IN'), ('may', 'MD'), ('concern', 'NN'), ('letter', 'NN'), ('waive', 'WDT'), ('right', 'RB'), ('review', 'VBP'), ('new', 'JJ'), ('closing', 'NN'), ('disclosure', 'NN'), ('3', 'CD'), ('business', 'NN'), ('day', 'NN'), ('prior', 'IN'), ('closing', 'NN'), ('must', 'MD'), ('close', 'VB'), ('property', 'NN'), ('property', 'NN'), ('address', 'NN'), ('face', 'NN'), ('financial', 'JJ'), ('hardship', 'NN'), ('form', 'NN'), ('losing', 'VBG'), ('earnest', 'JJS'), ('money', 'NN'), ('deposit', 'NN'), ('property', 'NN'), ('falling', 'VBG'), ('must', 'MD'), ('close', 'VB'), ('property', 'NN'), ('substantial', 'JJ'), ('expense', 'NN'), ('associated', 'VBN'), ('drive', 'JJ'), ('move', 'NN'), ('property', 'NN'), ('address', 'NN'), ('require', 'VBP'), ('property', 'NN'), ('may', 'MD'), ('begin', 'VB'), ('new', 'JJ'), ('job', 'NN'), ('time', 'NN'), ('addition', 'NN'), ('letter', 'NN'), ('address', 'NN'), ('change', 'NN'), ('rate', 'NN'), ('product', 'NN'), ('done', 'VBN'), ('request', 'NN'), ('requested', 'VBD'), ('30', 'CD'), ('year', 'NN'), ('fixed', 'VBN'), ('rate', 'NN'), ('loan', 'NN'), ('increased', 'VBD'), ('rate', 'NN'), ('increased', 'VBN'), ('apr', 'NN'), ('decided', 'VBD'), ('30', 'CD'), ('year', 'NN'), ('fixed', 'VBN'), ('safe', 'JJ'), ('option', 'NN'), ('avoid', 'NN'), ('market', 'NN'), ('causing', 'VBG'), ('arm', 'NN'), ('rate', 'NN'), ('increase', 'NN'), ('felt', 'VBD'), ('though', 'IN'), ('difference', 'NN'), ('payment', 'NN'), ('monthly', 'JJ'), ('worth', 'JJ'), ('security', 'NN'), ('fixed', 'VBN'), ('rate', 'NN'), ('knowing', 'VBG'), ('rate', 'NN'), ('could', 'MD'), ('increase', 'VB'), ('fully', 'RB'), ('aware', 'JJ'), ('rate', 'NN'), ('apr', 'NN'), ('increased', 'VBD'), ('fully', 'RB'), ('aware', 'JJ'), ('difference', 'NN'), ('monthly', 'JJ'), ('payment', 'NN'), ('however', 'RB'), ('still', 'RB'), ('wish', 'JJ'), ('go', 'VBP'), ('30', 'CD'), ('year', 'NN'), ('fixed', 'VBN'), ('need', 'VBP'), ('close', 'JJ'), ('contact', 'JJ'), ('information', 'NN'), ('anyone', 'NN'), ('question', 'NN'), ('please', 'NN'), ('hesitate', 'VB'), ('reach', 'NN'), ('look', 'VB'), ('forward', 'RB'), ('closing', 'NN'), ('loan', 'NN'), ('please', 'VB'), ('make', 'VB'), ('sure', 'JJ'), ('physically', 'RB'), ('sign', 'JJ'), ('date', 'NN'), ('bottom', 'NN'), ('send', 'VBP'), ('back', 'RB'), ('close', 'JJ'), ('time', 'NN'), ('thanks', 'NNS'), ('responded', 'VBD'), ('feel', 'NN'), ('comfortable', 'JJ'), ('moving', 'VBG'), ('forward', 'RB'), ('waving', 'VBG'), ('right', 'RB'), ('review', 'NN'), ('closing', 'NN'), ('disclosure', 'NN'), ('would', 'MD'), ('like', 'VB'), ('receive', 'NN'), ('corrected', 'VBN'), ('closing', 'NN'), ('disclosure', 'NN'), ('30yr', 'CD'), ('fixed', 'VBN'), ('including', 'VBG'), ('corrected', 'VBN'), ('deposit', 'NN'), ('amount', 'NN'), ('understand', 'JJ'), ('reset', 'NN'), ('clock', 'NN'), ('would', 'MD'), ('really', 'RB'), ('appreciate', 'VB'), ('could', 'MD'), ('done', 'VBN'), ('tonight', 'NN'), ('since', 'IN'), ('closing', 'NN'), ('date', 'NN'), ('already', 'RB'), ('pushed', 'VBN'), ('expected', 'VBN'), ('finally', 'RB'), ('sent', 'VBN'), ('u', 'JJ'), ('correct', 'NN'), ('closing', 'NN'), ('disclosure', 'NN'), ('several', 'JJ'), ('occasion', 'NN'), ('asked', 'VBD'), ('open', 'JJ'), ('checking', 'NN'), ('account', 'NN'), ('told', 'VBD'), ('would', 'MD'), ('opportunity', 'NN'), ('later', 'RB'), ('desired', 'VBN'), ('would', 'MD'), ('discount', 'VB'), ('account', 'NN'), ('decided', 'VBD'), ('need', 'MD'), ('one', 'CD'), ('closing', 'NN'), ('set', 'VBN'), ('mortgage', 'NN'), ('payment', 'NN'), ('come', 'VBP'), ('directly', 'RB'), ('primary', 'JJ'), ('bank', 'NN'), ('account', 'NN'), ('another', 'DT'), ('institution', 'NN'), ('received', 'VBD'), ('email', 'JJ'), ('stating', 'VBG'), ('form', 'NN'), ('signed', 'VBD'), ('forgotten', 'RB'), ('closing', 'VBG'), ('form', 'NN'), ('dated', 'VBD'), ('ach', 'NN'), ('direct', 'JJ'), ('debit', 'NN'), ('mortgage', 'NN'), ('payment', 'NN'), ('bank', 'NN'), ('account', 'NN'), ('citizen', 'JJ'), ('bank', 'NN'), ('said', 'VBD'), ('going', 'VBG'), ('sign', 'NN'), ('already', 'RB'), ('set', 'VB'), ('payment', 'NN'), ('bank', 'NN'), ('signed', 'VBD'), ('ach', 'JJ'), ('form', 'NN'), ('form', 'NN'), ('forgotten', 'VBN'), ('closing', 'VBG'), ('form', 'NN'), ('account', 'NN'), ('number', 'NN'), ('asked', 'VBD'), ('could', 'MD'), ('account', 'VB'), ('number', 'NN'), ('even', 'RB'), ('citizen', 'JJ'), ('bank', 'NN'), ('account', 'NN'), ('.it', 'NNP'), ('turn', 'NN'), ('opened', 'VBD'), ('checking', 'VBG'), ('saving', 'VBG'), ('credit', 'NN'), ('line', 'NN'), ('account', 'NN'), ('husband', 'NN'), ('name', 'NN'), ('without', 'IN'), ('authorization', 'NN'), ('even', 'RB'), ('charged', 'VBD'), ('credit', 'NN'), ('line', 'NN'), ('opening', 'VBG'), ('deposit', 'NN'), ('checking', 'VBG'), ('account', 'NN'), ('without', 'IN'), ('authorization', 'NN'), ('signature', 'NN'), ('still', 'RB'), ('fighting', 'VBG'), ('get', 'VB'), ('properly', 'RB'), ('closed', 'VBN'), ('credit', 'NN'), ('score', 'NN'), ('gone', 'VBN'), ('point', 'NN'), ('last', 'JJ'), ('month', 'NN'), ('requested', 'VBD'), ('reviewed', 'VBD'), ('report', 'NN'), ('credit', 'NN'), ('reporting', 'VBG'), ('agency', 'NN'), ('find', 'VB'), ('significant', 'JJ'), ('reason', 'NN'), ('significant', 'JJ'), ('decrease', 'NN'), ('score', 'NN'), ('please', 'NN'), ('help', 'NN')]\n"
     ]
    }
   ],
   "source": [
    "print(blob.tags)"
   ]
  },
  {
   "cell_type": "code",
   "execution_count": 9,
   "metadata": {},
   "outputs": [],
   "source": [
    "tags = blob.tags"
   ]
  },
  {
   "cell_type": "code",
   "execution_count": 10,
   "metadata": {},
   "outputs": [],
   "source": [
    "nouns = [x[0] for x in tags if x[1] == 'NN']"
   ]
  },
  {
   "cell_type": "code",
   "execution_count": 11,
   "metadata": {},
   "outputs": [],
   "source": [
    "noun_dict = dict(Counter(nouns))"
   ]
  },
  {
   "cell_type": "code",
   "execution_count": 12,
   "metadata": {},
   "outputs": [],
   "source": [
    "noun_dict = sorted(noun_dict.items(), key=operator.itemgetter(1), reverse=True)"
   ]
  },
  {
   "cell_type": "code",
   "execution_count": 13,
   "metadata": {},
   "outputs": [],
   "source": [
    "top_noun = set(top_words).intersection(set(nouns))"
   ]
  },
  {
   "cell_type": "code",
   "execution_count": 14,
   "metadata": {},
   "outputs": [
    {
     "data": {
      "text/plain": [
       "{'account', 'bank', 'closing', 'credit', 'mortgage', 'payment', 'rate'}"
      ]
     },
     "execution_count": 14,
     "metadata": {},
     "output_type": "execute_result"
    }
   ],
   "source": [
    "top_noun"
   ]
  },
  {
   "cell_type": "markdown",
   "metadata": {},
   "source": [
    "\n",
    "\n",
    "\n",
    "\n",
    "<h3> LSA Modeling</h3>\n",
    "\n",
    "- In this task, we will try to see how to use LSI on the entire dataset.\n",
    "\n",
    "- A cleaned list called doc_clean containing data of X column is already given.\n",
    "\n",
    "- Create a dictionary from 'doc_clean' using \"corpora.Dictionary()\" and store it in a variable called 'dictionary'\n",
    "\n",
    "- Create a word corpus of 'dictionary' using \"doc2bow()\" method and store the result in a variable called 'doc_term_matrix'\n",
    "\n",
    "- Initialise the LSI model \"LsiModel()\" with the parameters corpus=doc_term_matrix, num_topics=5, id2word=dictionary and store it in lsimodel.\n",
    "\n",
    "- Print(Use pprint()) the 5 topics using \"print_topics()\" method of lsimodel and have a look at it."
   ]
  },
  {
   "cell_type": "code",
   "execution_count": 15,
   "metadata": {},
   "outputs": [
    {
     "name": "stdout",
     "output_type": "stream",
     "text": [
      "[['loan', 'switched', 'navient', 'never', 'told', 'deliquint', 'balance', 'not', 'going', 'purchase', 'vehicle', 'discovered', 'credit', 'score', 'dropped', 'xxxx', 'faithful', 'paying', 'student', 'loan', 'told', 'navient', 'company', 'delinquency', 'with', 'contacted', 'navient', 'resolve', 'issue', 'kept', 'told', 'contact', 'credit', 'bureau', 'expalin', 'situation', 'maybe', 'could', 'help', 'me', 'angry', 'hurried', 'paid', 'balance', 'tried', 'dispute', 'delinquency', 'credit', 'bureau', 'much', 'trouble', 'bringing', 'credit', 'score', 'back', 'up'], ['tried', 'sign', 'spending', 'monitoring', 'program', 'capital', 'one', 'let', 'access', 'account']]\n"
     ]
    }
   ],
   "source": [
    "stop = stopwords_set\n",
    "exclude = set(string.punctuation)\n",
    "lemma = WordNetLemmatizer()\n",
    "\n",
    "# Function to lemmatize and remove the stopwords\n",
    "def clean(doc):\n",
    "    stop_free = \" \".join([i for i in doc.lower().split() if i not in stop])\n",
    "    punc_free = \"\".join(ch for ch in stop_free if ch not in exclude)\n",
    "    normalized = \" \".join(lemma.lemmatize(word) for word in punc_free.split())\n",
    "    return normalized\n",
    "\n",
    "# Creating a list of documents from the complaints column\n",
    "list_of_docs = data[\"X\"].tolist()\n",
    "\n",
    "# Implementing the fuction for all the complaints of list_of_docs\n",
    "doc_clean = [clean(doc).split() for doc in list_of_docs]\n",
    "print(doc_clean[ : 2])"
   ]
  },
  {
   "cell_type": "code",
   "execution_count": 16,
   "metadata": {},
   "outputs": [
    {
     "name": "stdout",
     "output_type": "stream",
     "text": [
      "[(0,\n",
      "  '0.351*\"xxxxxxxx\" + 0.311*\"credit\" + 0.308*\"xxxx\" + 0.293*\"account\" + '\n",
      "  '0.193*\"payment\" + 0.142*\"report\" + 0.139*\"bank\" + 0.132*\"would\" + '\n",
      "  '0.132*\"card\" + 0.116*\"information\"'),\n",
      " (1,\n",
      "  '-0.455*\"credit\" + 0.345*\"xxxxxxxx\" + -0.298*\"consumer\" + -0.240*\"debt\" + '\n",
      "  '-0.234*\"report\" + -0.225*\"agency\" + -0.209*\"information\" + '\n",
      "  '-0.204*\"reporting\" + -0.160*\"collection\" + 0.137*\"bank\"'),\n",
      " (2,\n",
      "  '0.355*\"consumer\" + -0.350*\"credit\" + -0.277*\"card\" + 0.203*\"law\" + '\n",
      "  '0.186*\"criminal\" + 0.178*\"property\" + 0.170*\"information\" + '\n",
      "  '0.164*\"mortgage\" + 0.164*\"agency\" + 0.149*\"court\"'),\n",
      " (3,\n",
      "  '0.709*\"xxxxxxxx\" + -0.391*\"payment\" + -0.252*\"loan\" + -0.133*\"would\" + '\n",
      "  '-0.107*\"told\" + 0.102*\"usaa\" + 0.101*\"inquiry\" + -0.088*\"pay\" + -0.080*\"nt\" '\n",
      "  '+ 0.077*\"report\"'),\n",
      " (4,\n",
      "  '0.377*\"consumer\" + -0.290*\"credit\" + 0.258*\"information\" + 0.206*\"payment\" '\n",
      "  '+ -0.179*\"criminal\" + -0.163*\"law\" + -0.161*\"card\" + 0.155*\"loan\" + '\n",
      "  '0.148*\"xxxxxxxx\" + -0.148*\"property\"')]\n"
     ]
    }
   ],
   "source": [
    "dictionary = corpora.Dictionary(documents=doc_clean)\n",
    "\n",
    "doc_term_matrix = [dictionary.doc2bow(doc) for doc in doc_clean]\n",
    "\n",
    "lsimodel = LsiModel(corpus=doc_term_matrix, num_topics=5, id2word=dictionary)\n",
    "\n",
    "pprint(lsimodel.print_topics())"
   ]
  },
  {
   "cell_type": "markdown",
   "metadata": {},
   "source": [
    "<h3>LDA Modelling</h3>\n",
    "\n",
    "- A cleaned list called doc_clean containing data of X column is already given.\n",
    "\n",
    "- Create a dictionary from 'doc_clean' using \"corpora.Dictionary()\" and store it in a variable called 'dictionary'\n",
    "\n",
    "- Create a word corpus of 'dictionary' using \"doc2bow()\" method and store the result in a variable called 'doc_term_matrix'\n",
    "\n",
    "- Initialise the LDA model \"LdaModel()\" with the parameters corpus=doc_term_matrix, num_topics=5, id2word=dictionary, passes=30, random_state=20 and store it in ldamodel.\n",
    "\n",
    "- Print(Use pprint()) the 5 topics using \"print_topics()\" method of ldamodel and have a look at it."
   ]
  },
  {
   "cell_type": "code",
   "execution_count": 17,
   "metadata": {},
   "outputs": [
    {
     "name": "stdout",
     "output_type": "stream",
     "text": [
      "[(0,\n",
      "  '0.044*\"credit\" + 0.029*\"report\" + 0.029*\"account\" + 0.019*\"xxxx\" + '\n",
      "  '0.018*\"information\" + 0.016*\"xxxxxxxx\" + 0.014*\"reporting\" + '\n",
      "  '0.011*\"company\" + 0.009*\"debt\" + 0.009*\"agency\"'),\n",
      " (1,\n",
      "  '0.020*\"account\" + 0.016*\"xxxx\" + 0.015*\"card\" + 0.014*\"credit\" + '\n",
      "  '0.011*\"bank\" + 0.011*\"xxxxxxxx\" + 0.010*\"call\" + 0.009*\"would\" + '\n",
      "  '0.009*\"called\" + 0.008*\"told\"'),\n",
      " (2,\n",
      "  '0.034*\"debt\" + 0.011*\"collection\" + 0.011*\"company\" + 0.010*\"xxxx\" + '\n",
      "  '0.009*\"law\" + 0.008*\"letter\" + 0.008*\"criminal\" + 0.007*\"never\" + '\n",
      "  '0.006*\"court\" + 0.006*\"property\"'),\n",
      " (3,\n",
      "  '0.013*\"debt\" + 0.013*\"collection\" + 0.010*\"credit\" + 0.010*\"agency\" + '\n",
      "  '0.006*\"xxxxxxxx\" + 0.006*\"year\" + 0.006*\"right\" + 0.006*\"xxxx\" + '\n",
      "  '0.005*\"letter\" + 0.005*\"court\"'),\n",
      " (4,\n",
      "  '0.028*\"payment\" + 0.025*\"loan\" + 0.016*\"xxxxxxxx\" + 0.010*\"mortgage\" + '\n",
      "  '0.010*\"xxxx\" + 0.009*\"would\" + 0.008*\"month\" + 0.007*\"year\" + 0.007*\"time\" '\n",
      "  '+ 0.006*\"pay\"')]\n"
     ]
    }
   ],
   "source": [
    "dictionary = corpora.Dictionary(documents=doc_clean)\n",
    "\n",
    "doc_term_matrix = [dictionary.doc2bow(doc) for doc in doc_clean]\n",
    "\n",
    "ldamodel = LdaModel(corpus=doc_term_matrix, num_topics=5, id2word=dictionary, passes=30, random_state=20)\n",
    "\n",
    "pprint(ldamodel.print_topics())"
   ]
  },
  {
   "cell_type": "markdown",
   "metadata": {},
   "source": [
    "\n",
    "\n",
    "\n",
    "\n",
    "<h3>Perplexity and Coherence</h3>\n",
    "\n",
    "- In this task, we will try to find the perplexity and coherence of the LDA model we created in the previous task\n",
    "\n",
    " * Find the perplexity of the model using \"log_perplexity()\" method of ldamodel and passing the parameter 'doc_term_matrix'. Store it in a varialble called 'perplexity_lda'.\n",
    "\n",
    " * Create a coherence object using \"CoherenceModel()\" with the parameters model=ldamodel, texts=doc_clean, dictionary=dictionary, coherence='c_v' and store it in 'coherence_model_lda'.\n",
    "\n",
    " * Find the coherence of the model using \"get_coherence()\" method of coherence_model_lda and store it in a varialble called 'coherence_lda'."
   ]
  },
  {
   "cell_type": "code",
   "execution_count": 18,
   "metadata": {},
   "outputs": [
    {
     "name": "stderr",
     "output_type": "stream",
     "text": [
      "/Users/raisaurabh04/anaconda3/lib/python3.7/site-packages/scipy/sparse/lil.py:504: FutureWarning: future versions will not create a writeable array from broadcast_array. Set the writable flag explicitly to avoid this warning.\n",
      "  if not i.flags.writeable or i.dtype not in (np.int32, np.int64):\n",
      "/Users/raisaurabh04/anaconda3/lib/python3.7/site-packages/scipy/sparse/lil.py:506: FutureWarning: future versions will not create a writeable array from broadcast_array. Set the writable flag explicitly to avoid this warning.\n",
      "  if not j.flags.writeable or j.dtype not in (np.int32, np.int64):\n"
     ]
    }
   ],
   "source": [
    "perplexity_lda = ldamodel.log_perplexity(chunk=doc_term_matrix)\n",
    "\n",
    "coherence_model_lda = CoherenceModel(model=ldamodel, texts=doc_clean, dictionary=dictionary, coherence='c_v')\n",
    "\n",
    "coherence_lda = coherence_model_lda.get_coherence()"
   ]
  },
  {
   "cell_type": "code",
   "execution_count": 19,
   "metadata": {},
   "outputs": [
    {
     "data": {
      "text/plain": [
       "[('I', 'PRP'),\n",
       " ('am', 'VBP'),\n",
       " ('planning', 'VBG'),\n",
       " ('to', 'TO'),\n",
       " ('visit', 'VB'),\n",
       " ('Russia', 'NNP'),\n",
       " ('to', 'TO'),\n",
       " ('watch', 'VB'),\n",
       " ('the', 'DT'),\n",
       " ('Football', 'NNP'),\n",
       " ('world', 'NN'),\n",
       " ('cup', 'NN')]"
      ]
     },
     "execution_count": 19,
     "metadata": {},
     "output_type": "execute_result"
    }
   ],
   "source": [
    "TextBlob('I am planning to visit Russia to watch the Football world cup').tags"
   ]
  },
  {
   "cell_type": "markdown",
   "metadata": {},
   "source": [
    "\n",
    "\n",
    "\n",
    "\n",
    "\n",
    "# Assessment"
   ]
  },
  {
   "cell_type": "markdown",
   "metadata": {},
   "source": [
    "<h3>Load and preprocess data</h3>\n",
    "\n",
    "- In this task you will be loading and preprocessing data. Preprocessing involves retaining only alphabets in the headlines.\n",
    "\n",
    "- Instructions\n",
    "    * Load the csv file using .read_csv() method of pandas. Pass arguments path, parse_dates=[0], infer_datetime_format=True apart from the file path location inside to have the column with dates in datetime format. Save it as data\n",
    "\n",
    "    * The observations are randomly ordered which won't be helpful if one wants to find out trends in topics. So, sort these values by date ('publish_date) using .sort_values('publish_date', inplace=True) on data\n",
    "\n",
    "    * Now remove all numbers from every headline using re.sub('[^a-zA-Z]', ' ',x). Use in on 'headline_text' column with the help of apply() method\n",
    "\n",
    "    * Display the shape of data using .shape attribute\n",
    "\n",
    "    * Display the first five rows using .head() method of pandas"
   ]
  },
  {
   "cell_type": "code",
   "execution_count": 20,
   "metadata": {},
   "outputs": [],
   "source": [
    "path = '/Users/raisaurabh04/OneDrive/GreyAtom/Practice Dataset/New_Headline_Topic_Modeling_Assesment.csv'"
   ]
  },
  {
   "cell_type": "code",
   "execution_count": 21,
   "metadata": {},
   "outputs": [
    {
     "data": {
      "text/html": [
       "<div>\n",
       "<style scoped>\n",
       "    .dataframe tbody tr th:only-of-type {\n",
       "        vertical-align: middle;\n",
       "    }\n",
       "\n",
       "    .dataframe tbody tr th {\n",
       "        vertical-align: top;\n",
       "    }\n",
       "\n",
       "    .dataframe thead th {\n",
       "        text-align: right;\n",
       "    }\n",
       "</style>\n",
       "<table border=\"1\" class=\"dataframe\">\n",
       "  <thead>\n",
       "    <tr style=\"text-align: right;\">\n",
       "      <th></th>\n",
       "      <th>publish_date</th>\n",
       "      <th>headline_text</th>\n",
       "    </tr>\n",
       "  </thead>\n",
       "  <tbody>\n",
       "    <tr>\n",
       "      <th>286211</th>\n",
       "      <td>2003-02-19</td>\n",
       "      <td>police defend aboriginal tent embassy raid</td>\n",
       "    </tr>\n",
       "    <tr>\n",
       "      <th>180156</th>\n",
       "      <td>2003-02-19</td>\n",
       "      <td>talk of asian nuclear arms race unhelpful downer</td>\n",
       "    </tr>\n",
       "    <tr>\n",
       "      <th>233845</th>\n",
       "      <td>2003-02-19</td>\n",
       "      <td>taipans placing future in publics hands</td>\n",
       "    </tr>\n",
       "    <tr>\n",
       "      <th>170928</th>\n",
       "      <td>2003-02-19</td>\n",
       "      <td>most highly educated live in nsw wa</td>\n",
       "    </tr>\n",
       "    <tr>\n",
       "      <th>245529</th>\n",
       "      <td>2003-02-19</td>\n",
       "      <td>six palestinians killed in gaza incursion</td>\n",
       "    </tr>\n",
       "  </tbody>\n",
       "</table>\n",
       "</div>"
      ],
      "text/plain": [
       "       publish_date                                     headline_text\n",
       "286211   2003-02-19        police defend aboriginal tent embassy raid\n",
       "180156   2003-02-19  talk of asian nuclear arms race unhelpful downer\n",
       "233845   2003-02-19           taipans placing future in publics hands\n",
       "170928   2003-02-19               most highly educated live in nsw wa\n",
       "245529   2003-02-19         six palestinians killed in gaza incursion"
      ]
     },
     "execution_count": 21,
     "metadata": {},
     "output_type": "execute_result"
    }
   ],
   "source": [
    "data = pd.read_csv(path, parse_dates=[0],\n",
    "    infer_datetime_format=True)\n",
    "\n",
    "data.head()\n",
    "\n",
    "data.sort_values(by='publish_date', inplace=True)\n",
    "\n",
    "data['headline_text'] = data['headline_text'].apply(lambda x : re.sub('[^a-zA-Z]', ' ', x))\n",
    "\n",
    "data.shape\n",
    "\n",
    "data.head()"
   ]
  },
  {
   "cell_type": "markdown",
   "metadata": {},
   "source": [
    "\n",
    "\n",
    "\n",
    "<h3>Which is the most frequently occurring word in the document?</h3>\n",
    "In order to get an idea of the topics, the most frequently occuring word in the entire corpus would be of great help. These frequently occuring words have a high probability of occuring in the topics and so lets visualize them\n",
    "\n",
    "Instructions\n",
    "- Initialize a CountVectorizer() object called vectorizer. Pass arguments stop_words='english' and max_features=30000\n",
    "\n",
    "- Declare a new variable news which fits and transforms data['headline_text'] into a Bag-of-Words model with the .fit_transform() method of vectorizer object.\n",
    "\n",
    "- Initialize an empty dictionary words which will store every unique word occuring in the corpus as keys and the number of times every word occurs across the corpus as values. Also, initialize a variable i and set its value as 0.\n",
    "\n",
    "- Calculate the number of times every word/feature across the corpus. Save it as sums. Its shape should be (30000,) i.e. it should be a 1-D numpy ndarray. The variable i will iterate over sums in order to extract the value of a feature/word\n",
    "\n",
    "- Iterate over every unique word over the list of all features/words in the Bag-of-Words model (vectorizer.get_feature_names() gives all unique words or all features in Bag-of-Words model). Set the key of news dictionary as that word and its corresponding value as sums[i] (i indicates the number of times that word occurs across the corpus); and then increment i by 1\n",
    "\n",
    "- Find top 20 most occuring words by sorting news according to its values in descending order. Save it as a list named top_20\n",
    "\n",
    "- Declare two list comprehensions top_20_words and top_20_values which stores the words and values respectively for every word in top_20 list\n",
    "\n",
    "- Display using a barplot top_20_words on X-axes and top_20_values on Y-axes using seaborn's .barplot() method\n",
    "\n",
    "- Display the plot using .show() method"
   ]
  },
  {
   "cell_type": "code",
   "execution_count": 39,
   "metadata": {},
   "outputs": [
    {
     "data": {
      "image/png": "[encoded data removed]",
      "text/plain": [
       "<Figure size 1440x720 with 1 Axes>"
      ]
     },
     "metadata": {
      "needs_background": "light"
     },
     "output_type": "display_data"
    }
   ],
   "source": [
    "vectorizer = CountVectorizer(stop_words='english', max_features=30000)\n",
    "\n",
    "news = vectorizer.fit_transform(data['headline_text'])\n",
    "\n",
    "words = {}\n",
    "i = 0\n",
    "\n",
    "sums = np.array(np.sum(news, axis=0)).flatten()\n",
    "\n",
    "sums.shape\n",
    "\n",
    "for word in vectorizer.get_feature_names():\n",
    "    words[word] = sums[i]\n",
    "    i += 1\n",
    "\n",
    "top_20 = sorted(words.items(), key=operator.itemgetter(1), reverse=True)[:20]\n",
    "\n",
    "top_20_words = [word[0] for word in top_20]\n",
    "top_20_values = [value[1] for value in top_20]\n",
    "plt.figure(figsize=(20,10))\n",
    "sns.barplot(top_20_words,top_20_values)\n",
    "plt.show()"
   ]
  },
  {
   "cell_type": "markdown",
   "metadata": {},
   "source": [
    "\n",
    "\n",
    "\n",
    "<h3>Topic Modelling with LSA</h3>\n",
    "In the previous tasks you preprocessed data and also had a glimpse into possible words in your topics. Now use LSA (Latent Semantic Analysis) to assign topics to every headline. Since almost every word has some chance of getting assigned to a particular topic, you will be choosing only the 10 most important words for every topic\n",
    "\n",
    "Instructions\n",
    "- First decide on the number of topics. Take it as 5 and save it as n_topics\n",
    "\n",
    "- Initialize a truncated SVD model using lsa_model = TruncatedSVD(n_components=n_topics, random_state=2)\n",
    "\n",
    "- Use .fit_transform() method of lsa_model on news to decompose news. This step essentially assigns a topic to every headline and should be of the shape (number of headlines, number of topics). Save it as lsa_topic_matrix\n",
    "\n",
    "- Initialize an empty dictionary topic_lsa which stores topic number as keys and values as the linear combination of words for the topic\n",
    "\n",
    "- Use a for loop to iterate over every topic and its index using for i, topic in enumerate(lsa_model.components_):. Set variable key as \"Topic {}\".format(i) and value as the first 10 words with decreasing order of importance. You can extract value from vectorizer.get_feature_names() using [(vectorizer.get_feature_names()[i] + '*' + str(topic[i])) for i in topic.argsort()[:-11:-1]]\n",
    "\n",
    "- Append key-value pair as topic_lsa[key] = ' + '.join(value)\n",
    "\n",
    "- Use pprint.print(topic_lsa) to print out the topic dictionary"
   ]
  },
  {
   "cell_type": "code",
   "execution_count": 71,
   "metadata": {},
   "outputs": [
    {
     "name": "stdout",
     "output_type": "stream",
     "text": [
      "{'Topic 0': 'police*0.8601893055234309 + man*0.37687390961080713 + '\n",
      "            'new*0.1227185188122012 + court*0.08725441865819483 + '\n",
      "            'charged*0.07895772747439271 + murder*0.07057005753940107 + '\n",
      "            'car*0.06800066168033378 + crash*0.06584004218945008 + '\n",
      "            'death*0.06572026639969195 + missing*0.06449235428724642',\n",
      " 'Topic 1': 'man*0.7879343660154632 + new*0.19216278977497148 + '\n",
      "            'court*0.18899897199944818 + charged*0.16465801643348796 + '\n",
      "            'murder*0.09487034753362558 + accused*0.06813694764641416 + '\n",
      "            'dies*0.06019737315016623 + jailed*0.053197209234669696 + '\n",
      "            'guilty*0.04846672013248509 + face*0.045142516613165914',\n",
      " 'Topic 2': 'new*0.9359950198542156 + says*0.0774970744961395 + '\n",
      "            'council*0.07207682180023327 + govt*0.07006061280054633 + '\n",
      "            'plan*0.042968652525606194 + zealand*0.04093995686187775 + '\n",
      "            'australia*0.036570064044715106 + laws*0.03483920048765126 + '\n",
      "            'wa*0.03471197141117452 + water*0.03351771268680837',\n",
      " 'Topic 3': 'says*0.7964206405018442 + govt*0.3475660937899336 + '\n",
      "            'council*0.17563972079881962 + plan*0.11494711911617382 + '\n",
      "            'nsw*0.09394935272344797 + water*0.09240524400252732 + '\n",
      "            'qld*0.09213172396303264 + wa*0.08420836644225445 + '\n",
      "            'health*0.06971247854025162 + urged*0.061689459508682085',\n",
      " 'Topic 4': 'govt*0.5228696280194899 + council*0.4047250183488331 + '\n",
      "            'court*0.23837403866678397 + plan*0.15194531896791402 + '\n",
      "            'nsw*0.14275668193263996 + health*0.11707848880147667 + '\n",
      "            'urged*0.1044137941528509 + water*0.07876063606030609 + '\n",
      "            'qld*0.07356945094004247 + accused*0.0659775314343172'}\n"
     ]
    }
   ],
   "source": [
    "n_topics = 5\n",
    "\n",
    "lsa_model = TruncatedSVD(n_components=n_topics, random_state=2)\n",
    "\n",
    "lsa_topic_matrix = lsa_model.fit_transform(news)\n",
    "\n",
    "lsa_topic_matrix.shape\n",
    "\n",
    "topic_lsa = {}\n",
    "\n",
    "for i, topic in enumerate(lsa_model.components_):\n",
    "    key = 'Topic {}'.format(i)\n",
    "    #print(key)\n",
    "    value = [(vectorizer.get_feature_names()[i] + '*' + str(topic[i])) for i in topic.argsort()[: -11 : -1]]\n",
    "    #print(value)\n",
    "    topic_lsa[key] = ' + '.join(value)\n",
    "\n",
    "pprint(topic_lsa)"
   ]
  },
  {
   "cell_type": "markdown",
   "metadata": {},
   "source": [
    "\n",
    "\n",
    "\n",
    "<h3>Topic Modelling with LDA</h3>\n",
    "Use the gensim package to perform topic modelling with LDA (Latent Dirichlet Allocation) this time. A function clean_doc has been provided for you which removes stopwords and punctuation marks and also lemmatizes every word in headline.\n",
    "\n",
    "Instructions\n",
    "\n",
    "- We have already given you pre execution code\n",
    "\n",
    "- Initialize stopwords list stop using set(stopwords.words('english'))\n",
    "\n",
    "- For removing punctuation marks, initialize exclude as set(string.punctuation)\n",
    "\n",
    "- Initialize a lemmatizer object lemma as WordNetLemmatizer()\n",
    "\n",
    "- Convert all headlines to a list headlines using .tolist() method on the series pandas containing headlines\n",
    "\n",
    "- Now clean headlines using clean_doc() function which takes input as one headline and returns the cleaned headline. Use a list comprehension like [clean_doc(row) for row in a_list]. Use this list comprehension to clean every headline of headlines and save it as clean_headlines\n",
    "\n",
    "- Create a dictionary corpus where every unique term is assigned an index using corpora.Dictionary(). Pass the cleaned headlines clean_headlines as argument to it and save it as dictionary\n",
    "\n",
    "- Now create a Document Term matrix using .doc2bow() method of dictionary on every headline of clean_headlines with the help of a list comprehension using [dictionary.doc2bow(doc) for doc in clean_headlines]. Save this document term matrix as doc_term_matrix\n",
    "\n",
    "- Initialize an LDA model using LDAModel() and pass arguments as doc_term_matrix, num_topics=5, id2word = dictionary, random_state=2 and iterations=10. Save this model as lda_model\n",
    "\n",
    "- Then extract the 5 topics using .print_topics() method of lda_model containing only the 10 most relevant words by passing arguments num_topics=5 and num_words=10. Save the output as topics. Using .pprint() method of pprint print out topics to observe the topics\n",
    "\n"
   ]
  },
  {
   "cell_type": "code",
   "execution_count": 72,
   "metadata": {},
   "outputs": [],
   "source": [
    "def clean(doc):\n",
    "    stop_free = \" \".join([i for i in doc.lower().split() if i not in stop])\n",
    "    punc_free = ''.join(ch for ch in stop_free if ch not in exclude)\n",
    "    normalized = \" \".join(lemma.lemmatize(word) for word in punc_free.split())\n",
    "    return normalized"
   ]
  },
  {
   "cell_type": "code",
   "execution_count": 91,
   "metadata": {},
   "outputs": [],
   "source": [
    "stop = set(stopwords.words('english'))\n",
    "\n",
    "exclude = set(string.punctuation)"
   ]
  },
  {
   "cell_type": "code",
   "execution_count": 90,
   "metadata": {},
   "outputs": [],
   "source": [
    "lemma = WordNetLemmatizer()"
   ]
  },
  {
   "cell_type": "code",
   "execution_count": 73,
   "metadata": {},
   "outputs": [],
   "source": [
    "headlines = data['headline_text'].tolist()\n",
    "\n",
    "clean_headlines = [clean(headline).split() for headline in headlines]\n",
    "\n",
    "dictionary = corpora.Dictionary(documents=clean_headlines)\n",
    "\n",
    "doc_term_matrix = [dictionary.doc2bow(doc) for doc in clean_headlines]\n",
    "\n",
    "lda_model = LdaModel(corpus=doc_term_matrix, num_topics=n_topics, id2word=dictionary, random_state=2, iterations=10)\n",
    "\n",
    "topics = lda_model.print_topics(num_topics=5, num_words=10)\n",
    "\n",
    "pprint(topics)"
   ]
  },
  {
   "cell_type": "markdown",
   "metadata": {},
   "source": [
    "\n",
    "\n",
    "\n",
    "<h3>Coherence score to determine the optimum number of topics</h3>\n",
    "Are 5 topics sufficient for summarizing all the given news headlines? Observe it by harnessing the power of coherence scores to determine what should be the number of topics for the data\n",
    "\n",
    "Instructions\n",
    " - Initialize a model coherence_model_lda to determine the coherence score with the trained LDA model lda_model. Use CoherenceModel() function with arguments model=lda_model, texts=clean_headlines, dictionary=dictionary and coherence='c_v'\n",
    "\n",
    " - Calculate the coherence score for your trained LDA model lda_model using .get_coherence() method of coherence_model_lda. Save it as coherence_lda and print it out to check the coherence score with 5 topics\n",
    "\n",
    " - Now define a function compute_coherence_values which takes inputs dictionary (gensim dictionary), corpus (gensim corpus), texts (list of input texts), limit (maximum number of topics), start=2 (default minimum of 2 topics) and step (calculate coherence score with step + 2n topics) and returns model_list (list of LDA topic models) and coherence_values (Coherence values corresponding to the LDA model with respective number of topics)\n",
    "\n",
    " - Initialize two empty lists coherence_values and model_list to store the coherence scores and the LDA model\n",
    "\n",
    " - Iterate using a for loop from start to limit with step size of step. Within the for loop:\n",
    "\n",
    "    * Initialize LDA object called model using gensim.models.ldamodel.LdaModel() and pass arguments doc_term_matrix, num_topics=num_topics, random_state=2, id2word=dictionary and iterations=10\n",
    "\n",
    "    * Append model to model_list\n",
    "    * Initialize a coherence object coherence_model using CoherenceModel() which takes arguments model=model, texts=texts, dictionary=dictionary and coherence='c_v'\n",
    "    * Append the coherence score coherence_model.get_coherence() to coherence_values\n",
    "    \n",
    " - Return the lists model_list and coherence_values\n",
    "\n",
    " - You will be checking from 2 to 50 total topics with a step size of 6 i.e. 2, 8, 14, …., 44, 50 topics\n",
    "\n",
    " - Pass the arguments dictionary=dictionary, corpus=doc_term_matrix, texts=clean_headlines, start=2, limit=50, step=6 and save its outcomes as two variables model_list and coherence_values\n",
    "\n",
    " - Declare a variable x which takes values from 2 to 50 with step size of 6\n",
    "\n",
    " - Using .plot() method of plt plot a line plot with coherence_values on Y-axes and x on X-axes\n",
    "\n",
    " - Set X-axes label as \"Num Topics\" and Y-axes label as \"Coherence score\" and display the plot with .plot() method of plt\n",
    "\n",
    "\n",
    "\n"
   ]
  },
  {
   "cell_type": "code",
   "execution_count": 93,
   "metadata": {},
   "outputs": [
    {
     "name": "stderr",
     "output_type": "stream",
     "text": [
      "/Users/raisaurabh04/anaconda3/lib/python3.7/site-packages/scipy/sparse/lil.py:504: FutureWarning: future versions will not create a writeable array from broadcast_array. Set the writable flag explicitly to avoid this warning.\n",
      "  if not i.flags.writeable or i.dtype not in (np.int32, np.int64):\n",
      "/Users/raisaurabh04/anaconda3/lib/python3.7/site-packages/scipy/sparse/lil.py:506: FutureWarning: future versions will not create a writeable array from broadcast_array. Set the writable flag explicitly to avoid this warning.\n",
      "  if not j.flags.writeable or j.dtype not in (np.int32, np.int64):\n"
     ]
    }
   ],
   "source": [
    "coherence_model_lda = CoherenceModel(model=lda_model, texts=clean_headlines, \n",
    "                                         dictionary=dictionary, coherence='c_v')\n",
    "coherence_lda = coherence_model_lda.get_coherence()"
   ]
  },
  {
   "cell_type": "code",
   "execution_count": 94,
   "metadata": {},
   "outputs": [
    {
     "name": "stdout",
     "output_type": "stream",
     "text": [
      "0.2817006151285487\n"
     ]
    }
   ],
   "source": [
    "print(coherence_lda)"
   ]
  },
  {
   "cell_type": "code",
   "execution_count": 110,
   "metadata": {},
   "outputs": [],
   "source": [
    "def compute_coherence_values(dictionary, corpus, texts, limit, start=2, step=3):\n",
    "    coherence_value = []\n",
    "    model_list = []\n",
    "    for num_topic in range(start, limit, step):\n",
    "        print('num_topics :{}'.format(num_topic))\n",
    "        model = LdaModel(corpus=corpus, num_topics=num_topic, id2word=dictionary, random_state=2, iterations=10)\n",
    "        model_list.append(model)\n",
    "        coherence_model = CoherenceModel(model=model, texts=texts, dictionary=dictionary, coherence='c_v')\n",
    "        coherence_value.append(coherence_model.get_coherence())\n",
    "    return coherence_value, model_list"
   ]
  },
  {
   "cell_type": "code",
   "execution_count": 112,
   "metadata": {},
   "outputs": [
    {
     "name": "stdout",
     "output_type": "stream",
     "text": [
      "num_topics :2\n",
      "num_topics :8\n",
      "num_topics :14\n",
      "num_topics :20\n",
      "num_topics :26\n",
      "num_topics :32\n",
      "num_topics :38\n",
      "num_topics :44\n",
      "num_topics :50\n",
      "CPU times: user 18min 59s, sys: 23.3 s, total: 19min 22s\n",
      "Wall time: 15min 55s\n"
     ]
    }
   ],
   "source": [
    "%%time\n",
    "coherence_value, model_list = compute_coherence_values(dictionary=dictionary, corpus=doc_term_matrix, texts=clean_headlines, \n",
    "                        start=2, limit=51, step=6)"
   ]
  },
  {
   "cell_type": "code",
   "execution_count": 114,
   "metadata": {},
   "outputs": [
    {
     "data": {
      "image/png": "[encoded data removed]",
      "text/plain": [
       "<Figure size 504x504 with 1 Axes>"
      ]
     },
     "metadata": {},
     "output_type": "display_data"
    }
   ],
   "source": [
    "limit=51; start=2; step=6;\n",
    "x = range(start, limit, step)\n",
    "\n",
    "# Setting the plotting area\n",
    "sns.set_style(\"darkgrid\")\n",
    "fig, ax = plt.subplots(figsize=(7,7))\n",
    "plt.plot(x, coherence_value)\n",
    "\n",
    "# Labelling the axes\n",
    "plt.xlabel(\"Num Topics\")\n",
    "plt.ylabel(\"Coherence score\")\n",
    "plt.title(\"Coherence vs Number of Topics\")\n",
    "plt.show()"
   ]
  },
  {
   "cell_type": "code",
   "execution_count": 115,
   "metadata": {},
   "outputs": [
    {
     "data": {
      "text/plain": [
       "9"
      ]
     },
     "execution_count": 115,
     "metadata": {},
     "output_type": "execute_result"
    }
   ],
   "source": [
    "len(coherence_value)"
   ]
  },
  {
   "cell_type": "code",
   "execution_count": null,
   "metadata": {},
   "outputs": [],
   "source": []
  }
 ],
 "metadata": {
  "kernelspec": {
   "display_name": "Python 3",
   "language": "python",
   "name": "python3"
  },
  "language_info": {
   "codemirror_mode": {
    "name": "ipython",
    "version": 3
   },
   "file_extension": ".py",
   "mimetype": "text/x-python",
   "name": "python",
   "nbconvert_exporter": "python",
   "pygments_lexer": "ipython3",
   "version": "3.7.3"
  }
 },
 "nbformat": 4,
 "nbformat_minor": 2
}
