{
 "cells": [
  {
   "cell_type": "code",
   "execution_count": 1,
   "metadata": {},
   "outputs": [],
   "source": [
    "# importing all necessary modules \n",
    "from nltk.tokenize import sent_tokenize, word_tokenize \n",
    "import gensim"
   ]
  },
  {
   "cell_type": "code",
   "execution_count": 2,
   "metadata": {},
   "outputs": [],
   "source": [
    "path='../input/julius_ceasure_corpus.txt'"
   ]
  },
  {
   "cell_type": "code",
   "execution_count": 12,
   "metadata": {},
   "outputs": [],
   "source": [
    "#  Reading of  ‘julius_caesar.txt’ file \n",
    "sample = open(path, \"r\", encoding = \"latin-1\") \n",
    "s = sample.read()"
   ]
  },
  {
   "cell_type": "code",
   "execution_count": 13,
   "metadata": {},
   "outputs": [],
   "source": [
    "corpus = [] \n",
    "  \n",
    "# iterate through each sentence in the file \n",
    "for i in sent_tokenize(s): \n",
    "    temp = [] \n",
    "      \n",
    "    # tokenize the sentence into words \n",
    "    for j in word_tokenize(i): \n",
    "        temp.append(j.lower()) \n",
    "  \n",
    "    corpus.append(temp) \n",
    " "
   ]
  },
  {
   "cell_type": "code",
   "execution_count": 14,
   "metadata": {
    "tags": [
     "outputPrepend"
    ]
   },
   "outputs": [
    {
     "output_type": "stream",
     "name": "stdout",
     "text": "a', 'notice', 'indicating', 'that', 'it', 'is', 'posted', 'with', 'permission', 'of', 'the', 'copyright', 'holder', ')', ',', 'the', 'work', 'can', 'be', 'copied', 'and', 'distributed', 'to', 'anyone', 'in', 'the', 'united', 'states', 'without', 'paying', 'any', 'fees', 'or', 'charges', '.'], ['if', 'you', 'are', 'redistributing', 'or', 'providing', 'access', 'to', 'a', 'work', 'with', 'the', 'phrase', '``', 'project', 'gutenberg', \"''\", 'associated', 'with', 'or', 'appearing', 'on', 'the', 'work', ',', 'you', 'must', 'comply', 'either', 'with', 'the', 'requirements', 'of', 'paragraphs', '1.e.1', 'through', '1.e.7', 'or', 'obtain', 'permission', 'for', 'the', 'use', 'of', 'the', 'work', 'and', 'the', 'project', 'gutenberg-tm', 'trademark', 'as', 'set', 'forth', 'in', 'paragraphs', '1.e.8', 'or', '1.e.9', '.'], ['1.e.3', '.'], ['if', 'an', 'individual', 'project', 'gutenberg-tm', 'electronic', 'work', 'is', 'posted', 'with', 'the', 'permission', 'of', 'the', 'copyright', 'holder', ',', 'your', 'use', 'and', 'distribution', 'must', 'comply', 'with', 'both', 'paragraphs', '1.e.1', 'through', '1.e.7', 'and', 'any', 'additional', 'terms', 'imposed', 'by', 'the', 'copyright', 'holder', '.'], ['additional', 'terms', 'will', 'be', 'linked', 'to', 'the', 'project', 'gutenberg-tm', 'license', 'for', 'all', 'works', 'posted', 'with', 'the', 'permission', 'of', 'the', 'copyright', 'holder', 'found', 'at', 'the', 'beginning', 'of', 'this', 'work', '.'], ['1.e.4', '.'], ['do', 'not', 'unlink', 'or', 'detach', 'or', 'remove', 'the', 'full', 'project', 'gutenberg-tm', 'license', 'terms', 'from', 'this', 'work', ',', 'or', 'any', 'files', 'containing', 'a', 'part', 'of', 'this', 'work', 'or', 'any', 'other', 'work', 'associated', 'with', 'project', 'gutenberg-tm', '.'], ['1.e.5', '.'], ['do', 'not', 'copy', ',', 'display', ',', 'perform', ',', 'distribute', 'or', 'redistribute', 'this', 'electronic', 'work', ',', 'or', 'any', 'part', 'of', 'this', 'electronic', 'work', ',', 'without', 'prominently', 'displaying', 'the', 'sentence', 'set', 'forth', 'in', 'paragraph', '1.e.1', 'with', 'active', 'links', 'or', 'immediate', 'access', 'to', 'the', 'full', 'terms', 'of', 'the', 'project', 'gutenberg-tm', 'license', '.'], ['1.e.6', '.'], ['you', 'may', 'convert', 'to', 'and', 'distribute', 'this', 'work', 'in', 'any', 'binary', ',', 'compressed', ',', 'marked', 'up', ',', 'nonproprietary', 'or', 'proprietary', 'form', ',', 'including', 'any', 'word', 'processing', 'or', 'hypertext', 'form', '.'], ['however', ',', 'if', 'you', 'provide', 'access', 'to', 'or', 'distribute', 'copies', 'of', 'a', 'project', 'gutenberg-tm', 'work', 'in', 'a', 'format', 'other', 'than', '``', 'plain', 'vanilla', 'ascii', \"''\", 'or', 'other', 'format', 'used', 'in', 'the', 'official', 'version', 'posted', 'on', 'the', 'official', 'project', 'gutenberg-tm', 'web', 'site', '(', 'www.gutenberg.org', ')', ',', 'you', 'must', ',', 'at', 'no', 'additional', 'cost', ',', 'fee', 'or', 'expense', 'to', 'the', 'user', ',', 'provide', 'a', 'copy', ',', 'a', 'means', 'of', 'exporting', 'a', 'copy', ',', 'or', 'a', 'means', 'of', 'obtaining', 'a', 'copy', 'upon', 'request', ',', 'of', 'the', 'work', 'in', 'its', 'original', '``', 'plain', 'vanilla', 'ascii', \"''\", 'or', 'other', 'form', '.'], ['any', 'alternate', 'format', 'must', 'include', 'the', 'full', 'project', 'gutenberg-tm', 'license', 'as', 'specified', 'in', 'paragraph', '1.e.1', '.'], ['1.e.7', '.'], ['do', 'not', 'charge', 'a', 'fee', 'for', 'access', 'to', ',', 'viewing', ',', 'displaying', ',', 'performing', ',', 'copying', 'or', 'distributing', 'any', 'project', 'gutenberg-tm', 'works', 'unless', 'you', 'comply', 'with', 'paragraph', '1.e.8', 'or', '1.e.9', '.'], ['1.e.8', '.'], ['you', 'may', 'charge', 'a', 'reasonable', 'fee', 'for', 'copies', 'of', 'or', 'providing', 'access', 'to', 'or', 'distributing', 'project', 'gutenberg-tm', 'electronic', 'works', 'provided', 'that', '*', 'you', 'pay', 'a', 'royalty', 'fee', 'of', '20', '%', 'of', 'the', 'gross', 'profits', 'you', 'derive', 'from', 'the', 'use', 'of', 'project', 'gutenberg-tm', 'works', 'calculated', 'using', 'the', 'method', 'you', 'already', 'use', 'to', 'calculate', 'your', 'applicable', 'taxes', '.'], ['the', 'fee', 'is', 'owed', 'to', 'the', 'owner', 'of', 'the', 'project', 'gutenberg-tm', 'trademark', ',', 'but', 'he', 'has', 'agreed', 'to', 'donate', 'royalties', 'under', 'this', 'paragraph', 'to', 'the', 'project', 'gutenberg', 'literary', 'archive', 'foundation', '.'], ['royalty', 'payments', 'must', 'be', 'paid', 'within', '60', 'days', 'following', 'each', 'date', 'on', 'which', 'you', 'prepare', '(', 'or', 'are', 'legally', 'required', 'to', 'prepare', ')', 'your', 'periodic', 'tax', 'returns', '.'], ['royalty', 'payments', 'should', 'be', 'clearly', 'marked', 'as', 'such', 'and', 'sent', 'to', 'the', 'project', 'gutenberg', 'literary', 'archive', 'foundation', 'at', 'the', 'address', 'specified', 'in', 'section', '4', ',', '``', 'information', 'about', 'donations', 'to', 'the', 'project', 'gutenberg', 'literary', 'archive', 'foundation', '.', \"''\"], ['*', 'you', 'provide', 'a', 'full', 'refund', 'of', 'any', 'money', 'paid', 'by', 'a', 'user', 'who', 'notifies', 'you', 'in', 'writing', '(', 'or', 'by', 'e-mail', ')', 'within', '30', 'days', 'of', 'receipt', 'that', 's/he', 'does', 'not', 'agree', 'to', 'the', 'terms', 'of', 'the', 'full', 'project', 'gutenberg-tm', 'license', '.'], ['you', 'must', 'require', 'such', 'a', 'user', 'to', 'return', 'or', 'destroy', 'all', 'copies', 'of', 'the', 'works', 'possessed', 'in', 'a', 'physical', 'medium', 'and', 'discontinue', 'all', 'use', 'of', 'and', 'all', 'access', 'to', 'other', 'copies', 'of', 'project', 'gutenberg-tm', 'works', '.'], ['*', 'you', 'provide', ',', 'in', 'accordance', 'with', 'paragraph', '1.f.3', ',', 'a', 'full', 'refund', 'of', 'any', 'money', 'paid', 'for', 'a', 'work', 'or', 'a', 'replacement', 'copy', ',', 'if', 'a', 'defect', 'in', 'the', 'electronic', 'work', 'is', 'discovered', 'and', 'reported', 'to', 'you', 'within', '90', 'days', 'of', 'receipt', 'of', 'the', 'work', '.'], ['*', 'you', 'comply', 'with', 'all', 'other', 'terms', 'of', 'this', 'agreement', 'for', 'free', 'distribution', 'of', 'project', 'gutenberg-tm', 'works', '.'], ['1.e.9', '.'], ['if', 'you', 'wish', 'to', 'charge', 'a', 'fee', 'or', 'distribute', 'a', 'project', 'gutenberg-tm', 'electronic', 'work', 'or', 'group', 'of', 'works', 'on', 'different', 'terms', 'than', 'are', 'set', 'forth', 'in', 'this', 'agreement', ',', 'you', 'must', 'obtain', 'permission', 'in', 'writing', 'from', 'both', 'the', 'project', 'gutenberg', 'literary', 'archive', 'foundation', 'and', 'the', 'project', 'gutenberg', 'trademark', 'llc', ',', 'the', 'owner', 'of', 'the', 'project', 'gutenberg-tm', 'trademark', '.'], ['contact', 'the', 'foundation', 'as', 'set', 'forth', 'in', 'section', '3', 'below', '.'], ['1.f', '.'], ['1.f.1', '.'], ['project', 'gutenberg', 'volunteers', 'and', 'employees', 'expend', 'considerable', 'effort', 'to', 'identify', ',', 'do', 'copyright', 'research', 'on', ',', 'transcribe', 'and', 'proofread', 'works', 'not', 'protected', 'by', 'u.s.', 'copyright', 'law', 'in', 'creating', 'the', 'project', 'gutenberg-tm', 'collection', '.'], ['despite', 'these', 'efforts', ',', 'project', 'gutenberg-tm', 'electronic', 'works', ',', 'and', 'the', 'medium', 'on', 'which', 'they', 'may', 'be', 'stored', ',', 'may', 'contain', '``', 'defects', ',', \"''\", 'such', 'as', ',', 'but', 'not', 'limited', 'to', ',', 'incomplete', ',', 'inaccurate', 'or', 'corrupt', 'data', ',', 'transcription', 'errors', ',', 'a', 'copyright', 'or', 'other', 'intellectual', 'property', 'infringement', ',', 'a', 'defective', 'or', 'damaged', 'disk', 'or', 'other', 'medium', ',', 'a', 'computer', 'virus', ',', 'or', 'computer', 'codes', 'that', 'damage', 'or', 'can', 'not', 'be', 'read', 'by', 'your', 'equipment', '.'], ['1.f.2', '.'], ['limited', 'warranty', ',', 'disclaimer', 'of', 'damages', '-', 'except', 'for', 'the', '``', 'right', 'of', 'replacement', 'or', 'refund', \"''\", 'described', 'in', 'paragraph', '1.f.3', ',', 'the', 'project', 'gutenberg', 'literary', 'archive', 'foundation', ',', 'the', 'owner', 'of', 'the', 'project', 'gutenberg-tm', 'trademark', ',', 'and', 'any', 'other', 'party', 'distributing', 'a', 'project', 'gutenberg-tm', 'electronic', 'work', 'under', 'this', 'agreement', ',', 'disclaim', 'all', 'liability', 'to', 'you', 'for', 'damages', ',', 'costs', 'and', 'expenses', ',', 'including', 'legal', 'fees', '.'], ['you', 'agree', 'that', 'you', 'have', 'no', 'remedies', 'for', 'negligence', ',', 'strict', 'liability', ',', 'breach', 'of', 'warranty', 'or', 'breach', 'of', 'contract', 'except', 'those', 'provided', 'in', 'paragraph', '1.f.3', '.'], ['you', 'agree', 'that', 'the', 'foundation', ',', 'the', 'trademark', 'owner', ',', 'and', 'any', 'distributor', 'under', 'this', 'agreement', 'will', 'not', 'be', 'liable', 'to', 'you', 'for', 'actual', ',', 'direct', ',', 'indirect', ',', 'consequential', ',', 'punitive', 'or', 'incidental', 'damages', 'even', 'if', 'you', 'give', 'notice', 'of', 'the', 'possibility', 'of', 'such', 'damage', '.'], ['1.f.3', '.'], ['limited', 'right', 'of', 'replacement', 'or', 'refund', '-', 'if', 'you', 'discover', 'a', 'defect', 'in', 'this', 'electronic', 'work', 'within', '90', 'days', 'of', 'receiving', 'it', ',', 'you', 'can', 'receive', 'a', 'refund', 'of', 'the', 'money', '(', 'if', 'any', ')', 'you', 'paid', 'for', 'it', 'by', 'sending', 'a', 'written', 'explanation', 'to', 'the', 'person', 'you', 'received', 'the', 'work', 'from', '.'], ['if', 'you', 'received', 'the', 'work', 'on', 'a', 'physical', 'medium', ',', 'you', 'must', 'return', 'the', 'medium', 'with', 'your', 'written', 'explanation', '.'], ['the', 'person', 'or', 'entity', 'that', 'provided', 'you', 'with', 'the', 'defective', 'work', 'may', 'elect', 'to', 'provide', 'a', 'replacement', 'copy', 'in', 'lieu', 'of', 'a', 'refund', '.'], ['if', 'you', 'received', 'the', 'work', 'electronically', ',', 'the', 'person', 'or', 'entity', 'providing', 'it', 'to', 'you', 'may', 'choose', 'to', 'give', 'you', 'a', 'second', 'opportunity', 'to', 'receive', 'the', 'work', 'electronically', 'in', 'lieu', 'of', 'a', 'refund', '.'], ['if', 'the', 'second', 'copy', 'is', 'also', 'defective', ',', 'you', 'may', 'demand', 'a', 'refund', 'in', 'writing', 'without', 'further', 'opportunities', 'to', 'fix', 'the', 'problem', '.'], ['1.f.4', '.'], ['except', 'for', 'the', 'limited', 'right', 'of', 'replacement', 'or', 'refund', 'set', 'forth', 'in', 'paragraph', '1.f.3', ',', 'this', 'work', 'is', 'provided', 'to', 'you', \"'as-is\", \"'\", ',', 'with', 'no', 'other', 'warranties', 'of', 'any', 'kind', ',', 'express', 'or', 'implied', ',', 'including', 'but', 'not', 'limited', 'to', 'warranties', 'of', 'merchantability', 'or', 'fitness', 'for', 'any', 'purpose', '.'], ['1.f.5', '.'], ['some', 'states', 'do', 'not', 'allow', 'disclaimers', 'of', 'certain', 'implied', 'warranties', 'or', 'the', 'exclusion', 'or', 'limitation', 'of', 'certain', 'types', 'of', 'damages', '.'], ['if', 'any', 'disclaimer', 'or', 'limitation', 'set', 'forth', 'in', 'this', 'agreement', 'violates', 'the', 'law', 'of', 'the', 'state', 'applicable', 'to', 'this', 'agreement', ',', 'the', 'agreement', 'shall', 'be', 'interpreted', 'to', 'make', 'the', 'maximum', 'disclaimer', 'or', 'limitation', 'permitted', 'by', 'the', 'applicable', 'state', 'law', '.'], ['the', 'invalidity', 'or', 'unenforceability', 'of', 'any', 'provision', 'of', 'this', 'agreement', 'shall', 'not', 'void', 'the', 'remaining', 'provisions', '.'], ['1.f.6', '.'], ['indemnity', '-', 'you', 'agree', 'to', 'indemnify', 'and', 'hold', 'the', 'foundation', ',', 'the', 'trademark', 'owner', ',', 'any', 'agent', 'or', 'employee', 'of', 'the', 'foundation', ',', 'anyone', 'providing', 'copies', 'of', 'project', 'gutenberg-tm', 'electronic', 'works', 'in', 'accordance', 'with', 'this', 'agreement', ',', 'and', 'any', 'volunteers', 'associated', 'with', 'the', 'production', ',', 'promotion', 'and', 'distribution', 'of', 'project', 'gutenberg-tm', 'electronic', 'works', ',', 'harmless', 'from', 'all', 'liability', ',', 'costs', 'and', 'expenses', ',', 'including', 'legal', 'fees', ',', 'that', 'arise', 'directly', 'or', 'indirectly', 'from', 'any', 'of', 'the', 'following', 'which', 'you', 'do', 'or', 'cause', 'to', 'occur', ':', '(', 'a', ')', 'distribution', 'of', 'this', 'or', 'any', 'project', 'gutenberg-tm', 'work', ',', '(', 'b', ')', 'alteration', ',', 'modification', ',', 'or', 'additions', 'or', 'deletions', 'to', 'any', 'project', 'gutenberg-tm', 'work', ',', 'and', '(', 'c', ')', 'any', 'defect', 'you', 'cause', '.'], ['section', '2', '.'], ['information', 'about', 'the', 'mission', 'of', 'project', 'gutenberg-tm', 'project', 'gutenberg-tm', 'is', 'synonymous', 'with', 'the', 'free', 'distribution', 'of', 'electronic', 'works', 'in', 'formats', 'readable', 'by', 'the', 'widest', 'variety', 'of', 'computers', 'including', 'obsolete', ',', 'old', ',', 'middle-aged', 'and', 'new', 'computers', '.'], ['it', 'exists', 'because', 'of', 'the', 'efforts', 'of', 'hundreds', 'of', 'volunteers', 'and', 'donations', 'from', 'people', 'in', 'all', 'walks', 'of', 'life', '.'], ['volunteers', 'and', 'financial', 'support', 'to', 'provide', 'volunteers', 'with', 'the', 'assistance', 'they', 'need', 'are', 'critical', 'to', 'reaching', 'project', \"gutenberg-tm's\", 'goals', 'and', 'ensuring', 'that', 'the', 'project', 'gutenberg-tm', 'collection', 'will', 'remain', 'freely', 'available', 'for', 'generations', 'to', 'come', '.'], ['in', '2001', ',', 'the', 'project', 'gutenberg', 'literary', 'archive', 'foundation', 'was', 'created', 'to', 'provide', 'a', 'secure', 'and', 'permanent', 'future', 'for', 'project', 'gutenberg-tm', 'and', 'future', 'generations', '.'], ['to', 'learn', 'more', 'about', 'the', 'project', 'gutenberg', 'literary', 'archive', 'foundation', 'and', 'how', 'your', 'efforts', 'and', 'donations', 'can', 'help', ',', 'see', 'sections', '3', 'and', '4', 'and', 'the', 'foundation', 'information', 'page', 'at', 'www.gutenberg.org', 'section', '3', '.'], ['information', 'about', 'the', 'project', 'gutenberg', 'literary', 'archive', 'foundation', 'the', 'project', 'gutenberg', 'literary', 'archive', 'foundation', 'is', 'a', 'non', 'profit', '501', '(', 'c', ')', '(', '3', ')', 'educational', 'corporation', 'organized', 'under', 'the', 'laws', 'of', 'the', 'state', 'of', 'mississippi', 'and', 'granted', 'tax', 'exempt', 'status', 'by', 'the', 'internal', 'revenue', 'service', '.'], ['the', 'foundation', \"'s\", 'ein', 'or', 'federal', 'tax', 'identification', 'number', 'is', '64-6221541', '.'], ['contributions', 'to', 'the', 'project', 'gutenberg', 'literary', 'archive', 'foundation', 'are', 'tax', 'deductible', 'to', 'the', 'full', 'extent', 'permitted', 'by', 'u.s.', 'federal', 'laws', 'and', 'your', 'state', \"'s\", 'laws', '.'], ['the', 'foundation', \"'s\", 'principal', 'office', 'is', 'in', 'fairbanks', ',', 'alaska', ',', 'with', 'the', 'mailing', 'address', ':', 'po', 'box', '750175', ',', 'fairbanks', ',', 'ak', '99775', ',', 'but', 'its', 'volunteers', 'and', 'employees', 'are', 'scattered', 'throughout', 'numerous', 'locations', '.'], ['its', 'business', 'office', 'is', 'located', 'at', '809', 'north', '1500', 'west', ',', 'salt', 'lake', 'city', ',', 'ut', '84116', ',', '(', '801', ')', '596-1887', '.'], ['email', 'contact', 'links', 'and', 'up', 'to', 'date', 'contact', 'information', 'can', 'be', 'found', 'at', 'the', 'foundation', \"'s\", 'web', 'site', 'and', 'official', 'page', 'at', 'www.gutenberg.org/contact', 'for', 'additional', 'contact', 'information', ':', 'dr.', 'gregory', 'b.', 'newby', 'chief', 'executive', 'and', 'director', 'gbnewby', '@', 'pglaf.org', 'section', '4', '.'], ['information', 'about', 'donations', 'to', 'the', 'project', 'gutenberg', 'literary', 'archive', 'foundation', 'project', 'gutenberg-tm', 'depends', 'upon', 'and', 'can', 'not', 'survive', 'without', 'wide', 'spread', 'public', 'support', 'and', 'donations', 'to', 'carry', 'out', 'its', 'mission', 'of', 'increasing', 'the', 'number', 'of', 'public', 'domain', 'and', 'licensed', 'works', 'that', 'can', 'be', 'freely', 'distributed', 'in', 'machine', 'readable', 'form', 'accessible', 'by', 'the', 'widest', 'array', 'of', 'equipment', 'including', 'outdated', 'equipment', '.'], ['many', 'small', 'donations', '(', '$', '1', 'to', '$', '5,000', ')', 'are', 'particularly', 'important', 'to', 'maintaining', 'tax', 'exempt', 'status', 'with', 'the', 'irs', '.'], ['the', 'foundation', 'is', 'committed', 'to', 'complying', 'with', 'the', 'laws', 'regulating', 'charities', 'and', 'charitable', 'donations', 'in', 'all', '50', 'states', 'of', 'the', 'united', 'states', '.'], ['compliance', 'requirements', 'are', 'not', 'uniform', 'and', 'it', 'takes', 'a', 'considerable', 'effort', ',', 'much', 'paperwork', 'and', 'many', 'fees', 'to', 'meet', 'and', 'keep', 'up', 'with', 'these', 'requirements', '.'], ['we', 'do', 'not', 'solicit', 'donations', 'in', 'locations', 'where', 'we', 'have', 'not', 'received', 'written', 'confirmation', 'of', 'compliance', '.'], ['to', 'send', 'donations', 'or', 'determine', 'the', 'status', 'of', 'compliance', 'for', 'any', 'particular', 'state', 'visit', 'www.gutenberg.org/donate', 'while', 'we', 'can', 'not', 'and', 'do', 'not', 'solicit', 'contributions', 'from', 'states', 'where', 'we', 'have', 'not', 'met', 'the', 'solicitation', 'requirements', ',', 'we', 'know', 'of', 'no', 'prohibition', 'against', 'accepting', 'unsolicited', 'donations', 'from', 'donors', 'in', 'such', 'states', 'who', 'approach', 'us', 'with', 'offers', 'to', 'donate', '.'], ['international', 'donations', 'are', 'gratefully', 'accepted', ',', 'but', 'we', 'can', 'not', 'make', 'any', 'statements', 'concerning', 'tax', 'treatment', 'of', 'donations', 'received', 'from', 'outside', 'the', 'united', 'states', '.'], ['u.s.', 'laws', 'alone', 'swamp', 'our', 'small', 'staff', '.'], ['please', 'check', 'the', 'project', 'gutenberg', 'web', 'pages', 'for', 'current', 'donation', 'methods', 'and', 'addresses', '.'], ['donations', 'are', 'accepted', 'in', 'a', 'number', 'of', 'other', 'ways', 'including', 'checks', ',', 'online', 'payments', 'and', 'credit', 'card', 'donations', '.'], ['to', 'donate', ',', 'please', 'visit', ':', 'www.gutenberg.org/donate', 'section', '5', '.'], ['general', 'information', 'about', 'project', 'gutenberg-tm', 'electronic', 'works', '.'], ['professor', 'michael', 's.', 'hart', 'was', 'the', 'originator', 'of', 'the', 'project', 'gutenberg-tm', 'concept', 'of', 'a', 'library', 'of', 'electronic', 'works', 'that', 'could', 'be', 'freely', 'shared', 'with', 'anyone', '.'], ['for', 'forty', 'years', ',', 'he', 'produced', 'and', 'distributed', 'project', 'gutenberg-tm', 'ebooks', 'with', 'only', 'a', 'loose', 'network', 'of', 'volunteer', 'support', '.'], ['project', 'gutenberg-tm', 'ebooks', 'are', 'often', 'created', 'from', 'several', 'printed', 'editions', ',', 'all', 'of', 'which', 'are', 'confirmed', 'as', 'not', 'protected', 'by', 'copyright', 'in', 'the', 'u.s.', 'unless', 'a', 'copyright', 'notice', 'is', 'included', '.'], ['thus', ',', 'we', 'do', 'not', 'necessarily', 'keep', 'ebooks', 'in', 'compliance', 'with', 'any', 'particular', 'paper', 'edition', '.'], ['most', 'people', 'start', 'at', 'our', 'web', 'site', 'which', 'has', 'the', 'main', 'pg', 'search', 'facility', ':', 'www.gutenberg.org', 'this', 'web', 'site', 'includes', 'information', 'about', 'project', 'gutenberg-tm', ',', 'including', 'how', 'to', 'make', 'donations', 'to', 'the', 'project', 'gutenberg', 'literary', 'archive', 'foundation', ',', 'how', 'to', 'help', 'produce', 'our', 'new', 'ebooks', ',', 'and', 'how', 'to', 'subscribe', 'to', 'our', 'email', 'newsletter', 'to', 'hear', 'about', 'new', 'ebooks', '.']]\n"
    }
   ],
   "source": [
    "print(corpus)"
   ]
  },
  {
   "cell_type": "code",
   "execution_count": 15,
   "metadata": {},
   "outputs": [],
   "source": [
    "model_cbow = gensim.models.Word2Vec(sentences=corpus, size=100, window=2)"
   ]
  },
  {
   "cell_type": "code",
   "execution_count": 16,
   "metadata": {},
   "outputs": [],
   "source": [
    "cbow_sim = model_cbow.similarity('caesar','rome')"
   ]
  },
  {
   "cell_type": "code",
   "execution_count": 17,
   "metadata": {},
   "outputs": [],
   "source": [
    "model_sg = gensim.models.Word2Vec(sentences=corpus, size=100, window=2, sg=1)"
   ]
  },
  {
   "cell_type": "code",
   "execution_count": 18,
   "metadata": {},
   "outputs": [],
   "source": [
    "sg_sim = model_sg.similarity('caesar','rome')"
   ]
  },
  {
   "cell_type": "code",
   "execution_count": 19,
   "metadata": {},
   "outputs": [],
   "source": [
    "model_negative = gensim.models.Word2Vec(sentences=corpus, size=100, window=2, negative=10)"
   ]
  },
  {
   "cell_type": "code",
   "execution_count": 20,
   "metadata": {},
   "outputs": [],
   "source": [
    "neg_sim = model_negative.similarity('caesar', 'rome')"
   ]
  },
  {
   "cell_type": "code",
   "execution_count": null,
   "metadata": {},
   "outputs": [],
   "source": []
  }
 ],
 "metadata": {
  "language_info": {
   "codemirror_mode": {
    "name": "ipython",
    "version": 3
   },
   "file_extension": ".py",
   "mimetype": "text/x-python",
   "name": "python",
   "nbconvert_exporter": "python",
   "pygments_lexer": "ipython3",
   "version": "3.7.7-final"
  },
  "orig_nbformat": 2,
  "kernelspec": {
   "name": "python37764bita15074ddb51e4371931990273628f831",
   "display_name": "Python 3.7.7 64-bit"
  }
 },
 "nbformat": 4,
 "nbformat_minor": 2
}