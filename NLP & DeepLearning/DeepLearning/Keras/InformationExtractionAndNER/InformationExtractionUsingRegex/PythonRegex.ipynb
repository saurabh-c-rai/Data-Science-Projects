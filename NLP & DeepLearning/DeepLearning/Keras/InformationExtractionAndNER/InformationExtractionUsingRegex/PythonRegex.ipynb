{
 "metadata": {
  "language_info": {
   "codemirror_mode": {
    "name": "ipython",
    "version": 3
   },
   "file_extension": ".py",
   "mimetype": "text/x-python",
   "name": "python",
   "nbconvert_exporter": "python",
   "pygments_lexer": "ipython3",
   "version": 3
  },
  "orig_nbformat": 2,
  "kernelspec": {
   "name": "python_defaultSpec_1595183623787",
   "display_name": "Python 3.7.7 64-bit ('DeepLearning': conda)"
  }
 },
 "nbformat": 4,
 "nbformat_minor": 2,
 "cells": [
  {
   "cell_type": "code",
   "execution_count": 1,
   "metadata": {},
   "outputs": [],
   "source": [
    "import re"
   ]
  },
  {
   "cell_type": "code",
   "execution_count": 14,
   "metadata": {},
   "outputs": [],
   "source": [
    "def checkEmailRegex(regex):\n",
    "    text = \"Please write to us at Ask_info1@grayatom.com\"\n",
    "    try:\n",
    "    \temail = re.search(regex,text).group()\n",
    "    except :\n",
    "    \treturn \"The regex is Incorrect. Please try again\"\n",
    "    if email == \"Ask_info1@grayatom.com\":\n",
    "        return \"Congratulations!!! You have successfully completed this exercise. Great work\"\n",
    "    else: return \"The regex is Incorrect. Please try again\""
   ]
  },
  {
   "cell_type": "code",
   "execution_count": 16,
   "metadata": {
    "tags": []
   },
   "outputs": [
    {
     "output_type": "stream",
     "name": "stdout",
     "text": "Congratulations!!! You have successfully completed this exercise. Great work\n"
    }
   ],
   "source": [
    "# Please type in the regex below\n",
    "regex=r\"[Aa-zZ]\\w*@.{0,}\"\n",
    "\n",
    "#Please do not modify the line below\n",
    "print(checkEmailRegex(regex))\n"
   ]
  },
  {
   "cell_type": "code",
   "execution_count": null,
   "metadata": {},
   "outputs": [],
   "source": []
  }
 ]
}