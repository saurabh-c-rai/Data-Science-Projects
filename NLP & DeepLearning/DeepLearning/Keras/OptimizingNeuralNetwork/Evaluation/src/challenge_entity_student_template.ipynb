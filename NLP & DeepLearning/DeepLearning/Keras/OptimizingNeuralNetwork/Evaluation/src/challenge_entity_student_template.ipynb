{
 "cells": [
  {
   "cell_type": "markdown",
   "metadata": {},
   "source": [
    "### Load the  Data\n",
    "\n",
    "#### Instructions:\n",
    "\n",
    "- Load the train data\n",
    "- Split the dependent and independent features \n",
    "- Split the dataset into `train` and `validation` set.\n",
    "- Scale the train and validation data\n",
    "- Perform a one-hot encoding on the target."
   ]
  },
  {
   "cell_type": "code",
   "execution_count": 4,
   "metadata": {},
   "outputs": [],
   "source": [
    "from IPython.core.interactiveshell import InteractiveShell\n",
    "InteractiveShell.ast_node_interactivity = \"all\""
   ]
  },
  {
   "cell_type": "code",
   "execution_count": 23,
   "metadata": {},
   "outputs": [],
   "source": [
    "#import modules\n",
    "import numpy as np\n",
    "import pandas as pd\n",
    "import seaborn as sns\n",
    "from matplotlib import pyplot as plt\n",
    "from sklearn.preprocessing import StandardScaler, MinMaxScaler, OneHotEncoder\n",
    "from sklearn.model_selection import train_test_split\n",
    "import keras\n",
    "from keras.models import Sequential\n",
    "from keras.layers import Activation, BatchNormalization, Dropout, Dense\n",
    "from keras.callbacks import EarlyStopping, ModelCheckpoint\n",
    "from keras.optimizers import Optimizer\n"
   ]
  },
  {
   "cell_type": "code",
   "execution_count": 2,
   "metadata": {},
   "outputs": [
    {
     "output_type": "execute_result",
     "data": {
      "text/plain": "  cust_id  loan_amnt  ...  verification_status_2  loan_status\n0      A1      20000  ...                      0            1\n1      A2       7500  ...                      0            1\n2      A3      11200  ...                      0            1\n3      A4       6000  ...                      0            1\n4      A5      10000  ...                      0            5\n\n[5 rows x 81 columns]",
      "text/html": "<div>\n<style scoped>\n    .dataframe tbody tr th:only-of-type {\n        vertical-align: middle;\n    }\n\n    .dataframe tbody tr th {\n        vertical-align: top;\n    }\n\n    .dataframe thead th {\n        text-align: right;\n    }\n</style>\n<table border=\"1\" class=\"dataframe\">\n  <thead>\n    <tr style=\"text-align: right;\">\n      <th></th>\n      <th>cust_id</th>\n      <th>loan_amnt</th>\n      <th>funded_amnt</th>\n      <th>funded_amnt_inv</th>\n      <th>int_rate</th>\n      <th>installment</th>\n      <th>annual_inc</th>\n      <th>dti</th>\n      <th>delinq_2yrs</th>\n      <th>inq_last_6mths</th>\n      <th>open_acc</th>\n      <th>pub_rec</th>\n      <th>revol_bal</th>\n      <th>revol_util</th>\n      <th>total_acc</th>\n      <th>out_prncp</th>\n      <th>out_prncp_inv</th>\n      <th>total_pymnt</th>\n      <th>total_pymnt_inv</th>\n      <th>total_rec_prncp</th>\n      <th>total_rec_int</th>\n      <th>total_rec_late_fee</th>\n      <th>recoveries</th>\n      <th>collection_recovery_fee</th>\n      <th>last_pymnt_amnt</th>\n      <th>collections_12_mths_ex_med</th>\n      <th>policy_code</th>\n      <th>acc_now_delinq</th>\n      <th>tot_coll_amt</th>\n      <th>tot_cur_bal</th>\n      <th>application_type_0</th>\n      <th>application_type_1</th>\n      <th>emp_length_0</th>\n      <th>emp_length_1</th>\n      <th>emp_length_2</th>\n      <th>emp_length_3</th>\n      <th>emp_length_4</th>\n      <th>emp_length_5</th>\n      <th>emp_length_6</th>\n      <th>emp_length_7</th>\n      <th>...</th>\n      <th>emp_length_9</th>\n      <th>emp_length_10</th>\n      <th>emp_length_11</th>\n      <th>grade_0</th>\n      <th>grade_1</th>\n      <th>grade_2</th>\n      <th>grade_3</th>\n      <th>grade_4</th>\n      <th>grade_5</th>\n      <th>grade_6</th>\n      <th>home_ownership_0</th>\n      <th>home_ownership_1</th>\n      <th>home_ownership_2</th>\n      <th>home_ownership_3</th>\n      <th>home_ownership_4</th>\n      <th>home_ownership_5</th>\n      <th>initial_list_status_0</th>\n      <th>initial_list_status_1</th>\n      <th>purpose_0</th>\n      <th>purpose_1</th>\n      <th>purpose_2</th>\n      <th>purpose_3</th>\n      <th>purpose_4</th>\n      <th>purpose_5</th>\n      <th>purpose_6</th>\n      <th>purpose_7</th>\n      <th>purpose_8</th>\n      <th>purpose_9</th>\n      <th>purpose_10</th>\n      <th>purpose_11</th>\n      <th>purpose_12</th>\n      <th>purpose_13</th>\n      <th>pymnt_plan_0</th>\n      <th>pymnt_plan_1</th>\n      <th>term_0</th>\n      <th>term_1</th>\n      <th>verification_status_0</th>\n      <th>verification_status_1</th>\n      <th>verification_status_2</th>\n      <th>loan_status</th>\n    </tr>\n  </thead>\n  <tbody>\n    <tr>\n      <th>0</th>\n      <td>A1</td>\n      <td>20000</td>\n      <td>20000</td>\n      <td>20000.0</td>\n      <td>8.18</td>\n      <td>407.26</td>\n      <td>200000.0</td>\n      <td>8.76</td>\n      <td>0.0</td>\n      <td>1.0</td>\n      <td>14.0</td>\n      <td>0.0</td>\n      <td>47274</td>\n      <td>22.3</td>\n      <td>29.0</td>\n      <td>18626.77</td>\n      <td>18626.77</td>\n      <td>2027.21</td>\n      <td>2027.21</td>\n      <td>1373.23</td>\n      <td>653.98</td>\n      <td>0.0</td>\n      <td>0.0</td>\n      <td>0.0</td>\n      <td>407.26</td>\n      <td>0.0</td>\n      <td>1</td>\n      <td>0.0</td>\n      <td>0.0</td>\n      <td>304951.0</td>\n      <td>1</td>\n      <td>0</td>\n      <td>0</td>\n      <td>1</td>\n      <td>0</td>\n      <td>0</td>\n      <td>0</td>\n      <td>0</td>\n      <td>0</td>\n      <td>0</td>\n      <td>...</td>\n      <td>0</td>\n      <td>0</td>\n      <td>0</td>\n      <td>0</td>\n      <td>1</td>\n      <td>0</td>\n      <td>0</td>\n      <td>0</td>\n      <td>0</td>\n      <td>0</td>\n      <td>0</td>\n      <td>1</td>\n      <td>0</td>\n      <td>0</td>\n      <td>0</td>\n      <td>0</td>\n      <td>0</td>\n      <td>1</td>\n      <td>0</td>\n      <td>0</td>\n      <td>1</td>\n      <td>0</td>\n      <td>0</td>\n      <td>0</td>\n      <td>0</td>\n      <td>0</td>\n      <td>0</td>\n      <td>0</td>\n      <td>0</td>\n      <td>0</td>\n      <td>0</td>\n      <td>0</td>\n      <td>1</td>\n      <td>0</td>\n      <td>0</td>\n      <td>1</td>\n      <td>0</td>\n      <td>1</td>\n      <td>0</td>\n      <td>1</td>\n    </tr>\n    <tr>\n      <th>1</th>\n      <td>A2</td>\n      <td>7500</td>\n      <td>7500</td>\n      <td>7500.0</td>\n      <td>11.99</td>\n      <td>249.08</td>\n      <td>157000.0</td>\n      <td>19.04</td>\n      <td>0.0</td>\n      <td>1.0</td>\n      <td>8.0</td>\n      <td>0.0</td>\n      <td>20482</td>\n      <td>98.5</td>\n      <td>27.0</td>\n      <td>4897.17</td>\n      <td>4897.17</td>\n      <td>3485.51</td>\n      <td>3485.51</td>\n      <td>2602.83</td>\n      <td>882.68</td>\n      <td>0.0</td>\n      <td>0.0</td>\n      <td>0.0</td>\n      <td>252.47</td>\n      <td>0.0</td>\n      <td>1</td>\n      <td>0.0</td>\n      <td>0.0</td>\n      <td>543005.0</td>\n      <td>1</td>\n      <td>0</td>\n      <td>0</td>\n      <td>0</td>\n      <td>0</td>\n      <td>1</td>\n      <td>0</td>\n      <td>0</td>\n      <td>0</td>\n      <td>0</td>\n      <td>...</td>\n      <td>0</td>\n      <td>0</td>\n      <td>0</td>\n      <td>0</td>\n      <td>1</td>\n      <td>0</td>\n      <td>0</td>\n      <td>0</td>\n      <td>0</td>\n      <td>0</td>\n      <td>0</td>\n      <td>1</td>\n      <td>0</td>\n      <td>0</td>\n      <td>0</td>\n      <td>0</td>\n      <td>0</td>\n      <td>1</td>\n      <td>0</td>\n      <td>0</td>\n      <td>0</td>\n      <td>0</td>\n      <td>0</td>\n      <td>0</td>\n      <td>0</td>\n      <td>0</td>\n      <td>0</td>\n      <td>0</td>\n      <td>0</td>\n      <td>0</td>\n      <td>1</td>\n      <td>0</td>\n      <td>1</td>\n      <td>0</td>\n      <td>1</td>\n      <td>0</td>\n      <td>0</td>\n      <td>1</td>\n      <td>0</td>\n      <td>1</td>\n    </tr>\n    <tr>\n      <th>2</th>\n      <td>A3</td>\n      <td>11200</td>\n      <td>11200</td>\n      <td>11100.0</td>\n      <td>14.65</td>\n      <td>264.40</td>\n      <td>80000.0</td>\n      <td>16.74</td>\n      <td>1.0</td>\n      <td>2.0</td>\n      <td>12.0</td>\n      <td>0.0</td>\n      <td>6731</td>\n      <td>38.2</td>\n      <td>20.0</td>\n      <td>10410.24</td>\n      <td>10317.29</td>\n      <td>1568.17</td>\n      <td>1554.17</td>\n      <td>789.76</td>\n      <td>778.41</td>\n      <td>0.0</td>\n      <td>0.0</td>\n      <td>0.0</td>\n      <td>264.40</td>\n      <td>0.0</td>\n      <td>1</td>\n      <td>0.0</td>\n      <td>421.0</td>\n      <td>105430.0</td>\n      <td>1</td>\n      <td>0</td>\n      <td>0</td>\n      <td>0</td>\n      <td>0</td>\n      <td>0</td>\n      <td>0</td>\n      <td>0</td>\n      <td>0</td>\n      <td>0</td>\n      <td>...</td>\n      <td>0</td>\n      <td>1</td>\n      <td>0</td>\n      <td>0</td>\n      <td>0</td>\n      <td>1</td>\n      <td>0</td>\n      <td>0</td>\n      <td>0</td>\n      <td>0</td>\n      <td>0</td>\n      <td>1</td>\n      <td>0</td>\n      <td>0</td>\n      <td>0</td>\n      <td>0</td>\n      <td>1</td>\n      <td>0</td>\n      <td>0</td>\n      <td>1</td>\n      <td>0</td>\n      <td>0</td>\n      <td>0</td>\n      <td>0</td>\n      <td>0</td>\n      <td>0</td>\n      <td>0</td>\n      <td>0</td>\n      <td>0</td>\n      <td>0</td>\n      <td>0</td>\n      <td>0</td>\n      <td>1</td>\n      <td>0</td>\n      <td>0</td>\n      <td>1</td>\n      <td>0</td>\n      <td>1</td>\n      <td>0</td>\n      <td>1</td>\n    </tr>\n    <tr>\n      <th>3</th>\n      <td>A4</td>\n      <td>6000</td>\n      <td>6000</td>\n      <td>6000.0</td>\n      <td>11.99</td>\n      <td>199.26</td>\n      <td>55000.0</td>\n      <td>27.93</td>\n      <td>1.0</td>\n      <td>1.0</td>\n      <td>13.0</td>\n      <td>0.0</td>\n      <td>9240</td>\n      <td>48.6</td>\n      <td>20.0</td>\n      <td>2068.11</td>\n      <td>2068.11</td>\n      <td>4981.50</td>\n      <td>4981.50</td>\n      <td>3931.89</td>\n      <td>1049.61</td>\n      <td>0.0</td>\n      <td>0.0</td>\n      <td>0.0</td>\n      <td>199.26</td>\n      <td>0.0</td>\n      <td>1</td>\n      <td>0.0</td>\n      <td>406.0</td>\n      <td>56932.0</td>\n      <td>1</td>\n      <td>0</td>\n      <td>0</td>\n      <td>1</td>\n      <td>0</td>\n      <td>0</td>\n      <td>0</td>\n      <td>0</td>\n      <td>0</td>\n      <td>0</td>\n      <td>...</td>\n      <td>0</td>\n      <td>0</td>\n      <td>0</td>\n      <td>0</td>\n      <td>1</td>\n      <td>0</td>\n      <td>0</td>\n      <td>0</td>\n      <td>0</td>\n      <td>0</td>\n      <td>0</td>\n      <td>0</td>\n      <td>0</td>\n      <td>0</td>\n      <td>0</td>\n      <td>1</td>\n      <td>0</td>\n      <td>1</td>\n      <td>0</td>\n      <td>0</td>\n      <td>1</td>\n      <td>0</td>\n      <td>0</td>\n      <td>0</td>\n      <td>0</td>\n      <td>0</td>\n      <td>0</td>\n      <td>0</td>\n      <td>0</td>\n      <td>0</td>\n      <td>0</td>\n      <td>0</td>\n      <td>1</td>\n      <td>0</td>\n      <td>1</td>\n      <td>0</td>\n      <td>1</td>\n      <td>0</td>\n      <td>0</td>\n      <td>1</td>\n    </tr>\n    <tr>\n      <th>4</th>\n      <td>A5</td>\n      <td>10000</td>\n      <td>10000</td>\n      <td>10000.0</td>\n      <td>8.67</td>\n      <td>316.47</td>\n      <td>40000.0</td>\n      <td>16.53</td>\n      <td>0.0</td>\n      <td>0.0</td>\n      <td>9.0</td>\n      <td>0.0</td>\n      <td>10541</td>\n      <td>53.0</td>\n      <td>16.0</td>\n      <td>0.00</td>\n      <td>0.00</td>\n      <td>10545.54</td>\n      <td>10545.54</td>\n      <td>10000.00</td>\n      <td>545.54</td>\n      <td>0.0</td>\n      <td>0.0</td>\n      <td>0.0</td>\n      <td>5260.89</td>\n      <td>0.0</td>\n      <td>1</td>\n      <td>0.0</td>\n      <td>0.0</td>\n      <td>24462.0</td>\n      <td>1</td>\n      <td>0</td>\n      <td>0</td>\n      <td>0</td>\n      <td>0</td>\n      <td>0</td>\n      <td>0</td>\n      <td>0</td>\n      <td>0</td>\n      <td>0</td>\n      <td>...</td>\n      <td>0</td>\n      <td>1</td>\n      <td>0</td>\n      <td>0</td>\n      <td>1</td>\n      <td>0</td>\n      <td>0</td>\n      <td>0</td>\n      <td>0</td>\n      <td>0</td>\n      <td>0</td>\n      <td>0</td>\n      <td>0</td>\n      <td>0</td>\n      <td>0</td>\n      <td>1</td>\n      <td>0</td>\n      <td>1</td>\n      <td>0</td>\n      <td>0</td>\n      <td>1</td>\n      <td>0</td>\n      <td>0</td>\n      <td>0</td>\n      <td>0</td>\n      <td>0</td>\n      <td>0</td>\n      <td>0</td>\n      <td>0</td>\n      <td>0</td>\n      <td>0</td>\n      <td>0</td>\n      <td>1</td>\n      <td>0</td>\n      <td>1</td>\n      <td>0</td>\n      <td>1</td>\n      <td>0</td>\n      <td>0</td>\n      <td>5</td>\n    </tr>\n  </tbody>\n</table>\n<p>5 rows × 81 columns</p>\n</div>"
     },
     "metadata": {},
     "execution_count": 2
    }
   ],
   "source": [
    "# Load the train data\n",
    "train_data = pd.read_csv(\"../input/train.csv\")\n",
    "train_data.head()\n",
    "# code ends here"
   ]
  },
  {
   "cell_type": "code",
   "execution_count": 3,
   "metadata": {},
   "outputs": [
    {
     "output_type": "execute_result",
     "data": {
      "text/plain": "cust_id                  0\nloan_amnt                0\nfunded_amnt              0\nfunded_amnt_inv          0\nint_rate                 0\n                        ..\nterm_1                   0\nverification_status_0    0\nverification_status_1    0\nverification_status_2    0\nloan_status              0\nLength: 81, dtype: int64"
     },
     "metadata": {},
     "execution_count": 3
    }
   ],
   "source": [
    "train_data.isna().sum()"
   ]
  },
  {
   "cell_type": "code",
   "execution_count": 15,
   "metadata": {},
   "outputs": [],
   "source": [
    "train_data.drop(columns=['cust_id'], inplace=True)"
   ]
  },
  {
   "cell_type": "code",
   "execution_count": 16,
   "metadata": {},
   "outputs": [],
   "source": [
    "X = train_data.iloc[ : , : -1].copy()\n",
    "y = train_data.iloc[ : , -1].copy()"
   ]
  },
  {
   "cell_type": "code",
   "execution_count": 17,
   "metadata": {},
   "outputs": [],
   "source": [
    "X_train, X_test, y_train, y_test = train_test_split(X, y, test_size=0.20, stratify=y, random_state=3)"
   ]
  },
  {
   "cell_type": "code",
   "execution_count": 18,
   "metadata": {},
   "outputs": [
    {
     "output_type": "execute_result",
     "data": {
      "text/plain": "StandardScaler(copy=True, with_mean=True, with_std=True)"
     },
     "metadata": {},
     "execution_count": 18
    }
   ],
   "source": [
    "scalar = StandardScaler()\n",
    "scalar.fit(X_train)"
   ]
  },
  {
   "cell_type": "code",
   "execution_count": 19,
   "metadata": {},
   "outputs": [],
   "source": [
    "X_train = scalar.transform(X_train)\n",
    "X_test = scalar.transform(X_test)"
   ]
  },
  {
   "cell_type": "code",
   "execution_count": 22,
   "metadata": {},
   "outputs": [
    {
     "output_type": "execute_result",
     "data": {
      "text/plain": "1    0.678153\n5    0.234086\n0    0.050989\n9    0.013062\n7    0.009535\n6    0.007047\n8    0.002656\n4    0.002242\n2    0.001372\n3    0.000857\nName: loan_status, dtype: float64"
     },
     "metadata": {},
     "execution_count": 22
    },
    {
     "output_type": "execute_result",
     "data": {
      "text/plain": "1    0.678153\n5    0.234084\n0    0.050993\n9    0.013064\n7    0.009530\n6    0.007043\n8    0.002656\n4    0.002238\n2    0.001376\n3    0.000861\nName: loan_status, dtype: float64"
     },
     "metadata": {},
     "execution_count": 22
    }
   ],
   "source": [
    "y_train.value_counts()/y_train.value_counts().sum()\n",
    "y_test.value_counts()/y_test.value_counts().sum()"
   ]
  },
  {
   "cell_type": "code",
   "execution_count": 34,
   "metadata": {},
   "outputs": [
    {
     "output_type": "execute_result",
     "data": {
      "text/plain": "OneHotEncoder(categories='auto', drop=None, dtype=<class 'numpy.float64'>,\n              handle_unknown='error', sparse=True)"
     },
     "metadata": {},
     "execution_count": 34
    }
   ],
   "source": [
    "oneHotEncoder = OneHotEncoder()\n",
    "oneHotEncoder.fit(y_train.values.reshape(-1, 1))"
   ]
  },
  {
   "cell_type": "code",
   "execution_count": 35,
   "metadata": {},
   "outputs": [],
   "source": [
    "y_train = oneHotEncoder.transform(y_train.values.reshape(-1, 1))\n",
    "y_test = oneHotEncoder.transform(y_test.values.reshape(-1, 1))"
   ]
  },
  {
   "cell_type": "markdown",
   "metadata": {},
   "source": [
    "### Model Building\n",
    "\n",
    "#### Instructions:\n",
    "\n",
    "- Create a sequential model\n",
    "- Fit the model on the train data \n",
    "- Evaluate the model on the validation set."
   ]
  },
  {
   "cell_type": "code",
   "execution_count": 38,
   "metadata": {},
   "outputs": [],
   "source": [
    "# Input Layer size and Output layer size\n",
    "INPUT_SIZE = X_train.shape[1]\n",
    "OUTPUT_SIZE = y_train.shape[1]"
   ]
  },
  {
   "cell_type": "code",
   "execution_count": 39,
   "metadata": {},
   "outputs": [],
   "source": [
    "model = Sequential()"
   ]
  },
  {
   "cell_type": "code",
   "execution_count": 40,
   "metadata": {},
   "outputs": [],
   "source": [
    "#Input Layer\n",
    "model.add(Dense(input_shape=(INPUT_SIZE, ), activation='relu', units=64))"
   ]
  },
  {
   "cell_type": "code",
   "execution_count": 41,
   "metadata": {},
   "outputs": [],
   "source": [
    "# Layer 1 & 2\n",
    "model.add(Dense(input_dim=INPUT_SIZE, activation='relu', units=32))\n",
    "model.add(Dense(input_dim=INPUT_SIZE, activation='relu', units=16))"
   ]
  },
  {
   "cell_type": "code",
   "execution_count": 42,
   "metadata": {},
   "outputs": [],
   "source": [
    "#output Layer\n",
    "model.add(Dense(OUTPUT_SIZE, activation='softmax'))"
   ]
  },
  {
   "cell_type": "code",
   "execution_count": 43,
   "metadata": {},
   "outputs": [],
   "source": [
    "#compiling model\n",
    "model.compile(optimizer='sgd', loss='categorical_crossentropy', metrics=['accuracy'])"
   ]
  },
  {
   "cell_type": "code",
   "execution_count": 45,
   "metadata": {},
   "outputs": [
    {
     "output_type": "stream",
     "name": "stdout",
     "text": "Train on 496932 samples, validate on 124233 samples\nEpoch 1/100\n496932/496932 [==============================] - 58s 118us/step - loss: 0.2232 - accuracy: 0.9532 - val_loss: 0.2096 - val_accuracy: 0.9552\nEpoch 2/100\n496932/496932 [==============================] - 55s 110us/step - loss: 0.1942 - accuracy: 0.9567 - val_loss: 0.1898 - val_accuracy: 0.9578\nEpoch 3/100\n496932/496932 [==============================] - 56s 112us/step - loss: 0.1806 - accuracy: 0.9581 - val_loss: 0.1789 - val_accuracy: 0.9581\nEpoch 4/100\n496932/496932 [==============================] - 56s 112us/step - loss: 0.1723 - accuracy: 0.9594 - val_loss: 0.1746 - val_accuracy: 0.9582\nEpoch 5/100\n496932/496932 [==============================] - 56s 114us/step - loss: 0.1677 - accuracy: 0.9601 - val_loss: 0.1679 - val_accuracy: 0.9597\nEpoch 6/100\n496932/496932 [==============================] - 57s 115us/step - loss: 0.1645 - accuracy: 0.9605 - val_loss: 0.1665 - val_accuracy: 0.9602\nEpoch 7/100\n496932/496932 [==============================] - 55s 110us/step - loss: 0.1621 - accuracy: 0.9609 - val_loss: 0.1644 - val_accuracy: 0.9602\nEpoch 8/100\n496932/496932 [==============================] - 55s 111us/step - loss: 0.1604 - accuracy: 0.9612 - val_loss: 0.1667 - val_accuracy: 0.9597\nEpoch 9/100\n496932/496932 [==============================] - 55s 111us/step - loss: 0.1588 - accuracy: 0.9615 - val_loss: 0.1647 - val_accuracy: 0.9602\nEpoch 10/100\n496932/496932 [==============================] - 55s 111us/step - loss: 0.1578 - accuracy: 0.9617 - val_loss: 0.1604 - val_accuracy: 0.9610\nEpoch 11/100\n496932/496932 [==============================] - 55s 111us/step - loss: 0.1567 - accuracy: 0.9620 - val_loss: 0.1596 - val_accuracy: 0.9611\nEpoch 12/100\n496932/496932 [==============================] - 56s 112us/step - loss: 0.1557 - accuracy: 0.9623 - val_loss: 0.1610 - val_accuracy: 0.9604\nEpoch 13/100\n496932/496932 [==============================] - 57s 115us/step - loss: 0.1549 - accuracy: 0.9624 - val_loss: 0.1836 - val_accuracy: 0.9521\nEpoch 14/100\n496932/496932 [==============================] - 58s 116us/step - loss: 0.1541 - accuracy: 0.9624 - val_loss: 0.1576 - val_accuracy: 0.9617\nEpoch 15/100\n496932/496932 [==============================] - 64s 128us/step - loss: 0.1535 - accuracy: 0.9624 - val_loss: 0.1591 - val_accuracy: 0.9616\nEpoch 16/100\n496932/496932 [==============================] - 61s 123us/step - loss: 0.1529 - accuracy: 0.9629 - val_loss: 0.1616 - val_accuracy: 0.9610\nEpoch 17/100\n496932/496932 [==============================] - 85s 172us/step - loss: 0.1524 - accuracy: 0.9630 - val_loss: 0.1591 - val_accuracy: 0.9617\nEpoch 18/100\n496932/496932 [==============================] - 91s 184us/step - loss: 0.1516 - accuracy: 0.9629 - val_loss: 0.1579 - val_accuracy: 0.9616\nEpoch 19/100\n496932/496932 [==============================] - 53s 106us/step - loss: 0.1513 - accuracy: 0.9631 - val_loss: 0.1562 - val_accuracy: 0.9618\nEpoch 20/100\n496932/496932 [==============================] - 71s 143us/step - loss: 0.1509 - accuracy: 0.9632 - val_loss: 0.1566 - val_accuracy: 0.9617\nEpoch 21/100\n496932/496932 [==============================] - 74s 149us/step - loss: 0.1506 - accuracy: 0.9633 - val_loss: 0.1590 - val_accuracy: 0.9609\nEpoch 22/100\n496932/496932 [==============================] - 91s 182us/step - loss: 0.1504 - accuracy: 0.9635 - val_loss: 0.1560 - val_accuracy: 0.9619\nEpoch 23/100\n496932/496932 [==============================] - 65s 130us/step - loss: 0.1497 - accuracy: 0.9635 - val_loss: 0.1588 - val_accuracy: 0.9612\nEpoch 24/100\n496932/496932 [==============================] - 69s 138us/step - loss: 0.1494 - accuracy: 0.9636 - val_loss: 0.1567 - val_accuracy: 0.9619\nEpoch 25/100\n496932/496932 [==============================] - 72s 144us/step - loss: 0.1490 - accuracy: 0.9638 - val_loss: 0.1554 - val_accuracy: 0.9622\nEpoch 26/100\n496932/496932 [==============================] - 65s 131us/step - loss: 0.1488 - accuracy: 0.9636 - val_loss: 0.1546 - val_accuracy: 0.9624\nEpoch 27/100\n496932/496932 [==============================] - 70s 142us/step - loss: 0.1486 - accuracy: 0.9636 - val_loss: 0.1568 - val_accuracy: 0.9613\nEpoch 28/100\n496932/496932 [==============================] - 78s 158us/step - loss: 0.1484 - accuracy: 0.9637 - val_loss: 0.1545 - val_accuracy: 0.9626\nEpoch 29/100\n496932/496932 [==============================] - 105s 212us/step - loss: 0.1480 - accuracy: 0.9638 - val_loss: 0.1592 - val_accuracy: 0.9612\nEpoch 30/100\n496932/496932 [==============================] - 80s 161us/step - loss: 0.1477 - accuracy: 0.9639 - val_loss: 0.1536 - val_accuracy: 0.9625\nEpoch 31/100\n496932/496932 [==============================] - 73s 147us/step - loss: 0.1475 - accuracy: 0.9639 - val_loss: 0.1547 - val_accuracy: 0.9626\nEpoch 32/100\n496932/496932 [==============================] - 64s 128us/step - loss: 0.1474 - accuracy: 0.9639 - val_loss: 0.1547 - val_accuracy: 0.9623\nEpoch 33/100\n496932/496932 [==============================] - 76s 153us/step - loss: 0.1471 - accuracy: 0.9640 - val_loss: 0.1556 - val_accuracy: 0.9622\nEpoch 34/100\n496932/496932 [==============================] - 70s 141us/step - loss: 0.1512 - accuracy: 0.9627 - val_loss: 0.1555 - val_accuracy: 0.9617\nEpoch 35/100\n496932/496932 [==============================] - 71s 143us/step - loss: 0.1474 - accuracy: 0.9640 - val_loss: 0.1638 - val_accuracy: 0.9592\nEpoch 36/100\n496932/496932 [==============================] - 82s 165us/step - loss: 0.1474 - accuracy: 0.9638 - val_loss: 0.1550 - val_accuracy: 0.9620\nEpoch 37/100\n496932/496932 [==============================] - 53s 108us/step - loss: 0.1464 - accuracy: 0.9643 - val_loss: 0.1547 - val_accuracy: 0.9624\nEpoch 38/100\n496932/496932 [==============================] - 52s 105us/step - loss: 0.1461 - accuracy: 0.9642 - val_loss: 0.1563 - val_accuracy: 0.9618\nEpoch 39/100\n496932/496932 [==============================] - 51s 103us/step - loss: 0.1458 - accuracy: 0.9644 - val_loss: 0.1550 - val_accuracy: 0.9619\nEpoch 40/100\n496932/496932 [==============================] - 48s 96us/step - loss: 0.1457 - accuracy: 0.9643 - val_loss: 0.1532 - val_accuracy: 0.9622\nEpoch 41/100\n496932/496932 [==============================] - 51s 103us/step - loss: 0.1456 - accuracy: 0.9644 - val_loss: 0.1524 - val_accuracy: 0.9627\nEpoch 42/100\n496932/496932 [==============================] - 54s 109us/step - loss: 0.1455 - accuracy: 0.9643 - val_loss: 0.1525 - val_accuracy: 0.9626\nEpoch 43/100\n496932/496932 [==============================] - 50s 100us/step - loss: 0.1452 - accuracy: 0.9647 - val_loss: 0.1587 - val_accuracy: 0.9621\nEpoch 44/100\n496932/496932 [==============================] - 52s 104us/step - loss: 0.1452 - accuracy: 0.9646 - val_loss: 0.1571 - val_accuracy: 0.9610\nEpoch 45/100\n496932/496932 [==============================] - 51s 103us/step - loss: 0.1452 - accuracy: 0.9645 - val_loss: 0.1525 - val_accuracy: 0.9629\nEpoch 46/100\n496932/496932 [==============================] - 53s 106us/step - loss: 0.1447 - accuracy: 0.9646 - val_loss: 0.1539 - val_accuracy: 0.9620\nEpoch 47/100\n496932/496932 [==============================] - 51s 102us/step - loss: 0.1446 - accuracy: 0.9647 - val_loss: 0.1534 - val_accuracy: 0.9625\nEpoch 48/100\n496932/496932 [==============================] - 54s 108us/step - loss: 0.1445 - accuracy: 0.9648 - val_loss: 0.1539 - val_accuracy: 0.9627\nEpoch 49/100\n496932/496932 [==============================] - 57s 114us/step - loss: 0.1444 - accuracy: 0.9648 - val_loss: 0.1520 - val_accuracy: 0.9628\nEpoch 50/100\n496932/496932 [==============================] - 53s 108us/step - loss: 0.1442 - accuracy: 0.9649 - val_loss: 0.1522 - val_accuracy: 0.9631\nEpoch 51/100\n496932/496932 [==============================] - 48s 97us/step - loss: 0.1442 - accuracy: 0.9648 - val_loss: 0.1620 - val_accuracy: 0.9595\nEpoch 52/100\n496932/496932 [==============================] - 55s 110us/step - loss: 0.1440 - accuracy: 0.9648 - val_loss: 0.1567 - val_accuracy: 0.9623\nEpoch 53/100\n496932/496932 [==============================] - 61s 124us/step - loss: 0.1439 - accuracy: 0.9648 - val_loss: 0.1534 - val_accuracy: 0.9626\nEpoch 54/100\n496932/496932 [==============================] - 52s 105us/step - loss: 0.1439 - accuracy: 0.9647 - val_loss: 0.1531 - val_accuracy: 0.9623\nEpoch 55/100\n496932/496932 [==============================] - 50s 101us/step - loss: 0.1436 - accuracy: 0.9649 - val_loss: 0.1547 - val_accuracy: 0.9618\nEpoch 56/100\n496932/496932 [==============================] - 50s 102us/step - loss: 0.1435 - accuracy: 0.9649 - val_loss: 0.1533 - val_accuracy: 0.9626\nEpoch 57/100\n496932/496932 [==============================] - 52s 105us/step - loss: 0.1434 - accuracy: 0.9650 - val_loss: 0.1527 - val_accuracy: 0.9625\nEpoch 58/100\n496932/496932 [==============================] - 49s 99us/step - loss: 0.1443 - accuracy: 0.9648 - val_loss: 0.1546 - val_accuracy: 0.9624\nEpoch 59/100\n496932/496932 [==============================] - 55s 110us/step - loss: 0.1438 - accuracy: 0.9648 - val_loss: 0.1526 - val_accuracy: 0.9629\nEpoch 60/100\n496932/496932 [==============================] - 53s 106us/step - loss: 0.1432 - accuracy: 0.9652 - val_loss: 0.1524 - val_accuracy: 0.9625\nEpoch 61/100\n496932/496932 [==============================] - 53s 107us/step - loss: 0.1430 - accuracy: 0.9651 - val_loss: 0.1527 - val_accuracy: 0.9626\nEpoch 62/100\n496932/496932 [==============================] - 63s 127us/step - loss: 0.1429 - accuracy: 0.9651 - val_loss: 0.1538 - val_accuracy: 0.9624\nEpoch 63/100\n496932/496932 [==============================] - 57s 115us/step - loss: 0.1427 - accuracy: 0.9652 - val_loss: 0.1527 - val_accuracy: 0.9629\nEpoch 64/100\n496932/496932 [==============================] - 56s 112us/step - loss: 0.1425 - accuracy: 0.9652 - val_loss: 0.1516 - val_accuracy: 0.9632\nEpoch 65/100\n496932/496932 [==============================] - 59s 118us/step - loss: 0.1426 - accuracy: 0.9651 - val_loss: 0.1591 - val_accuracy: 0.9612\nEpoch 66/100\n496932/496932 [==============================] - 74s 149us/step - loss: 0.1425 - accuracy: 0.9651 - val_loss: 0.1508 - val_accuracy: 0.9631\nEpoch 67/100\n496932/496932 [==============================] - 97s 195us/step - loss: 0.1423 - accuracy: 0.9652 - val_loss: 0.1544 - val_accuracy: 0.9629\nEpoch 68/100\n496932/496932 [==============================] - 99s 200us/step - loss: 0.1422 - accuracy: 0.9652 - val_loss: 0.1525 - val_accuracy: 0.9631\nEpoch 69/100\n496932/496932 [==============================] - 106s 213us/step - loss: 0.1422 - accuracy: 0.9652 - val_loss: 0.1515 - val_accuracy: 0.9630\nEpoch 70/100\n496932/496932 [==============================] - 82s 165us/step - loss: 0.1421 - accuracy: 0.9652 - val_loss: 0.1529 - val_accuracy: 0.9628\nEpoch 71/100\n496932/496932 [==============================] - 82s 164us/step - loss: 0.1420 - accuracy: 0.9652 - val_loss: 0.1519 - val_accuracy: 0.9632\nEpoch 72/100\n496932/496932 [==============================] - 103s 207us/step - loss: 0.1420 - accuracy: 0.9653 - val_loss: 0.1522 - val_accuracy: 0.9630\nEpoch 73/100\n496932/496932 [==============================] - 105s 211us/step - loss: 0.1420 - accuracy: 0.9651 - val_loss: 0.1570 - val_accuracy: 0.9614\nEpoch 74/100\n496932/496932 [==============================] - 148s 298us/step - loss: 0.1417 - accuracy: 0.9653 - val_loss: 0.1536 - val_accuracy: 0.9628\nEpoch 75/100\n496932/496932 [==============================] - 108s 217us/step - loss: 0.1416 - accuracy: 0.9653 - val_loss: 0.1538 - val_accuracy: 0.9625\nEpoch 76/100\n496932/496932 [==============================] - 75s 152us/step - loss: 0.1416 - accuracy: 0.9654 - val_loss: 0.1529 - val_accuracy: 0.9625\nEpoch 77/100\n496932/496932 [==============================] - 78s 158us/step - loss: 0.1414 - accuracy: 0.9655 - val_loss: 0.1551 - val_accuracy: 0.9623\nEpoch 78/100\n496932/496932 [==============================] - 88s 176us/step - loss: 0.1414 - accuracy: 0.9655 - val_loss: 0.1507 - val_accuracy: 0.9632\nEpoch 79/100\n496932/496932 [==============================] - 103s 208us/step - loss: 0.1413 - accuracy: 0.9654 - val_loss: 0.1543 - val_accuracy: 0.9628\nEpoch 80/100\n496932/496932 [==============================] - 83s 167us/step - loss: 0.1413 - accuracy: 0.9654 - val_loss: 0.1515 - val_accuracy: 0.9632\nEpoch 81/100\n496932/496932 [==============================] - 80s 160us/step - loss: 0.1410 - accuracy: 0.9656 - val_loss: 0.1522 - val_accuracy: 0.9630\nEpoch 82/100\n496932/496932 [==============================] - 80s 162us/step - loss: 0.1409 - accuracy: 0.9656 - val_loss: 0.1522 - val_accuracy: 0.9626\nEpoch 83/100\n496932/496932 [==============================] - 85s 172us/step - loss: 0.1411 - accuracy: 0.9655 - val_loss: 0.1536 - val_accuracy: 0.9631\nEpoch 84/100\n496932/496932 [==============================] - 75s 151us/step - loss: 0.1410 - accuracy: 0.9656 - val_loss: 0.1536 - val_accuracy: 0.9627\nEpoch 85/100\n496932/496932 [==============================] - 81s 162us/step - loss: 0.1409 - accuracy: 0.9656 - val_loss: 0.1528 - val_accuracy: 0.9631\nEpoch 86/100\n496932/496932 [==============================] - 74s 149us/step - loss: 0.1408 - accuracy: 0.9656 - val_loss: 0.1545 - val_accuracy: 0.9623\nEpoch 87/100\n496932/496932 [==============================] - 75s 151us/step - loss: 0.1409 - accuracy: 0.9655 - val_loss: 0.1517 - val_accuracy: 0.9631\nEpoch 88/100\n496932/496932 [==============================] - 76s 154us/step - loss: 0.1407 - accuracy: 0.9656 - val_loss: 0.1531 - val_accuracy: 0.9624\nEpoch 89/100\n496932/496932 [==============================] - 69s 138us/step - loss: 0.1406 - accuracy: 0.9657 - val_loss: 0.1528 - val_accuracy: 0.9626\nEpoch 90/100\n496932/496932 [==============================] - 73s 148us/step - loss: 0.1406 - accuracy: 0.9655 - val_loss: 0.1559 - val_accuracy: 0.9619\nEpoch 91/100\n496932/496932 [==============================] - 77s 155us/step - loss: 0.1403 - accuracy: 0.9658 - val_loss: 0.1511 - val_accuracy: 0.9633\nEpoch 92/100\n496932/496932 [==============================] - 69s 139us/step - loss: 0.1406 - accuracy: 0.9656 - val_loss: 0.1563 - val_accuracy: 0.9622\nEpoch 93/100\n496932/496932 [==============================] - 93s 187us/step - loss: 0.1404 - accuracy: 0.9657 - val_loss: 0.1520 - val_accuracy: 0.9628\nEpoch 94/100\n496932/496932 [==============================] - 82s 165us/step - loss: 0.1402 - accuracy: 0.9658 - val_loss: 0.1522 - val_accuracy: 0.9628\nEpoch 95/100\n496932/496932 [==============================] - 83s 166us/step - loss: 0.1403 - accuracy: 0.9656 - val_loss: 0.1518 - val_accuracy: 0.9630\nEpoch 96/100\n496932/496932 [==============================] - 82s 164us/step - loss: 0.1402 - accuracy: 0.9658 - val_loss: 0.1528 - val_accuracy: 0.9632\nEpoch 97/100\n496932/496932 [==============================] - 87s 174us/step - loss: 0.1402 - accuracy: 0.9658 - val_loss: 0.1511 - val_accuracy: 0.9633\nEpoch 98/100\n496932/496932 [==============================] - 78s 158us/step - loss: 0.1399 - accuracy: 0.9658 - val_loss: 0.1532 - val_accuracy: 0.9631\nEpoch 99/100\n496932/496932 [==============================] - 86s 173us/step - loss: 0.1400 - accuracy: 0.9658 - val_loss: 0.1515 - val_accuracy: 0.9637\nEpoch 100/100\n496932/496932 [==============================] - 81s 164us/step - loss: 0.1399 - accuracy: 0.9657 - val_loss: 0.1523 - val_accuracy: 0.9630\n"
    },
    {
     "output_type": "execute_result",
     "data": {
      "text/plain": "<keras.callbacks.callbacks.History at 0x1acba5f50>"
     },
     "metadata": {},
     "execution_count": 45
    }
   ],
   "source": [
    "#fitting model\n",
    "model.fit(x=X_train, y=y_train, batch_size=32, epochs=100, verbose=1, validation_data=(X_test, y_test))"
   ]
  },
  {
   "cell_type": "code",
   "execution_count": 52,
   "metadata": {},
   "outputs": [
    {
     "output_type": "execute_result",
     "data": {
      "text/plain": "<matplotlib.axes._subplots.AxesSubplot at 0x1685b0790>"
     },
     "metadata": {},
     "execution_count": 52
    },
    {
     "output_type": "execute_result",
     "data": {
      "text/plain": "(0.0, 1.0)"
     },
     "metadata": {},
     "execution_count": 52
    },
    {
     "output_type": "display_data",
     "data": {
      "text/plain": "<Figure size 720x720 with 1 Axes>",
      "image/svg+xml": "<?xml version=\"1.0\" encoding=\"utf-8\" standalone=\"no\"?>\n<!DOCTYPE svg PUBLIC \"-//W3C//DTD SVG 1.1//EN\"\n  \"http://www.w3.org/Graphics/SVG/1.1/DTD/svg11.dtd\">\n<!-- Created with matplotlib (https://matplotlib.org/) -->\n<svg height=\"578.477344pt\" version=\"1.1\" viewBox=\"0 0 595.303125 578.477344\" width=\"595.303125pt\" xmlns=\"http://www.w3.org/2000/svg\" xmlns:xlink=\"http://www.w3.org/1999/xlink\">\n <defs>\n  <style type=\"text/css\">\n*{stroke-linecap:butt;stroke-linejoin:round;}\n  </style>\n </defs>\n <g id=\"figure_1\">\n  <g id=\"patch_1\">\n   <path d=\"M -0 578.477344 \nL 595.303125 578.477344 \nL 595.303125 0 \nL -0 0 \nz\n\" style=\"fill:none;\"/>\n  </g>\n  <g id=\"axes_1\">\n   <g id=\"patch_2\">\n    <path d=\"M 30.103125 554.599219 \nL 588.103125 554.599219 \nL 588.103125 10.999219 \nL 30.103125 10.999219 \nz\n\" style=\"fill:#ffffff;\"/>\n   </g>\n   <g id=\"matplotlib.axis_1\">\n    <g id=\"xtick_1\">\n     <g id=\"line2d_1\">\n      <path clip-path=\"url(#p0a7af26f36)\" d=\"M 55.466761 554.599219 \nL 55.466761 10.999219 \n\" style=\"fill:none;stroke:#b0b0b0;stroke-linecap:square;stroke-width:0.8;\"/>\n     </g>\n     <g id=\"line2d_2\">\n      <defs>\n       <path d=\"M 0 0 \nL 0 3.5 \n\" id=\"m08f0551fe2\" style=\"stroke:#000000;stroke-width:0.8;\"/>\n      </defs>\n      <g>\n       <use style=\"stroke:#000000;stroke-width:0.8;\" x=\"55.466761\" xlink:href=\"#m08f0551fe2\" y=\"554.599219\"/>\n      </g>\n     </g>\n     <g id=\"text_1\">\n      <!-- 0 -->\n      <defs>\n       <path d=\"M 31.78125 66.40625 \nQ 24.171875 66.40625 20.328125 58.90625 \nQ 16.5 51.421875 16.5 36.375 \nQ 16.5 21.390625 20.328125 13.890625 \nQ 24.171875 6.390625 31.78125 6.390625 \nQ 39.453125 6.390625 43.28125 13.890625 \nQ 47.125 21.390625 47.125 36.375 \nQ 47.125 51.421875 43.28125 58.90625 \nQ 39.453125 66.40625 31.78125 66.40625 \nz\nM 31.78125 74.21875 \nQ 44.046875 74.21875 50.515625 64.515625 \nQ 56.984375 54.828125 56.984375 36.375 \nQ 56.984375 17.96875 50.515625 8.265625 \nQ 44.046875 -1.421875 31.78125 -1.421875 \nQ 19.53125 -1.421875 13.0625 8.265625 \nQ 6.59375 17.96875 6.59375 36.375 \nQ 6.59375 54.828125 13.0625 64.515625 \nQ 19.53125 74.21875 31.78125 74.21875 \nz\n\" id=\"DejaVuSans-48\"/>\n      </defs>\n      <g transform=\"translate(52.285511 569.197656)scale(0.1 -0.1)\">\n       <use xlink:href=\"#DejaVuSans-48\"/>\n      </g>\n     </g>\n    </g>\n    <g id=\"xtick_2\">\n     <g id=\"line2d_3\">\n      <path clip-path=\"url(#p0a7af26f36)\" d=\"M 157.9461 554.599219 \nL 157.9461 10.999219 \n\" style=\"fill:none;stroke:#b0b0b0;stroke-linecap:square;stroke-width:0.8;\"/>\n     </g>\n     <g id=\"line2d_4\">\n      <g>\n       <use style=\"stroke:#000000;stroke-width:0.8;\" x=\"157.9461\" xlink:href=\"#m08f0551fe2\" y=\"554.599219\"/>\n      </g>\n     </g>\n     <g id=\"text_2\">\n      <!-- 20 -->\n      <defs>\n       <path d=\"M 19.1875 8.296875 \nL 53.609375 8.296875 \nL 53.609375 0 \nL 7.328125 0 \nL 7.328125 8.296875 \nQ 12.9375 14.109375 22.625 23.890625 \nQ 32.328125 33.6875 34.8125 36.53125 \nQ 39.546875 41.84375 41.421875 45.53125 \nQ 43.3125 49.21875 43.3125 52.78125 \nQ 43.3125 58.59375 39.234375 62.25 \nQ 35.15625 65.921875 28.609375 65.921875 \nQ 23.96875 65.921875 18.8125 64.3125 \nQ 13.671875 62.703125 7.8125 59.421875 \nL 7.8125 69.390625 \nQ 13.765625 71.78125 18.9375 73 \nQ 24.125 74.21875 28.421875 74.21875 \nQ 39.75 74.21875 46.484375 68.546875 \nQ 53.21875 62.890625 53.21875 53.421875 \nQ 53.21875 48.921875 51.53125 44.890625 \nQ 49.859375 40.875 45.40625 35.40625 \nQ 44.1875 33.984375 37.640625 27.21875 \nQ 31.109375 20.453125 19.1875 8.296875 \nz\n\" id=\"DejaVuSans-50\"/>\n      </defs>\n      <g transform=\"translate(151.5836 569.197656)scale(0.1 -0.1)\">\n       <use xlink:href=\"#DejaVuSans-50\"/>\n       <use x=\"63.623047\" xlink:href=\"#DejaVuSans-48\"/>\n      </g>\n     </g>\n    </g>\n    <g id=\"xtick_3\">\n     <g id=\"line2d_5\">\n      <path clip-path=\"url(#p0a7af26f36)\" d=\"M 260.425439 554.599219 \nL 260.425439 10.999219 \n\" style=\"fill:none;stroke:#b0b0b0;stroke-linecap:square;stroke-width:0.8;\"/>\n     </g>\n     <g id=\"line2d_6\">\n      <g>\n       <use style=\"stroke:#000000;stroke-width:0.8;\" x=\"260.425439\" xlink:href=\"#m08f0551fe2\" y=\"554.599219\"/>\n      </g>\n     </g>\n     <g id=\"text_3\">\n      <!-- 40 -->\n      <defs>\n       <path d=\"M 37.796875 64.3125 \nL 12.890625 25.390625 \nL 37.796875 25.390625 \nz\nM 35.203125 72.90625 \nL 47.609375 72.90625 \nL 47.609375 25.390625 \nL 58.015625 25.390625 \nL 58.015625 17.1875 \nL 47.609375 17.1875 \nL 47.609375 0 \nL 37.796875 0 \nL 37.796875 17.1875 \nL 4.890625 17.1875 \nL 4.890625 26.703125 \nz\n\" id=\"DejaVuSans-52\"/>\n      </defs>\n      <g transform=\"translate(254.062939 569.197656)scale(0.1 -0.1)\">\n       <use xlink:href=\"#DejaVuSans-52\"/>\n       <use x=\"63.623047\" xlink:href=\"#DejaVuSans-48\"/>\n      </g>\n     </g>\n    </g>\n    <g id=\"xtick_4\">\n     <g id=\"line2d_7\">\n      <path clip-path=\"url(#p0a7af26f36)\" d=\"M 362.904778 554.599219 \nL 362.904778 10.999219 \n\" style=\"fill:none;stroke:#b0b0b0;stroke-linecap:square;stroke-width:0.8;\"/>\n     </g>\n     <g id=\"line2d_8\">\n      <g>\n       <use style=\"stroke:#000000;stroke-width:0.8;\" x=\"362.904778\" xlink:href=\"#m08f0551fe2\" y=\"554.599219\"/>\n      </g>\n     </g>\n     <g id=\"text_4\">\n      <!-- 60 -->\n      <defs>\n       <path d=\"M 33.015625 40.375 \nQ 26.375 40.375 22.484375 35.828125 \nQ 18.609375 31.296875 18.609375 23.390625 \nQ 18.609375 15.53125 22.484375 10.953125 \nQ 26.375 6.390625 33.015625 6.390625 \nQ 39.65625 6.390625 43.53125 10.953125 \nQ 47.40625 15.53125 47.40625 23.390625 \nQ 47.40625 31.296875 43.53125 35.828125 \nQ 39.65625 40.375 33.015625 40.375 \nz\nM 52.59375 71.296875 \nL 52.59375 62.3125 \nQ 48.875 64.0625 45.09375 64.984375 \nQ 41.3125 65.921875 37.59375 65.921875 \nQ 27.828125 65.921875 22.671875 59.328125 \nQ 17.53125 52.734375 16.796875 39.40625 \nQ 19.671875 43.65625 24.015625 45.921875 \nQ 28.375 48.1875 33.59375 48.1875 \nQ 44.578125 48.1875 50.953125 41.515625 \nQ 57.328125 34.859375 57.328125 23.390625 \nQ 57.328125 12.15625 50.6875 5.359375 \nQ 44.046875 -1.421875 33.015625 -1.421875 \nQ 20.359375 -1.421875 13.671875 8.265625 \nQ 6.984375 17.96875 6.984375 36.375 \nQ 6.984375 53.65625 15.1875 63.9375 \nQ 23.390625 74.21875 37.203125 74.21875 \nQ 40.921875 74.21875 44.703125 73.484375 \nQ 48.484375 72.75 52.59375 71.296875 \nz\n\" id=\"DejaVuSans-54\"/>\n      </defs>\n      <g transform=\"translate(356.542278 569.197656)scale(0.1 -0.1)\">\n       <use xlink:href=\"#DejaVuSans-54\"/>\n       <use x=\"63.623047\" xlink:href=\"#DejaVuSans-48\"/>\n      </g>\n     </g>\n    </g>\n    <g id=\"xtick_5\">\n     <g id=\"line2d_9\">\n      <path clip-path=\"url(#p0a7af26f36)\" d=\"M 465.384117 554.599219 \nL 465.384117 10.999219 \n\" style=\"fill:none;stroke:#b0b0b0;stroke-linecap:square;stroke-width:0.8;\"/>\n     </g>\n     <g id=\"line2d_10\">\n      <g>\n       <use style=\"stroke:#000000;stroke-width:0.8;\" x=\"465.384117\" xlink:href=\"#m08f0551fe2\" y=\"554.599219\"/>\n      </g>\n     </g>\n     <g id=\"text_5\">\n      <!-- 80 -->\n      <defs>\n       <path d=\"M 31.78125 34.625 \nQ 24.75 34.625 20.71875 30.859375 \nQ 16.703125 27.09375 16.703125 20.515625 \nQ 16.703125 13.921875 20.71875 10.15625 \nQ 24.75 6.390625 31.78125 6.390625 \nQ 38.8125 6.390625 42.859375 10.171875 \nQ 46.921875 13.96875 46.921875 20.515625 \nQ 46.921875 27.09375 42.890625 30.859375 \nQ 38.875 34.625 31.78125 34.625 \nz\nM 21.921875 38.8125 \nQ 15.578125 40.375 12.03125 44.71875 \nQ 8.5 49.078125 8.5 55.328125 \nQ 8.5 64.0625 14.71875 69.140625 \nQ 20.953125 74.21875 31.78125 74.21875 \nQ 42.671875 74.21875 48.875 69.140625 \nQ 55.078125 64.0625 55.078125 55.328125 \nQ 55.078125 49.078125 51.53125 44.71875 \nQ 48 40.375 41.703125 38.8125 \nQ 48.828125 37.15625 52.796875 32.3125 \nQ 56.78125 27.484375 56.78125 20.515625 \nQ 56.78125 9.90625 50.3125 4.234375 \nQ 43.84375 -1.421875 31.78125 -1.421875 \nQ 19.734375 -1.421875 13.25 4.234375 \nQ 6.78125 9.90625 6.78125 20.515625 \nQ 6.78125 27.484375 10.78125 32.3125 \nQ 14.796875 37.15625 21.921875 38.8125 \nz\nM 18.3125 54.390625 \nQ 18.3125 48.734375 21.84375 45.5625 \nQ 25.390625 42.390625 31.78125 42.390625 \nQ 38.140625 42.390625 41.71875 45.5625 \nQ 45.3125 48.734375 45.3125 54.390625 \nQ 45.3125 60.0625 41.71875 63.234375 \nQ 38.140625 66.40625 31.78125 66.40625 \nQ 25.390625 66.40625 21.84375 63.234375 \nQ 18.3125 60.0625 18.3125 54.390625 \nz\n\" id=\"DejaVuSans-56\"/>\n      </defs>\n      <g transform=\"translate(459.021617 569.197656)scale(0.1 -0.1)\">\n       <use xlink:href=\"#DejaVuSans-56\"/>\n       <use x=\"63.623047\" xlink:href=\"#DejaVuSans-48\"/>\n      </g>\n     </g>\n    </g>\n    <g id=\"xtick_6\">\n     <g id=\"line2d_11\">\n      <path clip-path=\"url(#p0a7af26f36)\" d=\"M 567.863456 554.599219 \nL 567.863456 10.999219 \n\" style=\"fill:none;stroke:#b0b0b0;stroke-linecap:square;stroke-width:0.8;\"/>\n     </g>\n     <g id=\"line2d_12\">\n      <g>\n       <use style=\"stroke:#000000;stroke-width:0.8;\" x=\"567.863456\" xlink:href=\"#m08f0551fe2\" y=\"554.599219\"/>\n      </g>\n     </g>\n     <g id=\"text_6\">\n      <!-- 100 -->\n      <defs>\n       <path d=\"M 12.40625 8.296875 \nL 28.515625 8.296875 \nL 28.515625 63.921875 \nL 10.984375 60.40625 \nL 10.984375 69.390625 \nL 28.421875 72.90625 \nL 38.28125 72.90625 \nL 38.28125 8.296875 \nL 54.390625 8.296875 \nL 54.390625 0 \nL 12.40625 0 \nz\n\" id=\"DejaVuSans-49\"/>\n      </defs>\n      <g transform=\"translate(558.319706 569.197656)scale(0.1 -0.1)\">\n       <use xlink:href=\"#DejaVuSans-49\"/>\n       <use x=\"63.623047\" xlink:href=\"#DejaVuSans-48\"/>\n       <use x=\"127.246094\" xlink:href=\"#DejaVuSans-48\"/>\n      </g>\n     </g>\n    </g>\n   </g>\n   <g id=\"matplotlib.axis_2\">\n    <g id=\"ytick_1\">\n     <g id=\"line2d_13\">\n      <path clip-path=\"url(#p0a7af26f36)\" d=\"M 30.103125 554.599219 \nL 588.103125 554.599219 \n\" style=\"fill:none;stroke:#b0b0b0;stroke-linecap:square;stroke-width:0.8;\"/>\n     </g>\n     <g id=\"line2d_14\">\n      <defs>\n       <path d=\"M 0 0 \nL -3.5 0 \n\" id=\"m6fa6966f3c\" style=\"stroke:#000000;stroke-width:0.8;\"/>\n      </defs>\n      <g>\n       <use style=\"stroke:#000000;stroke-width:0.8;\" x=\"30.103125\" xlink:href=\"#m6fa6966f3c\" y=\"554.599219\"/>\n      </g>\n     </g>\n     <g id=\"text_7\">\n      <!-- 0.0 -->\n      <defs>\n       <path d=\"M 10.6875 12.40625 \nL 21 12.40625 \nL 21 0 \nL 10.6875 0 \nz\n\" id=\"DejaVuSans-46\"/>\n      </defs>\n      <g transform=\"translate(7.2 558.398438)scale(0.1 -0.1)\">\n       <use xlink:href=\"#DejaVuSans-48\"/>\n       <use x=\"63.623047\" xlink:href=\"#DejaVuSans-46\"/>\n       <use x=\"95.410156\" xlink:href=\"#DejaVuSans-48\"/>\n      </g>\n     </g>\n    </g>\n    <g id=\"ytick_2\">\n     <g id=\"line2d_15\">\n      <path clip-path=\"url(#p0a7af26f36)\" d=\"M 30.103125 445.879219 \nL 588.103125 445.879219 \n\" style=\"fill:none;stroke:#b0b0b0;stroke-linecap:square;stroke-width:0.8;\"/>\n     </g>\n     <g id=\"line2d_16\">\n      <g>\n       <use style=\"stroke:#000000;stroke-width:0.8;\" x=\"30.103125\" xlink:href=\"#m6fa6966f3c\" y=\"445.879219\"/>\n      </g>\n     </g>\n     <g id=\"text_8\">\n      <!-- 0.2 -->\n      <g transform=\"translate(7.2 449.678438)scale(0.1 -0.1)\">\n       <use xlink:href=\"#DejaVuSans-48\"/>\n       <use x=\"63.623047\" xlink:href=\"#DejaVuSans-46\"/>\n       <use x=\"95.410156\" xlink:href=\"#DejaVuSans-50\"/>\n      </g>\n     </g>\n    </g>\n    <g id=\"ytick_3\">\n     <g id=\"line2d_17\">\n      <path clip-path=\"url(#p0a7af26f36)\" d=\"M 30.103125 337.159219 \nL 588.103125 337.159219 \n\" style=\"fill:none;stroke:#b0b0b0;stroke-linecap:square;stroke-width:0.8;\"/>\n     </g>\n     <g id=\"line2d_18\">\n      <g>\n       <use style=\"stroke:#000000;stroke-width:0.8;\" x=\"30.103125\" xlink:href=\"#m6fa6966f3c\" y=\"337.159219\"/>\n      </g>\n     </g>\n     <g id=\"text_9\">\n      <!-- 0.4 -->\n      <g transform=\"translate(7.2 340.958438)scale(0.1 -0.1)\">\n       <use xlink:href=\"#DejaVuSans-48\"/>\n       <use x=\"63.623047\" xlink:href=\"#DejaVuSans-46\"/>\n       <use x=\"95.410156\" xlink:href=\"#DejaVuSans-52\"/>\n      </g>\n     </g>\n    </g>\n    <g id=\"ytick_4\">\n     <g id=\"line2d_19\">\n      <path clip-path=\"url(#p0a7af26f36)\" d=\"M 30.103125 228.439219 \nL 588.103125 228.439219 \n\" style=\"fill:none;stroke:#b0b0b0;stroke-linecap:square;stroke-width:0.8;\"/>\n     </g>\n     <g id=\"line2d_20\">\n      <g>\n       <use style=\"stroke:#000000;stroke-width:0.8;\" x=\"30.103125\" xlink:href=\"#m6fa6966f3c\" y=\"228.439219\"/>\n      </g>\n     </g>\n     <g id=\"text_10\">\n      <!-- 0.6 -->\n      <g transform=\"translate(7.2 232.238437)scale(0.1 -0.1)\">\n       <use xlink:href=\"#DejaVuSans-48\"/>\n       <use x=\"63.623047\" xlink:href=\"#DejaVuSans-46\"/>\n       <use x=\"95.410156\" xlink:href=\"#DejaVuSans-54\"/>\n      </g>\n     </g>\n    </g>\n    <g id=\"ytick_5\">\n     <g id=\"line2d_21\">\n      <path clip-path=\"url(#p0a7af26f36)\" d=\"M 30.103125 119.719219 \nL 588.103125 119.719219 \n\" style=\"fill:none;stroke:#b0b0b0;stroke-linecap:square;stroke-width:0.8;\"/>\n     </g>\n     <g id=\"line2d_22\">\n      <g>\n       <use style=\"stroke:#000000;stroke-width:0.8;\" x=\"30.103125\" xlink:href=\"#m6fa6966f3c\" y=\"119.719219\"/>\n      </g>\n     </g>\n     <g id=\"text_11\">\n      <!-- 0.8 -->\n      <g transform=\"translate(7.2 123.518438)scale(0.1 -0.1)\">\n       <use xlink:href=\"#DejaVuSans-48\"/>\n       <use x=\"63.623047\" xlink:href=\"#DejaVuSans-46\"/>\n       <use x=\"95.410156\" xlink:href=\"#DejaVuSans-56\"/>\n      </g>\n     </g>\n    </g>\n    <g id=\"ytick_6\">\n     <g id=\"line2d_23\">\n      <path clip-path=\"url(#p0a7af26f36)\" d=\"M 30.103125 10.999219 \nL 588.103125 10.999219 \n\" style=\"fill:none;stroke:#b0b0b0;stroke-linecap:square;stroke-width:0.8;\"/>\n     </g>\n     <g id=\"line2d_24\">\n      <g>\n       <use style=\"stroke:#000000;stroke-width:0.8;\" x=\"30.103125\" xlink:href=\"#m6fa6966f3c\" y=\"10.999219\"/>\n      </g>\n     </g>\n     <g id=\"text_12\">\n      <!-- 1.0 -->\n      <g transform=\"translate(7.2 14.798438)scale(0.1 -0.1)\">\n       <use xlink:href=\"#DejaVuSans-49\"/>\n       <use x=\"63.623047\" xlink:href=\"#DejaVuSans-46\"/>\n       <use x=\"95.410156\" xlink:href=\"#DejaVuSans-48\"/>\n      </g>\n     </g>\n    </g>\n   </g>\n   <g id=\"line2d_25\">\n    <path clip-path=\"url(#p0a7af26f36)\" d=\"M 55.466761 440.643374 \nL 60.590728 451.426811 \nL 65.714695 457.359141 \nL 70.838662 459.665247 \nL 75.962629 463.3415 \nL 81.086596 464.079462 \nL 86.210563 465.246893 \nL 91.33453 463.956375 \nL 96.458497 465.084361 \nL 101.582464 467.3974 \nL 106.706431 467.81509 \nL 111.830398 467.081182 \nL 116.954365 454.786114 \nL 122.078332 468.936231 \nL 127.202299 468.108862 \nL 132.326265 466.748287 \nL 137.450232 468.127785 \nL 142.574199 468.763302 \nL 147.698166 469.709397 \nL 152.822133 469.453957 \nL 157.9461 468.15489 \nL 163.070067 469.795666 \nL 168.194034 468.269472 \nL 173.318001 469.43727 \nL 178.441968 470.102509 \nL 183.565935 470.566477 \nL 188.689902 469.359107 \nL 193.813869 470.638197 \nL 198.937836 468.08076 \nL 204.061803 471.114953 \nL 209.18577 470.51826 \nL 214.309737 470.525229 \nL 219.433704 470.034623 \nL 224.55767 470.058795 \nL 229.681637 465.563679 \nL 234.805604 470.345022 \nL 239.929571 470.500107 \nL 245.053538 469.609746 \nL 250.177505 470.338032 \nL 255.301472 471.297437 \nL 260.425439 471.764865 \nL 265.549406 471.716206 \nL 270.673373 468.336031 \nL 275.79734 469.216363 \nL 280.921307 471.70558 \nL 286.045274 470.918269 \nL 291.169241 471.209492 \nL 296.293208 470.927083 \nL 301.417175 471.986139 \nL 306.541142 471.869369 \nL 311.665108 466.512064 \nL 316.789075 469.416161 \nL 321.913042 471.210046 \nL 327.037009 471.372911 \nL 332.160976 470.51038 \nL 337.284943 471.250554 \nL 342.40891 471.575915 \nL 347.532877 470.569333 \nL 352.656844 471.646165 \nL 357.780811 471.764845 \nL 362.904778 471.607857 \nL 368.028745 470.983928 \nL 373.152712 471.611452 \nL 378.276679 472.19899 \nL 383.400646 468.097997 \nL 388.524613 472.607341 \nL 393.64858 470.691633 \nL 398.772546 471.680268 \nL 403.896513 472.268304 \nL 409.02048 471.506143 \nL 414.144447 472.04708 \nL 419.268414 471.873326 \nL 424.392381 469.278617 \nL 429.516348 471.126605 \nL 434.640315 470.968313 \nL 439.764282 471.500513 \nL 444.888249 470.308324 \nL 450.012216 472.654331 \nL 455.136183 470.708954 \nL 460.26015 472.25425 \nL 465.384117 471.87102 \nL 470.508084 471.887726 \nL 475.632051 471.106445 \nL 480.756018 471.09141 \nL 485.879985 471.545578 \nL 491.003951 470.615961 \nL 496.127918 472.153108 \nL 501.251885 471.351988 \nL 506.375852 471.542467 \nL 511.499819 469.839377 \nL 516.623786 472.46028 \nL 521.747753 469.651259 \nL 526.87172 471.956833 \nL 531.995687 471.886047 \nL 537.119654 472.102241 \nL 542.243621 471.520294 \nL 547.367588 472.473609 \nL 552.491555 471.295559 \nL 557.615522 472.247305 \nL 562.739489 471.821538 \n\" style=\"fill:none;stroke:#1f77b4;stroke-linecap:square;stroke-width:1.5;\"/>\n   </g>\n   <g id=\"line2d_26\">\n    <path clip-path=\"url(#p0a7af26f36)\" d=\"M 55.466761 35.362826 \nL 60.590728 33.962613 \nL 65.714695 33.787615 \nL 70.838662 33.72197 \nL 75.962629 32.929958 \nL 81.086596 32.654289 \nL 86.210563 32.641167 \nL 91.33453 32.916835 \nL 96.458497 32.636793 \nL 101.582464 32.221119 \nL 106.706431 32.155475 \nL 111.830398 32.501162 \nL 116.954365 37.043081 \nL 122.078332 31.822942 \nL 127.202299 31.888555 \nL 132.326265 32.1905 \nL 137.450232 31.836065 \nL 142.574199 31.86231 \nL 147.698166 31.739801 \nL 152.822133 31.818568 \nL 157.9461 32.229868 \nL 163.070067 31.713556 \nL 168.194034 32.085456 \nL 173.318001 31.704776 \nL 178.441968 31.551648 \nL 183.565935 31.455384 \nL 188.689902 32.032966 \nL 193.813869 31.310973 \nL 198.937836 32.076708 \nL 204.061803 31.394114 \nL 209.18577 31.310973 \nL 214.309737 31.472881 \nL 219.433704 31.520997 \nL 224.55767 31.827317 \nL 229.681637 33.153137 \nL 234.805604 31.630415 \nL 239.929571 31.455384 \nL 245.053538 31.766046 \nL 250.177505 31.704776 \nL 255.301472 31.547274 \nL 260.425439 31.267231 \nL 265.549406 31.310973 \nL 270.673373 31.612886 \nL 275.79734 32.186126 \nL 280.921307 31.149097 \nL 286.045274 31.665408 \nL 291.169241 31.398488 \nL 296.293208 31.29785 \nL 301.417175 31.201587 \nL 306.541142 31.061582 \nL 311.665108 33.017473 \nL 316.789075 31.512248 \nL 321.913042 31.332844 \nL 327.037009 31.512248 \nL 332.160976 31.739801 \nL 337.284943 31.328469 \nL 342.40891 31.363495 \nL 347.532877 31.415985 \nL 352.656844 31.179716 \nL 357.780811 31.398488 \nL 362.904778 31.319721 \nL 368.028745 31.415985 \nL 373.152712 31.170968 \nL 378.276679 31.00906 \nL 383.400646 32.107359 \nL 388.524613 31.044053 \nL 393.64858 31.192839 \nL 398.772546 31.074704 \nL 403.896513 31.105323 \nL 409.02048 31.245361 \nL 414.144447 31.00906 \nL 419.268414 31.118446 \nL 424.392381 31.989192 \nL 429.516348 31.223458 \nL 434.640315 31.359121 \nL 439.764282 31.394114 \nL 444.888249 31.516623 \nL 450.012216 31.000311 \nL 455.136183 31.201587 \nL 460.26015 31.017808 \nL 465.384117 31.109697 \nL 470.508084 31.332844 \nL 475.632051 31.074704 \nL 480.756018 31.29785 \nL 485.879985 31.03093 \nL 491.003951 31.472881 \nL 496.127918 31.039679 \nL 501.251885 31.464133 \nL 506.375852 31.315347 \nL 511.499819 31.700401 \nL 516.623786 30.930293 \nL 521.747753 31.547274 \nL 526.87172 31.223458 \nL 531.995687 31.245361 \nL 537.119654 31.105323 \nL 542.243621 31.000311 \nL 547.367588 30.974066 \nL 552.491555 31.065956 \nL 557.615522 30.742139 \nL 562.739489 31.127194 \n\" style=\"fill:none;stroke:#ff7f0e;stroke-linecap:square;stroke-width:1.5;\"/>\n   </g>\n   <g id=\"line2d_27\">\n    <path clip-path=\"url(#p0a7af26f36)\" d=\"M 55.466761 433.277285 \nL 60.590728 449.028162 \nL 65.714695 456.439362 \nL 70.838662 460.922399 \nL 75.962629 463.441313 \nL 81.086596 465.160786 \nL 86.210563 466.470221 \nL 91.33453 467.394758 \nL 96.458497 468.259229 \nL 101.582464 468.814998 \nL 106.706431 469.404212 \nL 111.830398 469.96616 \nL 116.954365 470.41958 \nL 122.078332 470.842208 \nL 127.202299 471.13214 \nL 132.326265 471.501779 \nL 137.450232 471.732208 \nL 142.574199 472.174165 \nL 147.698166 472.326689 \nL 152.822133 472.548291 \nL 157.9461 472.752217 \nL 163.070067 472.860903 \nL 168.194034 473.218624 \nL 173.318001 473.373177 \nL 178.441968 473.603707 \nL 183.565935 473.699222 \nL 188.689902 473.813687 \nL 193.813869 473.938798 \nL 198.937836 474.166641 \nL 204.061803 474.30092 \nL 209.18577 474.426859 \nL 214.309737 474.469411 \nL 219.433704 474.615533 \nL 224.55767 472.418455 \nL 229.681637 474.459459 \nL 234.805604 474.477969 \nL 239.929571 475.012066 \nL 245.053538 475.173054 \nL 250.177505 475.345265 \nL 255.301472 475.388111 \nL 260.425439 475.471066 \nL 265.549406 475.498608 \nL 270.673373 475.687947 \nL 275.79734 475.690312 \nL 280.921307 475.647846 \nL 286.045274 475.935066 \nL 291.169241 475.986058 \nL 296.293208 476.040106 \nL 301.417175 476.083525 \nL 306.541142 476.229679 \nL 311.665108 476.188157 \nL 316.789075 476.334219 \nL 321.913042 476.380188 \nL 327.037009 476.399694 \nL 332.160976 476.512485 \nL 337.284943 476.58676 \nL 342.40891 476.66111 \nL 347.532877 476.171136 \nL 352.656844 476.43063 \nL 357.780811 476.750364 \nL 362.904778 476.855832 \nL 368.028745 476.938825 \nL 373.152712 477.009669 \nL 378.276679 477.118172 \nL 383.400646 477.071388 \nL 388.524613 477.132054 \nL 393.64858 477.244374 \nL 398.772546 477.284613 \nL 403.896513 477.295985 \nL 409.02048 477.355352 \nL 414.144447 477.431998 \nL 419.268414 477.391503 \nL 424.392381 477.400452 \nL 429.516348 477.550909 \nL 434.640315 477.628387 \nL 439.764282 477.602401 \nL 444.888249 477.730302 \nL 450.012216 477.722934 \nL 455.136183 477.807129 \nL 460.26015 477.802971 \nL 465.384117 477.962246 \nL 470.508084 477.985478 \nL 475.632051 477.900093 \nL 480.756018 477.964085 \nL 485.879985 477.9931 \nL 491.003951 478.05067 \nL 496.127918 478.000668 \nL 501.251885 478.089026 \nL 506.375852 478.167168 \nL 511.499819 478.160272 \nL 516.623786 478.321904 \nL 521.747753 478.183141 \nL 526.87172 478.289081 \nL 531.995687 478.382255 \nL 537.119654 478.316549 \nL 542.243621 478.388447 \nL 547.367588 478.374965 \nL 552.491555 478.560049 \nL 557.615522 478.482169 \nL 562.739489 478.562135 \n\" style=\"fill:none;stroke:#2ca02c;stroke-linecap:square;stroke-width:1.5;\"/>\n   </g>\n   <g id=\"line2d_28\">\n    <path clip-path=\"url(#p0a7af26f36)\" d=\"M 55.466761 36.466601 \nL 60.590728 34.564269 \nL 65.714695 33.751487 \nL 70.838662 33.089695 \nL 75.962629 32.710084 \nL 81.086596 32.450843 \nL 86.210563 32.256113 \nL 91.33453 32.072334 \nL 96.458497 31.919206 \nL 101.582464 31.801039 \nL 106.706431 31.64681 \nL 111.830398 31.500228 \nL 116.954365 31.418188 \nL 122.078332 31.435685 \nL 127.202299 31.420359 \nL 132.326265 31.190635 \nL 137.450232 31.127194 \nL 142.574199 31.145792 \nL 147.698166 31.063753 \nL 152.822133 31.005787 \nL 157.9461 30.930293 \nL 163.070067 30.848253 \nL 168.194034 30.852627 \nL 173.318001 30.79356 \nL 178.441968 30.653555 \nL 183.565935 30.812158 \nL 188.689902 30.774962 \nL 193.813869 30.755262 \nL 198.937836 30.696195 \nL 204.061803 30.604305 \nL 209.18577 30.618529 \nL 214.309737 30.613053 \nL 219.433704 30.590081 \nL 224.55767 31.258483 \nL 229.681637 30.561665 \nL 234.805604 30.6798 \nL 239.929571 30.419457 \nL 245.053538 30.440226 \nL 250.177505 30.363662 \nL 255.301472 30.395383 \nL 260.425439 30.346166 \nL 265.549406 30.406302 \nL 270.673373 30.20723 \nL 275.79734 30.223625 \nL 280.921307 30.290371 \nL 286.045274 30.224726 \nL 291.169241 30.202856 \nL 296.293208 30.160184 \nL 301.417175 30.117511 \nL 306.541142 30.06392 \nL 311.665108 30.122987 \nL 316.789075 30.109865 \nL 321.913042 30.155809 \nL 327.037009 30.202856 \nL 332.160976 30.070497 \nL 337.284943 30.084721 \nL 342.40891 30.024553 \nL 347.532877 30.153606 \nL 352.656844 30.150334 \nL 357.780811 29.926086 \nL 362.904778 29.984051 \nL 368.028745 29.964384 \nL 373.152712 29.938106 \nL 378.276679 29.939208 \nL 383.400646 29.974234 \nL 388.524613 29.958908 \nL 393.64858 29.93046 \nL 398.772546 29.915134 \nL 403.896513 29.939208 \nL 409.02048 29.931561 \nL 414.144447 29.91076 \nL 419.268414 29.886718 \nL 424.392381 29.967656 \nL 429.516348 29.845148 \nL 434.640315 29.842945 \nL 439.764282 29.801374 \nL 444.888249 29.74451 \nL 450.012216 29.731388 \nL 455.136183 29.800305 \nL 460.26015 29.823245 \nL 465.384117 29.676662 \nL 470.508084 29.716062 \nL 475.632051 29.758734 \nL 480.756018 29.708415 \nL 485.879985 29.72481 \nL 491.003951 29.686512 \nL 496.127918 29.73466 \nL 501.251885 29.709484 \nL 506.375852 29.659166 \nL 511.499819 29.729184 \nL 516.623786 29.594623 \nL 521.747753 29.699635 \nL 526.87172 29.640567 \nL 531.995687 29.564004 \nL 537.119654 29.677764 \nL 542.243621 29.582602 \nL 547.367588 29.590248 \nL 552.491555 29.568378 \nL 557.615522 29.594623 \nL 562.739489 29.650417 \n\" style=\"fill:none;stroke:#d62728;stroke-linecap:square;stroke-width:1.5;\"/>\n   </g>\n   <g id=\"patch_3\">\n    <path d=\"M 30.103125 554.599219 \nL 30.103125 10.999219 \n\" style=\"fill:none;stroke:#000000;stroke-linecap:square;stroke-linejoin:miter;stroke-width:0.8;\"/>\n   </g>\n   <g id=\"patch_4\">\n    <path d=\"M 588.103125 554.599219 \nL 588.103125 10.999219 \n\" style=\"fill:none;stroke:#000000;stroke-linecap:square;stroke-linejoin:miter;stroke-width:0.8;\"/>\n   </g>\n   <g id=\"patch_5\">\n    <path d=\"M 30.103125 554.599219 \nL 588.103125 554.599219 \n\" style=\"fill:none;stroke:#000000;stroke-linecap:square;stroke-linejoin:miter;stroke-width:0.8;\"/>\n   </g>\n   <g id=\"patch_6\">\n    <path d=\"M 30.103125 10.999219 \nL 588.103125 10.999219 \n\" style=\"fill:none;stroke:#000000;stroke-linecap:square;stroke-linejoin:miter;stroke-width:0.8;\"/>\n   </g>\n   <g id=\"legend_1\">\n    <g id=\"patch_7\">\n     <path d=\"M 37.103125 549.599219 \nL 134.046875 549.599219 \nQ 136.046875 549.599219 136.046875 547.599219 \nL 136.046875 489.330469 \nQ 136.046875 487.330469 134.046875 487.330469 \nL 37.103125 487.330469 \nQ 35.103125 487.330469 35.103125 489.330469 \nL 35.103125 547.599219 \nQ 35.103125 549.599219 37.103125 549.599219 \nz\n\" style=\"fill:#ffffff;opacity:0.8;stroke:#cccccc;stroke-linejoin:miter;\"/>\n    </g>\n    <g id=\"line2d_29\">\n     <path d=\"M 39.103125 495.428906 \nL 59.103125 495.428906 \n\" style=\"fill:none;stroke:#1f77b4;stroke-linecap:square;stroke-width:1.5;\"/>\n    </g>\n    <g id=\"line2d_30\"/>\n    <g id=\"text_13\">\n     <!-- val_loss -->\n     <defs>\n      <path d=\"M 2.984375 54.6875 \nL 12.5 54.6875 \nL 29.59375 8.796875 \nL 46.6875 54.6875 \nL 56.203125 54.6875 \nL 35.6875 0 \nL 23.484375 0 \nz\n\" id=\"DejaVuSans-118\"/>\n      <path d=\"M 34.28125 27.484375 \nQ 23.390625 27.484375 19.1875 25 \nQ 14.984375 22.515625 14.984375 16.5 \nQ 14.984375 11.71875 18.140625 8.90625 \nQ 21.296875 6.109375 26.703125 6.109375 \nQ 34.1875 6.109375 38.703125 11.40625 \nQ 43.21875 16.703125 43.21875 25.484375 \nL 43.21875 27.484375 \nz\nM 52.203125 31.203125 \nL 52.203125 0 \nL 43.21875 0 \nL 43.21875 8.296875 \nQ 40.140625 3.328125 35.546875 0.953125 \nQ 30.953125 -1.421875 24.3125 -1.421875 \nQ 15.921875 -1.421875 10.953125 3.296875 \nQ 6 8.015625 6 15.921875 \nQ 6 25.140625 12.171875 29.828125 \nQ 18.359375 34.515625 30.609375 34.515625 \nL 43.21875 34.515625 \nL 43.21875 35.40625 \nQ 43.21875 41.609375 39.140625 45 \nQ 35.0625 48.390625 27.6875 48.390625 \nQ 23 48.390625 18.546875 47.265625 \nQ 14.109375 46.140625 10.015625 43.890625 \nL 10.015625 52.203125 \nQ 14.9375 54.109375 19.578125 55.046875 \nQ 24.21875 56 28.609375 56 \nQ 40.484375 56 46.34375 49.84375 \nQ 52.203125 43.703125 52.203125 31.203125 \nz\n\" id=\"DejaVuSans-97\"/>\n      <path d=\"M 9.421875 75.984375 \nL 18.40625 75.984375 \nL 18.40625 0 \nL 9.421875 0 \nz\n\" id=\"DejaVuSans-108\"/>\n      <path d=\"M 50.984375 -16.609375 \nL 50.984375 -23.578125 \nL -0.984375 -23.578125 \nL -0.984375 -16.609375 \nz\n\" id=\"DejaVuSans-95\"/>\n      <path d=\"M 30.609375 48.390625 \nQ 23.390625 48.390625 19.1875 42.75 \nQ 14.984375 37.109375 14.984375 27.296875 \nQ 14.984375 17.484375 19.15625 11.84375 \nQ 23.34375 6.203125 30.609375 6.203125 \nQ 37.796875 6.203125 41.984375 11.859375 \nQ 46.1875 17.53125 46.1875 27.296875 \nQ 46.1875 37.015625 41.984375 42.703125 \nQ 37.796875 48.390625 30.609375 48.390625 \nz\nM 30.609375 56 \nQ 42.328125 56 49.015625 48.375 \nQ 55.71875 40.765625 55.71875 27.296875 \nQ 55.71875 13.875 49.015625 6.21875 \nQ 42.328125 -1.421875 30.609375 -1.421875 \nQ 18.84375 -1.421875 12.171875 6.21875 \nQ 5.515625 13.875 5.515625 27.296875 \nQ 5.515625 40.765625 12.171875 48.375 \nQ 18.84375 56 30.609375 56 \nz\n\" id=\"DejaVuSans-111\"/>\n      <path d=\"M 44.28125 53.078125 \nL 44.28125 44.578125 \nQ 40.484375 46.53125 36.375 47.5 \nQ 32.28125 48.484375 27.875 48.484375 \nQ 21.1875 48.484375 17.84375 46.4375 \nQ 14.5 44.390625 14.5 40.28125 \nQ 14.5 37.15625 16.890625 35.375 \nQ 19.28125 33.59375 26.515625 31.984375 \nL 29.59375 31.296875 \nQ 39.15625 29.25 43.1875 25.515625 \nQ 47.21875 21.78125 47.21875 15.09375 \nQ 47.21875 7.46875 41.1875 3.015625 \nQ 35.15625 -1.421875 24.609375 -1.421875 \nQ 20.21875 -1.421875 15.453125 -0.5625 \nQ 10.6875 0.296875 5.421875 2 \nL 5.421875 11.28125 \nQ 10.40625 8.6875 15.234375 7.390625 \nQ 20.0625 6.109375 24.8125 6.109375 \nQ 31.15625 6.109375 34.5625 8.28125 \nQ 37.984375 10.453125 37.984375 14.40625 \nQ 37.984375 18.0625 35.515625 20.015625 \nQ 33.0625 21.96875 24.703125 23.78125 \nL 21.578125 24.515625 \nQ 13.234375 26.265625 9.515625 29.90625 \nQ 5.8125 33.546875 5.8125 39.890625 \nQ 5.8125 47.609375 11.28125 51.796875 \nQ 16.75 56 26.8125 56 \nQ 31.78125 56 36.171875 55.265625 \nQ 40.578125 54.546875 44.28125 53.078125 \nz\n\" id=\"DejaVuSans-115\"/>\n     </defs>\n     <g transform=\"translate(67.103125 498.928906)scale(0.1 -0.1)\">\n      <use xlink:href=\"#DejaVuSans-118\"/>\n      <use x=\"59.179688\" xlink:href=\"#DejaVuSans-97\"/>\n      <use x=\"120.458984\" xlink:href=\"#DejaVuSans-108\"/>\n      <use x=\"148.242188\" xlink:href=\"#DejaVuSans-95\"/>\n      <use x=\"198.242188\" xlink:href=\"#DejaVuSans-108\"/>\n      <use x=\"226.025391\" xlink:href=\"#DejaVuSans-111\"/>\n      <use x=\"287.207031\" xlink:href=\"#DejaVuSans-115\"/>\n      <use x=\"339.306641\" xlink:href=\"#DejaVuSans-115\"/>\n     </g>\n    </g>\n    <g id=\"line2d_31\">\n     <path d=\"M 39.103125 510.385156 \nL 59.103125 510.385156 \n\" style=\"fill:none;stroke:#ff7f0e;stroke-linecap:square;stroke-width:1.5;\"/>\n    </g>\n    <g id=\"line2d_32\"/>\n    <g id=\"text_14\">\n     <!-- val_accuracy -->\n     <defs>\n      <path d=\"M 48.78125 52.59375 \nL 48.78125 44.1875 \nQ 44.96875 46.296875 41.140625 47.34375 \nQ 37.3125 48.390625 33.40625 48.390625 \nQ 24.65625 48.390625 19.8125 42.84375 \nQ 14.984375 37.3125 14.984375 27.296875 \nQ 14.984375 17.28125 19.8125 11.734375 \nQ 24.65625 6.203125 33.40625 6.203125 \nQ 37.3125 6.203125 41.140625 7.25 \nQ 44.96875 8.296875 48.78125 10.40625 \nL 48.78125 2.09375 \nQ 45.015625 0.34375 40.984375 -0.53125 \nQ 36.96875 -1.421875 32.421875 -1.421875 \nQ 20.0625 -1.421875 12.78125 6.34375 \nQ 5.515625 14.109375 5.515625 27.296875 \nQ 5.515625 40.671875 12.859375 48.328125 \nQ 20.21875 56 33.015625 56 \nQ 37.15625 56 41.109375 55.140625 \nQ 45.0625 54.296875 48.78125 52.59375 \nz\n\" id=\"DejaVuSans-99\"/>\n      <path d=\"M 8.5 21.578125 \nL 8.5 54.6875 \nL 17.484375 54.6875 \nL 17.484375 21.921875 \nQ 17.484375 14.15625 20.5 10.265625 \nQ 23.53125 6.390625 29.59375 6.390625 \nQ 36.859375 6.390625 41.078125 11.03125 \nQ 45.3125 15.671875 45.3125 23.6875 \nL 45.3125 54.6875 \nL 54.296875 54.6875 \nL 54.296875 0 \nL 45.3125 0 \nL 45.3125 8.40625 \nQ 42.046875 3.421875 37.71875 1 \nQ 33.40625 -1.421875 27.6875 -1.421875 \nQ 18.265625 -1.421875 13.375 4.4375 \nQ 8.5 10.296875 8.5 21.578125 \nz\nM 31.109375 56 \nz\n\" id=\"DejaVuSans-117\"/>\n      <path d=\"M 41.109375 46.296875 \nQ 39.59375 47.171875 37.8125 47.578125 \nQ 36.03125 48 33.890625 48 \nQ 26.265625 48 22.1875 43.046875 \nQ 18.109375 38.09375 18.109375 28.8125 \nL 18.109375 0 \nL 9.078125 0 \nL 9.078125 54.6875 \nL 18.109375 54.6875 \nL 18.109375 46.1875 \nQ 20.953125 51.171875 25.484375 53.578125 \nQ 30.03125 56 36.53125 56 \nQ 37.453125 56 38.578125 55.875 \nQ 39.703125 55.765625 41.0625 55.515625 \nz\n\" id=\"DejaVuSans-114\"/>\n      <path d=\"M 32.171875 -5.078125 \nQ 28.375 -14.84375 24.75 -17.8125 \nQ 21.140625 -20.796875 15.09375 -20.796875 \nL 7.90625 -20.796875 \nL 7.90625 -13.28125 \nL 13.1875 -13.28125 \nQ 16.890625 -13.28125 18.9375 -11.515625 \nQ 21 -9.765625 23.484375 -3.21875 \nL 25.09375 0.875 \nL 2.984375 54.6875 \nL 12.5 54.6875 \nL 29.59375 11.921875 \nL 46.6875 54.6875 \nL 56.203125 54.6875 \nz\n\" id=\"DejaVuSans-121\"/>\n     </defs>\n     <g transform=\"translate(67.103125 513.885156)scale(0.1 -0.1)\">\n      <use xlink:href=\"#DejaVuSans-118\"/>\n      <use x=\"59.179688\" xlink:href=\"#DejaVuSans-97\"/>\n      <use x=\"120.458984\" xlink:href=\"#DejaVuSans-108\"/>\n      <use x=\"148.242188\" xlink:href=\"#DejaVuSans-95\"/>\n      <use x=\"198.242188\" xlink:href=\"#DejaVuSans-97\"/>\n      <use x=\"259.521484\" xlink:href=\"#DejaVuSans-99\"/>\n      <use x=\"314.501953\" xlink:href=\"#DejaVuSans-99\"/>\n      <use x=\"369.482422\" xlink:href=\"#DejaVuSans-117\"/>\n      <use x=\"432.861328\" xlink:href=\"#DejaVuSans-114\"/>\n      <use x=\"473.974609\" xlink:href=\"#DejaVuSans-97\"/>\n      <use x=\"535.253906\" xlink:href=\"#DejaVuSans-99\"/>\n      <use x=\"590.234375\" xlink:href=\"#DejaVuSans-121\"/>\n     </g>\n    </g>\n    <g id=\"line2d_33\">\n     <path d=\"M 39.103125 525.341406 \nL 59.103125 525.341406 \n\" style=\"fill:none;stroke:#2ca02c;stroke-linecap:square;stroke-width:1.5;\"/>\n    </g>\n    <g id=\"line2d_34\"/>\n    <g id=\"text_15\">\n     <!-- loss -->\n     <g transform=\"translate(67.103125 528.841406)scale(0.1 -0.1)\">\n      <use xlink:href=\"#DejaVuSans-108\"/>\n      <use x=\"27.783203\" xlink:href=\"#DejaVuSans-111\"/>\n      <use x=\"88.964844\" xlink:href=\"#DejaVuSans-115\"/>\n      <use x=\"141.064453\" xlink:href=\"#DejaVuSans-115\"/>\n     </g>\n    </g>\n    <g id=\"line2d_35\">\n     <path d=\"M 39.103125 540.019531 \nL 59.103125 540.019531 \n\" style=\"fill:none;stroke:#d62728;stroke-linecap:square;stroke-width:1.5;\"/>\n    </g>\n    <g id=\"line2d_36\"/>\n    <g id=\"text_16\">\n     <!-- accuracy -->\n     <g transform=\"translate(67.103125 543.519531)scale(0.1 -0.1)\">\n      <use xlink:href=\"#DejaVuSans-97\"/>\n      <use x=\"61.279297\" xlink:href=\"#DejaVuSans-99\"/>\n      <use x=\"116.259766\" xlink:href=\"#DejaVuSans-99\"/>\n      <use x=\"171.240234\" xlink:href=\"#DejaVuSans-117\"/>\n      <use x=\"234.619141\" xlink:href=\"#DejaVuSans-114\"/>\n      <use x=\"275.732422\" xlink:href=\"#DejaVuSans-97\"/>\n      <use x=\"337.011719\" xlink:href=\"#DejaVuSans-99\"/>\n      <use x=\"391.992188\" xlink:href=\"#DejaVuSans-121\"/>\n     </g>\n    </g>\n   </g>\n  </g>\n </g>\n <defs>\n  <clipPath id=\"p0a7af26f36\">\n   <rect height=\"543.6\" width=\"558\" x=\"30.103125\" y=\"10.999219\"/>\n  </clipPath>\n </defs>\n</svg>\n",
      "image/png": "[encoded data removed]"
     },
     "metadata": {
      "needs_background": "light"
     }
    }
   ],
   "source": [
    "pd.DataFrame(model.history.history).plot(figsize=(10, 10))\n",
    "plt.grid(True)\n",
    "plt.gca().set_ylim(0, 1)\n",
    "plt.show()"
   ]
  },
  {
   "cell_type": "code",
   "execution_count": 54,
   "metadata": {},
   "outputs": [
    {
     "output_type": "stream",
     "name": "stdout",
     "text": "124233/124233 [==============================] - 7s 58us/step\n"
    }
   ],
   "source": [
    "accuracy_score = model.evaluate(X_test, y_test)"
   ]
  },
  {
   "cell_type": "code",
   "execution_count": 56,
   "metadata": {},
   "outputs": [],
   "source": [
    "model.save(\"../model/simple_neural_net.h5\")"
   ]
  },
  {
   "cell_type": "code",
   "execution_count": 83,
   "metadata": {},
   "outputs": [],
   "source": [
    "test_data = pd.read_csv('../input/test.csv')"
   ]
  },
  {
   "cell_type": "code",
   "execution_count": 58,
   "metadata": {},
   "outputs": [
    {
     "output_type": "execute_result",
     "data": {
      "text/plain": "  cust_id  loan_amnt  ...  verification_status_1  verification_status_2\n0      B1      12400  ...                      0                      1\n1      B2       8000  ...                      0                      1\n2      B3      15000  ...                      1                      0\n3      B4       8500  ...                      0                      0\n4      B5      17600  ...                      1                      0\n\n[5 rows x 80 columns]",
      "text/html": "<div>\n<style scoped>\n    .dataframe tbody tr th:only-of-type {\n        vertical-align: middle;\n    }\n\n    .dataframe tbody tr th {\n        vertical-align: top;\n    }\n\n    .dataframe thead th {\n        text-align: right;\n    }\n</style>\n<table border=\"1\" class=\"dataframe\">\n  <thead>\n    <tr style=\"text-align: right;\">\n      <th></th>\n      <th>cust_id</th>\n      <th>loan_amnt</th>\n      <th>funded_amnt</th>\n      <th>funded_amnt_inv</th>\n      <th>int_rate</th>\n      <th>installment</th>\n      <th>annual_inc</th>\n      <th>dti</th>\n      <th>delinq_2yrs</th>\n      <th>inq_last_6mths</th>\n      <th>open_acc</th>\n      <th>pub_rec</th>\n      <th>revol_bal</th>\n      <th>revol_util</th>\n      <th>total_acc</th>\n      <th>out_prncp</th>\n      <th>out_prncp_inv</th>\n      <th>total_pymnt</th>\n      <th>total_pymnt_inv</th>\n      <th>total_rec_prncp</th>\n      <th>total_rec_int</th>\n      <th>total_rec_late_fee</th>\n      <th>recoveries</th>\n      <th>collection_recovery_fee</th>\n      <th>last_pymnt_amnt</th>\n      <th>collections_12_mths_ex_med</th>\n      <th>policy_code</th>\n      <th>acc_now_delinq</th>\n      <th>tot_coll_amt</th>\n      <th>tot_cur_bal</th>\n      <th>application_type_0</th>\n      <th>application_type_1</th>\n      <th>emp_length_0</th>\n      <th>emp_length_1</th>\n      <th>emp_length_2</th>\n      <th>emp_length_3</th>\n      <th>emp_length_4</th>\n      <th>emp_length_5</th>\n      <th>emp_length_6</th>\n      <th>emp_length_7</th>\n      <th>emp_length_8</th>\n      <th>emp_length_9</th>\n      <th>emp_length_10</th>\n      <th>emp_length_11</th>\n      <th>grade_0</th>\n      <th>grade_1</th>\n      <th>grade_2</th>\n      <th>grade_3</th>\n      <th>grade_4</th>\n      <th>grade_5</th>\n      <th>grade_6</th>\n      <th>home_ownership_0</th>\n      <th>home_ownership_1</th>\n      <th>home_ownership_2</th>\n      <th>home_ownership_3</th>\n      <th>home_ownership_4</th>\n      <th>home_ownership_5</th>\n      <th>initial_list_status_0</th>\n      <th>initial_list_status_1</th>\n      <th>purpose_0</th>\n      <th>purpose_1</th>\n      <th>purpose_2</th>\n      <th>purpose_3</th>\n      <th>purpose_4</th>\n      <th>purpose_5</th>\n      <th>purpose_6</th>\n      <th>purpose_7</th>\n      <th>purpose_8</th>\n      <th>purpose_9</th>\n      <th>purpose_10</th>\n      <th>purpose_11</th>\n      <th>purpose_12</th>\n      <th>purpose_13</th>\n      <th>pymnt_plan_0</th>\n      <th>pymnt_plan_1</th>\n      <th>term_0</th>\n      <th>term_1</th>\n      <th>verification_status_0</th>\n      <th>verification_status_1</th>\n      <th>verification_status_2</th>\n    </tr>\n  </thead>\n  <tbody>\n    <tr>\n      <th>0</th>\n      <td>B1</td>\n      <td>12400</td>\n      <td>12400</td>\n      <td>12400.0</td>\n      <td>13.05</td>\n      <td>418.11</td>\n      <td>80460.0</td>\n      <td>10.17</td>\n      <td>0.0</td>\n      <td>0.0</td>\n      <td>12.0</td>\n      <td>0.0</td>\n      <td>14571</td>\n      <td>84.2</td>\n      <td>26.0</td>\n      <td>0.00</td>\n      <td>0.00</td>\n      <td>14647.02496</td>\n      <td>14647.02</td>\n      <td>12400.00</td>\n      <td>2247.02</td>\n      <td>0.0</td>\n      <td>0.0</td>\n      <td>0.0</td>\n      <td>5869.16</td>\n      <td>0.0</td>\n      <td>1</td>\n      <td>0.0</td>\n      <td>0.0</td>\n      <td>493360.0</td>\n      <td>1</td>\n      <td>0</td>\n      <td>0</td>\n      <td>0</td>\n      <td>0</td>\n      <td>0</td>\n      <td>0</td>\n      <td>0</td>\n      <td>0</td>\n      <td>1</td>\n      <td>0</td>\n      <td>0</td>\n      <td>0</td>\n      <td>0</td>\n      <td>0</td>\n      <td>1</td>\n      <td>0</td>\n      <td>0</td>\n      <td>0</td>\n      <td>0</td>\n      <td>0</td>\n      <td>0</td>\n      <td>1</td>\n      <td>0</td>\n      <td>0</td>\n      <td>0</td>\n      <td>0</td>\n      <td>1</td>\n      <td>0</td>\n      <td>0</td>\n      <td>0</td>\n      <td>1</td>\n      <td>0</td>\n      <td>0</td>\n      <td>0</td>\n      <td>0</td>\n      <td>0</td>\n      <td>0</td>\n      <td>0</td>\n      <td>0</td>\n      <td>0</td>\n      <td>0</td>\n      <td>0</td>\n      <td>1</td>\n      <td>0</td>\n      <td>1</td>\n      <td>0</td>\n      <td>0</td>\n      <td>0</td>\n      <td>1</td>\n    </tr>\n    <tr>\n      <th>1</th>\n      <td>B2</td>\n      <td>8000</td>\n      <td>8000</td>\n      <td>8000.0</td>\n      <td>10.99</td>\n      <td>261.88</td>\n      <td>265000.0</td>\n      <td>2.28</td>\n      <td>0.0</td>\n      <td>0.0</td>\n      <td>2.0</td>\n      <td>0.0</td>\n      <td>24553</td>\n      <td>98.2</td>\n      <td>10.0</td>\n      <td>4105.06</td>\n      <td>4105.06</td>\n      <td>4975.72000</td>\n      <td>4975.72</td>\n      <td>3894.94</td>\n      <td>1080.78</td>\n      <td>0.0</td>\n      <td>0.0</td>\n      <td>0.0</td>\n      <td>261.88</td>\n      <td>0.0</td>\n      <td>1</td>\n      <td>0.0</td>\n      <td>0.0</td>\n      <td>927890.0</td>\n      <td>1</td>\n      <td>0</td>\n      <td>0</td>\n      <td>1</td>\n      <td>0</td>\n      <td>0</td>\n      <td>0</td>\n      <td>0</td>\n      <td>0</td>\n      <td>0</td>\n      <td>0</td>\n      <td>0</td>\n      <td>0</td>\n      <td>0</td>\n      <td>0</td>\n      <td>1</td>\n      <td>0</td>\n      <td>0</td>\n      <td>0</td>\n      <td>0</td>\n      <td>0</td>\n      <td>0</td>\n      <td>1</td>\n      <td>0</td>\n      <td>0</td>\n      <td>0</td>\n      <td>0</td>\n      <td>1</td>\n      <td>0</td>\n      <td>0</td>\n      <td>0</td>\n      <td>1</td>\n      <td>0</td>\n      <td>0</td>\n      <td>0</td>\n      <td>0</td>\n      <td>0</td>\n      <td>0</td>\n      <td>0</td>\n      <td>0</td>\n      <td>0</td>\n      <td>0</td>\n      <td>0</td>\n      <td>1</td>\n      <td>0</td>\n      <td>1</td>\n      <td>0</td>\n      <td>0</td>\n      <td>0</td>\n      <td>1</td>\n    </tr>\n    <tr>\n      <th>2</th>\n      <td>B3</td>\n      <td>15000</td>\n      <td>15000</td>\n      <td>15000.0</td>\n      <td>6.24</td>\n      <td>457.97</td>\n      <td>110000.0</td>\n      <td>8.26</td>\n      <td>0.0</td>\n      <td>0.0</td>\n      <td>13.0</td>\n      <td>0.0</td>\n      <td>74016</td>\n      <td>39.7</td>\n      <td>39.0</td>\n      <td>13854.15</td>\n      <td>13854.15</td>\n      <td>1368.71000</td>\n      <td>1368.71</td>\n      <td>1145.85</td>\n      <td>222.86</td>\n      <td>0.0</td>\n      <td>0.0</td>\n      <td>0.0</td>\n      <td>457.97</td>\n      <td>0.0</td>\n      <td>1</td>\n      <td>0.0</td>\n      <td>0.0</td>\n      <td>532715.0</td>\n      <td>1</td>\n      <td>0</td>\n      <td>0</td>\n      <td>0</td>\n      <td>1</td>\n      <td>0</td>\n      <td>0</td>\n      <td>0</td>\n      <td>0</td>\n      <td>0</td>\n      <td>0</td>\n      <td>0</td>\n      <td>0</td>\n      <td>0</td>\n      <td>1</td>\n      <td>0</td>\n      <td>0</td>\n      <td>0</td>\n      <td>0</td>\n      <td>0</td>\n      <td>0</td>\n      <td>0</td>\n      <td>1</td>\n      <td>0</td>\n      <td>0</td>\n      <td>0</td>\n      <td>0</td>\n      <td>1</td>\n      <td>0</td>\n      <td>0</td>\n      <td>0</td>\n      <td>0</td>\n      <td>0</td>\n      <td>1</td>\n      <td>0</td>\n      <td>0</td>\n      <td>0</td>\n      <td>0</td>\n      <td>0</td>\n      <td>0</td>\n      <td>0</td>\n      <td>0</td>\n      <td>0</td>\n      <td>1</td>\n      <td>0</td>\n      <td>1</td>\n      <td>0</td>\n      <td>0</td>\n      <td>1</td>\n      <td>0</td>\n    </tr>\n    <tr>\n      <th>3</th>\n      <td>B4</td>\n      <td>8500</td>\n      <td>8500</td>\n      <td>8500.0</td>\n      <td>17.77</td>\n      <td>306.32</td>\n      <td>54000.0</td>\n      <td>5.31</td>\n      <td>1.0</td>\n      <td>3.0</td>\n      <td>14.0</td>\n      <td>0.0</td>\n      <td>6553</td>\n      <td>44.3</td>\n      <td>30.0</td>\n      <td>0.00</td>\n      <td>0.00</td>\n      <td>9323.40000</td>\n      <td>9323.40</td>\n      <td>8500.00</td>\n      <td>823.40</td>\n      <td>0.0</td>\n      <td>0.0</td>\n      <td>0.0</td>\n      <td>7486.22</td>\n      <td>0.0</td>\n      <td>1</td>\n      <td>0.0</td>\n      <td>0.0</td>\n      <td>13793.0</td>\n      <td>1</td>\n      <td>0</td>\n      <td>0</td>\n      <td>0</td>\n      <td>1</td>\n      <td>0</td>\n      <td>0</td>\n      <td>0</td>\n      <td>0</td>\n      <td>0</td>\n      <td>0</td>\n      <td>0</td>\n      <td>0</td>\n      <td>0</td>\n      <td>0</td>\n      <td>0</td>\n      <td>0</td>\n      <td>1</td>\n      <td>0</td>\n      <td>0</td>\n      <td>0</td>\n      <td>0</td>\n      <td>0</td>\n      <td>0</td>\n      <td>0</td>\n      <td>1</td>\n      <td>0</td>\n      <td>1</td>\n      <td>0</td>\n      <td>0</td>\n      <td>0</td>\n      <td>0</td>\n      <td>0</td>\n      <td>1</td>\n      <td>0</td>\n      <td>0</td>\n      <td>0</td>\n      <td>0</td>\n      <td>0</td>\n      <td>0</td>\n      <td>0</td>\n      <td>0</td>\n      <td>0</td>\n      <td>1</td>\n      <td>0</td>\n      <td>1</td>\n      <td>0</td>\n      <td>1</td>\n      <td>0</td>\n      <td>0</td>\n    </tr>\n    <tr>\n      <th>4</th>\n      <td>B5</td>\n      <td>17600</td>\n      <td>17600</td>\n      <td>17600.0</td>\n      <td>12.29</td>\n      <td>587.02</td>\n      <td>60000.0</td>\n      <td>18.40</td>\n      <td>0.0</td>\n      <td>0.0</td>\n      <td>13.0</td>\n      <td>0.0</td>\n      <td>11013</td>\n      <td>51.2</td>\n      <td>19.0</td>\n      <td>16367.16</td>\n      <td>16367.16</td>\n      <td>1737.03000</td>\n      <td>1737.03</td>\n      <td>1232.84</td>\n      <td>504.19</td>\n      <td>0.0</td>\n      <td>0.0</td>\n      <td>0.0</td>\n      <td>587.02</td>\n      <td>0.0</td>\n      <td>1</td>\n      <td>0.0</td>\n      <td>0.0</td>\n      <td>30674.0</td>\n      <td>1</td>\n      <td>0</td>\n      <td>0</td>\n      <td>0</td>\n      <td>0</td>\n      <td>0</td>\n      <td>0</td>\n      <td>0</td>\n      <td>0</td>\n      <td>0</td>\n      <td>0</td>\n      <td>1</td>\n      <td>0</td>\n      <td>0</td>\n      <td>0</td>\n      <td>0</td>\n      <td>1</td>\n      <td>0</td>\n      <td>0</td>\n      <td>0</td>\n      <td>0</td>\n      <td>0</td>\n      <td>0</td>\n      <td>0</td>\n      <td>0</td>\n      <td>1</td>\n      <td>0</td>\n      <td>0</td>\n      <td>1</td>\n      <td>0</td>\n      <td>1</td>\n      <td>0</td>\n      <td>0</td>\n      <td>0</td>\n      <td>0</td>\n      <td>0</td>\n      <td>0</td>\n      <td>0</td>\n      <td>0</td>\n      <td>0</td>\n      <td>0</td>\n      <td>0</td>\n      <td>0</td>\n      <td>1</td>\n      <td>0</td>\n      <td>1</td>\n      <td>0</td>\n      <td>0</td>\n      <td>1</td>\n      <td>0</td>\n    </tr>\n  </tbody>\n</table>\n</div>"
     },
     "metadata": {},
     "execution_count": 58
    }
   ],
   "source": [
    "test_data.head()"
   ]
  },
  {
   "cell_type": "code",
   "execution_count": 84,
   "metadata": {},
   "outputs": [],
   "source": [
    "test_df = test_data.copy()"
   ]
  },
  {
   "cell_type": "code",
   "execution_count": 59,
   "metadata": {},
   "outputs": [],
   "source": [
    "test_data.drop(columns=['cust_id'], inplace=True)"
   ]
  },
  {
   "cell_type": "code",
   "execution_count": 60,
   "metadata": {},
   "outputs": [],
   "source": [
    "test_data = scalar.transform(test_data)"
   ]
  },
  {
   "cell_type": "code",
   "execution_count": 61,
   "metadata": {},
   "outputs": [],
   "source": [
    "test_prediction = model.predict(test_data)"
   ]
  },
  {
   "cell_type": "code",
   "execution_count": 67,
   "metadata": {},
   "outputs": [],
   "source": [
    "final_prediction = np.argmax(test_prediction, axis=1)"
   ]
  },
  {
   "cell_type": "code",
   "execution_count": 78,
   "metadata": {},
   "outputs": [],
   "source": [
    "final_prediction = pd.DataFrame(final_prediction)"
   ]
  },
  {
   "cell_type": "code",
   "execution_count": 86,
   "metadata": {},
   "outputs": [],
   "source": [
    "final_prediction['cust_id'] = test_df['cust_id']"
   ]
  },
  {
   "cell_type": "code",
   "execution_count": 90,
   "metadata": {},
   "outputs": [],
   "source": [
    "final_prediction.columns = ['loan_status', 'cust_id']"
   ]
  },
  {
   "cell_type": "code",
   "execution_count": 92,
   "metadata": {},
   "outputs": [],
   "source": [
    "final_prediction = final_prediction[[ 'cust_id', 'loan_status']]"
   ]
  },
  {
   "cell_type": "code",
   "execution_count": 93,
   "metadata": {},
   "outputs": [],
   "source": [
    "final_prediction.to_csv(\"../output/final_prediction.csv\", index=False)"
   ]
  },
  {
   "cell_type": "markdown",
   "metadata": {},
   "source": [
    "### Optimize the model\n",
    "\n",
    "#### Instructions:\n",
    "\n",
    "- Create a sequential model\n",
    "- Apply the optimization technique\n",
    "- Fit the model on the train data \n",
    "- Evaluate the model on the validation set."
   ]
  },
  {
   "cell_type": "code",
   "execution_count": 94,
   "metadata": {},
   "outputs": [],
   "source": [
    "model_1 = Sequential()"
   ]
  },
  {
   "cell_type": "code",
   "execution_count": null,
   "metadata": {},
   "outputs": [],
   "source": [
    "model_1.add(Dense())"
   ]
  },
  {
   "cell_type": "code",
   "execution_count": null,
   "metadata": {},
   "outputs": [],
   "source": []
  },
  {
   "cell_type": "code",
   "execution_count": null,
   "metadata": {},
   "outputs": [],
   "source": []
  },
  {
   "cell_type": "code",
   "execution_count": null,
   "metadata": {},
   "outputs": [],
   "source": []
  },
  {
   "cell_type": "code",
   "execution_count": null,
   "metadata": {},
   "outputs": [],
   "source": []
  },
  {
   "cell_type": "code",
   "execution_count": null,
   "metadata": {},
   "outputs": [],
   "source": []
  },
  {
   "cell_type": "code",
   "execution_count": null,
   "metadata": {},
   "outputs": [],
   "source": []
  },
  {
   "cell_type": "markdown",
   "metadata": {},
   "source": [
    "### Predictor check !\n",
    "\n",
    "#### Instructions:\n",
    "\n",
    "- Load the test data\n",
    "- Scale the test data\n",
    "- Predict the model on the `test_data`\n",
    "- Create a submission file \n"
   ]
  },
  {
   "cell_type": "code",
   "execution_count": 37,
   "metadata": {},
   "outputs": [
    {
     "output_type": "execute_result",
     "data": {
      "text/plain": "(496932, 10)"
     },
     "metadata": {},
     "execution_count": 37
    }
   ],
   "source": []
  },
  {
   "cell_type": "code",
   "execution_count": null,
   "metadata": {},
   "outputs": [],
   "source": []
  }
 ],
 "metadata": {
  "kernelspec": {
   "display_name": "Python 3.7.7 64-bit",
   "language": "python",
   "name": "python37764bita15074ddb51e4371931990273628f831"
  },
  "language_info": {
   "codemirror_mode": {
    "name": "ipython",
    "version": 3
   },
   "file_extension": ".py",
   "mimetype": "text/x-python",
   "name": "python",
   "nbconvert_exporter": "python",
   "pygments_lexer": "ipython3",
   "version": "3.7.7-final"
  }
 },
 "nbformat": 4,
 "nbformat_minor": 2
}