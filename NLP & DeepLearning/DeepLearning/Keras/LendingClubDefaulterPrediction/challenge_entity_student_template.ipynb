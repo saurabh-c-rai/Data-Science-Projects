{
 "cells": [
  {
   "cell_type": "markdown",
   "metadata": {},
   "source": [
    "### Problem statement:\n",
    "\n",
    "In this project we are working on the `Lending club` dataset. Lending Club is a peer to peer lending company based in the United States, in which investors provide funds for potential borrowers and investors earn a profit depending on the risk they take (the borrowers credit score). \n",
    "\n",
    "From the given set of data we want to predict `loan_status` of the borrower. We have to predict the loan staus based on the features like `Loan amount`,`payment plan`,`grade`,`verification status`,`recoveries` etc. The loan status having the various categories like `Fully paid`,`charged off`,`late`,`Issued`,`In a grace period` etc. \n",
    "\n",
    "### About the dataset\n",
    "\n",
    "\n",
    "A zipped file containing following items is given:\n",
    "\n",
    "- train.csv\n",
    "\n",
    "The data file `train.csv` contains the `621165` loan status entries with the `80` features including the target feature.\n",
    "\n",
    "- test.csv\n",
    "\n",
    "The datafile `test.csv` contains the `266214` loan status entries with the `79` features excluding the target feature.\n",
    "\n",
    "- sample_submission.csv \n",
    "\n",
    "Explained under the `submission` sub-heading\n",
    "\n",
    "- LCDataDictionary.csv\n",
    "\n",
    "The file contains data dictionary(Dictionary explaining what each feature of the dataset means) of the lending club dataset\n",
    "\n",
    "- challenge_entity_student_template.ipynb\n",
    "\n",
    "A template notebook explaining the task breakdown to solve the given problem statement\n",
    "(***Learners are recommended to use it***)\n",
    "\n",
    "\n",
    "## Submission\n",
    "\n",
    "The user has to submit a csv file with the predicted probabilities. Sample submission file(`sample_submission.csv`) is given to you as reference to the format expected when you submit\n",
    "\n",
    "\n",
    "## Evaluation metrics\n",
    "\n",
    "For this particular dataset we are using Accuracy as a evaluation metric. \n",
    "\n",
    "Submissions will be evaluated based on [Accuracy score](https://scikit-learn.org/stable/modules/generated/sklearn.metrics.accuracy_score.html)\n",
    "### Outcomes\n",
    "After completing this project, you will have the better understanding of how to build a basic neural network  model. In this project, you will apply the following concepts.\n",
    "\n",
    " \n",
    "- Neural Network Model creation\n",
    "- Neural Network Model training\n",
    "\n",
    "\n",
    "\n",
    "\n",
    "#### Acknowledgements \n",
    "\n",
    "More details about the dataset can be found at https://www.kaggle.com/wendykan/lending-club-loan-data"
   ]
  },
  {
   "cell_type": "markdown",
   "metadata": {},
   "source": [
    "### Load the data\n",
    "\n",
    "\n",
    "#### Instructions:\n",
    "\n",
    "- Load the train data\n",
    "- Split the dependent and independent features \n",
    "- Scale the features\n",
    "- Split the dataset into `train` and `validation` set.\n",
    "\n",
    "\n",
    "\n",
    "\n"
   ]
  },
  {
   "cell_type": "code",
   "execution_count": 1,
   "metadata": {},
   "outputs": [
    {
     "name": "stderr",
     "output_type": "stream",
     "text": [
      "/home/bhushan/anaconda3/lib/python3.6/site-packages/h5py/__init__.py:36: FutureWarning: Conversion of the second argument of issubdtype from `float` to `np.floating` is deprecated. In future, it will be treated as `np.float64 == np.dtype(float).type`.\n",
      "  from ._conv import register_converters as _register_converters\n"
     ]
    }
   ],
   "source": [
    "from tensorflow import set_random_seed\n",
    "set_random_seed(2)\n",
    "# import packages\n",
    "import pandas as pd\n",
    "from sklearn.model_selection import train_test_split\n",
    "from sklearn.preprocessing import MinMaxScaler\n",
    "import warnings\n",
    "warnings.filterwarnings(\"ignore\")\n",
    "\n",
    "\n",
    "# code starts here\n",
    "\n",
    "\n",
    "\n",
    "\n",
    "\n",
    "\n",
    "\n",
    "\n",
    "\n",
    "\n",
    "\n",
    "\n",
    "\n",
    "\n",
    "\n",
    "\n",
    "# code ends here"
   ]
  },
  {
   "cell_type": "markdown",
   "metadata": {},
   "source": [
    "### Model building\n",
    "\n",
    "- Create a sequential model\n",
    "- Fit the model on the train data \n",
    "- Evaluate the model on the validation set."
   ]
  },
  {
   "cell_type": "code",
   "execution_count": 2,
   "metadata": {},
   "outputs": [
    {
     "name": "stderr",
     "output_type": "stream",
     "text": [
      "Using TensorFlow backend.\n"
     ]
    }
   ],
   "source": [
    "# import libraries \n",
    "from keras import models\n",
    "from keras import layers\n",
    "\n",
    "# code starts here\n",
    "\n",
    "\n",
    "\n",
    "\n",
    "\n",
    "\n",
    "\n",
    "\n",
    "\n",
    "# code ends here\n"
   ]
  },
  {
   "cell_type": "markdown",
   "metadata": {},
   "source": [
    "### Predictor check !\n",
    "\n",
    "#### Instructions:\n",
    "\n",
    "- Load the test data\n",
    "- Predict the model on the `test_data`\n",
    "- Create a submission file \n"
   ]
  },
  {
   "cell_type": "code",
   "execution_count": 3,
   "metadata": {},
   "outputs": [],
   "source": [
    "# code stsrts here\n",
    "\n",
    "\n",
    "\n",
    "\n",
    "\n",
    "\n",
    "\n",
    "\n",
    "\n",
    "\n",
    "# code ends here"
   ]
  }
 ],
 "metadata": {
  "kernelspec": {
   "display_name": "Python 3",
   "language": "python",
   "name": "python3"
  },
  "language_info": {
   "codemirror_mode": {
    "name": "ipython",
    "version": 3
   },
   "file_extension": ".py",
   "mimetype": "text/x-python",
   "name": "python",
   "nbconvert_exporter": "python",
   "pygments_lexer": "ipython3",
   "version": "3.6.6"
  }
 },
 "nbformat": 4,
 "nbformat_minor": 2
}
